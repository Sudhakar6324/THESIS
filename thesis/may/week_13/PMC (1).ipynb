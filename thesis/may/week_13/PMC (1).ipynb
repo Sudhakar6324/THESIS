{
  "cells": [
    {
      "cell_type": "code",
      "execution_count": null,
      "metadata": {
        "colab": {
          "base_uri": "https://localhost:8080/"
        },
        "id": "Ksos1igbEwwP",
        "outputId": "fe53da4a-b7aa-4b7f-d272-2649f9512fe7"
      },
      "outputs": [
        {
          "name": "stdout",
          "output_type": "stream",
          "text": [
            "Collecting vtk\n",
            "  Downloading vtk-9.5.0-cp311-cp311-manylinux2014_x86_64.manylinux_2_17_x86_64.whl.metadata (5.5 kB)\n",
            "Requirement already satisfied: numpy in /usr/local/lib/python3.11/dist-packages (2.0.2)\n",
            "Requirement already satisfied: tqdm in /usr/local/lib/python3.11/dist-packages (4.67.1)\n",
            "Requirement already satisfied: matplotlib>=2.0.0 in /usr/local/lib/python3.11/dist-packages (from vtk) (3.10.0)\n",
            "Requirement already satisfied: contourpy>=1.0.1 in /usr/local/lib/python3.11/dist-packages (from matplotlib>=2.0.0->vtk) (1.3.2)\n",
            "Requirement already satisfied: cycler>=0.10 in /usr/local/lib/python3.11/dist-packages (from matplotlib>=2.0.0->vtk) (0.12.1)\n",
            "Requirement already satisfied: fonttools>=4.22.0 in /usr/local/lib/python3.11/dist-packages (from matplotlib>=2.0.0->vtk) (4.58.5)\n",
            "Requirement already satisfied: kiwisolver>=1.3.1 in /usr/local/lib/python3.11/dist-packages (from matplotlib>=2.0.0->vtk) (1.4.8)\n",
            "Requirement already satisfied: packaging>=20.0 in /usr/local/lib/python3.11/dist-packages (from matplotlib>=2.0.0->vtk) (25.0)\n",
            "Requirement already satisfied: pillow>=8 in /usr/local/lib/python3.11/dist-packages (from matplotlib>=2.0.0->vtk) (11.2.1)\n",
            "Requirement already satisfied: pyparsing>=2.3.1 in /usr/local/lib/python3.11/dist-packages (from matplotlib>=2.0.0->vtk) (3.2.3)\n",
            "Requirement already satisfied: python-dateutil>=2.7 in /usr/local/lib/python3.11/dist-packages (from matplotlib>=2.0.0->vtk) (2.9.0.post0)\n",
            "Requirement already satisfied: six>=1.5 in /usr/local/lib/python3.11/dist-packages (from python-dateutil>=2.7->matplotlib>=2.0.0->vtk) (1.17.0)\n",
            "Downloading vtk-9.5.0-cp311-cp311-manylinux2014_x86_64.manylinux_2_17_x86_64.whl (112.1 MB)\n",
            "\u001b[2K   \u001b[90m━━━━━━━━━━━━━━━━━━━━━━━━━━━━━━━━━━━━━━━━\u001b[0m \u001b[32m112.1/112.1 MB\u001b[0m \u001b[31m7.4 MB/s\u001b[0m eta \u001b[36m0:00:00\u001b[0m\n",
            "\u001b[?25hInstalling collected packages: vtk\n",
            "Successfully installed vtk-9.5.0\n"
          ]
        }
      ],
      "source": [
        "!pip install vtk numpy tqdm\n"
      ]
    },
    {
      "cell_type": "code",
      "execution_count": null,
      "metadata": {
        "id": "Vbyu6YM3E0lw"
      },
      "outputs": [],
      "source": [
        "import vtk\n",
        "import numpy as np\n",
        "\n",
        "def load_vti(filename):\n",
        "    reader = vtk.vtkXMLImageDataReader()\n",
        "    reader.SetFileName(filename)\n",
        "    reader.Update()\n",
        "\n",
        "    image_data = reader.GetOutput()\n",
        "    dims = image_data.GetDimensions()  # (nx, ny, nz)\n",
        "\n",
        "    # Extract scalar arrays\n",
        "    point_data = image_data.GetPointData()\n",
        "    mean_array = point_data.GetArray(\"Pressure_Mean\")\n",
        "    std_array = point_data.GetArray(\"Pressure_Std\")\n",
        "\n",
        "    n_points = mean_array.GetNumberOfTuples()\n",
        "    mean_np = np.array([mean_array.GetValue(i) for i in range(n_points)])\n",
        "    std_np = np.array([std_array.GetValue(i) for i in range(n_points)])\n",
        "\n",
        "    # Reshape to 3D\n",
        "    mean_3d = mean_np.reshape(dims, order=\"F\")\n",
        "    std_3d = std_np.reshape(dims, order=\"F\")\n",
        "\n",
        "    return mean_3d, std_3d, dims\n"
      ]
    },
    {
      "cell_type": "code",
      "execution_count": null,
      "metadata": {
        "id": "esHRhIM0E-_6"
      },
      "outputs": [],
      "source": [
        "from tqdm import tqdm\n",
        "\n",
        "def estimate_crossing_prob(mu_vals, sigma_vals, isovalue, num_samples=1000):\n",
        "    samples = np.random.randn(num_samples, 8) * sigma_vals + mu_vals\n",
        "    above = np.any(samples > isovalue, axis=1)\n",
        "    below = np.any(samples < isovalue, axis=1)\n",
        "    crossing = above & below\n",
        "    return np.mean(crossing)\n",
        "\n",
        "def probabilistic_marching_cubes(mean_3d, std_3d, isovalue, num_samples=1000):\n",
        "    nx, ny, nz = mean_3d.shape\n",
        "    prob_vol = np.zeros((nx - 1, ny - 1, nz - 1))\n",
        "\n",
        "    for i in tqdm(range(nx - 1), desc=\"PMC\"):\n",
        "        for j in range(ny - 1):\n",
        "            for k in range(nz - 1):\n",
        "                corners = [(i+di, j+dj, k+dk) for di in [0, 1] for dj in [0, 1] for dk in [0, 1]]\n",
        "                mu_vals = np.array([mean_3d[x, y, z] for x, y, z in corners])\n",
        "                sigma_vals = np.array([std_3d[x, y, z] for x, y, z in corners])\n",
        "                prob = estimate_crossing_prob(mu_vals, sigma_vals, isovalue, num_samples)\n",
        "                prob_vol[i, j, k] = prob\n",
        "\n",
        "    return prob_vol\n"
      ]
    },
    {
      "cell_type": "code",
      "execution_count": null,
      "metadata": {
        "id": "0A8OZvc7FU2p"
      },
      "outputs": [],
      "source": [
        "def save_prob_vti(prob_vol, output_filename=\"probability.vti\"):\n",
        "    nx, ny, nz = prob_vol.shape\n",
        "    image_data = vtk.vtkImageData()\n",
        "    image_data.SetDimensions(nx, ny, nz)\n",
        "    image_data.SetSpacing(1.0, 1.0, 1.0)\n",
        "    image_data.SetOrigin(0, 0, 0)\n",
        "\n",
        "    # Convert to VTK array\n",
        "    flat = prob_vol.flatten(order=\"F\")\n",
        "    vtk_array = vtk.vtkFloatArray()\n",
        "    vtk_array.SetName(\"probability\")\n",
        "    vtk_array.SetNumberOfValues(flat.size)\n",
        "    for i, val in enumerate(flat):\n",
        "        vtk_array.SetValue(i, val)\n",
        "\n",
        "    image_data.GetPointData().AddArray(vtk_array)\n",
        "\n",
        "    writer = vtk.vtkXMLImageDataWriter()\n",
        "    writer.SetFileName(output_filename)\n",
        "    writer.SetInputData(image_data)\n",
        "    writer.Write()\n"
      ]
    },
    {
      "cell_type": "code",
      "execution_count": null,
      "metadata": {
        "colab": {
          "base_uri": "https://localhost:8080/"
        },
        "id": "SI-vHKSnFYxX",
        "outputId": "14b1082e-035d-4cbd-8968-da82884d43d0"
      },
      "outputs": [
        {
          "name": "stderr",
          "output_type": "stream",
          "text": [
            "PMC: 100%|██████████| 249/249 [37:28<00:00,  9.03s/it]\n"
          ]
        }
      ],
      "source": [
        "mean_3d, std_3d, dims = load_vti(\"isabel_gaussian.vti\")\n",
        "isovalue = 930.0\n",
        "\n",
        "prob_vol = probabilistic_marching_cubes(mean_3d, std_3d, isovalue, num_samples=2000)\n",
        "save_prob_vti(prob_vol, \"isabel_probability.vti\")\n"
      ]
    },
    {
      "cell_type": "code",
      "execution_count": null,
      "metadata": {
        "colab": {
          "base_uri": "https://localhost:8080/"
        },
        "id": "LMCgdAZ6FwiW",
        "outputId": "039f7fbb-f8a1-4cce-920a-0c19bbed6749"
      },
      "outputs": [
        {
          "name": "stdout",
          "output_type": "stream",
          "text": [
            "Available scalar arrays:\n",
            "- Pressure_Mean\n",
            "- Pressure_Std\n"
          ]
        }
      ],
      "source": [
        "import vtk\n",
        "\n",
        "def print_vti_arrays(filename):\n",
        "    reader = vtk.vtkXMLImageDataReader()\n",
        "    reader.SetFileName(filename)\n",
        "    reader.Update()\n",
        "\n",
        "    image_data = reader.GetOutput()\n",
        "    point_data = image_data.GetPointData()\n",
        "\n",
        "    print(\"Available scalar arrays:\")\n",
        "    for i in range(point_data.GetNumberOfArrays()):\n",
        "        print(\"-\", point_data.GetArrayName(i))\n",
        "\n",
        "print_vti_arrays(\"/content/isabel_gaussian.vti\")\n"
      ]
    },
    {
      "cell_type": "markdown",
      "metadata": {
        "id": "ZmRMDtB_XTht"
      },
      "source": [
        "#gaussian"
      ]
    },
    {
      "cell_type": "code",
      "execution_count": null,
      "metadata": {
        "colab": {
          "base_uri": "https://localhost:8080/",
          "height": 442
        },
        "id": "2xsqY5HSGcQm",
        "outputId": "d4d6f9f0-f999-46e4-ec9d-c0d2548931af"
      },
      "outputs": [
        {
          "name": "stderr",
          "output_type": "stream",
          "text": [
            "Processing Cells:   0%|          | 16/250047 [00:00<26:24, 157.83it/s]"
          ]
        },
        {
          "name": "stdout",
          "output_type": "stream",
          "text": [
            "Computing probabilities with correlation...\n"
          ]
        },
        {
          "name": "stderr",
          "output_type": "stream",
          "text": [
            "Processing Cells:   1%|          | 2057/250047 [00:15<26:34, 155.48it/s]"
          ]
        },
        {
          "ename": "KeyboardInterrupt",
          "evalue": "",
          "output_type": "error",
          "traceback": [
            "\u001b[0;31m---------------------------------------------------------------------------\u001b[0m",
            "\u001b[0;31mKeyboardInterrupt\u001b[0m                         Traceback (most recent call last)",
            "\u001b[0;32m/tmp/ipython-input-10-4018440272.py\u001b[0m in \u001b[0;36m<cell line: 0>\u001b[0;34m()\u001b[0m\n\u001b[1;32m     75\u001b[0m             \u001b[0mmu\u001b[0m \u001b[0;34m=\u001b[0m \u001b[0mnp\u001b[0m\u001b[0;34m.\u001b[0m\u001b[0marray\u001b[0m\u001b[0;34m(\u001b[0m\u001b[0;34m[\u001b[0m\u001b[0mmean_3d\u001b[0m\u001b[0;34m[\u001b[0m\u001b[0mx\u001b[0m\u001b[0;34m,\u001b[0m \u001b[0my\u001b[0m\u001b[0;34m,\u001b[0m \u001b[0mz\u001b[0m\u001b[0;34m]\u001b[0m \u001b[0;32mfor\u001b[0m \u001b[0;34m(\u001b[0m\u001b[0mx\u001b[0m\u001b[0;34m,\u001b[0m \u001b[0my\u001b[0m\u001b[0;34m,\u001b[0m \u001b[0mz\u001b[0m\u001b[0;34m)\u001b[0m \u001b[0;32min\u001b[0m \u001b[0mverts\u001b[0m\u001b[0;34m]\u001b[0m\u001b[0;34m,\u001b[0m \u001b[0mdtype\u001b[0m\u001b[0;34m=\u001b[0m\u001b[0mnp\u001b[0m\u001b[0;34m.\u001b[0m\u001b[0mfloat64\u001b[0m\u001b[0;34m)\u001b[0m\u001b[0;34m\u001b[0m\u001b[0;34m\u001b[0m\u001b[0m\n\u001b[1;32m     76\u001b[0m             \u001b[0msigma\u001b[0m \u001b[0;34m=\u001b[0m \u001b[0mnp\u001b[0m\u001b[0;34m.\u001b[0m\u001b[0marray\u001b[0m\u001b[0;34m(\u001b[0m\u001b[0;34m[\u001b[0m\u001b[0mstd_3d\u001b[0m\u001b[0;34m[\u001b[0m\u001b[0mx\u001b[0m\u001b[0;34m,\u001b[0m \u001b[0my\u001b[0m\u001b[0;34m,\u001b[0m \u001b[0mz\u001b[0m\u001b[0;34m]\u001b[0m \u001b[0;32mfor\u001b[0m \u001b[0;34m(\u001b[0m\u001b[0mx\u001b[0m\u001b[0;34m,\u001b[0m \u001b[0my\u001b[0m\u001b[0;34m,\u001b[0m \u001b[0mz\u001b[0m\u001b[0;34m)\u001b[0m \u001b[0;32min\u001b[0m \u001b[0mverts\u001b[0m\u001b[0;34m]\u001b[0m\u001b[0;34m,\u001b[0m \u001b[0mdtype\u001b[0m\u001b[0;34m=\u001b[0m\u001b[0mnp\u001b[0m\u001b[0;34m.\u001b[0m\u001b[0mfloat64\u001b[0m\u001b[0;34m)\u001b[0m\u001b[0;34m\u001b[0m\u001b[0;34m\u001b[0m\u001b[0m\n\u001b[0;32m---> 77\u001b[0;31m             \u001b[0mprob\u001b[0m \u001b[0;34m=\u001b[0m \u001b[0msample_crossing_probability\u001b[0m\u001b[0;34m(\u001b[0m\u001b[0mmu\u001b[0m\u001b[0;34m,\u001b[0m \u001b[0msigma\u001b[0m\u001b[0;34m,\u001b[0m \u001b[0mISOLEVEL\u001b[0m\u001b[0;34m,\u001b[0m \u001b[0mN_SAMPLES\u001b[0m\u001b[0;34m,\u001b[0m \u001b[0mCORRELATION\u001b[0m\u001b[0;34m)\u001b[0m\u001b[0;34m\u001b[0m\u001b[0;34m\u001b[0m\u001b[0m\n\u001b[0m\u001b[1;32m     78\u001b[0m             \u001b[0mprob_grid\u001b[0m\u001b[0;34m[\u001b[0m\u001b[0mi\u001b[0m\u001b[0;34m,\u001b[0m \u001b[0mj\u001b[0m\u001b[0;34m,\u001b[0m \u001b[0mk\u001b[0m\u001b[0;34m]\u001b[0m \u001b[0;34m=\u001b[0m \u001b[0mprob\u001b[0m\u001b[0;34m\u001b[0m\u001b[0;34m\u001b[0m\u001b[0m\n\u001b[1;32m     79\u001b[0m             \u001b[0mprogress\u001b[0m\u001b[0;34m.\u001b[0m\u001b[0mupdate\u001b[0m\u001b[0;34m(\u001b[0m\u001b[0;36m1\u001b[0m\u001b[0;34m)\u001b[0m\u001b[0;34m\u001b[0m\u001b[0;34m\u001b[0m\u001b[0m\n",
            "\u001b[0;32m/tmp/ipython-input-10-4018440272.py\u001b[0m in \u001b[0;36msample_crossing_probability\u001b[0;34m(mu, sigma, isovalue, n_samples, rho)\u001b[0m\n\u001b[1;32m     53\u001b[0m     \u001b[0mcov\u001b[0m \u001b[0;34m=\u001b[0m \u001b[0mbuild_covariance\u001b[0m\u001b[0;34m(\u001b[0m\u001b[0msigma\u001b[0m\u001b[0;34m,\u001b[0m \u001b[0mrho\u001b[0m\u001b[0;34m)\u001b[0m\u001b[0;34m\u001b[0m\u001b[0;34m\u001b[0m\u001b[0m\n\u001b[1;32m     54\u001b[0m     \u001b[0;32mtry\u001b[0m\u001b[0;34m:\u001b[0m\u001b[0;34m\u001b[0m\u001b[0;34m\u001b[0m\u001b[0m\n\u001b[0;32m---> 55\u001b[0;31m         \u001b[0msamples\u001b[0m \u001b[0;34m=\u001b[0m \u001b[0mnp\u001b[0m\u001b[0;34m.\u001b[0m\u001b[0mrandom\u001b[0m\u001b[0;34m.\u001b[0m\u001b[0mmultivariate_normal\u001b[0m\u001b[0;34m(\u001b[0m\u001b[0mmu\u001b[0m\u001b[0;34m,\u001b[0m \u001b[0mcov\u001b[0m\u001b[0;34m,\u001b[0m \u001b[0msize\u001b[0m\u001b[0;34m=\u001b[0m\u001b[0mn_samples\u001b[0m\u001b[0;34m)\u001b[0m\u001b[0;34m\u001b[0m\u001b[0;34m\u001b[0m\u001b[0m\n\u001b[0m\u001b[1;32m     56\u001b[0m     \u001b[0;32mexcept\u001b[0m \u001b[0mnp\u001b[0m\u001b[0;34m.\u001b[0m\u001b[0mlinalg\u001b[0m\u001b[0;34m.\u001b[0m\u001b[0mLinAlgError\u001b[0m\u001b[0;34m:\u001b[0m\u001b[0;34m\u001b[0m\u001b[0;34m\u001b[0m\u001b[0m\n\u001b[1;32m     57\u001b[0m         \u001b[0mprint\u001b[0m\u001b[0;34m(\u001b[0m\u001b[0;34m\"hi\"\u001b[0m\u001b[0;34m)\u001b[0m\u001b[0;34m\u001b[0m\u001b[0;34m\u001b[0m\u001b[0m\n",
            "\u001b[0;32mnumpy/random/mtrand.pyx\u001b[0m in \u001b[0;36mnumpy.random.mtrand.RandomState.multivariate_normal\u001b[0;34m()\u001b[0m\n",
            "\u001b[0;32m/usr/local/lib/python3.11/dist-packages/numpy/linalg/_linalg.py\u001b[0m in \u001b[0;36m_svd_dispatcher\u001b[0;34m(a, full_matrices, compute_uv, hermitian)\u001b[0m\n\u001b[1;32m   1607\u001b[0m \u001b[0;31m# Singular value decomposition\u001b[0m\u001b[0;34m\u001b[0m\u001b[0;34m\u001b[0m\u001b[0m\n\u001b[1;32m   1608\u001b[0m \u001b[0;34m\u001b[0m\u001b[0m\n\u001b[0;32m-> 1609\u001b[0;31m \u001b[0;32mdef\u001b[0m \u001b[0m_svd_dispatcher\u001b[0m\u001b[0;34m(\u001b[0m\u001b[0ma\u001b[0m\u001b[0;34m,\u001b[0m \u001b[0mfull_matrices\u001b[0m\u001b[0;34m=\u001b[0m\u001b[0;32mNone\u001b[0m\u001b[0;34m,\u001b[0m \u001b[0mcompute_uv\u001b[0m\u001b[0;34m=\u001b[0m\u001b[0;32mNone\u001b[0m\u001b[0;34m,\u001b[0m \u001b[0mhermitian\u001b[0m\u001b[0;34m=\u001b[0m\u001b[0;32mNone\u001b[0m\u001b[0;34m)\u001b[0m\u001b[0;34m:\u001b[0m\u001b[0;34m\u001b[0m\u001b[0;34m\u001b[0m\u001b[0m\n\u001b[0m\u001b[1;32m   1610\u001b[0m     \u001b[0;32mreturn\u001b[0m \u001b[0;34m(\u001b[0m\u001b[0ma\u001b[0m\u001b[0;34m,\u001b[0m\u001b[0;34m)\u001b[0m\u001b[0;34m\u001b[0m\u001b[0;34m\u001b[0m\u001b[0m\n\u001b[1;32m   1611\u001b[0m \u001b[0;34m\u001b[0m\u001b[0m\n",
            "\u001b[0;31mKeyboardInterrupt\u001b[0m: "
          ]
        }
      ],
      "source": [
        "import numpy as np\n",
        "import vtk\n",
        "from vtk.util.numpy_support import vtk_to_numpy, numpy_to_vtk\n",
        "from tqdm import tqdm\n",
        "\n",
        "# === CONFIG ===\n",
        "INPUT_VTI = \"/content/Teardrop_Gaussian.vti\"\n",
        "MEAN_NAME = \"mean\"\n",
        "VAR_NAME = \"variance\"\n",
        "ISOLEVEL =  159.9798\n",
        "N_SAMPLES = 1000\n",
        "OUTPUT_VTI = \"isosurface_probabilities_320.vti\"\n",
        "CORRELATION = 0# Synthetic correlation coefficient for adjacent cell vertices\n",
        "\n",
        "# === Load VTI File ===\n",
        "reader = vtk.vtkXMLImageDataReader()\n",
        "reader.SetFileName(INPUT_VTI)\n",
        "reader.Update()\n",
        "image = reader.GetOutput()\n",
        "dims = image.GetDimensions()\n",
        "\n",
        "mean_arr = vtk_to_numpy(image.GetPointData().GetArray(0))\n",
        "var_arr= vtk_to_numpy(image.GetPointData().GetArray(1))\n",
        "\n",
        "mean_3d = mean_arr.reshape(dims[::-1], order='F')\n",
        "std_3d = var_arr.reshape(dims[::-1], order='F')\n",
        "\n",
        "# === Cell Vertex Indexing ===\n",
        "def get_cell_vertices(i, j, k):\n",
        "    return [\n",
        "        (i,   j,   k),\n",
        "        (i+1, j,   k),\n",
        "        (i+1, j+1, k),\n",
        "        (i,   j+1, k),\n",
        "        (i,   j,   k+1),\n",
        "        (i+1, j,   k+1),\n",
        "        (i+1, j+1, k+1),\n",
        "        (i,   j+1, k+1),\n",
        "    ]\n",
        "\n",
        "# === Build synthetic 8x8 covariance matrix ===\n",
        "def build_covariance(sigma, rho=0.6):\n",
        "    cov = np.full((8, 8), rho)\n",
        "    np.fill_diagonal(cov, 1.0)\n",
        "    return (sigma[:, None] * sigma[None, :]) * cov\n",
        "\n",
        "# === Check if isosurface crosses the cell ===\n",
        "def is_crossing(values, isovalue):\n",
        "    return np.min(values) < isovalue and np.max(values) > isovalue\n",
        "\n",
        "# === Monte Carlo Estimation (with correlation) ===\n",
        "def sample_crossing_probability(mu, sigma, isovalue, n_samples, rho):\n",
        "    cov = build_covariance(sigma, rho)\n",
        "    try:\n",
        "        samples = np.random.multivariate_normal(mu, cov, size=n_samples)\n",
        "    except np.linalg.LinAlgError:\n",
        "        print(\"hi\")\n",
        "        # fallback in case of numerical issues\n",
        "        samples = np.random.normal(loc=mu, scale=sigma, size=(n_samples, 8))\n",
        "    cross = np.any(samples < isovalue, axis=1) & np.any(samples > isovalue, axis=1)\n",
        "    return np.mean(cross)\n",
        "\n",
        "# === Main Computation ===\n",
        "output_shape = tuple(d - 1 for d in mean_3d.shape)\n",
        "prob_grid = np.zeros(output_shape, dtype=np.float32)\n",
        "\n",
        "total_cells = np.prod(output_shape)\n",
        "progress = tqdm(total=total_cells, desc=\"Processing Cells\")\n",
        "\n",
        "print(\"Computing probabilities with correlation...\")\n",
        "for i in range(output_shape[0]):\n",
        "    for j in range(output_shape[1]):\n",
        "        for k in range(output_shape[2]):\n",
        "            verts = get_cell_vertices(i, j, k)\n",
        "            mu = np.array([mean_3d[x, y, z] for (x, y, z) in verts], dtype=np.float64)\n",
        "            sigma = np.array([std_3d[x, y, z] for (x, y, z) in verts], dtype=np.float64)\n",
        "            prob = sample_crossing_probability(mu, sigma, ISOLEVEL, N_SAMPLES, CORRELATION)\n",
        "            prob_grid[i, j, k] = prob\n",
        "            progress.update(1)\n",
        "\n",
        "progress.close()\n",
        "\n",
        "# === Convert to VTK ImageData ===\n",
        "prob_image = vtk.vtkImageData()\n",
        "prob_image.SetDimensions(prob_grid.shape)\n",
        "prob_image.SetSpacing(image.GetSpacing())\n",
        "prob_image.SetOrigin(image.GetOrigin())\n",
        "\n",
        "flat = prob_grid.ravel(order='F')  # VTK expects Fortran order\n",
        "vtk_array = numpy_to_vtk(flat, deep=True)\n",
        "vtk_array.SetName(\"crossing_probability\")\n",
        "prob_image.GetPointData().AddArray(vtk_array)\n",
        "prob_image.GetPointData().SetActiveScalars(\"crossing_probability\")\n",
        "\n",
        "# === Write Output ===\n",
        "writer = vtk.vtkXMLImageDataWriter()\n",
        "writer.SetFileName(OUTPUT_VTI)\n",
        "writer.SetInputData(prob_image)\n",
        "writer.Write()\n",
        "\n",
        "print(f\"Saved output to {OUTPUT_VTI}\")\n"
      ]
    },
    {
      "cell_type": "markdown",
      "metadata": {
        "id": "WwxU0xi6XQUG"
      },
      "source": [
        "#adapative"
      ]
    },
    {
      "cell_type": "code",
      "execution_count": null,
      "metadata": {
        "colab": {
          "base_uri": "https://localhost:8080/"
        },
        "id": "pQXkeKElEVS1",
        "outputId": "5d6a1ba1-80d6-486d-d52c-2af3b4f4f985"
      },
      "outputs": [
        {
          "name": "stderr",
          "output_type": "stream",
          "text": [
            "Processing Cells:   0%|          | 265/250047 [00:00<01:34, 2649.14it/s]"
          ]
        },
        {
          "name": "stdout",
          "output_type": "stream",
          "text": [
            "Computing adaptive probabilities with correlation...\n"
          ]
        },
        {
          "name": "stderr",
          "output_type": "stream",
          "text": [
            "Processing Cells: 100%|██████████| 250047/250047 [07:47<00:00, 535.03it/s] "
          ]
        },
        {
          "name": "stdout",
          "output_type": "stream",
          "text": [
            "Saved output to adaptive_isosurface_probabilities_320.vti\n"
          ]
        },
        {
          "name": "stderr",
          "output_type": "stream",
          "text": [
            "\n"
          ]
        }
      ],
      "source": [
        "import numpy as np\n",
        "import vtk\n",
        "from vtk.util.numpy_support import vtk_to_numpy, numpy_to_vtk\n",
        "from tqdm import tqdm\n",
        "\n",
        "# === CONFIG ===\n",
        "INPUT_VTI = \"/content/new_gmm_teardrop_ema_320_3 _layers_week_8_predict.vti\"\n",
        "MEAN_NAME = \"mean\"\n",
        "VAR_NAME = \"variance\"\n",
        "ISOLEVEL = 159.9798\n",
        "OUTPUT_VTI = \"adaptive_isosurface_probabilities_320.vti\"\n",
        "CORRELATION = 0  # Correlation between cell vertices\n",
        "\n",
        "# Adaptive Sampling Parameters\n",
        "MIN_SAMPLES = 200\n",
        "MAX_SAMPLES = 10000\n",
        "\n",
        "# === Load VTI File ===\n",
        "reader = vtk.vtkXMLImageDataReader()\n",
        "reader.SetFileName(INPUT_VTI)\n",
        "reader.Update()\n",
        "image = reader.GetOutput()\n",
        "dims = image.GetDimensions()\n",
        "\n",
        "mean_arr = vtk_to_numpy(image.GetPointData().GetArray(0))\n",
        "var_arr = vtk_to_numpy(image.GetPointData().GetArray(1))\n",
        "\n",
        "mean_3d = mean_arr.reshape(dims[::-1], order='F')\n",
        "std_3d = var_arr.reshape(dims[::-1], order='F')\n",
        "\n",
        "# === Cell Vertex Indexing ===\n",
        "def get_cell_vertices(i, j, k):\n",
        "    return [\n",
        "        (i,   j,   k),\n",
        "        (i+1, j,   k),\n",
        "        (i+1, j+1, k),\n",
        "        (i,   j+1, k),\n",
        "        (i,   j,   k+1),\n",
        "        (i+1, j,   k+1),\n",
        "        (i+1, j+1, k+1),\n",
        "        (i,   j+1, k+1),\n",
        "    ]\n",
        "\n",
        "# === Build synthetic 8x8 covariance matrix ===\n",
        "def build_covariance(sigma, rho=0.6):\n",
        "    cov = np.full((8, 8), rho)\n",
        "    np.fill_diagonal(cov, 1.0)\n",
        "    return (sigma[:, None] * sigma[None, :]) * cov\n",
        "\n",
        "# === Check if isosurface crosses the cell ===\n",
        "def is_crossing(values, isovalue):\n",
        "    return np.min(values) < isovalue and np.max(values) > isovalue\n",
        "\n",
        "# === Monte Carlo Estimation (with correlation) ===\n",
        "def sample_crossing_probability(mu, sigma, isovalue, n_samples, rho):\n",
        "    cov = build_covariance(sigma, rho)\n",
        "    try:\n",
        "        samples = np.random.multivariate_normal(mu, cov, size=n_samples)\n",
        "    except np.linalg.LinAlgError:\n",
        "        samples = np.random.normal(loc=mu, scale=sigma, size=(n_samples, 8))\n",
        "    cross = np.any(samples < isovalue, axis=1) & np.any(samples > isovalue, axis=1)\n",
        "    return np.mean(cross)\n",
        "\n",
        "# === Adaptive Sample Count Function ===\n",
        "def get_adaptive_sample_count(avg_distance, min_samples=200, max_samples=5000):\n",
        "    weight = np.exp(-avg_distance / 20)  # adjust denominator to tune sharpness\n",
        "    return int(min_samples + (max_samples - min_samples) * weight)\n",
        "\n",
        "# === Main Computation ===\n",
        "output_shape = tuple(d - 1 for d in mean_3d.shape)\n",
        "prob_grid = np.zeros(output_shape, dtype=np.float32)\n",
        "\n",
        "total_cells = np.prod(output_shape)\n",
        "progress = tqdm(total=total_cells, desc=\"Processing Cells\")\n",
        "\n",
        "print(\"Computing adaptive probabilities with correlation...\")\n",
        "for i in range(output_shape[0]):\n",
        "    for j in range(output_shape[1]):\n",
        "        for k in range(output_shape[2]):\n",
        "            verts = get_cell_vertices(i, j, k)\n",
        "            mu = np.array([mean_3d[x, y, z] for (x, y, z) in verts], dtype=np.float64)\n",
        "            sigma = np.array([std_3d[x, y, z] for (x, y, z) in verts], dtype=np.float64)\n",
        "            avg_distance = np.mean(np.abs(mu - ISOLEVEL))\n",
        "            n_samples = get_adaptive_sample_count(avg_distance, MIN_SAMPLES, MAX_SAMPLES)\n",
        "            prob = sample_crossing_probability(mu, sigma, ISOLEVEL, n_samples, CORRELATION)\n",
        "            prob_grid[i, j, k] = prob\n",
        "            progress.update(1)\n",
        "\n",
        "progress.close()\n",
        "\n",
        "# === Convert to VTK ImageData ===\n",
        "prob_image = vtk.vtkImageData()\n",
        "prob_image.SetDimensions(prob_grid.shape)\n",
        "prob_image.SetSpacing(image.GetSpacing())\n",
        "prob_image.SetOrigin(image.GetOrigin())\n",
        "\n",
        "flat = prob_grid.ravel(order='F')  # VTK expects Fortran order\n",
        "vtk_array = numpy_to_vtk(flat, deep=True)\n",
        "vtk_array.SetName(\"crossing_probability\")\n",
        "prob_image.GetPointData().AddArray(vtk_array)\n",
        "prob_image.GetPointData().SetActiveScalars(\"crossing_probability\")\n",
        "\n",
        "# === Write Output ===\n",
        "writer = vtk.vtkXMLImageDataWriter()\n",
        "writer.SetFileName(OUTPUT_VTI)\n",
        "writer.SetInputData(prob_image)\n",
        "writer.Write()\n",
        "\n",
        "print(f\"Saved output to {OUTPUT_VTI}\")\n"
      ]
    },
    {
      "cell_type": "markdown",
      "metadata": {
        "id": "F3gGGrELXiOj"
      },
      "source": [
        "#gmm"
      ]
    },
    {
      "cell_type": "code",
      "execution_count": null,
      "metadata": {
        "colab": {
          "base_uri": "https://localhost:8080/",
          "height": 515
        },
        "id": "BEn2xRY0UVSp",
        "outputId": "307c2e6b-c124-4726-a5e6-db5ef4de597f"
      },
      "outputs": [
        {
          "name": "stderr",
          "output_type": "stream",
          "text": [
            "<>:7: SyntaxWarning: invalid escape sequence '\\I'\n",
            "<>:7: SyntaxWarning: invalid escape sequence '\\I'\n",
            "C:\\Users\\telug\\AppData\\Local\\Temp\\ipykernel_25328\\768221482.py:7: SyntaxWarning: invalid escape sequence '\\I'\n",
            "  INPUT_VTI = \"data\\Isabel_3D_gmm.vti\"\n"
          ]
        },
        {
          "name": "stdout",
          "output_type": "stream",
          "text": [
            "3 3125000 3 3125000 3 3125000\n",
            "3 50 3 50 3 50\n",
            "Component 0 shape: (50, 250, 250)\n",
            "Component 1 shape: (50, 250, 250)\n",
            "Component 2 shape: (50, 250, 250)\n"
          ]
        },
        {
          "name": "stderr",
          "output_type": "stream",
          "text": [
            "Processing 8D GMM Cells:  14%|█▎        | 413631/3038049 [26:01<1:55:45, 377.88it/s]"
          ]
        }
      ],
      "source": [
        "import numpy as np\n",
        "import vtk\n",
        "from vtk.util.numpy_support import vtk_to_numpy, numpy_to_vtk\n",
        "from tqdm import tqdm\n",
        "\n",
        "# === CONFIG ===\n",
        "INPUT_VTI = \"data\\Isabel_3D_gmm.vti\"\n",
        "OUTPUT_VTI = \"isosurface_probabilities_8D_GMM_my_one.vti\"\n",
        "ISOLEVEL = 159.9798\n",
        "N_SAMPLES = 1000\n",
        "\n",
        "# === Load VTI File ===\n",
        "reader = vtk.vtkXMLImageDataReader()\n",
        "reader.SetFileName(INPUT_VTI)\n",
        "reader.Update()\n",
        "image = reader.GetOutput()\n",
        "dims = image.GetDimensions()\n",
        "\n",
        "# === Load GMM Arrays (Means, Stds, Weights) ===\n",
        "means = [vtk_to_numpy(image.GetPointData().GetArray(f\"GMM_Mean{i}\")) for i in range(3)]\n",
        "stds = [vtk_to_numpy(image.GetPointData().GetArray(f\"GMM_Std{i}\")) for i in range(3)]\n",
        "weights = [vtk_to_numpy(image.GetPointData().GetArray(f\"GMM_Weight{i}\")) for i in range(3)]\n",
        "print(len(means),len(means[0]),len(stds),len(stds[0]),len(weights),len(weights[0]))\n",
        "# === Reshape Arrays to 3D Grids ===\n",
        "gmm_means_3d = [arr.reshape(dims[::-1], order='F') for arr in means]\n",
        "gmm_stds_3d = [arr.reshape(dims[::-1], order='F') for arr in stds]\n",
        "gmm_weights_3d = [arr.reshape(dims[::-1], order='F') for arr in weights]\n",
        "print(len(gmm_means_3d),len(gmm_means_3d[0]),len(gmm_stds_3d),len(gmm_stds_3d[0]),len(gmm_weights_3d),len(gmm_weights_3d[0]))\n",
        "for i, mean in enumerate(gmm_means_3d):\n",
        "    print(f\"Component {i} shape: {mean.shape}\")\n",
        "# Shape of the 3D grid for component 0\n",
        "\n",
        "# === Cell Vertex Indexing ===\n",
        "def get_cell_vertices(i, j, k):\n",
        "    return [\n",
        "        (i,   j,   k),\n",
        "        (i+1, j,   k),\n",
        "        (i+1, j+1, k),\n",
        "        (i,   j+1, k),\n",
        "        (i,   j,   k+1),\n",
        "        (i+1, j,   k+1),\n",
        "        (i+1, j+1, k+1),\n",
        "        (i,   j+1, k+1),\n",
        "    ]\n",
        "\n",
        "# === GMM Component Sampler ===\n",
        "def sample_8d_gmm(weights, means, covs, n_samples):\n",
        "    comps = np.random.choice(3, size=n_samples, p=weights)\n",
        "    samples = np.empty((n_samples, 8))\n",
        "    for c in range(3):\n",
        "        idx = np.where(comps == c)[0]\n",
        "        if len(idx) > 0:\n",
        "            samples[idx] = np.random.multivariate_normal(mean=means[c], cov=covs[c], size=len(idx))\n",
        "    return samples\n",
        "\n",
        "# === Probability Estimator ===\n",
        "def sample_crossing_probability_joint_gmm(weights, means, covs, isovalue, n_samples):\n",
        "    samples = sample_8d_gmm(weights, means, covs, n_samples)\n",
        "    cross = np.any(samples < isovalue, axis=1) & np.any(samples > isovalue, axis=1)\n",
        "    return np.mean(cross)\n",
        "\n",
        "# === Main Computation ===\n",
        "output_shape = tuple(d - 1 for d in dims[::-1])\n",
        "prob_grid = np.zeros(output_shape, dtype=np.float32)\n",
        "\n",
        "progress = tqdm(total=np.prod(output_shape), desc=\"Processing 8D GMM Cells\")\n",
        "\n",
        "for i in range(output_shape[0]):\n",
        "    for j in range(output_shape[1]):\n",
        "        for k in range(output_shape[2]):\n",
        "            verts = get_cell_vertices(i, j, k)\n",
        "\n",
        "            # For each component (0,1,2), build mean/cov across 8 vertices\n",
        "            means_list = []\n",
        "            covs_list = []\n",
        "            weights_raw = []\n",
        "\n",
        "            for c in range(3):\n",
        "                mu_c = [gmm_means_3d[c][x, y, z] for (x, y, z) in verts]\n",
        "                std_c = [gmm_stds_3d[c][x, y, z] for (x, y, z) in verts]\n",
        "                cov_c = np.diag(np.square(std_c))\n",
        "\n",
        "                means_list.append(np.array(mu_c))\n",
        "                covs_list.append(cov_c)\n",
        "\n",
        "                w_c = [gmm_weights_3d[c][x, y, z] for (x, y, z) in verts]\n",
        "                w_product = np.prod(w_c)  # product of weights across 8 corners\n",
        "                weights_raw.append(w_product)\n",
        "\n",
        "            # Normalize weights\n",
        "            weights_array = np.array(weights_raw)\n",
        "            weights_array /= np.sum(weights_array)\n",
        "\n",
        "            # Estimate probability\n",
        "            prob = sample_crossing_probability_joint_gmm(weights_array, means_list, covs_list, ISOLEVEL, N_SAMPLES)\n",
        "            prob_grid[i, j, k] = prob\n",
        "            progress.update(1)\n",
        "\n",
        "progress.close()\n",
        "\n",
        "# === Convert to VTK ImageData ===\n",
        "prob_image = vtk.vtkImageData()\n",
        "prob_image.SetDimensions(prob_grid.shape)\n",
        "prob_image.SetSpacing(image.GetSpacing())\n",
        "prob_image.SetOrigin(image.GetOrigin())\n",
        "\n",
        "flat = prob_grid.ravel(order='F')  # Fortran order\n",
        "vtk_array = numpy_to_vtk(flat, deep=True)\n",
        "vtk_array.SetName(\"crossing_probability\")\n",
        "prob_image.GetPointData().AddArray(vtk_array)\n",
        "prob_image.GetPointData().SetActiveScalars(\"crossing_probability\")\n",
        "\n",
        "# === Write Output ===\n",
        "writer = vtk.vtkXMLImageDataWriter()\n",
        "writer.SetFileName(OUTPUT_VTI)\n",
        "writer.SetInputData(prob_image)\n",
        "writer.Write()\n",
        "\n",
        "print(f\"Saved output to {OUTPUT_VTI}\")\n"
      ]
    },
    {
      "cell_type": "markdown",
      "metadata": {
        "id": "k72aXQxl-ggS"
      },
      "source": [
        "#mutliprocessing gmm"
      ]
    },
    {
      "cell_type": "code",
      "execution_count": null,
      "metadata": {
        "colab": {
          "base_uri": "https://localhost:8080/",
          "height": 1000
        },
        "id": "62tuHhQTssXG",
        "outputId": "422f6794-5d5c-4ca0-aaa6-c4060061795f"
      },
      "outputs": [
        {
          "name": "stdout",
          "output_type": "stream",
          "text": [
            "Processing: /content/data/sklearn_teardrop_gmm.vti -> /content/data/isosurface_sklearn_teardrop_gmm.vti\n",
            "3 262144 3 262144 3 262144\n",
            "3 64 3 64 3 64\n",
            "Component 0 shape: (64, 64, 64)\n",
            "Component 1 shape: (64, 64, 64)\n",
            "Component 2 shape: (64, 64, 64)\n"
          ]
        },
        {
          "name": "stderr",
          "output_type": "stream",
          "text": [
            "Process ForkPoolWorker-6:\n",
            "Process ForkPoolWorker-5:\n",
            "Traceback (most recent call last):\n",
            "Traceback (most recent call last):\n",
            "  File \"/usr/lib/python3.11/multiprocessing/process.py\", line 314, in _bootstrap\n",
            "    self.run()\n",
            "  File \"/usr/lib/python3.11/multiprocessing/process.py\", line 314, in _bootstrap\n",
            "    self.run()\n",
            "  File \"/usr/lib/python3.11/multiprocessing/process.py\", line 108, in run\n",
            "    self._target(*self._args, **self._kwargs)\n",
            "  File \"/usr/lib/python3.11/multiprocessing/pool.py\", line 131, in worker\n",
            "    put((job, i, result))\n",
            "  File \"/usr/lib/python3.11/multiprocessing/process.py\", line 108, in run\n",
            "    self._target(*self._args, **self._kwargs)\n",
            "  File \"/usr/lib/python3.11/multiprocessing/queues.py\", line 377, in put\n",
            "    self._writer.send_bytes(obj)\n",
            "  File \"/usr/lib/python3.11/multiprocessing/pool.py\", line 114, in worker\n",
            "    task = get()\n",
            "           ^^^^^\n",
            "  File \"/usr/lib/python3.11/multiprocessing/connection.py\", line 200, in send_bytes\n",
            "    self._send_bytes(m[offset:offset + size])\n",
            "  File \"/usr/lib/python3.11/multiprocessing/queues.py\", line 365, in get\n",
            "    res = self._reader.recv_bytes()\n",
            "          ^^^^^^^^^^^^^^^^^^^^^^^^^\n"
          ]
        },
        {
          "ename": "EOFError",
          "evalue": "Ran out of input",
          "output_type": "error",
          "traceback": [
            "\u001b[0;31m---------------------------------------------------------------------------\u001b[0m",
            "\u001b[0;31mIndexError\u001b[0m                                Traceback (most recent call last)",
            "\u001b[0;32m/usr/lib/python3.11/multiprocessing/pool.py\u001b[0m in \u001b[0;36mnext\u001b[0;34m(self, timeout)\u001b[0m\n\u001b[1;32m    855\u001b[0m             \u001b[0;32mtry\u001b[0m\u001b[0;34m:\u001b[0m\u001b[0;34m\u001b[0m\u001b[0;34m\u001b[0m\u001b[0m\n\u001b[0;32m--> 856\u001b[0;31m                 \u001b[0mitem\u001b[0m \u001b[0;34m=\u001b[0m \u001b[0mself\u001b[0m\u001b[0;34m.\u001b[0m\u001b[0m_items\u001b[0m\u001b[0;34m.\u001b[0m\u001b[0mpopleft\u001b[0m\u001b[0;34m(\u001b[0m\u001b[0;34m)\u001b[0m\u001b[0;34m\u001b[0m\u001b[0;34m\u001b[0m\u001b[0m\n\u001b[0m\u001b[1;32m    857\u001b[0m             \u001b[0;32mexcept\u001b[0m \u001b[0mIndexError\u001b[0m\u001b[0;34m:\u001b[0m\u001b[0;34m\u001b[0m\u001b[0;34m\u001b[0m\u001b[0m\n",
            "\u001b[0;31mIndexError\u001b[0m: pop from an empty deque",
            "\nDuring handling of the above exception, another exception occurred:\n",
            "\u001b[0;31mKeyboardInterrupt\u001b[0m                         Traceback (most recent call last)",
            "\u001b[0;32m/tmp/ipython-input-11-3044737044.py\u001b[0m in \u001b[0;36m<cell line: 0>\u001b[0;34m()\u001b[0m\n\u001b[1;32m    107\u001b[0m         \u001b[0;32mwith\u001b[0m \u001b[0mmultiprocessing\u001b[0m\u001b[0;34m.\u001b[0m\u001b[0mPool\u001b[0m\u001b[0;34m(\u001b[0m\u001b[0;34m)\u001b[0m \u001b[0;32mas\u001b[0m \u001b[0mpool\u001b[0m\u001b[0;34m:\u001b[0m\u001b[0;34m\u001b[0m\u001b[0;34m\u001b[0m\u001b[0m\n\u001b[0;32m--> 108\u001b[0;31m             \u001b[0;32mfor\u001b[0m \u001b[0mi\u001b[0m\u001b[0;34m,\u001b[0m \u001b[0mj\u001b[0m\u001b[0;34m,\u001b[0m \u001b[0mk\u001b[0m\u001b[0;34m,\u001b[0m \u001b[0mprob\u001b[0m \u001b[0;32min\u001b[0m \u001b[0mpool\u001b[0m\u001b[0;34m.\u001b[0m\u001b[0mimap_unordered\u001b[0m\u001b[0;34m(\u001b[0m\u001b[0mcompute_probability_at_cell\u001b[0m\u001b[0;34m,\u001b[0m \u001b[0mall_indices\u001b[0m\u001b[0;34m)\u001b[0m\u001b[0;34m:\u001b[0m\u001b[0;34m\u001b[0m\u001b[0;34m\u001b[0m\u001b[0m\n\u001b[0m\u001b[1;32m    109\u001b[0m                 \u001b[0mprob_grid\u001b[0m\u001b[0;34m[\u001b[0m\u001b[0mi\u001b[0m\u001b[0;34m,\u001b[0m \u001b[0mj\u001b[0m\u001b[0;34m,\u001b[0m \u001b[0mk\u001b[0m\u001b[0;34m]\u001b[0m \u001b[0;34m=\u001b[0m \u001b[0mprob\u001b[0m\u001b[0;34m\u001b[0m\u001b[0;34m\u001b[0m\u001b[0m\n",
            "\u001b[0;32m/usr/lib/python3.11/multiprocessing/pool.py\u001b[0m in \u001b[0;36mnext\u001b[0;34m(self, timeout)\u001b[0m\n\u001b[1;32m    860\u001b[0m                     \u001b[0;32mraise\u001b[0m \u001b[0mStopIteration\u001b[0m \u001b[0;32mfrom\u001b[0m \u001b[0;32mNone\u001b[0m\u001b[0;34m\u001b[0m\u001b[0;34m\u001b[0m\u001b[0m\n\u001b[0;32m--> 861\u001b[0;31m                 \u001b[0mself\u001b[0m\u001b[0;34m.\u001b[0m\u001b[0m_cond\u001b[0m\u001b[0;34m.\u001b[0m\u001b[0mwait\u001b[0m\u001b[0;34m(\u001b[0m\u001b[0mtimeout\u001b[0m\u001b[0;34m)\u001b[0m\u001b[0;34m\u001b[0m\u001b[0;34m\u001b[0m\u001b[0m\n\u001b[0m\u001b[1;32m    862\u001b[0m                 \u001b[0;32mtry\u001b[0m\u001b[0;34m:\u001b[0m\u001b[0;34m\u001b[0m\u001b[0;34m\u001b[0m\u001b[0m\n",
            "\u001b[0;32m/usr/lib/python3.11/threading.py\u001b[0m in \u001b[0;36mwait\u001b[0;34m(self, timeout)\u001b[0m\n\u001b[1;32m    326\u001b[0m             \u001b[0;32mif\u001b[0m \u001b[0mtimeout\u001b[0m \u001b[0;32mis\u001b[0m \u001b[0;32mNone\u001b[0m\u001b[0;34m:\u001b[0m\u001b[0;34m\u001b[0m\u001b[0;34m\u001b[0m\u001b[0m\n\u001b[0;32m--> 327\u001b[0;31m                 \u001b[0mwaiter\u001b[0m\u001b[0;34m.\u001b[0m\u001b[0macquire\u001b[0m\u001b[0;34m(\u001b[0m\u001b[0;34m)\u001b[0m\u001b[0;34m\u001b[0m\u001b[0;34m\u001b[0m\u001b[0m\n\u001b[0m\u001b[1;32m    328\u001b[0m                 \u001b[0mgotit\u001b[0m \u001b[0;34m=\u001b[0m \u001b[0;32mTrue\u001b[0m\u001b[0;34m\u001b[0m\u001b[0;34m\u001b[0m\u001b[0m\n",
            "\u001b[0;31mKeyboardInterrupt\u001b[0m: ",
            "\nDuring handling of the above exception, another exception occurred:\n",
            "\u001b[0;31mEOFError\u001b[0m                                  Traceback (most recent call last)",
            "\u001b[0;32m/tmp/ipython-input-11-3044737044.py\u001b[0m in \u001b[0;36m<cell line: 0>\u001b[0;34m()\u001b[0m\n\u001b[1;32m    105\u001b[0m     \u001b[0;31m# === Run Multiprocessing ===\u001b[0m\u001b[0;34m\u001b[0m\u001b[0;34m\u001b[0m\u001b[0m\n\u001b[1;32m    106\u001b[0m     \u001b[0;32mif\u001b[0m \u001b[0m__name__\u001b[0m \u001b[0;34m==\u001b[0m \u001b[0;34m'__main__'\u001b[0m\u001b[0;34m:\u001b[0m\u001b[0;34m\u001b[0m\u001b[0;34m\u001b[0m\u001b[0m\n\u001b[0;32m--> 107\u001b[0;31m         \u001b[0;32mwith\u001b[0m \u001b[0mmultiprocessing\u001b[0m\u001b[0;34m.\u001b[0m\u001b[0mPool\u001b[0m\u001b[0;34m(\u001b[0m\u001b[0;34m)\u001b[0m \u001b[0;32mas\u001b[0m \u001b[0mpool\u001b[0m\u001b[0;34m:\u001b[0m\u001b[0;34m\u001b[0m\u001b[0;34m\u001b[0m\u001b[0m\n\u001b[0m\u001b[1;32m    108\u001b[0m             \u001b[0;32mfor\u001b[0m \u001b[0mi\u001b[0m\u001b[0;34m,\u001b[0m \u001b[0mj\u001b[0m\u001b[0;34m,\u001b[0m \u001b[0mk\u001b[0m\u001b[0;34m,\u001b[0m \u001b[0mprob\u001b[0m \u001b[0;32min\u001b[0m \u001b[0mpool\u001b[0m\u001b[0;34m.\u001b[0m\u001b[0mimap_unordered\u001b[0m\u001b[0;34m(\u001b[0m\u001b[0mcompute_probability_at_cell\u001b[0m\u001b[0;34m,\u001b[0m \u001b[0mall_indices\u001b[0m\u001b[0;34m)\u001b[0m\u001b[0;34m:\u001b[0m\u001b[0;34m\u001b[0m\u001b[0;34m\u001b[0m\u001b[0m\n\u001b[1;32m    109\u001b[0m                 \u001b[0mprob_grid\u001b[0m\u001b[0;34m[\u001b[0m\u001b[0mi\u001b[0m\u001b[0;34m,\u001b[0m \u001b[0mj\u001b[0m\u001b[0;34m,\u001b[0m \u001b[0mk\u001b[0m\u001b[0;34m]\u001b[0m \u001b[0;34m=\u001b[0m \u001b[0mprob\u001b[0m\u001b[0;34m\u001b[0m\u001b[0;34m\u001b[0m\u001b[0m\n",
            "\u001b[0;32m/usr/lib/python3.11/multiprocessing/pool.py\u001b[0m in \u001b[0;36m__exit__\u001b[0;34m(self, exc_type, exc_val, exc_tb)\u001b[0m\n\u001b[1;32m    737\u001b[0m \u001b[0;34m\u001b[0m\u001b[0m\n\u001b[1;32m    738\u001b[0m     \u001b[0;32mdef\u001b[0m \u001b[0m__exit__\u001b[0m\u001b[0;34m(\u001b[0m\u001b[0mself\u001b[0m\u001b[0;34m,\u001b[0m \u001b[0mexc_type\u001b[0m\u001b[0;34m,\u001b[0m \u001b[0mexc_val\u001b[0m\u001b[0;34m,\u001b[0m \u001b[0mexc_tb\u001b[0m\u001b[0;34m)\u001b[0m\u001b[0;34m:\u001b[0m\u001b[0;34m\u001b[0m\u001b[0;34m\u001b[0m\u001b[0m\n\u001b[0;32m--> 739\u001b[0;31m         \u001b[0mself\u001b[0m\u001b[0;34m.\u001b[0m\u001b[0mterminate\u001b[0m\u001b[0;34m(\u001b[0m\u001b[0;34m)\u001b[0m\u001b[0;34m\u001b[0m\u001b[0;34m\u001b[0m\u001b[0m\n\u001b[0m\u001b[1;32m    740\u001b[0m \u001b[0;34m\u001b[0m\u001b[0m\n\u001b[1;32m    741\u001b[0m \u001b[0;31m#\u001b[0m\u001b[0;34m\u001b[0m\u001b[0;34m\u001b[0m\u001b[0m\n",
            "\u001b[0;32m/usr/lib/python3.11/multiprocessing/pool.py\u001b[0m in \u001b[0;36mterminate\u001b[0;34m(self)\u001b[0m\n\u001b[1;32m    655\u001b[0m         \u001b[0mutil\u001b[0m\u001b[0;34m.\u001b[0m\u001b[0mdebug\u001b[0m\u001b[0;34m(\u001b[0m\u001b[0;34m'terminating pool'\u001b[0m\u001b[0;34m)\u001b[0m\u001b[0;34m\u001b[0m\u001b[0;34m\u001b[0m\u001b[0m\n\u001b[1;32m    656\u001b[0m         \u001b[0mself\u001b[0m\u001b[0;34m.\u001b[0m\u001b[0m_state\u001b[0m \u001b[0;34m=\u001b[0m \u001b[0mTERMINATE\u001b[0m\u001b[0;34m\u001b[0m\u001b[0;34m\u001b[0m\u001b[0m\n\u001b[0;32m--> 657\u001b[0;31m         \u001b[0mself\u001b[0m\u001b[0;34m.\u001b[0m\u001b[0m_terminate\u001b[0m\u001b[0;34m(\u001b[0m\u001b[0;34m)\u001b[0m\u001b[0;34m\u001b[0m\u001b[0;34m\u001b[0m\u001b[0m\n\u001b[0m\u001b[1;32m    658\u001b[0m \u001b[0;34m\u001b[0m\u001b[0m\n\u001b[1;32m    659\u001b[0m     \u001b[0;32mdef\u001b[0m \u001b[0mjoin\u001b[0m\u001b[0;34m(\u001b[0m\u001b[0mself\u001b[0m\u001b[0;34m)\u001b[0m\u001b[0;34m:\u001b[0m\u001b[0;34m\u001b[0m\u001b[0;34m\u001b[0m\u001b[0m\n",
            "\u001b[0;32m/usr/lib/python3.11/multiprocessing/util.py\u001b[0m in \u001b[0;36m__call__\u001b[0;34m(self, wr, _finalizer_registry, sub_debug, getpid)\u001b[0m\n\u001b[1;32m    225\u001b[0m                 sub_debug('finalizer calling %s with args %s and kwargs %s',\n\u001b[1;32m    226\u001b[0m                           self._callback, self._args, self._kwargs)\n\u001b[0;32m--> 227\u001b[0;31m                 \u001b[0mres\u001b[0m \u001b[0;34m=\u001b[0m \u001b[0mself\u001b[0m\u001b[0;34m.\u001b[0m\u001b[0m_callback\u001b[0m\u001b[0;34m(\u001b[0m\u001b[0;34m*\u001b[0m\u001b[0mself\u001b[0m\u001b[0;34m.\u001b[0m\u001b[0m_args\u001b[0m\u001b[0;34m,\u001b[0m \u001b[0;34m**\u001b[0m\u001b[0mself\u001b[0m\u001b[0;34m.\u001b[0m\u001b[0m_kwargs\u001b[0m\u001b[0;34m)\u001b[0m\u001b[0;34m\u001b[0m\u001b[0;34m\u001b[0m\u001b[0m\n\u001b[0m\u001b[1;32m    228\u001b[0m             \u001b[0mself\u001b[0m\u001b[0;34m.\u001b[0m\u001b[0m_weakref\u001b[0m \u001b[0;34m=\u001b[0m \u001b[0mself\u001b[0m\u001b[0;34m.\u001b[0m\u001b[0m_callback\u001b[0m \u001b[0;34m=\u001b[0m \u001b[0mself\u001b[0m\u001b[0;34m.\u001b[0m\u001b[0m_args\u001b[0m \u001b[0;34m=\u001b[0m\u001b[0;31m \u001b[0m\u001b[0;31m\\\u001b[0m\u001b[0;34m\u001b[0m\u001b[0;34m\u001b[0m\u001b[0m\n\u001b[1;32m    229\u001b[0m                             \u001b[0mself\u001b[0m\u001b[0;34m.\u001b[0m\u001b[0m_kwargs\u001b[0m \u001b[0;34m=\u001b[0m \u001b[0mself\u001b[0m\u001b[0;34m.\u001b[0m\u001b[0m_key\u001b[0m \u001b[0;34m=\u001b[0m \u001b[0;32mNone\u001b[0m\u001b[0;34m\u001b[0m\u001b[0;34m\u001b[0m\u001b[0m\n",
            "\u001b[0;32m/usr/lib/python3.11/multiprocessing/pool.py\u001b[0m in \u001b[0;36m_terminate_pool\u001b[0;34m(cls, taskqueue, inqueue, outqueue, pool, change_notifier, worker_handler, task_handler, result_handler, cache)\u001b[0m\n\u001b[1;32m    693\u001b[0m \u001b[0;34m\u001b[0m\u001b[0m\n\u001b[1;32m    694\u001b[0m         \u001b[0mutil\u001b[0m\u001b[0;34m.\u001b[0m\u001b[0mdebug\u001b[0m\u001b[0;34m(\u001b[0m\u001b[0;34m'helping task handler/workers to finish'\u001b[0m\u001b[0;34m)\u001b[0m\u001b[0;34m\u001b[0m\u001b[0;34m\u001b[0m\u001b[0m\n\u001b[0;32m--> 695\u001b[0;31m         \u001b[0mcls\u001b[0m\u001b[0;34m.\u001b[0m\u001b[0m_help_stuff_finish\u001b[0m\u001b[0;34m(\u001b[0m\u001b[0minqueue\u001b[0m\u001b[0;34m,\u001b[0m \u001b[0mtask_handler\u001b[0m\u001b[0;34m,\u001b[0m \u001b[0mlen\u001b[0m\u001b[0;34m(\u001b[0m\u001b[0mpool\u001b[0m\u001b[0;34m)\u001b[0m\u001b[0;34m)\u001b[0m\u001b[0;34m\u001b[0m\u001b[0;34m\u001b[0m\u001b[0m\n\u001b[0m\u001b[1;32m    696\u001b[0m \u001b[0;34m\u001b[0m\u001b[0m\n\u001b[1;32m    697\u001b[0m         \u001b[0;32mif\u001b[0m \u001b[0;34m(\u001b[0m\u001b[0;32mnot\u001b[0m \u001b[0mresult_handler\u001b[0m\u001b[0;34m.\u001b[0m\u001b[0mis_alive\u001b[0m\u001b[0;34m(\u001b[0m\u001b[0;34m)\u001b[0m\u001b[0;34m)\u001b[0m \u001b[0;32mand\u001b[0m \u001b[0;34m(\u001b[0m\u001b[0mlen\u001b[0m\u001b[0;34m(\u001b[0m\u001b[0mcache\u001b[0m\u001b[0;34m)\u001b[0m \u001b[0;34m!=\u001b[0m \u001b[0;36m0\u001b[0m\u001b[0;34m)\u001b[0m\u001b[0;34m:\u001b[0m\u001b[0;34m\u001b[0m\u001b[0;34m\u001b[0m\u001b[0m\n",
            "\u001b[0;32m/usr/lib/python3.11/multiprocessing/pool.py\u001b[0m in \u001b[0;36m_help_stuff_finish\u001b[0;34m(inqueue, task_handler, size)\u001b[0m\n\u001b[1;32m    675\u001b[0m         \u001b[0minqueue\u001b[0m\u001b[0;34m.\u001b[0m\u001b[0m_rlock\u001b[0m\u001b[0;34m.\u001b[0m\u001b[0macquire\u001b[0m\u001b[0;34m(\u001b[0m\u001b[0;34m)\u001b[0m\u001b[0;34m\u001b[0m\u001b[0;34m\u001b[0m\u001b[0m\n\u001b[1;32m    676\u001b[0m         \u001b[0;32mwhile\u001b[0m \u001b[0mtask_handler\u001b[0m\u001b[0;34m.\u001b[0m\u001b[0mis_alive\u001b[0m\u001b[0;34m(\u001b[0m\u001b[0;34m)\u001b[0m \u001b[0;32mand\u001b[0m \u001b[0minqueue\u001b[0m\u001b[0;34m.\u001b[0m\u001b[0m_reader\u001b[0m\u001b[0;34m.\u001b[0m\u001b[0mpoll\u001b[0m\u001b[0;34m(\u001b[0m\u001b[0;34m)\u001b[0m\u001b[0;34m:\u001b[0m\u001b[0;34m\u001b[0m\u001b[0;34m\u001b[0m\u001b[0m\n\u001b[0;32m--> 677\u001b[0;31m             \u001b[0minqueue\u001b[0m\u001b[0;34m.\u001b[0m\u001b[0m_reader\u001b[0m\u001b[0;34m.\u001b[0m\u001b[0mrecv\u001b[0m\u001b[0;34m(\u001b[0m\u001b[0;34m)\u001b[0m\u001b[0;34m\u001b[0m\u001b[0;34m\u001b[0m\u001b[0m\n\u001b[0m\u001b[1;32m    678\u001b[0m             \u001b[0mtime\u001b[0m\u001b[0;34m.\u001b[0m\u001b[0msleep\u001b[0m\u001b[0;34m(\u001b[0m\u001b[0;36m0\u001b[0m\u001b[0;34m)\u001b[0m\u001b[0;34m\u001b[0m\u001b[0;34m\u001b[0m\u001b[0m\n\u001b[1;32m    679\u001b[0m \u001b[0;34m\u001b[0m\u001b[0m\n",
            "\u001b[0;32m/usr/lib/python3.11/multiprocessing/connection.py\u001b[0m in \u001b[0;36mrecv\u001b[0;34m(self)\u001b[0m\n\u001b[1;32m    249\u001b[0m         \u001b[0mself\u001b[0m\u001b[0;34m.\u001b[0m\u001b[0m_check_readable\u001b[0m\u001b[0;34m(\u001b[0m\u001b[0;34m)\u001b[0m\u001b[0;34m\u001b[0m\u001b[0;34m\u001b[0m\u001b[0m\n\u001b[1;32m    250\u001b[0m         \u001b[0mbuf\u001b[0m \u001b[0;34m=\u001b[0m \u001b[0mself\u001b[0m\u001b[0;34m.\u001b[0m\u001b[0m_recv_bytes\u001b[0m\u001b[0;34m(\u001b[0m\u001b[0;34m)\u001b[0m\u001b[0;34m\u001b[0m\u001b[0;34m\u001b[0m\u001b[0m\n\u001b[0;32m--> 251\u001b[0;31m         \u001b[0;32mreturn\u001b[0m \u001b[0m_ForkingPickler\u001b[0m\u001b[0;34m.\u001b[0m\u001b[0mloads\u001b[0m\u001b[0;34m(\u001b[0m\u001b[0mbuf\u001b[0m\u001b[0;34m.\u001b[0m\u001b[0mgetbuffer\u001b[0m\u001b[0;34m(\u001b[0m\u001b[0;34m)\u001b[0m\u001b[0;34m)\u001b[0m\u001b[0;34m\u001b[0m\u001b[0;34m\u001b[0m\u001b[0m\n\u001b[0m\u001b[1;32m    252\u001b[0m \u001b[0;34m\u001b[0m\u001b[0m\n\u001b[1;32m    253\u001b[0m     \u001b[0;32mdef\u001b[0m \u001b[0mpoll\u001b[0m\u001b[0;34m(\u001b[0m\u001b[0mself\u001b[0m\u001b[0;34m,\u001b[0m \u001b[0mtimeout\u001b[0m\u001b[0;34m=\u001b[0m\u001b[0;36m0.0\u001b[0m\u001b[0;34m)\u001b[0m\u001b[0;34m:\u001b[0m\u001b[0;34m\u001b[0m\u001b[0;34m\u001b[0m\u001b[0m\n",
            "\u001b[0;31mEOFError\u001b[0m: Ran out of input"
          ]
        },
        {
          "name": "stderr",
          "output_type": "stream",
          "text": [
            "  File \"/usr/lib/python3.11/multiprocessing/connection.py\", line 216, in recv_bytes\n",
            "    buf = self._recv_bytes(maxlength)\n",
            "          ^^^^^^^^^^^^^^^^^^^^^^^^^^^\n",
            "  File \"/usr/lib/python3.11/multiprocessing/connection.py\", line 427, in _send_bytes\n",
            "    self._send(header + buf)\n",
            "  File \"/usr/lib/python3.11/multiprocessing/connection.py\", line 430, in _recv_bytes\n",
            "    buf = self._recv(4)\n",
            "          ^^^^^^^^^^^^^\n",
            "  File \"/usr/lib/python3.11/multiprocessing/connection.py\", line 384, in _send\n",
            "    n = write(self._handle, buf)\n",
            "        ^^^^^^^^^^^^^^^^^^^^^^^^\n",
            "KeyboardInterrupt\n"
          ]
        }
      ],
      "source": [
        "import numpy as np\n",
        "import vtk\n",
        "from vtk.util.numpy_support import vtk_to_numpy, numpy_to_vtk\n",
        "from tqdm import tqdm\n",
        "from itertools import product\n",
        "import multiprocessing\n",
        "import os\n",
        "import glob\n",
        "# === CONFIG ===\n",
        "ISOLEVEL = 159.9798\n",
        "N_SAMPLES = 10000\n",
        "vti_dir = \"data\"  # Change to your actual path if needed\n",
        "vti_files = glob.glob(os.path.join(vti_dir, \"*.vti\"))\n",
        "for vti_file in vti_files:\n",
        "    INPUT_VTI = os.path.basename(vti_file)\n",
        "    OUTPUT_VTI  = f\"isosurface_{INPUT_VTI }\"\n",
        "    INPUT_VTI = vti_file\n",
        "    OUTPUT_VTI = os.path.join(vti_dir,OUTPUT_VTI )\n",
        "\n",
        "    print(f\"Processing: {INPUT_VTI} -> {OUTPUT_VTI}\")\n",
        "    # === Load VTI File ===\n",
        "    reader = vtk.vtkXMLImageDataReader()\n",
        "    reader.SetFileName(INPUT_VTI)\n",
        "    reader.Update()\n",
        "    image = reader.GetOutput()\n",
        "    dims = image.GetDimensions()\n",
        "\n",
        "    # === Load GMM Arrays (Means, Stds, Weights) ===\n",
        "    means = [vtk_to_numpy(image.GetPointData().GetArray(f\"GMM_Mean{i}\")) for i in range(3)]\n",
        "    stds = [vtk_to_numpy(image.GetPointData().GetArray(f\"GMM_Std{i}\")) for i in range(3)]\n",
        "    weights = [vtk_to_numpy(image.GetPointData().GetArray(f\"GMM_Weight{i}\")) for i in range(3)]\n",
        "    print(len(means), len(means[0]), len(stds), len(stds[0]), len(weights), len(weights[0]))\n",
        "\n",
        "    # === Reshape Arrays to 3D Grids ===\n",
        "    gmm_means_3d = [arr.reshape(dims[::-1], order='F') for arr in means]\n",
        "    gmm_stds_3d = [arr.reshape(dims[::-1], order='F') for arr in stds]\n",
        "    gmm_weights_3d = [arr.reshape(dims[::-1], order='F') for arr in weights]\n",
        "    print(len(gmm_means_3d), len(gmm_means_3d[0]), len(gmm_stds_3d), len(gmm_stds_3d[0]), len(gmm_weights_3d), len(gmm_weights_3d[0]))\n",
        "    for i, mean in enumerate(gmm_means_3d):\n",
        "        print(f\"Component {i} shape: {mean.shape}\")\n",
        "\n",
        "    # === Cell Vertex Indexing ===\n",
        "    def get_cell_vertices(i, j, k):\n",
        "        return [\n",
        "            (i,   j,   k),\n",
        "            (i+1, j,   k),\n",
        "            (i+1, j+1, k),\n",
        "            (i,   j+1, k),\n",
        "            (i,   j,   k+1),\n",
        "            (i+1, j,   k+1),\n",
        "            (i+1, j+1, k+1),\n",
        "            (i,   j+1, k+1),\n",
        "        ]\n",
        "\n",
        "    # === GMM Component Sampler ===\n",
        "    def sample_8d_gmm(weights, means, covs, n_samples):\n",
        "        comps = np.random.choice(3, size=n_samples, p=weights)\n",
        "        samples = np.empty((n_samples, 8))\n",
        "        for c in range(3):\n",
        "            idx = np.where(comps == c)[0]\n",
        "            if len(idx) > 0:\n",
        "                samples[idx] = np.random.multivariate_normal(mean=means[c], cov=covs[c], size=len(idx))\n",
        "        return samples\n",
        "\n",
        "    # === Probability Estimator ===\n",
        "    def sample_crossing_probability_joint_gmm(weights, means, covs, isovalue, n_samples):\n",
        "        samples = sample_8d_gmm(weights, means, covs, n_samples)\n",
        "        cross = np.any(samples < isovalue, axis=1) & np.any(samples > isovalue, axis=1)\n",
        "        return np.mean(cross)\n",
        "\n",
        "    # === Main Computation Function ===\n",
        "    def compute_probability_at_cell(idx):\n",
        "        i, j, k = idx\n",
        "        verts = get_cell_vertices(i, j, k)\n",
        "\n",
        "        means_list = []\n",
        "        covs_list = []\n",
        "        weights_raw = []\n",
        "\n",
        "        for c in range(3):\n",
        "            mu_c = [gmm_means_3d[c][x, y, z] for (x, y, z) in verts]\n",
        "            std_c = [gmm_stds_3d[c][x, y, z] for (x, y, z) in verts]\n",
        "            cov_c = np.diag(np.square(std_c))\n",
        "\n",
        "            means_list.append(np.array(mu_c))\n",
        "            covs_list.append(cov_c)\n",
        "\n",
        "            w_c = [gmm_weights_3d[c][x, y, z] for (x, y, z) in verts]\n",
        "            w_product = np.prod(w_c)\n",
        "            weights_raw.append(w_product)\n",
        "\n",
        "        weights_array = np.array(weights_raw)\n",
        "        weights_array /= np.sum(weights_array)\n",
        "\n",
        "        prob = sample_crossing_probability_joint_gmm(weights_array, means_list, covs_list, ISOLEVEL, N_SAMPLES)\n",
        "        return (i, j, k, prob)\n",
        "\n",
        "    # === Prepare Grid and Indices ===\n",
        "    output_shape = tuple(d - 1 for d in dims[::-1])\n",
        "    prob_grid = np.zeros(output_shape, dtype=np.float32)\n",
        "    all_indices = list(product(range(output_shape[0]),\n",
        "                              range(output_shape[1]),\n",
        "                              range(output_shape[2])))\n",
        "\n",
        "    # === Run Multiprocessing ===\n",
        "    if __name__ == '__main__':\n",
        "        with multiprocessing.Pool() as pool:\n",
        "            for i, j, k, prob in pool.imap_unordered(compute_probability_at_cell, all_indices):\n",
        "                prob_grid[i, j, k] = prob\n",
        "\n",
        "        # === Convert to VTK ImageData ===\n",
        "        prob_image = vtk.vtkImageData()\n",
        "        prob_image.SetDimensions(prob_grid.shape)\n",
        "        prob_image.SetSpacing(image.GetSpacing())\n",
        "        prob_image.SetOrigin(image.GetOrigin())\n",
        "\n",
        "        flat = prob_grid.ravel(order='F')\n",
        "        vtk_array = numpy_to_vtk(flat, deep=True)\n",
        "        vtk_array.SetName(\"crossing_probability\")\n",
        "        prob_image.GetPointData().AddArray(vtk_array)\n",
        "        prob_image.GetPointData().SetActiveScalars(\"crossing_probability\")\n",
        "\n",
        "        # === Write Output ===\n",
        "        writer = vtk.vtkXMLImageDataWriter()\n",
        "        writer.SetFileName(OUTPUT_VTI)\n",
        "        writer.SetInputData(prob_image)\n",
        "        writer.Write()\n",
        "\n",
        "        print(f\"Saved output to {OUTPUT_VTI}\")\n"
      ]
    },
    {
      "cell_type": "code",
      "execution_count": null,
      "metadata": {
        "id": "bn67OBXp_Vt8"
      },
      "outputs": [],
      "source": []
    }
  ],
  "metadata": {
    "colab": {
      "provenance": []
    },
    "kernelspec": {
      "display_name": "base",
      "language": "python",
      "name": "python3"
    },
    "language_info": {
      "codemirror_mode": {
        "name": "ipython",
        "version": 3
      },
      "file_extension": ".py",
      "mimetype": "text/x-python",
      "name": "python",
      "nbconvert_exporter": "python",
      "pygments_lexer": "ipython3",
      "version": "3.12.3"
    }
  },
  "nbformat": 4,
  "nbformat_minor": 0
}
