{
  "metadata": {
    "kernelspec": {
      "display_name": "Python 3",
      "name": "python3"
    },
    "language_info": {
      "name": "python",
      "version": "3.10.12",
      "mimetype": "text/x-python",
      "codemirror_mode": {
        "name": "ipython",
        "version": 3
      },
      "pygments_lexer": "ipython3",
      "nbconvert_exporter": "python",
      "file_extension": ".py"
    },
    "kaggle": {
      "accelerator": "nvidiaTeslaT4",
      "dataSources": [
        {
          "sourceId": 10578389,
          "sourceType": "datasetVersion",
          "datasetId": 6546447
        },
        {
          "sourceId": 11041818,
          "sourceType": "datasetVersion",
          "datasetId": 6878023
        },
        {
          "sourceId": 11251078,
          "sourceType": "datasetVersion",
          "datasetId": 7030699
        },
        {
          "sourceId": 11389139,
          "sourceType": "datasetVersion",
          "datasetId": 7132144
        },
        {
          "sourceId": 11421576,
          "sourceType": "datasetVersion",
          "datasetId": 7153051
        }
      ],
      "dockerImageVersionId": 30919,
      "isInternetEnabled": true,
      "language": "python",
      "sourceType": "notebook",
      "isGpuEnabled": true
    },
    "colab": {
      "provenance": [],
      "gpuType": "T4"
    },
    "accelerator": "GPU"
  },
  "nbformat_minor": 0,
  "nbformat": 4,
  "cells": [
    {
      "cell_type": "code",
      "source": [
        "!pip install vtk"
      ],
      "metadata": {
        "colab": {
          "base_uri": "https://localhost:8080/"
        },
        "id": "rv6VNZyMrHmb",
        "outputId": "ea939c79-dd79-49af-ecf1-98ca635aee23"
      },
      "execution_count": 1,
      "outputs": [
        {
          "output_type": "stream",
          "name": "stdout",
          "text": [
            "Collecting vtk\n",
            "  Downloading vtk-9.4.2-cp311-cp311-manylinux_2_17_x86_64.manylinux2014_x86_64.whl.metadata (5.5 kB)\n",
            "Requirement already satisfied: matplotlib>=2.0.0 in /usr/local/lib/python3.11/dist-packages (from vtk) (3.10.0)\n",
            "Requirement already satisfied: contourpy>=1.0.1 in /usr/local/lib/python3.11/dist-packages (from matplotlib>=2.0.0->vtk) (1.3.2)\n",
            "Requirement already satisfied: cycler>=0.10 in /usr/local/lib/python3.11/dist-packages (from matplotlib>=2.0.0->vtk) (0.12.1)\n",
            "Requirement already satisfied: fonttools>=4.22.0 in /usr/local/lib/python3.11/dist-packages (from matplotlib>=2.0.0->vtk) (4.58.0)\n",
            "Requirement already satisfied: kiwisolver>=1.3.1 in /usr/local/lib/python3.11/dist-packages (from matplotlib>=2.0.0->vtk) (1.4.8)\n",
            "Requirement already satisfied: numpy>=1.23 in /usr/local/lib/python3.11/dist-packages (from matplotlib>=2.0.0->vtk) (2.0.2)\n",
            "Requirement already satisfied: packaging>=20.0 in /usr/local/lib/python3.11/dist-packages (from matplotlib>=2.0.0->vtk) (24.2)\n",
            "Requirement already satisfied: pillow>=8 in /usr/local/lib/python3.11/dist-packages (from matplotlib>=2.0.0->vtk) (11.2.1)\n",
            "Requirement already satisfied: pyparsing>=2.3.1 in /usr/local/lib/python3.11/dist-packages (from matplotlib>=2.0.0->vtk) (3.2.3)\n",
            "Requirement already satisfied: python-dateutil>=2.7 in /usr/local/lib/python3.11/dist-packages (from matplotlib>=2.0.0->vtk) (2.9.0.post0)\n",
            "Requirement already satisfied: six>=1.5 in /usr/local/lib/python3.11/dist-packages (from python-dateutil>=2.7->matplotlib>=2.0.0->vtk) (1.17.0)\n",
            "Downloading vtk-9.4.2-cp311-cp311-manylinux_2_17_x86_64.manylinux2014_x86_64.whl (105.0 MB)\n",
            "\u001b[2K   \u001b[90m━━━━━━━━━━━━━━━━━━━━━━━━━━━━━━━━━━━━━━━━\u001b[0m \u001b[32m105.0/105.0 MB\u001b[0m \u001b[31m10.0 MB/s\u001b[0m eta \u001b[36m0:00:00\u001b[0m\n",
            "\u001b[?25hInstalling collected packages: vtk\n",
            "Successfully installed vtk-9.4.2\n"
          ]
        }
      ]
    },
    {
      "cell_type": "code",
      "source": [
        "import numpy as np\n",
        "import torch\n",
        "from torch import nn, optim\n",
        "import torch.optim as optim\n",
        "import torch.nn as nn\n",
        "from torch.nn import functional as F\n",
        "from torch.utils.data import TensorDataset, DataLoader\n",
        "import seaborn as sns\n",
        "import matplotlib.pyplot as plt\n",
        "import vtk\n",
        "from vtk import *\n",
        "from vtk.util.numpy_support import vtk_to_numpy\n",
        "import random\n",
        "import os\n",
        "import sys\n",
        "import time"
      ],
      "metadata": {
        "_uuid": "d33f75d4-5445-4e48-8179-f0c5dd333f79",
        "_cell_guid": "240889c7-74eb-4fd4-a5b1-ec2aead81dac",
        "trusted": true,
        "jupyter": {
          "outputs_hidden": false
        },
        "execution": {
          "iopub.status.busy": "2025-05-26T20:25:13.755511Z",
          "iopub.execute_input": "2025-05-26T20:25:13.755738Z",
          "iopub.status.idle": "2025-05-26T20:25:19.575599Z",
          "shell.execute_reply.started": "2025-05-26T20:25:13.755716Z",
          "shell.execute_reply": "2025-05-26T20:25:19.574610Z"
        },
        "id": "Lb0sxYXUwcRY"
      },
      "outputs": [],
      "execution_count": 2
    },
    {
      "cell_type": "code",
      "source": [
        "device = torch.device(\"cuda\") if torch.cuda.is_available() else torch.device(\"cpu\")\n",
        "print('Device running:', device)"
      ],
      "metadata": {
        "_uuid": "43d958cf-562d-4fb8-9670-43075fd82174",
        "_cell_guid": "bda30f3b-5c85-404f-8cdc-861e65b7ae69",
        "trusted": true,
        "jupyter": {
          "outputs_hidden": false
        },
        "execution": {
          "iopub.status.busy": "2025-05-26T20:25:19.576562Z",
          "iopub.execute_input": "2025-05-26T20:25:19.576994Z",
          "iopub.status.idle": "2025-05-26T20:25:19.654026Z",
          "shell.execute_reply.started": "2025-05-26T20:25:19.576972Z",
          "shell.execute_reply": "2025-05-26T20:25:19.653204Z"
        },
        "id": "Hp50B_2iwcRZ",
        "outputId": "f4cb21b4-9f11-4821-e24a-062ef6e3eea9",
        "colab": {
          "base_uri": "https://localhost:8080/"
        }
      },
      "outputs": [
        {
          "output_type": "stream",
          "name": "stdout",
          "text": [
            "Device running: cuda\n"
          ]
        }
      ],
      "execution_count": 3
    },
    {
      "cell_type": "code",
      "source": [
        "class SineLayer(nn.Module):\n",
        "    def __init__(self, in_features, out_features, bias=True, is_first=False, omega_0=30):\n",
        "        super().__init__()\n",
        "        self.omega_0 = omega_0\n",
        "        self.is_first = is_first\n",
        "        # self.enable_dropout = enable_dropout\n",
        "        # self.dropout_prob = dropout_prob\n",
        "        self.in_features = in_features\n",
        "        # if enable_dropout:\n",
        "        #     if not self.is_first:\n",
        "        #         self.dropout = nn.Dropout(dropout_prob)\n",
        "        self.linear = nn.Linear(in_features, out_features, bias=bias)\n",
        "\n",
        "        self.init_weights()\n",
        "\n",
        "    def init_weights(self):\n",
        "        with torch.no_grad():\n",
        "            if self.is_first:\n",
        "                self.linear.weight.uniform_(-1 / self.in_features,\n",
        "                                             1 / self.in_features)\n",
        "            else:\n",
        "                self.linear.weight.uniform_(-np.sqrt(6 / self.in_features) / self.omega_0,\n",
        "                                             np.sqrt(6 / self.in_features) / self.omega_0)\n",
        "\n",
        "\n",
        "    def forward(self, x):\n",
        "        x = self.linear(x)\n",
        "        # if self.enable_dropout:\n",
        "        #     if not self.is_first:\n",
        "        #         x = self.dropout(x)\n",
        "        return torch.sin(self.omega_0 * x)"
      ],
      "metadata": {
        "_uuid": "c6d00f8a-3e62-40d1-81e8-b30fd44e994f",
        "_cell_guid": "47639dbe-7c29-4716-ad12-c245edbd4925",
        "trusted": true,
        "jupyter": {
          "outputs_hidden": false
        },
        "execution": {
          "iopub.status.busy": "2025-05-26T20:25:19.654942Z",
          "iopub.execute_input": "2025-05-26T20:25:19.655223Z",
          "iopub.status.idle": "2025-05-26T20:25:19.667030Z",
          "shell.execute_reply.started": "2025-05-26T20:25:19.655199Z",
          "shell.execute_reply": "2025-05-26T20:25:19.666295Z"
        },
        "id": "i9QFU8gYwcRa"
      },
      "outputs": [],
      "execution_count": 4
    },
    {
      "cell_type": "code",
      "source": [
        "class ResidualSineLayer(nn.Module):\n",
        "    def __init__(self, features, bias=True, ave_first=False, ave_second=False, omega_0=30):\n",
        "        super().__init__()\n",
        "        self.omega_0 = omega_0\n",
        "        # self.enable_dropout = enable_dropout\n",
        "        # self.dropout_prob = dropout_prob\n",
        "        self.features = features\n",
        "        # if enable_dropout:\n",
        "        #     self.dropout_1 = nn.Dropout(dropout_prob)\n",
        "        self.linear_1 = nn.Linear(features, features, bias=bias)\n",
        "        self.linear_2 = nn.Linear(features, features, bias=bias)\n",
        "        self.weight_1 = .5 if ave_first else 1\n",
        "        self.weight_2 = .5 if ave_second else 1\n",
        "\n",
        "        self.init_weights()\n",
        "\n",
        "\n",
        "    def init_weights(self):\n",
        "        with torch.no_grad():\n",
        "            self.linear_1.weight.uniform_(-np.sqrt(6 / self.features) / self.omega_0,\n",
        "                                           np.sqrt(6 / self.features) / self.omega_0)\n",
        "            self.linear_2.weight.uniform_(-np.sqrt(6 / self.features) / self.omega_0,\n",
        "                                           np.sqrt(6 / self.features) / self.omega_0)\n",
        "\n",
        "    def forward(self, input):\n",
        "        linear_1 = self.linear_1(self.weight_1*input)\n",
        "        # if self.enable_dropout:\n",
        "        #     linear_1 = self.dropout_1(linear_1)\n",
        "        sine_1 = torch.sin(self.omega_0 * linear_1)\n",
        "        sine_2 = torch.sin(self.omega_0 * self.linear_2(sine_1))\n",
        "        return self.weight_2*(input+sine_2)"
      ],
      "metadata": {
        "_uuid": "286fbfd2-ba2c-4fbe-8ac6-cfebd4a21e55",
        "_cell_guid": "ef7cdfa6-ccb1-405d-a306-c83170e479b4",
        "trusted": true,
        "jupyter": {
          "outputs_hidden": false
        },
        "execution": {
          "iopub.status.busy": "2025-05-26T20:25:19.667767Z",
          "iopub.execute_input": "2025-05-26T20:25:19.668045Z",
          "iopub.status.idle": "2025-05-26T20:25:19.679335Z",
          "shell.execute_reply.started": "2025-05-26T20:25:19.668025Z",
          "shell.execute_reply": "2025-05-26T20:25:19.678679Z"
        },
        "id": "04To9WrGwcRa"
      },
      "outputs": [],
      "execution_count": 5
    },
    {
      "cell_type": "code",
      "source": [
        "class MyResidualSirenNet(nn.Module):\n",
        "    def __init__(self, obj):\n",
        "        super(MyResidualSirenNet, self).__init__()\n",
        "        # self.enable_dropout = obj['enable_dropout']\n",
        "        # self.dropout_prob = obj['dropout_prob']\n",
        "        self.Omega_0=30\n",
        "        self.n_layers = obj['n_layers']\n",
        "        self.input_dim = obj['dim']\n",
        "        self.output_dim = obj['total_vars']\n",
        "        self.neurons_per_layer = obj['n_neurons']\n",
        "        self.layers = [self.input_dim]\n",
        "        for i in range(self.n_layers-1):\n",
        "            self.layers.append(self.neurons_per_layer)\n",
        "        self.layers.append(self.output_dim)\n",
        "        self.net_layers = nn.ModuleList()\n",
        "        for idx in np.arange(self.n_layers):\n",
        "            layer_in = self.layers[idx]\n",
        "            layer_out = self.layers[idx+1]\n",
        "            ## if not the final layer\n",
        "            if idx != self.n_layers-1:\n",
        "                ## if first layer\n",
        "                if idx==0:\n",
        "                    self.net_layers.append(SineLayer(layer_in,layer_out,bias=True,is_first=idx==0))\n",
        "                ## if an intermdeiate layer\n",
        "                else:\n",
        "                    self.net_layers.append(ResidualSineLayer(layer_in,bias=True,ave_first=idx>1,ave_second=idx==(self.n_layers-2)))\n",
        "            ## if final layer\n",
        "            else:\n",
        "                final_linear = nn.Linear(layer_in,layer_out)\n",
        "                ## initialize weights for the final layer\n",
        "                with torch.no_grad():\n",
        "                    final_linear.weight.uniform_(-np.sqrt(6 / (layer_in)) / self.Omega_0, np.sqrt(6 / (layer_in)) / self.Omega_0)\n",
        "                self.net_layers.append(final_linear)\n",
        "\n",
        "    def forward(self,x):\n",
        "        for net_layer in self.net_layers:\n",
        "            x = net_layer(x)\n",
        "        return x"
      ],
      "metadata": {
        "_uuid": "e1400ad9-b3ed-49fc-81e0-929816a0aaf2",
        "_cell_guid": "807361ca-2c71-4799-83d0-2da9ccf9fac0",
        "trusted": true,
        "jupyter": {
          "outputs_hidden": false
        },
        "execution": {
          "iopub.status.busy": "2025-05-26T20:25:19.680067Z",
          "iopub.execute_input": "2025-05-26T20:25:19.680289Z",
          "iopub.status.idle": "2025-05-26T20:25:19.693684Z",
          "shell.execute_reply.started": "2025-05-26T20:25:19.680270Z",
          "shell.execute_reply": "2025-05-26T20:25:19.693049Z"
        },
        "id": "w4RDAOQLwcRa"
      },
      "outputs": [],
      "execution_count": 6
    },
    {
      "cell_type": "code",
      "source": [
        "def size_of_network(n_layers, n_neurons, d_in, d_out, is_residual = True):\n",
        "    # Adding input layer\n",
        "    layers = [d_in]\n",
        "    # layers = [3]\n",
        "\n",
        "    # Adding hidden layers\n",
        "    layers.extend([n_neurons]*n_layers)\n",
        "    # layers = [3, 5, 5, 5]\n",
        "\n",
        "    # Adding output layer\n",
        "    layers.append(d_out)\n",
        "    # layers = [3, 5, 5, 5, 1]\n",
        "\n",
        "    # Number of steps\n",
        "    n_layers = len(layers)-1\n",
        "    # n_layers = 5 - 1 = 4\n",
        "\n",
        "    n_params = 0\n",
        "\n",
        "    # np.arange(4) = [0, 1, 2, 3]\n",
        "    for ndx in np.arange(n_layers):\n",
        "\n",
        "        # number of neurons in below layer\n",
        "        layer_in = layers[ndx]\n",
        "\n",
        "        # number of neurons in above layer\n",
        "        layer_out = layers[ndx+1]\n",
        "\n",
        "        # max number of neurons in both the layer\n",
        "        og_layer_in = max(layer_in,layer_out)\n",
        "\n",
        "        # if lower layer is the input layer\n",
        "        # or the upper layer is the output layer\n",
        "        if ndx==0 or ndx==(n_layers-1):\n",
        "            # Adding weight corresponding to every neuron for every input neuron\n",
        "            # Adding bias for every neuron in the upper layer\n",
        "            n_params += ((layer_in+1)*layer_out)\n",
        "\n",
        "        else:\n",
        "\n",
        "            # If the layer is residual then proceed as follows as there will be more weights if residual layer is included\n",
        "            if is_residual:\n",
        "                # doubt in the following two lines\n",
        "                n_params += (layer_in*og_layer_in)+og_layer_in\n",
        "                n_params += (og_layer_in*layer_out)+layer_out\n",
        "\n",
        "            # if the layer is non residual then simply add number of weights and biases as follows\n",
        "            else:\n",
        "                n_params += ((layer_in+1)*layer_out)\n",
        "            #\n",
        "        #\n",
        "    #\n",
        "\n",
        "    return n_params"
      ],
      "metadata": {
        "_uuid": "49e23bf9-3de6-417b-8de1-53aaf02fd323",
        "_cell_guid": "7342b7cd-612f-4c56-ad94-ecd81203519a",
        "trusted": true,
        "jupyter": {
          "outputs_hidden": false
        },
        "execution": {
          "iopub.status.busy": "2025-05-26T20:25:19.695847Z",
          "iopub.execute_input": "2025-05-26T20:25:19.696059Z",
          "iopub.status.idle": "2025-05-26T20:25:19.707241Z",
          "shell.execute_reply.started": "2025-05-26T20:25:19.696041Z",
          "shell.execute_reply": "2025-05-26T20:25:19.706562Z"
        },
        "id": "HZ9pJqTBwcRa"
      },
      "outputs": [],
      "execution_count": 7
    },
    {
      "cell_type": "code",
      "source": [
        "def compute_PSNR(arrgt,arr_recon):\n",
        "    diff = arrgt - arr_recon\n",
        "    sqd_max_diff = (np.max(arrgt)-np.min(arrgt))**2\n",
        "    snr = 10*np.log10(sqd_max_diff/np.mean(diff**2))\n",
        "    return snr"
      ],
      "metadata": {
        "_uuid": "4bee2b5f-d501-4d1c-b226-410b2624c2d5",
        "_cell_guid": "c8d04a55-6de3-4520-9cf7-45a568420b31",
        "trusted": true,
        "jupyter": {
          "outputs_hidden": false
        },
        "execution": {
          "iopub.status.busy": "2025-05-26T20:25:19.708470Z",
          "iopub.execute_input": "2025-05-26T20:25:19.708697Z",
          "iopub.status.idle": "2025-05-26T20:25:19.720894Z",
          "shell.execute_reply.started": "2025-05-26T20:25:19.708678Z",
          "shell.execute_reply": "2025-05-26T20:25:19.720185Z"
        },
        "id": "wiLr4DcEwcRb"
      },
      "outputs": [],
      "execution_count": 8
    },
    {
      "cell_type": "code",
      "source": [
        "def srs(numOfPoints, valid_pts, percentage, isMaskPresent, mask_array):\n",
        "\n",
        "    # getting total number of sampled points\n",
        "    numberOfSampledPoints = int((valid_pts/100) * percentage)\n",
        "\n",
        "    # storing corner indices in indices variable\n",
        "    indices = set()\n",
        "\n",
        "    # As long as we don't get the required amount of sample points keep finding the random numbers\n",
        "    while(len(indices) < numberOfSampledPoints):\n",
        "        rp = random.randint(0, numOfPoints-1)\n",
        "        if isMaskPresent and mask_array[rp] == 0:\n",
        "            continue\n",
        "        indices.add(rp)\n",
        "\n",
        "    # return indices\n",
        "    return indices"
      ],
      "metadata": {
        "_uuid": "9b219fbe-1596-4e3b-a0a7-6eb88db2f52d",
        "_cell_guid": "415f4118-71de-4504-b39f-a7bd40cdcc02",
        "trusted": true,
        "jupyter": {
          "outputs_hidden": false
        },
        "execution": {
          "iopub.status.busy": "2025-05-26T20:25:19.721825Z",
          "iopub.execute_input": "2025-05-26T20:25:19.722096Z",
          "iopub.status.idle": "2025-05-26T20:25:19.732038Z",
          "shell.execute_reply.started": "2025-05-26T20:25:19.722064Z",
          "shell.execute_reply": "2025-05-26T20:25:19.731249Z"
        },
        "id": "NvTyrLl3wcRb"
      },
      "outputs": [],
      "execution_count": 9
    },
    {
      "cell_type": "code",
      "source": [
        "def findMultiVariatePSNR(var_name, total_vars, actual, pred):\n",
        "    # print('Printing PSNR')\n",
        "    tot = 0\n",
        "    psnr_list = []\n",
        "    for j in range(total_vars):\n",
        "        psnr = compute_PSNR(actual[:,j], pred[:,j])\n",
        "        psnr_list.append(psnr)\n",
        "        tot += psnr\n",
        "        print(var_name[j], ' PSNR:', psnr)\n",
        "    avg_psnr = tot/total_vars\n",
        "    print('\\nAverage psnr : ', avg_psnr)\n",
        "     #this function is calculating the psnr of final epoch (or whenever it is called) of each variable and then averaging it\n",
        "     #Thus individual epochs psnr is not calculated\n",
        "\n",
        "    return psnr_list, avg_psnr"
      ],
      "metadata": {
        "_uuid": "964befc2-020d-46d4-bd1b-ef061a65b9e8",
        "_cell_guid": "c20e48d5-ebad-408b-b564-627ba81d02f9",
        "trusted": true,
        "jupyter": {
          "outputs_hidden": false
        },
        "execution": {
          "iopub.status.busy": "2025-05-26T20:25:19.732800Z",
          "iopub.execute_input": "2025-05-26T20:25:19.733052Z",
          "iopub.status.idle": "2025-05-26T20:25:19.745670Z",
          "shell.execute_reply.started": "2025-05-26T20:25:19.733032Z",
          "shell.execute_reply": "2025-05-26T20:25:19.744868Z"
        },
        "id": "hgSl1UKEwcRb"
      },
      "outputs": [],
      "execution_count": 10
    },
    {
      "cell_type": "code",
      "source": [
        "def compute_rmse(actual, predicted):\n",
        "    mse = np.mean((actual - predicted) ** 2)\n",
        "    return np.sqrt(mse)\n",
        "\n",
        "def denormalizeValue(total_vars, to, ref):\n",
        "    to_arr = np.array(to)\n",
        "    for i in range(total_vars):\n",
        "        min_data = np.min(ref[:, i])\n",
        "        max_data = np.max(ref[:, i])\n",
        "        to_arr[:, i] = (((to[:, i] * 0.5) + 0.5) * (max_data - min_data)) + min_data\n",
        "    return to_arr"
      ],
      "metadata": {
        "_uuid": "2face64a-1559-415e-9527-5a581fab1db5",
        "_cell_guid": "716ccaed-b6c8-4cc4-83a6-643495093c02",
        "trusted": true,
        "jupyter": {
          "outputs_hidden": false
        },
        "execution": {
          "iopub.status.busy": "2025-05-26T20:25:19.746505Z",
          "iopub.execute_input": "2025-05-26T20:25:19.746788Z",
          "iopub.status.idle": "2025-05-26T20:25:19.755298Z",
          "shell.execute_reply.started": "2025-05-26T20:25:19.746760Z",
          "shell.execute_reply": "2025-05-26T20:25:19.754436Z"
        },
        "id": "PzHBvMp_wcRb"
      },
      "outputs": [],
      "execution_count": 11
    },
    {
      "cell_type": "code",
      "source": [
        "def makeVTI(data, val, n_predictions, n_pts, total_vars, var_name, dim, isMaskPresent, mask_arr, vti_path, vti_name, normalizedVersion = False):\n",
        "    nn_predictions = denormalizeValue(total_vars, n_predictions, val) if not normalizedVersion else n_predictions\n",
        "    writer = vtkXMLImageDataWriter()\n",
        "    writer.SetFileName(vti_path + vti_name)\n",
        "    img = vtkImageData()\n",
        "    img.CopyStructure(data)\n",
        "    if not isMaskPresent:\n",
        "        for i in range(total_vars):\n",
        "            f = var_name[i]\n",
        "            temp = nn_predictions[:, i]\n",
        "            arr = vtkFloatArray()\n",
        "            for j in range(n_pts):\n",
        "                arr.InsertNextValue(temp[j])\n",
        "            arr.SetName(f)\n",
        "            img.GetPointData().AddArray(arr)\n",
        "        # print(img)\n",
        "        writer.SetInputData(img)\n",
        "        writer.Write()\n",
        "        print(f'Vti File written successfully at {vti_path}{vti_name}')\n",
        "    else:\n",
        "        for i in range(total_vars):\n",
        "            f = var_name[i]\n",
        "            temp = nn_predictions[:, i]\n",
        "            idx = 0\n",
        "            arr = vtkFloatArray()\n",
        "            for j in range(n_pts):\n",
        "                if(mask_arr[j] == 1):\n",
        "                    arr.InsertNextValue(temp[idx])\n",
        "                    idx += 1\n",
        "                else:\n",
        "                    arr.InsertNextValue(0.0)\n",
        "            arr.SetName('p_' + f)\n",
        "            data.GetPointData().AddArray(arr)\n",
        "        # print(data)\n",
        "        writer.SetInputData(data)\n",
        "        writer.Write()\n",
        "        print(f'Vti File written successfully at {vti_path}{vti_name}')"
      ],
      "metadata": {
        "_uuid": "88d4128a-9484-48bb-b8cd-21abe4801eb1",
        "_cell_guid": "4d173df2-a1ab-442d-8eeb-bd0f1e71b9ee",
        "trusted": true,
        "jupyter": {
          "outputs_hidden": false
        },
        "execution": {
          "iopub.status.busy": "2025-05-26T20:25:19.756183Z",
          "iopub.execute_input": "2025-05-26T20:25:19.756430Z",
          "iopub.status.idle": "2025-05-26T20:25:19.768524Z",
          "shell.execute_reply.started": "2025-05-26T20:25:19.756410Z",
          "shell.execute_reply": "2025-05-26T20:25:19.767693Z"
        },
        "id": "hvAcGR8JwcRb"
      },
      "outputs": [],
      "execution_count": 12
    },
    {
      "cell_type": "code",
      "source": [
        "def getImageData(actual_img, val, n_pts, var_name, isMaskPresent, mask_arr):\n",
        "    img = vtkImageData()\n",
        "    img.CopyStructure(actual_img)\n",
        "    # if isMaskPresent:\n",
        "    #     img.DeepCopy(actual_img)\n",
        "    # img.SetDimensions(dim)\n",
        "    # img.SetOrigin(actual_img.GetOrigin())\n",
        "    # img.SetSpacing(actual_img.GetSpacing())\n",
        "    if not isMaskPresent:\n",
        "        f = var_name\n",
        "        data = val\n",
        "        arr = vtkFloatArray()\n",
        "        for j in range(n_pts):\n",
        "            arr.InsertNextValue(data[j])\n",
        "        arr.SetName(f)\n",
        "        img.GetPointData().SetScalars(arr)\n",
        "    else:\n",
        "        f = var_name\n",
        "        data = val\n",
        "        idx = 0\n",
        "        arr = vtkFloatArray()\n",
        "        for j in range(n_pts):\n",
        "            if(mask_arr[j] == 1):\n",
        "                arr.InsertNextValue(data[idx])\n",
        "                idx += 1\n",
        "            else:\n",
        "                arr.InsertNextValue(0.0)\n",
        "        arr.SetName(f)\n",
        "        img.GetPointData().SetScalars(arr)\n",
        "    return img"
      ],
      "metadata": {
        "_uuid": "99a2cbb5-4737-4a6d-b398-c37e117de5a7",
        "_cell_guid": "7042e60f-eafc-446d-87ab-ec4298dd9276",
        "trusted": true,
        "jupyter": {
          "outputs_hidden": false
        },
        "execution": {
          "iopub.status.busy": "2025-05-26T20:25:19.769381Z",
          "iopub.execute_input": "2025-05-26T20:25:19.769639Z",
          "iopub.status.idle": "2025-05-26T20:25:19.780625Z",
          "shell.execute_reply.started": "2025-05-26T20:25:19.769609Z",
          "shell.execute_reply": "2025-05-26T20:25:19.779903Z"
        },
        "id": "JL2vevPkwcRb"
      },
      "outputs": [],
      "execution_count": 13
    },
    {
      "cell_type": "code",
      "source": [
        "from argparse import Namespace\n",
        "\n",
        "# Parameters (simulating argparse in a Jupyter Notebook)\n",
        "args = Namespace(\n",
        "    n_neurons=320,\n",
        "    n_layers=6,\n",
        "    epochs=200,  # Required argument: Set the number of epochs\n",
        "    batchsize=512,\n",
        "    lr=0.00005,\n",
        "    no_decay=False,\n",
        "    decay_rate=0.8,\n",
        "    decay_at_interval=True,\n",
        "    decay_interval=15,\n",
        "    datapath='/content/teardrop_gmm.vti',  # Required: Set the path to your data\n",
        "    outpath='./models/',\n",
        "    exp_path='../logs/',\n",
        "    modified_data_path='./data/',\n",
        "    dataset_name='3d_data',  # Required: Set the dataset name\n",
        "    vti_name='/predicted.vti',  # Required: Name of the dataset\n",
        "    vti_path='./data'\n",
        ")\n",
        "\n",
        "print(args, end='\\n\\n')\n",
        "\n",
        "# Assigning parameters to variables\n",
        "LR = args.lr\n",
        "BATCH_SIZE = args.batchsize\n",
        "decay_rate = args.decay_rate\n",
        "decay_at_equal_interval = args.decay_at_interval\n",
        "\n",
        "decay = not args.no_decay\n",
        "MAX_EPOCH = args.epochs\n",
        "\n",
        "n_neurons = args.n_neurons\n",
        "n_layers = args.n_layers + 2\n",
        "decay_interval = args.decay_interval\n",
        "outpath = args.outpath\n",
        "exp_path = args.exp_path\n",
        "datapath = args.datapath\n",
        "modified_data_path = args.modified_data_path\n",
        "dataset_name = args.dataset_name\n",
        "vti_name = args.vti_name\n",
        "vti_path = args.vti_path\n",
        "\n",
        "# Displaying the final configuration\n",
        "print(f\"Learning Rate: {LR}\")\n",
        "print(f\"Batch Size: {BATCH_SIZE}\")\n",
        "print(f\"Decay Rate: {decay_rate}\")\n",
        "print(f\"Max Epochs: {MAX_EPOCH}\")\n",
        "print(f\"Number of Neurons per Layer: {n_neurons}\")\n",
        "print(f\"Number of Layers (including input/output): {n_layers}\")\n",
        "print(f\"Data Path: {datapath}\")\n",
        "print(f\"Output Path: {outpath}\")\n",
        "print(f\"Dataset Name: {dataset_name}\")\n",
        "print(f\"Vti Name: {vti_name}\")"
      ],
      "metadata": {
        "_uuid": "07692dd4-4d61-4352-8b23-bff56509856c",
        "_cell_guid": "4204ef20-76e1-416f-b261-20a979ca06e6",
        "trusted": true,
        "jupyter": {
          "outputs_hidden": false
        },
        "execution": {
          "iopub.status.busy": "2025-05-26T20:25:19.781711Z",
          "iopub.execute_input": "2025-05-26T20:25:19.782004Z",
          "iopub.status.idle": "2025-05-26T20:25:19.797158Z",
          "shell.execute_reply.started": "2025-05-26T20:25:19.781976Z",
          "shell.execute_reply": "2025-05-26T20:25:19.796521Z"
        },
        "id": "HGQWcOhdwcRc",
        "outputId": "a6f3e2ee-693b-4bee-fc94-9ada8d4aff9b",
        "colab": {
          "base_uri": "https://localhost:8080/"
        }
      },
      "outputs": [
        {
          "output_type": "stream",
          "name": "stdout",
          "text": [
            "Namespace(n_neurons=320, n_layers=6, epochs=200, batchsize=512, lr=5e-05, no_decay=False, decay_rate=0.8, decay_at_interval=True, decay_interval=15, datapath='/content/teardrop_gmm.vti', outpath='./models/', exp_path='../logs/', modified_data_path='./data/', dataset_name='3d_data', vti_name='/predicted.vti', vti_path='./data')\n",
            "\n",
            "Learning Rate: 5e-05\n",
            "Batch Size: 512\n",
            "Decay Rate: 0.8\n",
            "Max Epochs: 200\n",
            "Number of Neurons per Layer: 320\n",
            "Number of Layers (including input/output): 8\n",
            "Data Path: /content/teardrop_gmm.vti\n",
            "Output Path: ./models/\n",
            "Dataset Name: 3d_data\n",
            "Vti Name: /predicted.vti\n"
          ]
        }
      ],
      "execution_count": 14
    },
    {
      "cell_type": "code",
      "source": [
        "# Variable Initialization\n",
        "var_name = []\n",
        "total_vars = None  # Number of variables\n",
        "univariate = None  # True if dataset has one variable, else False\n",
        "group_size = 5000  # Group size during testing\n",
        "\n",
        "\n",
        "# Constructing the log file name\n",
        "log_file = (\n",
        "    f'train_{dataset_name}_{n_layers-2}rb_{n_neurons}n_{BATCH_SIZE}bs_'\n",
        "    f'{LR}lr_{decay}decay_{decay_rate}dr_'\n",
        "    f'{\"decayingAtInterval\" + str(decay_interval) if decay_at_equal_interval else \"decayingWhenLossIncr\"}'\n",
        ")\n",
        "\n",
        "print(log_file)"
      ],
      "metadata": {
        "_uuid": "844184e9-6479-45d0-8d31-b1d3a9a4a116",
        "_cell_guid": "cd516584-ec76-4358-888f-79e1116c82d2",
        "trusted": true,
        "jupyter": {
          "outputs_hidden": false
        },
        "execution": {
          "iopub.status.busy": "2025-05-26T20:25:19.797890Z",
          "iopub.execute_input": "2025-05-26T20:25:19.798155Z",
          "iopub.status.idle": "2025-05-26T20:25:19.810981Z",
          "shell.execute_reply.started": "2025-05-26T20:25:19.798129Z",
          "shell.execute_reply": "2025-05-26T20:25:19.810268Z"
        },
        "id": "i7uThS_rwcRc",
        "outputId": "9292fd7e-c24e-4d3e-9213-aa5c8d0fe925",
        "colab": {
          "base_uri": "https://localhost:8080/"
        }
      },
      "outputs": [
        {
          "output_type": "stream",
          "name": "stdout",
          "text": [
            "train_3d_data_6rb_320n_512bs_5e-05lr_Truedecay_0.8dr_decayingAtInterval15\n"
          ]
        }
      ],
      "execution_count": 15
    },
    {
      "cell_type": "code",
      "source": [
        "n_pts = None  # Number of points in the dataset\n",
        "n_dim = None  # Dimensionality of the data\n",
        "dim = None  # Other dimension-specific information\n",
        "\n",
        "print(\"Decay:\", decay)\n",
        "print(f'Extracting variables from path: {datapath}', end=\"\\n\\n\")\n",
        "\n",
        "# Placeholder for data\n",
        "data_array = []\n",
        "scalar_data = None"
      ],
      "metadata": {
        "_uuid": "bc8c0631-eaaf-4af9-acb9-35bd7467277a",
        "_cell_guid": "c45f69dd-0524-4855-a64e-801e6bfb5765",
        "trusted": true,
        "jupyter": {
          "outputs_hidden": false
        },
        "execution": {
          "iopub.status.busy": "2025-05-26T20:25:19.811760Z",
          "iopub.execute_input": "2025-05-26T20:25:19.812043Z",
          "iopub.status.idle": "2025-05-26T20:25:19.825096Z",
          "shell.execute_reply.started": "2025-05-26T20:25:19.812017Z",
          "shell.execute_reply": "2025-05-26T20:25:19.824332Z"
        },
        "id": "FcDJgDH_wcRc",
        "outputId": "a99dd967-2ef7-4d8e-e0ad-58d89ab22eb7",
        "colab": {
          "base_uri": "https://localhost:8080/"
        }
      },
      "outputs": [
        {
          "output_type": "stream",
          "name": "stdout",
          "text": [
            "Decay: True\n",
            "Extracting variables from path: /content/teardrop_gmm.vti\n",
            "\n"
          ]
        }
      ],
      "execution_count": 16
    },
    {
      "cell_type": "code",
      "source": [
        "# # Reading values from .vti files\n",
        "# reader = vtk.vtkXMLImageDataReader()\n",
        "# reader.SetFileName(datapath)\n",
        "# reader.Update()\n",
        "\n",
        "# data = reader.GetOutput()\n",
        "# scalar_data = data\n",
        "# pdata = data.GetPointData()\n",
        "# n_pts = data.GetNumberOfPoints()\n",
        "# dim = data.GetDimensions()\n",
        "# n_dim = len(dim)\n",
        "# total_arr = pdata.GetNumberOfArrays()\n",
        "\n",
        "# print(\"n_pts:\", n_pts, \"dim:\", dim, \"n_dim:\", n_dim, \"total_arr:\", total_arr)\n",
        "\n",
        "# mask_arr = []\n",
        "# valid_pts = 0\n",
        "# var_name = []\n",
        "# data_array = []\n",
        "\n",
        "# # Extracting data from the .vti file\n",
        "# for i in range(total_arr):\n",
        "#     a_name = pdata.GetArrayName(i)\n",
        "#     if a_name in ['vtkValidPointMask', 'Swirl']:\n",
        "#         continue\n",
        "\n",
        "#     cur_arr = pdata.GetArray(a_name)\n",
        "#     n_components = cur_arr.GetNumberOfComponents()\n",
        "\n",
        "#     if n_components == 1:\n",
        "#         var_name.append(a_name)\n",
        "#         data_array.append(vtk_to_numpy(cur_arr))\n",
        "#     else:\n",
        "#         component_names = [f\"{a_name}_{c}\" for c in ['x', 'y', 'z'][:n_components]]\n",
        "#         var_name.extend(component_names)\n",
        "#         for c in range(n_components):\n",
        "#             c_data = [cur_arr.GetComponent(j, c) for j in range(n_pts)]\n",
        "#             data_array.append(np.array(c_data))\n",
        "\n",
        "# valid_pts = n_pts  # Assume all points are valid for simplicity\n",
        "# total_vars = len(var_name)\n",
        "# univariate = total_vars == 1\n",
        "\n",
        "# # Prepare numpy arrays for coordinates and variable values\n",
        "# cord = np.zeros((valid_pts, n_dim))\n",
        "# val = np.zeros((valid_pts, total_vars))\n",
        "\n",
        "# # Store data in numpy arrays\n",
        "# for i in range(n_pts):\n",
        "#     pt = scalar_data.GetPoint(i)\n",
        "#     cord[i, :] = pt\n",
        "#     val[i, :] = [arr[i] for arr in data_array]\n",
        "\n",
        "# # Display final information\n",
        "# print(\"Total Variables:\", total_vars)\n",
        "# print(\"Univariate:\", univariate)\n",
        "# print(\"Coordinates Shape:\", cord.shape)\n",
        "# print(\"Values Shape:\", val.shape)\n",
        "\n",
        "# Reading values from .vti files\n",
        "reader = vtk.vtkXMLImageDataReader()\n",
        "reader.SetFileName(datapath)\n",
        "reader.Update()\n",
        "\n",
        "data = reader.GetOutput()\n",
        "scalar_data = data\n",
        "pdata = data.GetPointData()\n",
        "n_pts = data.GetNumberOfPoints()\n",
        "dim = data.GetDimensions()\n",
        "n_dim = len(dim)\n",
        "total_arr = pdata.GetNumberOfArrays()\n",
        "\n",
        "print(\"n_pts:\", n_pts, \"dim:\", dim, \"n_dim:\", n_dim, \"total_arr:\", total_arr)\n",
        "\n",
        "var_name = []\n",
        "data_array = []\n",
        "\n",
        "# Extracting data from the .vti file\n",
        "for i in range(total_arr):\n",
        "    a_name = pdata.GetArrayName(i)\n",
        "\n",
        "    cur_arr = pdata.GetArray(a_name)\n",
        "    n_components = cur_arr.GetNumberOfComponents()\n",
        "\n",
        "    if n_components == 1:\n",
        "        var_name.append(a_name)\n",
        "        data_array.append(vtk_to_numpy(cur_arr))\n",
        "    else:\n",
        "        component_names = [f\"{a_name}_{c}\" for c in ['x', 'y', 'z'][:n_components]]\n",
        "        var_name.extend(component_names)\n",
        "        for c in range(n_components):\n",
        "            c_data = [cur_arr.GetComponent(j, c) for j in range(n_pts)]\n",
        "            data_array.append(np.array(c_data))\n",
        "\n",
        "total_vars = len(var_name)\n",
        "univariate = total_vars == 1\n",
        "\n",
        "# Prepare numpy arrays for coordinates and variable values\n",
        "cord = np.zeros((n_pts, n_dim))\n",
        "val = np.zeros((n_pts, total_vars))\n",
        "\n",
        "# Store data in numpy arrays\n",
        "for i in range(n_pts):\n",
        "    pt = scalar_data.GetPoint(i)\n",
        "    cord[i, :] = pt\n",
        "    val[i, :] = [arr[i] for arr in data_array]\n",
        "\n",
        "# Display final information\n",
        "print(\"Total Variables:\", total_vars)\n",
        "print(\"Univariate:\", univariate)\n",
        "print(\"Coordinates Shape:\", cord.shape)\n",
        "print(\"Values Shape:\", val.shape)"
      ],
      "metadata": {
        "_uuid": "01428998-749b-433d-8d00-0ad9ac906055",
        "_cell_guid": "2f13ab5d-71b7-4829-8d28-4a08f4f9a1cf",
        "trusted": true,
        "jupyter": {
          "outputs_hidden": false
        },
        "execution": {
          "iopub.status.busy": "2025-05-26T20:25:19.825827Z",
          "iopub.execute_input": "2025-05-26T20:25:19.826013Z",
          "iopub.status.idle": "2025-05-26T20:25:21.280626Z",
          "shell.execute_reply.started": "2025-05-26T20:25:19.825996Z",
          "shell.execute_reply": "2025-05-26T20:25:21.279633Z"
        },
        "id": "r730pWmbwcRc",
        "outputId": "216d6f0e-cced-4e76-c83b-a8e5065fa26f",
        "colab": {
          "base_uri": "https://localhost:8080/"
        }
      },
      "outputs": [
        {
          "output_type": "stream",
          "name": "stdout",
          "text": [
            "n_pts: 262144 dim: (64, 64, 64) n_dim: 3 total_arr: 9\n",
            "Total Variables: 9\n",
            "Univariate: False\n",
            "Coordinates Shape: (262144, 3)\n",
            "Values Shape: (262144, 9)\n"
          ]
        }
      ],
      "execution_count": 17
    },
    {
      "cell_type": "code",
      "source": [
        "# # Ensure modified data path exists\n",
        "# if not os.path.exists(modified_data_path):\n",
        "#     os.mkdir(modified_data_path)\n",
        "\n",
        "# Save raw coordinates and values\n",
        "# np.save(f'{modified_data_path}cord.npy', cord)\n",
        "# np.save(f'{modified_data_path}val.npy', val)\n",
        "\n",
        "# # Create copies of non-normalized data\n",
        "# nn_cord = cord.copy()\n",
        "# nn_val = val.copy()\n",
        "\n",
        "# === Separate Normalization for Values ===\n",
        "# We assume the variable order is:\n",
        "#   - Means: indices 0,1,2\n",
        "#   - Std Devs: indices 3,4,5\n",
        "#   - Weights: indices 6,7,8\n",
        "\n",
        "# # We'll store normalization parameters so that we can invert normalization later.\n",
        "# norm_params = {}\n",
        "# epsilon = 1e-8  # to avoid log(0)\n",
        "\n",
        "# # Normalize Means to [-1,1] using min–max normalization\n",
        "# for i in range(3):\n",
        "#     min_val = np.min(val[:, i])\n",
        "#     max_val = np.max(val[:, i])\n",
        "#     norm_params[var_name[i]] = (min_val, max_val)\n",
        "#     val[:, i] = 2.0 * ((val[:, i] - min_val) / (max_val - min_val) - 0.5)\n",
        "\n",
        "# # Normalize Std Devs: first take log, then min–max to [-1,1]\n",
        "# for i in range(3, 6):\n",
        "#     log_vals = np.log(val[:, i] + epsilon)\n",
        "#     min_val = np.min(log_vals)\n",
        "#     max_val = np.max(log_vals)\n",
        "#     norm_params[var_name[i]] = (min_val, max_val)\n",
        "#     val[:, i] = 2.0 * ((log_vals - min_val) / (max_val - min_val) - 0.5)\n",
        "\n",
        "# # Normalize Weights: take log, then min–max to [-1,1]\n",
        "# for i in range(6, 9):\n",
        "#     log_vals = np.log(val[:, i] + epsilon)\n",
        "#     min_val = np.min(log_vals)\n",
        "#     max_val = np.max(log_vals)\n",
        "#     norm_params[var_name[i]] = (min_val, max_val)\n",
        "#     val[:, i] = 2.0 * ((log_vals - min_val) / (max_val - min_val) - 0.5)\n",
        "\n",
        "# norm_params = {}\n",
        "\n",
        "# Normalize values between -1 and 1\n",
        "for i in range(total_vars):\n",
        "    min_data = np.min(val[:, i])\n",
        "    max_data = np.max(val[:, i])\n",
        "    # norm_params[var_name[i]] = (min_data, max_data)\n",
        "    val[:, i] = 2.0 * ((val[:, i] - min_data) / (max_data - min_data) - 0.5)\n",
        "\n",
        "# Normalize Coordinates to [-1,1]\n",
        "for i in range(n_dim):\n",
        "    # Use (dim[i]-1] so that coordinates go from 0 to dim[i]-1.\n",
        "    cord[:, i] = 2.0 * (cord[:, i] / (dim[i] - 1) - 0.5)\n",
        "\n",
        "# # Normalize coordinates between 0 and 1\n",
        "# for i in range(n_dim):\n",
        "#     cord[:, i] = cord[:, i] / dim[i]\n",
        "\n",
        "\n",
        "# # Save normalized values and coordinates\n",
        "# np.save(f'{modified_data_path}n_cord.npy', cord)\n",
        "# np.save(f'{modified_data_path}n_val.npy', val)\n",
        "n_cord = cord.copy()\n",
        "n_val = val.copy()\n",
        "\n",
        "# # Reload data for verification\n",
        "# n_cord = np.load(f'{modified_data_path}n_cord.npy')\n",
        "# n_val = np.load(f'{modified_data_path}n_val.npy')\n",
        "# cord = np.load(f'{modified_data_path}cord.npy')\n",
        "# val = np.load(f'{modified_data_path}val.npy')\n",
        "\n",
        "# Convert normalized data to PyTorch tensors\n",
        "torch_coords = torch.from_numpy(n_cord)\n",
        "torch_vals = torch.from_numpy(n_val)\n",
        "\n",
        "# Display dataset details\n",
        "print('Dataset Name:', dataset_name)\n",
        "print('Total Variables:', total_vars)\n",
        "print('Variables Name:', var_name, end=\"\\n\\n\")\n",
        "print('Total Points in Data:', n_pts)\n",
        "print('Dimension of the Dataset:', dim)\n",
        "print('Number of Dimensions:', n_dim)\n",
        "print('Coordinate Tensor Shape:', torch_coords.shape)\n",
        "print('Scalar Values Tensor Shape:', torch_vals.shape)\n",
        "\n",
        "print('\\n###### Data setup is complete, now starting training ######\\n')"
      ],
      "metadata": {
        "_uuid": "521f7f9c-9a01-41f9-a149-1d15ff3fd1b8",
        "_cell_guid": "b0cbd8a2-2b80-4d5e-a135-f3c4b8b3c6c2",
        "trusted": true,
        "jupyter": {
          "outputs_hidden": false
        },
        "execution": {
          "iopub.status.busy": "2025-05-26T20:25:21.281683Z",
          "iopub.execute_input": "2025-05-26T20:25:21.282051Z",
          "iopub.status.idle": "2025-05-26T20:25:21.356747Z",
          "shell.execute_reply.started": "2025-05-26T20:25:21.282027Z",
          "shell.execute_reply": "2025-05-26T20:25:21.356094Z"
        },
        "id": "ERmcNQMZwcRc",
        "outputId": "1d6cf981-2294-4c11-b5d2-241f56ecea74",
        "colab": {
          "base_uri": "https://localhost:8080/"
        }
      },
      "outputs": [
        {
          "output_type": "stream",
          "name": "stdout",
          "text": [
            "Dataset Name: 3d_data\n",
            "Total Variables: 9\n",
            "Variables Name: ['GMM_Mean0', 'GMM_Mean1', 'GMM_Mean2', 'GMM_Std0', 'GMM_Std1', 'GMM_Std2', 'GMM_Weight0', 'GMM_Weight1', 'GMM_Weight2']\n",
            "\n",
            "Total Points in Data: 262144\n",
            "Dimension of the Dataset: (64, 64, 64)\n",
            "Number of Dimensions: 3\n",
            "Coordinate Tensor Shape: torch.Size([262144, 3])\n",
            "Scalar Values Tensor Shape: torch.Size([262144, 9])\n",
            "\n",
            "###### Data setup is complete, now starting training ######\n",
            "\n"
          ]
        }
      ],
      "execution_count": 18
    },
    {
      "cell_type": "code",
      "source": [
        "# Prepare the DataLoader\n",
        "train_dataloader = DataLoader(\n",
        "    TensorDataset(torch_coords, torch_vals),\n",
        "    batch_size=BATCH_SIZE,\n",
        "    pin_memory=True,\n",
        "    shuffle=True,\n",
        "    num_workers=4\n",
        ")\n",
        "\n",
        "# Model configuration\n",
        "obj = {\n",
        "    'total_vars': total_vars,\n",
        "    'dim': n_dim,\n",
        "    'n_neurons': n_neurons,\n",
        "    'n_layers': n_layers\n",
        "}\n",
        "\n",
        "# Initialize the model, optimizer, and loss function\n",
        "model = MyResidualSirenNet(obj).to(device)\n",
        "print(model)\n",
        "\n",
        "optimizer = optim.Adam(model.parameters(), lr=LR, betas=(0.9, 0.999))\n",
        "print(optimizer)\n",
        "\n",
        "criterion = nn.MSELoss()\n",
        "print(criterion)\n",
        "\n",
        "# Training configuration summary\n",
        "print('\\nLearning Rate:', LR)\n",
        "print('Max Epochs:', MAX_EPOCH)\n",
        "print('Batch Size:', BATCH_SIZE)\n",
        "print('Number of Hidden Layers:', obj['n_layers'] - 2)\n",
        "print('Number of Neurons per Layer:', obj['n_neurons'])\n",
        "\n",
        "if decay:\n",
        "    print('Decay Rate:', decay_rate)\n",
        "    if decay_at_equal_interval:\n",
        "        print(f'Rate decays every {decay_interval} epochs.')\n",
        "    else:\n",
        "        print('Rate decays when the current epoch loss is greater than the previous epoch loss.')\n",
        "else:\n",
        "    print('No decay!')\n",
        "print()"
      ],
      "metadata": {
        "_uuid": "ec0c651a-5dad-486b-9fb7-1ccbaaf98cda",
        "_cell_guid": "adf3a3b0-29d8-4b33-ad38-babd78b228d1",
        "trusted": true,
        "jupyter": {
          "outputs_hidden": false
        },
        "execution": {
          "iopub.status.busy": "2025-05-26T20:25:21.357490Z",
          "iopub.execute_input": "2025-05-26T20:25:21.357712Z",
          "iopub.status.idle": "2025-05-26T20:25:23.403911Z",
          "shell.execute_reply.started": "2025-05-26T20:25:21.357694Z",
          "shell.execute_reply": "2025-05-26T20:25:23.403094Z"
        },
        "id": "bbSXLtehwcRd",
        "outputId": "b9e5bd19-d66c-4a62-b212-1aa7435bb4d2",
        "colab": {
          "base_uri": "https://localhost:8080/"
        }
      },
      "outputs": [
        {
          "output_type": "stream",
          "name": "stderr",
          "text": [
            "/usr/local/lib/python3.11/dist-packages/torch/utils/data/dataloader.py:624: UserWarning: This DataLoader will create 4 worker processes in total. Our suggested max number of worker in current system is 2, which is smaller than what this DataLoader is going to create. Please be aware that excessive worker creation might get DataLoader running slow or even freeze, lower the worker number to avoid potential slowness/freeze if necessary.\n",
            "  warnings.warn(\n"
          ]
        },
        {
          "output_type": "stream",
          "name": "stdout",
          "text": [
            "MyResidualSirenNet(\n",
            "  (net_layers): ModuleList(\n",
            "    (0): SineLayer(\n",
            "      (linear): Linear(in_features=3, out_features=320, bias=True)\n",
            "    )\n",
            "    (1-6): 6 x ResidualSineLayer(\n",
            "      (linear_1): Linear(in_features=320, out_features=320, bias=True)\n",
            "      (linear_2): Linear(in_features=320, out_features=320, bias=True)\n",
            "    )\n",
            "    (7): Linear(in_features=320, out_features=9, bias=True)\n",
            "  )\n",
            ")\n",
            "Adam (\n",
            "Parameter Group 0\n",
            "    amsgrad: False\n",
            "    betas: (0.9, 0.999)\n",
            "    capturable: False\n",
            "    differentiable: False\n",
            "    eps: 1e-08\n",
            "    foreach: None\n",
            "    fused: None\n",
            "    lr: 5e-05\n",
            "    maximize: False\n",
            "    weight_decay: 0\n",
            ")\n",
            "MSELoss()\n",
            "\n",
            "Learning Rate: 5e-05\n",
            "Max Epochs: 200\n",
            "Batch Size: 512\n",
            "Number of Hidden Layers: 6\n",
            "Number of Neurons per Layer: 320\n",
            "Decay Rate: 0.8\n",
            "Rate decays every 15 epochs.\n",
            "\n"
          ]
        }
      ],
      "execution_count": 19
    },
    {
      "cell_type": "code",
      "source": [
        "train_loss_list = []\n",
        "best_epoch = -1\n",
        "best_loss = 1e8\n",
        "from tqdm import tqdm\n",
        "\n",
        "# Ensure the output path exists\n",
        "if not os.path.exists(outpath):\n",
        "    os.makedirs(outpath)\n",
        "\n",
        "# Training loop\n",
        "for epoch in tqdm(range(MAX_EPOCH)):\n",
        "    model.train()\n",
        "    temp_loss_list = []\n",
        "    start = time.time()\n",
        "\n",
        "    # Batch-by-batch training\n",
        "    for X_train, y_train in train_dataloader:\n",
        "        X_train = X_train.type(torch.float32).to(device)\n",
        "        y_train = y_train.type(torch.float32).to(device)\n",
        "\n",
        "        if univariate:\n",
        "            y_train = y_train.squeeze()\n",
        "\n",
        "        optimizer.zero_grad()\n",
        "        predictions = model(X_train)\n",
        "        predictions = predictions.squeeze()\n",
        "        loss = criterion(predictions, y_train)\n",
        "        loss.backward()\n",
        "        optimizer.step()\n",
        "\n",
        "        # Track batch loss\n",
        "        temp_loss_list.append(loss.detach().cpu().numpy())\n",
        "\n",
        "    # Calculate epoch loss\n",
        "    epoch_loss = np.average(temp_loss_list)\n",
        "\n",
        "    # Learning rate decay\n",
        "    if decay:\n",
        "        if decay_at_equal_interval:\n",
        "            if epoch >= decay_interval and epoch % decay_interval == 0:\n",
        "                for param_group in optimizer.param_groups:\n",
        "                    param_group['lr'] *= decay_rate\n",
        "        # else:\n",
        "        #     if epoch > 0 and epoch_loss > train_loss_list[-1]:\n",
        "        #         for param_group in optimizer.param_groups:\n",
        "        #             param_group['lr'] *= decay_rate\n",
        "        if epoch > 0 and epoch_loss > train_loss_list[-1]:\n",
        "            for param_group in optimizer.param_groups:\n",
        "                param_group['lr'] *= decay_rate\n",
        "\n",
        "    # Track losses and best model\n",
        "    train_loss_list.append(epoch_loss)\n",
        "    if epoch_loss < best_loss:\n",
        "        best_loss = epoch_loss\n",
        "        best_epoch = epoch+1\n",
        "\n",
        "    end = time.time()\n",
        "    print(\n",
        "        f\"Epoch: {epoch + 1}/{MAX_EPOCH} | Train Loss: {train_loss_list[-1]} | \"\n",
        "        f\"Time: {round(end - start, 2)}s ({device}) | LR: {optimizer.param_groups[0]['lr']}\"\n",
        "    )\n",
        "\n",
        "    # Save model at intervals\n",
        "    if (epoch + 1) % 50 == 0:\n",
        "        model_name = (\n",
        "            f'train_{dataset_name}_{epoch + 1}ep_{n_layers - 2}rb_{n_neurons}n_'\n",
        "            f'{BATCH_SIZE}bs_{LR}lr_{decay}decay_{decay_rate}dr_'\n",
        "            f'{\"decayingAtInterval\" + str(decay_interval) if decay_at_equal_interval else \"decayingWhenLossIncr\"}'\n",
        "        )\n",
        "        torch.save(\n",
        "            {\"epoch\": epoch + 1, \"model_state_dict\": model.state_dict()},\n",
        "            os.path.join(outpath, f'{model_name}.pth')\n",
        "        )\n",
        "\n",
        "# Final summary\n",
        "print('\\nEpoch with Least Loss:', best_epoch, '| Loss:', best_loss, '\\n')\n",
        "\n",
        "# Save the final model\n",
        "model_name = f'siren_compressor'\n",
        "torch.save(\n",
        "    {\"epoch\": MAX_EPOCH, \"model_state_dict\": model.state_dict()},\n",
        "    os.path.join(outpath, f'{model_name}.pth')\n",
        ")"
      ],
      "metadata": {
        "_uuid": "16645d61-b423-4e5a-a7d2-5f692a4f6102",
        "_cell_guid": "1c6f398e-b851-4fad-b62e-4080114fa832",
        "trusted": true,
        "jupyter": {
          "outputs_hidden": false
        },
        "execution": {
          "iopub.status.busy": "2025-05-26T20:25:23.404654Z",
          "iopub.execute_input": "2025-05-26T20:25:23.405027Z",
          "iopub.status.idle": "2025-05-26T20:39:04.911778Z",
          "shell.execute_reply.started": "2025-05-26T20:25:23.405000Z",
          "shell.execute_reply": "2025-05-26T20:39:04.910700Z"
        },
        "id": "liD8_V3lwcRd",
        "outputId": "18bf0363-0b64-4dd0-b51f-56a3885d5fbb",
        "colab": {
          "base_uri": "https://localhost:8080/"
        }
      },
      "outputs": [
        {
          "metadata": {
            "tags": null
          },
          "name": "stderr",
          "output_type": "stream",
          "text": [
            "  0%|          | 0/200 [00:00<?, ?it/s]/usr/local/lib/python3.11/dist-packages/torch/utils/data/dataloader.py:624: UserWarning: This DataLoader will create 4 worker processes in total. Our suggested max number of worker in current system is 2, which is smaller than what this DataLoader is going to create. Please be aware that excessive worker creation might get DataLoader running slow or even freeze, lower the worker number to avoid potential slowness/freeze if necessary.\n",
            "  warnings.warn(\n",
            "  0%|          | 1/200 [00:05<19:48,  5.97s/it]"
          ]
        },
        {
          "metadata": {
            "tags": null
          },
          "name": "stdout",
          "output_type": "stream",
          "text": [
            "Epoch: 1/200 | Train Loss: 0.006258015520870686 | Time: 5.97s (cuda) | LR: 5e-05\n"
          ]
        },
        {
          "metadata": {
            "tags": null
          },
          "name": "stderr",
          "output_type": "stream",
          "text": [
            "\r  1%|          | 2/200 [00:13<22:00,  6.67s/it]"
          ]
        },
        {
          "metadata": {
            "tags": null
          },
          "name": "stdout",
          "output_type": "stream",
          "text": [
            "Epoch: 2/200 | Train Loss: 0.002821548143401742 | Time: 7.16s (cuda) | LR: 5e-05\n"
          ]
        },
        {
          "metadata": {
            "tags": null
          },
          "name": "stderr",
          "output_type": "stream",
          "text": [
            "\r  2%|▏         | 3/200 [00:18<20:24,  6.21s/it]"
          ]
        },
        {
          "metadata": {
            "tags": null
          },
          "name": "stdout",
          "output_type": "stream",
          "text": [
            "Epoch: 3/200 | Train Loss: 0.0027350124437361956 | Time: 5.67s (cuda) | LR: 5e-05\n"
          ]
        },
        {
          "metadata": {
            "tags": null
          },
          "name": "stderr",
          "output_type": "stream",
          "text": [
            "\r  2%|▏         | 4/200 [00:24<20:14,  6.19s/it]"
          ]
        },
        {
          "metadata": {
            "tags": null
          },
          "name": "stdout",
          "output_type": "stream",
          "text": [
            "Epoch: 4/200 | Train Loss: 0.0026845987886190414 | Time: 6.16s (cuda) | LR: 5e-05\n"
          ]
        },
        {
          "metadata": {
            "tags": null
          },
          "name": "stderr",
          "output_type": "stream",
          "text": [
            "\r  2%|▎         | 5/200 [00:30<19:00,  5.85s/it]"
          ]
        },
        {
          "metadata": {
            "tags": null
          },
          "name": "stdout",
          "output_type": "stream",
          "text": [
            "Epoch: 5/200 | Train Loss: 0.0026394440792500973 | Time: 5.23s (cuda) | LR: 5e-05\n"
          ]
        },
        {
          "metadata": {
            "tags": null
          },
          "name": "stderr",
          "output_type": "stream",
          "text": [
            "\r  3%|▎         | 6/200 [00:36<19:11,  5.94s/it]"
          ]
        },
        {
          "metadata": {
            "tags": null
          },
          "name": "stdout",
          "output_type": "stream",
          "text": [
            "Epoch: 6/200 | Train Loss: 0.002607470378279686 | Time: 6.1s (cuda) | LR: 5e-05\n"
          ]
        },
        {
          "metadata": {
            "tags": null
          },
          "name": "stderr",
          "output_type": "stream",
          "text": [
            "\r  4%|▎         | 7/200 [00:41<18:24,  5.72s/it]"
          ]
        },
        {
          "metadata": {
            "tags": null
          },
          "name": "stdout",
          "output_type": "stream",
          "text": [
            "Epoch: 7/200 | Train Loss: 0.0025795630645006895 | Time: 5.28s (cuda) | LR: 5e-05\n"
          ]
        },
        {
          "metadata": {
            "tags": null
          },
          "name": "stderr",
          "output_type": "stream",
          "text": [
            "\r  4%|▍         | 8/200 [00:49<20:24,  6.38s/it]"
          ]
        },
        {
          "metadata": {
            "tags": null
          },
          "name": "stdout",
          "output_type": "stream",
          "text": [
            "Epoch: 8/200 | Train Loss: 0.002557348692789674 | Time: 7.77s (cuda) | LR: 5e-05\n"
          ]
        },
        {
          "metadata": {
            "tags": null
          },
          "name": "stderr",
          "output_type": "stream",
          "text": [
            "\r  4%|▍         | 9/200 [00:54<19:19,  6.07s/it]"
          ]
        },
        {
          "metadata": {
            "tags": null
          },
          "name": "stdout",
          "output_type": "stream",
          "text": [
            "Epoch: 9/200 | Train Loss: 0.0025357380509376526 | Time: 5.39s (cuda) | LR: 5e-05\n"
          ]
        },
        {
          "metadata": {
            "tags": null
          },
          "name": "stderr",
          "output_type": "stream",
          "text": [
            "\r  5%|▌         | 10/200 [01:00<19:21,  6.11s/it]"
          ]
        },
        {
          "metadata": {
            "tags": null
          },
          "name": "stdout",
          "output_type": "stream",
          "text": [
            "Epoch: 10/200 | Train Loss: 0.0025349343195557594 | Time: 6.2s (cuda) | LR: 5e-05\n"
          ]
        },
        {
          "metadata": {
            "tags": null
          },
          "name": "stderr",
          "output_type": "stream",
          "text": [
            "\r  6%|▌         | 11/200 [01:06<18:26,  5.86s/it]"
          ]
        },
        {
          "metadata": {
            "tags": null
          },
          "name": "stdout",
          "output_type": "stream",
          "text": [
            "Epoch: 11/200 | Train Loss: 0.0024981333408504725 | Time: 5.28s (cuda) | LR: 5e-05\n"
          ]
        },
        {
          "metadata": {
            "tags": null
          },
          "name": "stderr",
          "output_type": "stream",
          "text": [
            "\r  6%|▌         | 12/200 [01:12<18:36,  5.94s/it]"
          ]
        },
        {
          "metadata": {
            "tags": null
          },
          "name": "stdout",
          "output_type": "stream",
          "text": [
            "Epoch: 12/200 | Train Loss: 0.002481889445334673 | Time: 6.12s (cuda) | LR: 5e-05\n"
          ]
        },
        {
          "metadata": {
            "tags": null
          },
          "name": "stderr",
          "output_type": "stream",
          "text": [
            "\r  6%|▋         | 13/200 [01:17<18:04,  5.80s/it]"
          ]
        },
        {
          "metadata": {
            "tags": null
          },
          "name": "stdout",
          "output_type": "stream",
          "text": [
            "Epoch: 13/200 | Train Loss: 0.0024576946161687374 | Time: 5.48s (cuda) | LR: 5e-05\n"
          ]
        },
        {
          "metadata": {
            "tags": null
          },
          "name": "stderr",
          "output_type": "stream",
          "text": [
            "\r  7%|▋         | 14/200 [01:26<20:55,  6.75s/it]"
          ]
        },
        {
          "metadata": {
            "tags": null
          },
          "name": "stdout",
          "output_type": "stream",
          "text": [
            "Epoch: 14/200 | Train Loss: 0.0024492826778441668 | Time: 8.94s (cuda) | LR: 5e-05\n"
          ]
        },
        {
          "metadata": {
            "tags": null
          },
          "name": "stderr",
          "output_type": "stream",
          "text": [
            "\r  8%|▊         | 15/200 [01:32<19:32,  6.34s/it]"
          ]
        },
        {
          "metadata": {
            "tags": null
          },
          "name": "stdout",
          "output_type": "stream",
          "text": [
            "Epoch: 15/200 | Train Loss: 0.0024502279702574015 | Time: 5.39s (cuda) | LR: 4e-05\n"
          ]
        },
        {
          "metadata": {
            "tags": null
          },
          "name": "stderr",
          "output_type": "stream",
          "text": [
            "\r  8%|▊         | 16/200 [01:38<19:12,  6.26s/it]"
          ]
        },
        {
          "metadata": {
            "tags": null
          },
          "name": "stdout",
          "output_type": "stream",
          "text": [
            "Epoch: 16/200 | Train Loss: 0.0023215250112116337 | Time: 6.09s (cuda) | LR: 3.2000000000000005e-05\n"
          ]
        },
        {
          "metadata": {
            "tags": null
          },
          "name": "stderr",
          "output_type": "stream",
          "text": [
            "\r  8%|▊         | 17/200 [01:43<18:14,  5.98s/it]"
          ]
        },
        {
          "metadata": {
            "tags": null
          },
          "name": "stdout",
          "output_type": "stream",
          "text": [
            "Epoch: 17/200 | Train Loss: 0.0021685766987502575 | Time: 5.32s (cuda) | LR: 3.2000000000000005e-05\n"
          ]
        },
        {
          "metadata": {
            "tags": null
          },
          "name": "stderr",
          "output_type": "stream",
          "text": [
            "\r  9%|▉         | 18/200 [01:49<18:25,  6.08s/it]"
          ]
        },
        {
          "metadata": {
            "tags": null
          },
          "name": "stdout",
          "output_type": "stream",
          "text": [
            "Epoch: 18/200 | Train Loss: 0.002107977634295821 | Time: 6.3s (cuda) | LR: 3.2000000000000005e-05\n"
          ]
        },
        {
          "metadata": {
            "tags": null
          },
          "name": "stderr",
          "output_type": "stream",
          "text": [
            "\r 10%|▉         | 19/200 [01:55<17:42,  5.87s/it]"
          ]
        },
        {
          "metadata": {
            "tags": null
          },
          "name": "stdout",
          "output_type": "stream",
          "text": [
            "Epoch: 19/200 | Train Loss: 0.00207716878503561 | Time: 5.39s (cuda) | LR: 3.2000000000000005e-05\n"
          ]
        },
        {
          "metadata": {
            "tags": null
          },
          "name": "stderr",
          "output_type": "stream",
          "text": [
            "\r 10%|█         | 20/200 [02:00<17:23,  5.79s/it]"
          ]
        },
        {
          "metadata": {
            "tags": null
          },
          "name": "stdout",
          "output_type": "stream",
          "text": [
            "Epoch: 20/200 | Train Loss: 0.0020556370727717876 | Time: 5.61s (cuda) | LR: 3.2000000000000005e-05\n"
          ]
        },
        {
          "metadata": {
            "tags": null
          },
          "name": "stderr",
          "output_type": "stream",
          "text": [
            "\r 10%|█         | 21/200 [02:06<17:19,  5.81s/it]"
          ]
        },
        {
          "metadata": {
            "tags": null
          },
          "name": "stdout",
          "output_type": "stream",
          "text": [
            "Epoch: 21/200 | Train Loss: 0.002042393432930112 | Time: 5.83s (cuda) | LR: 3.2000000000000005e-05\n"
          ]
        },
        {
          "metadata": {
            "tags": null
          },
          "name": "stderr",
          "output_type": "stream",
          "text": [
            "\r 11%|█         | 22/200 [02:12<16:47,  5.66s/it]"
          ]
        },
        {
          "metadata": {
            "tags": null
          },
          "name": "stdout",
          "output_type": "stream",
          "text": [
            "Epoch: 22/200 | Train Loss: 0.002023403998464346 | Time: 5.32s (cuda) | LR: 3.2000000000000005e-05\n"
          ]
        },
        {
          "metadata": {
            "tags": null
          },
          "name": "stderr",
          "output_type": "stream",
          "text": [
            "\r 12%|█▏        | 23/200 [02:18<17:21,  5.88s/it]"
          ]
        },
        {
          "metadata": {
            "tags": null
          },
          "name": "stdout",
          "output_type": "stream",
          "text": [
            "Epoch: 23/200 | Train Loss: 0.002001602668315172 | Time: 6.39s (cuda) | LR: 3.2000000000000005e-05\n"
          ]
        },
        {
          "metadata": {
            "tags": null
          },
          "name": "stderr",
          "output_type": "stream",
          "text": [
            "\r 12%|█▏        | 24/200 [02:23<16:43,  5.70s/it]"
          ]
        },
        {
          "metadata": {
            "tags": null
          },
          "name": "stdout",
          "output_type": "stream",
          "text": [
            "Epoch: 24/200 | Train Loss: 0.001983250491321087 | Time: 5.28s (cuda) | LR: 3.2000000000000005e-05\n"
          ]
        },
        {
          "metadata": {
            "tags": null
          },
          "name": "stderr",
          "output_type": "stream",
          "text": [
            "\r 12%|█▎        | 25/200 [02:29<17:00,  5.83s/it]"
          ]
        },
        {
          "metadata": {
            "tags": null
          },
          "name": "stdout",
          "output_type": "stream",
          "text": [
            "Epoch: 25/200 | Train Loss: 0.0019799000583589077 | Time: 6.14s (cuda) | LR: 3.2000000000000005e-05\n"
          ]
        },
        {
          "metadata": {
            "tags": null
          },
          "name": "stderr",
          "output_type": "stream",
          "text": [
            "\r 13%|█▎        | 26/200 [02:35<16:28,  5.68s/it]"
          ]
        },
        {
          "metadata": {
            "tags": null
          },
          "name": "stdout",
          "output_type": "stream",
          "text": [
            "Epoch: 26/200 | Train Loss: 0.0019670138135552406 | Time: 5.32s (cuda) | LR: 3.2000000000000005e-05\n"
          ]
        },
        {
          "metadata": {
            "tags": null
          },
          "name": "stderr",
          "output_type": "stream",
          "text": [
            "\r 14%|█▎        | 27/200 [02:41<16:47,  5.82s/it]"
          ]
        },
        {
          "metadata": {
            "tags": null
          },
          "name": "stdout",
          "output_type": "stream",
          "text": [
            "Epoch: 27/200 | Train Loss: 0.001973929116502404 | Time: 6.15s (cuda) | LR: 2.5600000000000006e-05\n"
          ]
        },
        {
          "metadata": {
            "tags": null
          },
          "name": "stderr",
          "output_type": "stream",
          "text": [
            "\r 14%|█▍        | 28/200 [02:46<16:09,  5.64s/it]"
          ]
        },
        {
          "metadata": {
            "tags": null
          },
          "name": "stdout",
          "output_type": "stream",
          "text": [
            "Epoch: 28/200 | Train Loss: 0.0018651268910616636 | Time: 5.2s (cuda) | LR: 2.5600000000000006e-05\n"
          ]
        },
        {
          "metadata": {
            "tags": null
          },
          "name": "stderr",
          "output_type": "stream",
          "text": [
            "\r 14%|█▍        | 29/200 [02:52<16:36,  5.83s/it]"
          ]
        },
        {
          "metadata": {
            "tags": null
          },
          "name": "stdout",
          "output_type": "stream",
          "text": [
            "Epoch: 29/200 | Train Loss: 0.0018255183240398765 | Time: 6.27s (cuda) | LR: 2.5600000000000006e-05\n"
          ]
        },
        {
          "metadata": {
            "tags": null
          },
          "name": "stderr",
          "output_type": "stream",
          "text": [
            "\r 15%|█▌        | 30/200 [02:58<15:58,  5.64s/it]"
          ]
        },
        {
          "metadata": {
            "tags": null
          },
          "name": "stdout",
          "output_type": "stream",
          "text": [
            "Epoch: 30/200 | Train Loss: 0.001824542530812323 | Time: 5.2s (cuda) | LR: 2.5600000000000006e-05\n"
          ]
        },
        {
          "metadata": {
            "tags": null
          },
          "name": "stderr",
          "output_type": "stream",
          "text": [
            "\r 16%|█▌        | 31/200 [03:03<15:52,  5.64s/it]"
          ]
        },
        {
          "metadata": {
            "tags": null
          },
          "name": "stdout",
          "output_type": "stream",
          "text": [
            "Epoch: 31/200 | Train Loss: 0.0018275405745953321 | Time: 5.63s (cuda) | LR: 1.6384000000000008e-05\n"
          ]
        },
        {
          "metadata": {
            "tags": null
          },
          "name": "stderr",
          "output_type": "stream",
          "text": [
            "\r 16%|█▌        | 32/200 [03:09<15:46,  5.64s/it]"
          ]
        },
        {
          "metadata": {
            "tags": null
          },
          "name": "stdout",
          "output_type": "stream",
          "text": [
            "Epoch: 32/200 | Train Loss: 0.0016152090393006802 | Time: 5.63s (cuda) | LR: 1.6384000000000008e-05\n"
          ]
        },
        {
          "metadata": {
            "tags": null
          },
          "name": "stderr",
          "output_type": "stream",
          "text": [
            "\r 16%|█▋        | 33/200 [03:14<15:30,  5.57s/it]"
          ]
        },
        {
          "metadata": {
            "tags": null
          },
          "name": "stdout",
          "output_type": "stream",
          "text": [
            "Epoch: 33/200 | Train Loss: 0.0014158175326883793 | Time: 5.41s (cuda) | LR: 1.6384000000000008e-05\n"
          ]
        },
        {
          "metadata": {
            "tags": null
          },
          "name": "stderr",
          "output_type": "stream",
          "text": [
            "\r 17%|█▋        | 34/200 [03:21<16:46,  6.06s/it]"
          ]
        },
        {
          "metadata": {
            "tags": null
          },
          "name": "stdout",
          "output_type": "stream",
          "text": [
            "Epoch: 34/200 | Train Loss: 0.0013293854426592588 | Time: 7.21s (cuda) | LR: 1.6384000000000008e-05\n"
          ]
        },
        {
          "metadata": {
            "tags": null
          },
          "name": "stderr",
          "output_type": "stream",
          "text": [
            "\r 18%|█▊        | 35/200 [03:27<15:58,  5.81s/it]"
          ]
        },
        {
          "metadata": {
            "tags": null
          },
          "name": "stdout",
          "output_type": "stream",
          "text": [
            "Epoch: 35/200 | Train Loss: 0.0012551627587527037 | Time: 5.22s (cuda) | LR: 1.6384000000000008e-05\n"
          ]
        },
        {
          "metadata": {
            "tags": null
          },
          "name": "stderr",
          "output_type": "stream",
          "text": [
            "\r 18%|█▊        | 36/200 [03:33<16:06,  5.89s/it]"
          ]
        },
        {
          "metadata": {
            "tags": null
          },
          "name": "stdout",
          "output_type": "stream",
          "text": [
            "Epoch: 36/200 | Train Loss: 0.001189378323033452 | Time: 6.08s (cuda) | LR: 1.6384000000000008e-05\n"
          ]
        },
        {
          "metadata": {
            "tags": null
          },
          "name": "stderr",
          "output_type": "stream",
          "text": [
            "\r 18%|█▊        | 37/200 [03:38<15:26,  5.68s/it]"
          ]
        },
        {
          "metadata": {
            "tags": null
          },
          "name": "stdout",
          "output_type": "stream",
          "text": [
            "Epoch: 37/200 | Train Loss: 0.001138211227953434 | Time: 5.2s (cuda) | LR: 1.6384000000000008e-05\n"
          ]
        },
        {
          "metadata": {
            "tags": null
          },
          "name": "stderr",
          "output_type": "stream",
          "text": [
            "\r 19%|█▉        | 38/200 [03:44<15:44,  5.83s/it]"
          ]
        },
        {
          "metadata": {
            "tags": null
          },
          "name": "stdout",
          "output_type": "stream",
          "text": [
            "Epoch: 38/200 | Train Loss: 0.0010816152207553387 | Time: 6.17s (cuda) | LR: 1.6384000000000008e-05\n"
          ]
        },
        {
          "metadata": {
            "tags": null
          },
          "name": "stderr",
          "output_type": "stream",
          "text": [
            "\r 20%|█▉        | 39/200 [03:50<15:22,  5.73s/it]"
          ]
        },
        {
          "metadata": {
            "tags": null
          },
          "name": "stdout",
          "output_type": "stream",
          "text": [
            "Epoch: 39/200 | Train Loss: 0.0010333745740354061 | Time: 5.49s (cuda) | LR: 1.6384000000000008e-05\n"
          ]
        },
        {
          "metadata": {
            "tags": null
          },
          "name": "stderr",
          "output_type": "stream",
          "text": [
            "\r 20%|██        | 40/200 [03:55<14:40,  5.50s/it]"
          ]
        },
        {
          "metadata": {
            "tags": null
          },
          "name": "stdout",
          "output_type": "stream",
          "text": [
            "Epoch: 40/200 | Train Loss: 0.0010122453095391393 | Time: 4.98s (cuda) | LR: 1.6384000000000008e-05\n"
          ]
        },
        {
          "metadata": {
            "tags": null
          },
          "name": "stderr",
          "output_type": "stream",
          "text": [
            "\r 20%|██        | 41/200 [03:59<13:52,  5.24s/it]"
          ]
        },
        {
          "metadata": {
            "tags": null
          },
          "name": "stdout",
          "output_type": "stream",
          "text": [
            "Epoch: 41/200 | Train Loss: 0.000977485440671444 | Time: 4.61s (cuda) | LR: 1.6384000000000008e-05\n"
          ]
        },
        {
          "metadata": {
            "tags": null
          },
          "name": "stderr",
          "output_type": "stream",
          "text": [
            "\r 21%|██        | 42/200 [04:03<13:04,  4.96s/it]"
          ]
        },
        {
          "metadata": {
            "tags": null
          },
          "name": "stdout",
          "output_type": "stream",
          "text": [
            "Epoch: 42/200 | Train Loss: 0.0009572813287377357 | Time: 4.32s (cuda) | LR: 1.6384000000000008e-05\n"
          ]
        },
        {
          "metadata": {
            "tags": null
          },
          "name": "stderr",
          "output_type": "stream",
          "text": [
            "\r 22%|██▏       | 43/200 [04:09<13:09,  5.03s/it]"
          ]
        },
        {
          "metadata": {
            "tags": null
          },
          "name": "stdout",
          "output_type": "stream",
          "text": [
            "Epoch: 43/200 | Train Loss: 0.0009346283040940762 | Time: 5.18s (cuda) | LR: 1.6384000000000008e-05\n"
          ]
        },
        {
          "metadata": {
            "tags": null
          },
          "name": "stderr",
          "output_type": "stream",
          "text": [
            "\r 22%|██▏       | 44/200 [04:13<12:31,  4.82s/it]"
          ]
        },
        {
          "metadata": {
            "tags": null
          },
          "name": "stdout",
          "output_type": "stream",
          "text": [
            "Epoch: 44/200 | Train Loss: 0.0009031244553625584 | Time: 4.32s (cuda) | LR: 1.6384000000000008e-05\n"
          ]
        },
        {
          "metadata": {
            "tags": null
          },
          "name": "stderr",
          "output_type": "stream",
          "text": [
            "\r 22%|██▎       | 45/200 [04:17<12:08,  4.70s/it]"
          ]
        },
        {
          "metadata": {
            "tags": null
          },
          "name": "stdout",
          "output_type": "stream",
          "text": [
            "Epoch: 45/200 | Train Loss: 0.0008810132276266813 | Time: 4.42s (cuda) | LR: 1.6384000000000008e-05\n"
          ]
        },
        {
          "metadata": {
            "tags": null
          },
          "name": "stderr",
          "output_type": "stream",
          "text": [
            "\r 23%|██▎       | 46/200 [04:23<12:37,  4.92s/it]"
          ]
        },
        {
          "metadata": {
            "tags": null
          },
          "name": "stdout",
          "output_type": "stream",
          "text": [
            "Epoch: 46/200 | Train Loss: 0.0008601303561590612 | Time: 5.43s (cuda) | LR: 1.3107200000000007e-05\n"
          ]
        },
        {
          "metadata": {
            "tags": null
          },
          "name": "stderr",
          "output_type": "stream",
          "text": [
            "\r 24%|██▎       | 47/200 [04:27<12:04,  4.73s/it]"
          ]
        },
        {
          "metadata": {
            "tags": null
          },
          "name": "stdout",
          "output_type": "stream",
          "text": [
            "Epoch: 47/200 | Train Loss: 0.0007626290316693485 | Time: 4.3s (cuda) | LR: 1.3107200000000007e-05\n"
          ]
        },
        {
          "metadata": {
            "tags": null
          },
          "name": "stderr",
          "output_type": "stream",
          "text": [
            "\r 24%|██▍       | 48/200 [04:32<12:08,  4.79s/it]"
          ]
        },
        {
          "metadata": {
            "tags": null
          },
          "name": "stdout",
          "output_type": "stream",
          "text": [
            "Epoch: 48/200 | Train Loss: 0.0006421657744795084 | Time: 4.92s (cuda) | LR: 1.3107200000000007e-05\n"
          ]
        },
        {
          "metadata": {
            "tags": null
          },
          "name": "stderr",
          "output_type": "stream",
          "text": [
            "\r 24%|██▍       | 49/200 [04:37<11:53,  4.72s/it]"
          ]
        },
        {
          "metadata": {
            "tags": null
          },
          "name": "stdout",
          "output_type": "stream",
          "text": [
            "Epoch: 49/200 | Train Loss: 0.0006033495883457363 | Time: 4.56s (cuda) | LR: 1.3107200000000007e-05\n"
          ]
        },
        {
          "metadata": {
            "tags": null
          },
          "name": "stderr",
          "output_type": "stream",
          "text": [
            "\r 25%|██▌       | 50/200 [04:41<11:30,  4.60s/it]"
          ]
        },
        {
          "metadata": {
            "tags": null
          },
          "name": "stdout",
          "output_type": "stream",
          "text": [
            "Epoch: 50/200 | Train Loss: 0.0006066396599635482 | Time: 4.3s (cuda) | LR: 1.0485760000000006e-05\n"
          ]
        },
        {
          "metadata": {
            "tags": null
          },
          "name": "stderr",
          "output_type": "stream",
          "text": [
            "\r 26%|██▌       | 51/200 [04:46<11:53,  4.79s/it]"
          ]
        },
        {
          "metadata": {
            "tags": null
          },
          "name": "stdout",
          "output_type": "stream",
          "text": [
            "Epoch: 51/200 | Train Loss: 0.0005546187167055905 | Time: 5.22s (cuda) | LR: 1.0485760000000006e-05\n"
          ]
        },
        {
          "metadata": {
            "tags": null
          },
          "name": "stderr",
          "output_type": "stream",
          "text": [
            "\r 26%|██▌       | 52/200 [04:51<11:30,  4.66s/it]"
          ]
        },
        {
          "metadata": {
            "tags": null
          },
          "name": "stdout",
          "output_type": "stream",
          "text": [
            "Epoch: 52/200 | Train Loss: 0.0004837629967369139 | Time: 4.38s (cuda) | LR: 1.0485760000000006e-05\n"
          ]
        },
        {
          "metadata": {
            "tags": null
          },
          "name": "stderr",
          "output_type": "stream",
          "text": [
            "\r 26%|██▋       | 53/200 [04:55<11:10,  4.56s/it]"
          ]
        },
        {
          "metadata": {
            "tags": null
          },
          "name": "stdout",
          "output_type": "stream",
          "text": [
            "Epoch: 53/200 | Train Loss: 0.00046411409857682884 | Time: 4.33s (cuda) | LR: 1.0485760000000006e-05\n"
          ]
        },
        {
          "metadata": {
            "tags": null
          },
          "name": "stderr",
          "output_type": "stream",
          "text": [
            "\r 27%|██▋       | 54/200 [05:00<11:32,  4.74s/it]"
          ]
        },
        {
          "metadata": {
            "tags": null
          },
          "name": "stdout",
          "output_type": "stream",
          "text": [
            "Epoch: 54/200 | Train Loss: 0.00046445001498796046 | Time: 5.16s (cuda) | LR: 8.388608000000005e-06\n"
          ]
        },
        {
          "metadata": {
            "tags": null
          },
          "name": "stderr",
          "output_type": "stream",
          "text": [
            "\r 28%|██▊       | 55/200 [05:04<11:06,  4.60s/it]"
          ]
        },
        {
          "metadata": {
            "tags": null
          },
          "name": "stdout",
          "output_type": "stream",
          "text": [
            "Epoch: 55/200 | Train Loss: 0.0004197935340926051 | Time: 4.26s (cuda) | LR: 8.388608000000005e-06\n"
          ]
        },
        {
          "metadata": {
            "tags": null
          },
          "name": "stderr",
          "output_type": "stream",
          "text": [
            "\r 28%|██▊       | 56/200 [05:09<11:14,  4.69s/it]"
          ]
        },
        {
          "metadata": {
            "tags": null
          },
          "name": "stdout",
          "output_type": "stream",
          "text": [
            "Epoch: 56/200 | Train Loss: 0.0003670079167932272 | Time: 4.89s (cuda) | LR: 8.388608000000005e-06\n"
          ]
        },
        {
          "metadata": {
            "tags": null
          },
          "name": "stderr",
          "output_type": "stream",
          "text": [
            "\r 28%|██▊       | 57/200 [05:14<11:05,  4.65s/it]"
          ]
        },
        {
          "metadata": {
            "tags": null
          },
          "name": "stdout",
          "output_type": "stream",
          "text": [
            "Epoch: 57/200 | Train Loss: 0.0003524265775922686 | Time: 4.58s (cuda) | LR: 8.388608000000005e-06\n"
          ]
        },
        {
          "metadata": {
            "tags": null
          },
          "name": "stderr",
          "output_type": "stream",
          "text": [
            "\r 29%|██▉       | 58/200 [05:18<10:51,  4.59s/it]"
          ]
        },
        {
          "metadata": {
            "tags": null
          },
          "name": "stdout",
          "output_type": "stream",
          "text": [
            "Epoch: 58/200 | Train Loss: 0.0003530519607011229 | Time: 4.44s (cuda) | LR: 6.7108864000000044e-06\n"
          ]
        },
        {
          "metadata": {
            "tags": null
          },
          "name": "stderr",
          "output_type": "stream",
          "text": [
            "\r 30%|██▉       | 59/200 [05:24<11:17,  4.81s/it]"
          ]
        },
        {
          "metadata": {
            "tags": null
          },
          "name": "stdout",
          "output_type": "stream",
          "text": [
            "Epoch: 59/200 | Train Loss: 0.000321034574881196 | Time: 5.32s (cuda) | LR: 6.7108864000000044e-06\n"
          ]
        },
        {
          "metadata": {
            "tags": null
          },
          "name": "stderr",
          "output_type": "stream",
          "text": [
            "\r 30%|███       | 60/200 [05:28<10:52,  4.66s/it]"
          ]
        },
        {
          "metadata": {
            "tags": null
          },
          "name": "stdout",
          "output_type": "stream",
          "text": [
            "Epoch: 60/200 | Train Loss: 0.00028268649475649 | Time: 4.3s (cuda) | LR: 6.7108864000000044e-06\n"
          ]
        },
        {
          "metadata": {
            "tags": null
          },
          "name": "stderr",
          "output_type": "stream",
          "text": [
            "\r 30%|███       | 61/200 [05:32<10:29,  4.53s/it]"
          ]
        },
        {
          "metadata": {
            "tags": null
          },
          "name": "stdout",
          "output_type": "stream",
          "text": [
            "Epoch: 61/200 | Train Loss: 0.0002728558611124754 | Time: 4.23s (cuda) | LR: 5.368709120000004e-06\n"
          ]
        },
        {
          "metadata": {
            "tags": null
          },
          "name": "stderr",
          "output_type": "stream",
          "text": [
            "\r 31%|███       | 62/200 [05:37<10:49,  4.71s/it]"
          ]
        },
        {
          "metadata": {
            "tags": null
          },
          "name": "stdout",
          "output_type": "stream",
          "text": [
            "Epoch: 62/200 | Train Loss: 0.0002514924271963537 | Time: 5.12s (cuda) | LR: 5.368709120000004e-06\n"
          ]
        },
        {
          "metadata": {
            "tags": null
          },
          "name": "stderr",
          "output_type": "stream",
          "text": [
            "\r 32%|███▏      | 63/200 [05:42<10:30,  4.60s/it]"
          ]
        },
        {
          "metadata": {
            "tags": null
          },
          "name": "stdout",
          "output_type": "stream",
          "text": [
            "Epoch: 63/200 | Train Loss: 0.00022926476958673447 | Time: 4.35s (cuda) | LR: 5.368709120000004e-06\n"
          ]
        },
        {
          "metadata": {
            "tags": null
          },
          "name": "stderr",
          "output_type": "stream",
          "text": [
            "\r 32%|███▏      | 64/200 [05:47<10:47,  4.76s/it]"
          ]
        },
        {
          "metadata": {
            "tags": null
          },
          "name": "stdout",
          "output_type": "stream",
          "text": [
            "Epoch: 64/200 | Train Loss: 0.00022360750881489366 | Time: 5.13s (cuda) | LR: 5.368709120000004e-06\n"
          ]
        },
        {
          "metadata": {
            "tags": null
          },
          "name": "stderr",
          "output_type": "stream",
          "text": [
            "\r 32%|███▎      | 65/200 [05:51<10:29,  4.66s/it]"
          ]
        },
        {
          "metadata": {
            "tags": null
          },
          "name": "stdout",
          "output_type": "stream",
          "text": [
            "Epoch: 65/200 | Train Loss: 0.00022215911303646863 | Time: 4.42s (cuda) | LR: 5.368709120000004e-06\n"
          ]
        },
        {
          "metadata": {
            "tags": null
          },
          "name": "stderr",
          "output_type": "stream",
          "text": [
            "\r 33%|███▎      | 66/200 [05:55<10:11,  4.56s/it]"
          ]
        },
        {
          "metadata": {
            "tags": null
          },
          "name": "stdout",
          "output_type": "stream",
          "text": [
            "Epoch: 66/200 | Train Loss: 0.00021996465511620045 | Time: 4.33s (cuda) | LR: 5.368709120000004e-06\n"
          ]
        },
        {
          "metadata": {
            "tags": null
          },
          "name": "stderr",
          "output_type": "stream",
          "text": [
            "\r 34%|███▎      | 67/200 [06:01<10:28,  4.72s/it]"
          ]
        },
        {
          "metadata": {
            "tags": null
          },
          "name": "stdout",
          "output_type": "stream",
          "text": [
            "Epoch: 67/200 | Train Loss: 0.0002157368726329878 | Time: 5.11s (cuda) | LR: 5.368709120000004e-06\n"
          ]
        },
        {
          "metadata": {
            "tags": null
          },
          "name": "stderr",
          "output_type": "stream",
          "text": [
            "\r 34%|███▍      | 68/200 [06:05<10:06,  4.60s/it]"
          ]
        },
        {
          "metadata": {
            "tags": null
          },
          "name": "stdout",
          "output_type": "stream",
          "text": [
            "Epoch: 68/200 | Train Loss: 0.00020977063104510307 | Time: 4.29s (cuda) | LR: 5.368709120000004e-06\n"
          ]
        },
        {
          "metadata": {
            "tags": null
          },
          "name": "stderr",
          "output_type": "stream",
          "text": [
            "\r 34%|███▍      | 69/200 [06:09<09:57,  4.56s/it]"
          ]
        },
        {
          "metadata": {
            "tags": null
          },
          "name": "stdout",
          "output_type": "stream",
          "text": [
            "Epoch: 69/200 | Train Loss: 0.00020440816297195852 | Time: 4.47s (cuda) | LR: 5.368709120000004e-06\n"
          ]
        },
        {
          "metadata": {
            "tags": null
          },
          "name": "stderr",
          "output_type": "stream",
          "text": [
            "\r 35%|███▌      | 70/200 [06:14<10:06,  4.66s/it]"
          ]
        },
        {
          "metadata": {
            "tags": null
          },
          "name": "stdout",
          "output_type": "stream",
          "text": [
            "Epoch: 70/200 | Train Loss: 0.00019890441035386175 | Time: 4.9s (cuda) | LR: 5.368709120000004e-06\n"
          ]
        },
        {
          "metadata": {
            "tags": null
          },
          "name": "stderr",
          "output_type": "stream",
          "text": [
            "\r 36%|███▌      | 71/200 [06:19<09:47,  4.55s/it]"
          ]
        },
        {
          "metadata": {
            "tags": null
          },
          "name": "stdout",
          "output_type": "stream",
          "text": [
            "Epoch: 71/200 | Train Loss: 0.00019481849449221045 | Time: 4.3s (cuda) | LR: 5.368709120000004e-06\n"
          ]
        },
        {
          "metadata": {
            "tags": null
          },
          "name": "stderr",
          "output_type": "stream",
          "text": [
            "\r 36%|███▌      | 72/200 [06:25<10:51,  5.09s/it]"
          ]
        },
        {
          "metadata": {
            "tags": null
          },
          "name": "stdout",
          "output_type": "stream",
          "text": [
            "Epoch: 72/200 | Train Loss: 0.00019118975615128875 | Time: 6.33s (cuda) | LR: 5.368709120000004e-06\n"
          ]
        },
        {
          "metadata": {
            "tags": null
          },
          "name": "stderr",
          "output_type": "stream",
          "text": [
            "\r 36%|███▋      | 73/200 [06:29<10:18,  4.87s/it]"
          ]
        },
        {
          "metadata": {
            "tags": null
          },
          "name": "stdout",
          "output_type": "stream",
          "text": [
            "Epoch: 73/200 | Train Loss: 0.0001877856848295778 | Time: 4.35s (cuda) | LR: 5.368709120000004e-06\n"
          ]
        },
        {
          "metadata": {
            "tags": null
          },
          "name": "stderr",
          "output_type": "stream",
          "text": [
            "\r 37%|███▋      | 74/200 [06:33<09:51,  4.69s/it]"
          ]
        },
        {
          "metadata": {
            "tags": null
          },
          "name": "stdout",
          "output_type": "stream",
          "text": [
            "Epoch: 74/200 | Train Loss: 0.00018516698037274182 | Time: 4.29s (cuda) | LR: 5.368709120000004e-06\n"
          ]
        },
        {
          "output_type": "stream",
          "name": "stderr",
          "text": [
            "\r 38%|███▊      | 75/200 [06:39<10:03,  4.83s/it]"
          ]
        },
        {
          "output_type": "stream",
          "name": "stdout",
          "text": [
            "Epoch: 75/200 | Train Loss: 0.00018153013661503792 | Time: 5.15s (cuda) | LR: 5.368709120000004e-06\n"
          ]
        },
        {
          "output_type": "stream",
          "name": "stderr",
          "text": [
            "\r 38%|███▊      | 76/200 [06:43<09:40,  4.68s/it]"
          ]
        },
        {
          "output_type": "stream",
          "name": "stdout",
          "text": [
            "Epoch: 76/200 | Train Loss: 0.0001788566296454519 | Time: 4.32s (cuda) | LR: 4.294967296000004e-06\n"
          ]
        },
        {
          "output_type": "stream",
          "name": "stderr",
          "text": [
            "\r 38%|███▊      | 77/200 [06:48<09:31,  4.64s/it]"
          ]
        },
        {
          "output_type": "stream",
          "name": "stdout",
          "text": [
            "Epoch: 77/200 | Train Loss: 0.00015924705076031387 | Time: 4.56s (cuda) | LR: 4.294967296000004e-06\n"
          ]
        },
        {
          "output_type": "stream",
          "name": "stderr",
          "text": [
            "\r 39%|███▉      | 78/200 [06:53<09:39,  4.75s/it]"
          ]
        },
        {
          "output_type": "stream",
          "name": "stdout",
          "text": [
            "Epoch: 78/200 | Train Loss: 0.00013958732597529888 | Time: 4.99s (cuda) | LR: 4.294967296000004e-06\n"
          ]
        },
        {
          "output_type": "stream",
          "name": "stderr",
          "text": [
            "\r 40%|███▉      | 79/200 [06:57<09:17,  4.61s/it]"
          ]
        },
        {
          "output_type": "stream",
          "name": "stdout",
          "text": [
            "Epoch: 79/200 | Train Loss: 0.00013641611440107226 | Time: 4.27s (cuda) | LR: 4.294967296000004e-06\n"
          ]
        },
        {
          "output_type": "stream",
          "name": "stderr",
          "text": [
            "\r 40%|████      | 80/200 [07:02<09:31,  4.76s/it]"
          ]
        },
        {
          "output_type": "stream",
          "name": "stdout",
          "text": [
            "Epoch: 80/200 | Train Loss: 0.00013889407273381948 | Time: 5.13s (cuda) | LR: 3.4359738368000033e-06\n"
          ]
        },
        {
          "output_type": "stream",
          "name": "stderr",
          "text": [
            "\r 40%|████      | 81/200 [07:06<09:11,  4.63s/it]"
          ]
        },
        {
          "output_type": "stream",
          "name": "stdout",
          "text": [
            "Epoch: 81/200 | Train Loss: 0.00012903977767564356 | Time: 4.33s (cuda) | LR: 3.4359738368000033e-06\n"
          ]
        },
        {
          "output_type": "stream",
          "name": "stderr",
          "text": [
            "\r 41%|████      | 82/200 [07:11<08:53,  4.52s/it]"
          ]
        },
        {
          "output_type": "stream",
          "name": "stdout",
          "text": [
            "Epoch: 82/200 | Train Loss: 0.00011629158689174801 | Time: 4.25s (cuda) | LR: 3.4359738368000033e-06\n"
          ]
        },
        {
          "output_type": "stream",
          "name": "stderr",
          "text": [
            "\r 42%|████▏     | 83/200 [07:16<09:10,  4.71s/it]"
          ]
        },
        {
          "output_type": "stream",
          "name": "stdout",
          "text": [
            "Epoch: 83/200 | Train Loss: 0.00011378369526937604 | Time: 5.15s (cuda) | LR: 3.4359738368000033e-06\n"
          ]
        },
        {
          "output_type": "stream",
          "name": "stderr",
          "text": [
            "\r 42%|████▏     | 84/200 [07:20<08:52,  4.59s/it]"
          ]
        },
        {
          "output_type": "stream",
          "name": "stdout",
          "text": [
            "Epoch: 84/200 | Train Loss: 0.00011447926226537675 | Time: 4.31s (cuda) | LR: 2.7487790694400027e-06\n"
          ]
        },
        {
          "output_type": "stream",
          "name": "stderr",
          "text": [
            "\r 42%|████▎     | 85/200 [07:25<09:02,  4.72s/it]"
          ]
        },
        {
          "output_type": "stream",
          "name": "stdout",
          "text": [
            "Epoch: 85/200 | Train Loss: 0.00010632412158884108 | Time: 5.01s (cuda) | LR: 2.7487790694400027e-06\n"
          ]
        },
        {
          "output_type": "stream",
          "name": "stderr",
          "text": [
            "\r 43%|████▎     | 86/200 [07:30<08:52,  4.67s/it]"
          ]
        },
        {
          "output_type": "stream",
          "name": "stdout",
          "text": [
            "Epoch: 86/200 | Train Loss: 9.761215915204957e-05 | Time: 4.56s (cuda) | LR: 2.7487790694400027e-06\n"
          ]
        },
        {
          "output_type": "stream",
          "name": "stderr",
          "text": [
            "\r 44%|████▎     | 87/200 [07:34<08:35,  4.56s/it]"
          ]
        },
        {
          "output_type": "stream",
          "name": "stdout",
          "text": [
            "Epoch: 87/200 | Train Loss: 9.569450048729777e-05 | Time: 4.29s (cuda) | LR: 2.7487790694400027e-06\n"
          ]
        },
        {
          "output_type": "stream",
          "name": "stderr",
          "text": [
            "\r 44%|████▍     | 88/200 [07:39<08:51,  4.74s/it]"
          ]
        },
        {
          "output_type": "stream",
          "name": "stdout",
          "text": [
            "Epoch: 88/200 | Train Loss: 9.564429637975991e-05 | Time: 5.17s (cuda) | LR: 2.7487790694400027e-06\n"
          ]
        },
        {
          "output_type": "stream",
          "name": "stderr",
          "text": [
            "\r 44%|████▍     | 89/200 [07:43<08:32,  4.62s/it]"
          ]
        },
        {
          "output_type": "stream",
          "name": "stdout",
          "text": [
            "Epoch: 89/200 | Train Loss: 9.571594273438677e-05 | Time: 4.32s (cuda) | LR: 2.1990232555520023e-06\n"
          ]
        },
        {
          "output_type": "stream",
          "name": "stderr",
          "text": [
            "\r 45%|████▌     | 90/200 [07:48<08:19,  4.54s/it]"
          ]
        },
        {
          "output_type": "stream",
          "name": "stdout",
          "text": [
            "Epoch: 90/200 | Train Loss: 8.874166087480262e-05 | Time: 4.37s (cuda) | LR: 2.1990232555520023e-06\n"
          ]
        },
        {
          "output_type": "stream",
          "name": "stderr",
          "text": [
            "\r 46%|████▌     | 91/200 [07:53<08:40,  4.77s/it]"
          ]
        },
        {
          "output_type": "stream",
          "name": "stdout",
          "text": [
            "Epoch: 91/200 | Train Loss: 8.232508844230324e-05 | Time: 5.3s (cuda) | LR: 1.7592186044416019e-06\n"
          ]
        },
        {
          "output_type": "stream",
          "name": "stderr",
          "text": [
            "\r 46%|████▌     | 92/200 [07:57<08:18,  4.62s/it]"
          ]
        },
        {
          "output_type": "stream",
          "name": "stdout",
          "text": [
            "Epoch: 92/200 | Train Loss: 7.662440475542098e-05 | Time: 4.26s (cuda) | LR: 1.7592186044416019e-06\n"
          ]
        },
        {
          "output_type": "stream",
          "name": "stderr",
          "text": [
            "\r 46%|████▋     | 93/200 [08:02<08:30,  4.78s/it]"
          ]
        },
        {
          "output_type": "stream",
          "name": "stdout",
          "text": [
            "Epoch: 93/200 | Train Loss: 7.363779877778143e-05 | Time: 5.14s (cuda) | LR: 1.7592186044416019e-06\n"
          ]
        },
        {
          "output_type": "stream",
          "name": "stderr",
          "text": [
            "\r 47%|████▋     | 94/200 [08:07<08:12,  4.65s/it]"
          ]
        },
        {
          "output_type": "stream",
          "name": "stdout",
          "text": [
            "Epoch: 94/200 | Train Loss: 7.316925621125847e-05 | Time: 4.34s (cuda) | LR: 1.7592186044416019e-06\n"
          ]
        },
        {
          "output_type": "stream",
          "name": "stderr",
          "text": [
            "\r 48%|████▊     | 95/200 [08:11<07:57,  4.55s/it]"
          ]
        },
        {
          "output_type": "stream",
          "name": "stdout",
          "text": [
            "Epoch: 95/200 | Train Loss: 7.286711479537189e-05 | Time: 4.31s (cuda) | LR: 1.7592186044416019e-06\n"
          ]
        },
        {
          "output_type": "stream",
          "name": "stderr",
          "text": [
            "\r 48%|████▊     | 96/200 [08:16<08:10,  4.72s/it]"
          ]
        },
        {
          "output_type": "stream",
          "name": "stdout",
          "text": [
            "Epoch: 96/200 | Train Loss: 7.232585630845279e-05 | Time: 5.13s (cuda) | LR: 1.7592186044416019e-06\n"
          ]
        },
        {
          "output_type": "stream",
          "name": "stderr",
          "text": [
            "\r 48%|████▊     | 97/200 [08:21<07:53,  4.60s/it]"
          ]
        },
        {
          "output_type": "stream",
          "name": "stdout",
          "text": [
            "Epoch: 97/200 | Train Loss: 7.151850149966776e-05 | Time: 4.31s (cuda) | LR: 1.7592186044416019e-06\n"
          ]
        },
        {
          "output_type": "stream",
          "name": "stderr",
          "text": [
            "\r 49%|████▉     | 98/200 [08:25<07:54,  4.65s/it]"
          ]
        },
        {
          "output_type": "stream",
          "name": "stdout",
          "text": [
            "Epoch: 98/200 | Train Loss: 7.066383841447532e-05 | Time: 4.78s (cuda) | LR: 1.7592186044416019e-06\n"
          ]
        },
        {
          "output_type": "stream",
          "name": "stderr",
          "text": [
            "\r 50%|████▉     | 99/200 [08:30<07:54,  4.70s/it]"
          ]
        },
        {
          "output_type": "stream",
          "name": "stdout",
          "text": [
            "Epoch: 99/200 | Train Loss: 6.981420301599428e-05 | Time: 4.8s (cuda) | LR: 1.7592186044416019e-06\n"
          ]
        },
        {
          "output_type": "stream",
          "name": "stderr",
          "text": [
            "\r 50%|█████     | 100/200 [08:34<07:38,  4.59s/it]"
          ]
        },
        {
          "output_type": "stream",
          "name": "stdout",
          "text": [
            "Epoch: 100/200 | Train Loss: 6.884443428134546e-05 | Time: 4.32s (cuda) | LR: 1.7592186044416019e-06\n"
          ]
        },
        {
          "output_type": "stream",
          "name": "stderr",
          "text": [
            "\r 50%|█████     | 101/200 [08:40<07:50,  4.75s/it]"
          ]
        },
        {
          "output_type": "stream",
          "name": "stdout",
          "text": [
            "Epoch: 101/200 | Train Loss: 6.791716441512108e-05 | Time: 5.13s (cuda) | LR: 1.7592186044416019e-06\n"
          ]
        },
        {
          "output_type": "stream",
          "name": "stderr",
          "text": [
            "\r 51%|█████     | 102/200 [08:44<07:33,  4.63s/it]"
          ]
        },
        {
          "output_type": "stream",
          "name": "stdout",
          "text": [
            "Epoch: 102/200 | Train Loss: 6.709159060847014e-05 | Time: 4.34s (cuda) | LR: 1.7592186044416019e-06\n"
          ]
        },
        {
          "output_type": "stream",
          "name": "stderr",
          "text": [
            "\r 52%|█████▏    | 103/200 [08:48<07:20,  4.54s/it]"
          ]
        },
        {
          "output_type": "stream",
          "name": "stdout",
          "text": [
            "Epoch: 103/200 | Train Loss: 6.636932084802538e-05 | Time: 4.34s (cuda) | LR: 1.7592186044416019e-06\n"
          ]
        },
        {
          "output_type": "stream",
          "name": "stderr",
          "text": [
            "\r 52%|█████▏    | 104/200 [08:53<07:35,  4.74s/it]"
          ]
        },
        {
          "output_type": "stream",
          "name": "stdout",
          "text": [
            "Epoch: 104/200 | Train Loss: 6.563627539435402e-05 | Time: 5.21s (cuda) | LR: 1.7592186044416019e-06\n"
          ]
        },
        {
          "output_type": "stream",
          "name": "stderr",
          "text": [
            "\r 52%|█████▎    | 105/200 [08:58<07:18,  4.61s/it]"
          ]
        },
        {
          "output_type": "stream",
          "name": "stdout",
          "text": [
            "Epoch: 105/200 | Train Loss: 6.480691081378609e-05 | Time: 4.31s (cuda) | LR: 1.7592186044416019e-06\n"
          ]
        },
        {
          "output_type": "stream",
          "name": "stderr",
          "text": [
            "\r 53%|█████▎    | 106/200 [09:03<07:20,  4.68s/it]"
          ]
        },
        {
          "output_type": "stream",
          "name": "stdout",
          "text": [
            "Epoch: 106/200 | Train Loss: 6.414095696527511e-05 | Time: 4.84s (cuda) | LR: 1.4073748835532816e-06\n"
          ]
        },
        {
          "output_type": "stream",
          "name": "stderr",
          "text": [
            "\r 54%|█████▎    | 107/200 [09:07<07:12,  4.65s/it]"
          ]
        },
        {
          "output_type": "stream",
          "name": "stdout",
          "text": [
            "Epoch: 107/200 | Train Loss: 5.997476546326652e-05 | Time: 4.56s (cuda) | LR: 1.4073748835532816e-06\n"
          ]
        },
        {
          "output_type": "stream",
          "name": "stderr",
          "text": [
            "\r 54%|█████▍    | 108/200 [09:11<06:58,  4.55s/it]"
          ]
        },
        {
          "output_type": "stream",
          "name": "stdout",
          "text": [
            "Epoch: 108/200 | Train Loss: 5.708643584512174e-05 | Time: 4.31s (cuda) | LR: 1.4073748835532816e-06\n"
          ]
        },
        {
          "output_type": "stream",
          "name": "stderr",
          "text": [
            "\r 55%|█████▍    | 109/200 [09:17<07:09,  4.72s/it]"
          ]
        },
        {
          "output_type": "stream",
          "name": "stdout",
          "text": [
            "Epoch: 109/200 | Train Loss: 5.6532531743869185e-05 | Time: 5.14s (cuda) | LR: 1.4073748835532816e-06\n"
          ]
        },
        {
          "output_type": "stream",
          "name": "stderr",
          "text": [
            "\r 55%|█████▌    | 110/200 [09:21<06:53,  4.60s/it]"
          ]
        },
        {
          "output_type": "stream",
          "name": "stdout",
          "text": [
            "Epoch: 110/200 | Train Loss: 5.6313125242013484e-05 | Time: 4.3s (cuda) | LR: 1.4073748835532816e-06\n"
          ]
        },
        {
          "output_type": "stream",
          "name": "stderr",
          "text": [
            "\r 56%|█████▌    | 111/200 [09:27<07:16,  4.90s/it]"
          ]
        },
        {
          "output_type": "stream",
          "name": "stdout",
          "text": [
            "Epoch: 111/200 | Train Loss: 5.611520464299247e-05 | Time: 5.62s (cuda) | LR: 1.4073748835532816e-06\n"
          ]
        },
        {
          "output_type": "stream",
          "name": "stderr",
          "text": [
            "\r 56%|█████▌    | 112/200 [09:31<07:10,  4.89s/it]"
          ]
        },
        {
          "output_type": "stream",
          "name": "stdout",
          "text": [
            "Epoch: 112/200 | Train Loss: 5.571493966272101e-05 | Time: 4.85s (cuda) | LR: 1.4073748835532816e-06\n"
          ]
        },
        {
          "output_type": "stream",
          "name": "stderr",
          "text": [
            "\r 56%|█████▋    | 113/200 [09:36<06:51,  4.73s/it]"
          ]
        },
        {
          "output_type": "stream",
          "name": "stdout",
          "text": [
            "Epoch: 113/200 | Train Loss: 5.525125743588433e-05 | Time: 4.36s (cuda) | LR: 1.4073748835532816e-06\n"
          ]
        },
        {
          "output_type": "stream",
          "name": "stderr",
          "text": [
            "\r 57%|█████▋    | 114/200 [09:41<06:57,  4.86s/it]"
          ]
        },
        {
          "output_type": "stream",
          "name": "stdout",
          "text": [
            "Epoch: 114/200 | Train Loss: 5.4722666391171515e-05 | Time: 5.16s (cuda) | LR: 1.4073748835532816e-06\n"
          ]
        },
        {
          "output_type": "stream",
          "name": "stderr",
          "text": [
            "\r 57%|█████▊    | 115/200 [09:45<06:40,  4.72s/it]"
          ]
        },
        {
          "output_type": "stream",
          "name": "stdout",
          "text": [
            "Epoch: 115/200 | Train Loss: 5.416793283075094e-05 | Time: 4.38s (cuda) | LR: 1.4073748835532816e-06\n"
          ]
        },
        {
          "output_type": "stream",
          "name": "stderr",
          "text": [
            "\r 58%|█████▊    | 116/200 [09:50<06:25,  4.59s/it]"
          ]
        },
        {
          "output_type": "stream",
          "name": "stdout",
          "text": [
            "Epoch: 116/200 | Train Loss: 5.3632305935025215e-05 | Time: 4.29s (cuda) | LR: 1.4073748835532816e-06\n"
          ]
        },
        {
          "output_type": "stream",
          "name": "stderr",
          "text": [
            "\r 58%|█████▊    | 117/200 [09:55<06:39,  4.81s/it]"
          ]
        },
        {
          "output_type": "stream",
          "name": "stdout",
          "text": [
            "Epoch: 117/200 | Train Loss: 5.314906593412161e-05 | Time: 5.32s (cuda) | LR: 1.4073748835532816e-06\n"
          ]
        },
        {
          "output_type": "stream",
          "name": "stderr",
          "text": [
            "\r 59%|█████▉    | 118/200 [09:59<06:23,  4.67s/it]"
          ]
        },
        {
          "output_type": "stream",
          "name": "stdout",
          "text": [
            "Epoch: 118/200 | Train Loss: 5.267836240818724e-05 | Time: 4.35s (cuda) | LR: 1.4073748835532816e-06\n"
          ]
        },
        {
          "output_type": "stream",
          "name": "stderr",
          "text": [
            "\r 60%|█████▉    | 119/200 [10:04<06:23,  4.74s/it]"
          ]
        },
        {
          "output_type": "stream",
          "name": "stdout",
          "text": [
            "Epoch: 119/200 | Train Loss: 5.221283936407417e-05 | Time: 4.89s (cuda) | LR: 1.4073748835532816e-06\n"
          ]
        },
        {
          "output_type": "stream",
          "name": "stderr",
          "text": [
            "\r 60%|██████    | 120/200 [10:09<06:15,  4.69s/it]"
          ]
        },
        {
          "output_type": "stream",
          "name": "stdout",
          "text": [
            "Epoch: 120/200 | Train Loss: 5.176273771212436e-05 | Time: 4.59s (cuda) | LR: 1.4073748835532816e-06\n"
          ]
        },
        {
          "output_type": "stream",
          "name": "stderr",
          "text": [
            "\r 60%|██████    | 121/200 [10:13<06:02,  4.59s/it]"
          ]
        },
        {
          "output_type": "stream",
          "name": "stdout",
          "text": [
            "Epoch: 121/200 | Train Loss: 5.131889338372275e-05 | Time: 4.34s (cuda) | LR: 1.1258999068426254e-06\n"
          ]
        },
        {
          "output_type": "stream",
          "name": "stderr",
          "text": [
            "\r 61%|██████    | 122/200 [10:18<06:11,  4.76s/it]"
          ]
        },
        {
          "output_type": "stream",
          "name": "stdout",
          "text": [
            "Epoch: 122/200 | Train Loss: 4.828538658330217e-05 | Time: 5.16s (cuda) | LR: 1.1258999068426254e-06\n"
          ]
        },
        {
          "output_type": "stream",
          "name": "stderr",
          "text": [
            "\r 62%|██████▏   | 123/200 [10:23<05:56,  4.63s/it]"
          ]
        },
        {
          "output_type": "stream",
          "name": "stdout",
          "text": [
            "Epoch: 123/200 | Train Loss: 4.6401059080380946e-05 | Time: 4.32s (cuda) | LR: 1.1258999068426254e-06\n"
          ]
        },
        {
          "output_type": "stream",
          "name": "stderr",
          "text": [
            "\r 62%|██████▏   | 124/200 [10:27<05:47,  4.58s/it]"
          ]
        },
        {
          "output_type": "stream",
          "name": "stdout",
          "text": [
            "Epoch: 124/200 | Train Loss: 4.610244286595844e-05 | Time: 4.45s (cuda) | LR: 1.1258999068426254e-06\n"
          ]
        },
        {
          "output_type": "stream",
          "name": "stderr",
          "text": [
            "\r 62%|██████▎   | 125/200 [10:32<05:55,  4.74s/it]"
          ]
        },
        {
          "output_type": "stream",
          "name": "stdout",
          "text": [
            "Epoch: 125/200 | Train Loss: 4.596755388774909e-05 | Time: 5.13s (cuda) | LR: 1.1258999068426254e-06\n"
          ]
        },
        {
          "output_type": "stream",
          "name": "stderr",
          "text": [
            "\r 63%|██████▎   | 126/200 [10:36<05:41,  4.61s/it]"
          ]
        },
        {
          "output_type": "stream",
          "name": "stdout",
          "text": [
            "Epoch: 126/200 | Train Loss: 4.584523048833944e-05 | Time: 4.31s (cuda) | LR: 1.1258999068426254e-06\n"
          ]
        },
        {
          "output_type": "stream",
          "name": "stderr",
          "text": [
            "\r 64%|██████▎   | 127/200 [10:42<05:50,  4.80s/it]"
          ]
        },
        {
          "output_type": "stream",
          "name": "stdout",
          "text": [
            "Epoch: 127/200 | Train Loss: 4.559400258585811e-05 | Time: 5.22s (cuda) | LR: 1.1258999068426254e-06\n"
          ]
        },
        {
          "output_type": "stream",
          "name": "stderr",
          "text": [
            "\r 64%|██████▍   | 128/200 [10:46<05:35,  4.65s/it]"
          ]
        },
        {
          "output_type": "stream",
          "name": "stdout",
          "text": [
            "Epoch: 128/200 | Train Loss: 4.526581324171275e-05 | Time: 4.32s (cuda) | LR: 1.1258999068426254e-06\n"
          ]
        },
        {
          "output_type": "stream",
          "name": "stderr",
          "text": [
            "\r 64%|██████▍   | 129/200 [10:50<05:25,  4.58s/it]"
          ]
        },
        {
          "output_type": "stream",
          "name": "stdout",
          "text": [
            "Epoch: 129/200 | Train Loss: 4.499223723541945e-05 | Time: 4.41s (cuda) | LR: 1.1258999068426254e-06\n"
          ]
        },
        {
          "output_type": "stream",
          "name": "stderr",
          "text": [
            "\r 65%|██████▌   | 130/200 [10:56<05:35,  4.79s/it]"
          ]
        },
        {
          "output_type": "stream",
          "name": "stdout",
          "text": [
            "Epoch: 130/200 | Train Loss: 4.463964432943612e-05 | Time: 5.29s (cuda) | LR: 1.1258999068426254e-06\n"
          ]
        },
        {
          "output_type": "stream",
          "name": "stderr",
          "text": [
            "\r 66%|██████▌   | 131/200 [11:00<05:20,  4.65s/it]"
          ]
        },
        {
          "output_type": "stream",
          "name": "stdout",
          "text": [
            "Epoch: 131/200 | Train Loss: 4.425944644026458e-05 | Time: 4.31s (cuda) | LR: 1.1258999068426254e-06\n"
          ]
        },
        {
          "output_type": "stream",
          "name": "stderr",
          "text": [
            "\r 66%|██████▌   | 132/200 [11:05<05:19,  4.70s/it]"
          ]
        },
        {
          "output_type": "stream",
          "name": "stdout",
          "text": [
            "Epoch: 132/200 | Train Loss: 4.3946980440523475e-05 | Time: 4.82s (cuda) | LR: 1.1258999068426254e-06\n"
          ]
        },
        {
          "output_type": "stream",
          "name": "stderr",
          "text": [
            "\r 66%|██████▋   | 133/200 [11:10<05:16,  4.72s/it]"
          ]
        },
        {
          "output_type": "stream",
          "name": "stdout",
          "text": [
            "Epoch: 133/200 | Train Loss: 4.3656320485752076e-05 | Time: 4.76s (cuda) | LR: 1.1258999068426254e-06\n"
          ]
        },
        {
          "output_type": "stream",
          "name": "stderr",
          "text": [
            "\r 67%|██████▋   | 134/200 [11:14<05:05,  4.62s/it]"
          ]
        },
        {
          "output_type": "stream",
          "name": "stdout",
          "text": [
            "Epoch: 134/200 | Train Loss: 4.3336141970939934e-05 | Time: 4.4s (cuda) | LR: 1.1258999068426254e-06\n"
          ]
        },
        {
          "output_type": "stream",
          "name": "stderr",
          "text": [
            "\r 68%|██████▊   | 135/200 [11:19<05:10,  4.78s/it]"
          ]
        },
        {
          "output_type": "stream",
          "name": "stdout",
          "text": [
            "Epoch: 135/200 | Train Loss: 4.303294190322049e-05 | Time: 5.14s (cuda) | LR: 1.1258999068426254e-06\n"
          ]
        },
        {
          "output_type": "stream",
          "name": "stderr",
          "text": [
            "\r 68%|██████▊   | 136/200 [11:23<04:57,  4.65s/it]"
          ]
        },
        {
          "output_type": "stream",
          "name": "stdout",
          "text": [
            "Epoch: 136/200 | Train Loss: 4.277266998542473e-05 | Time: 4.34s (cuda) | LR: 9.007199254741003e-07\n"
          ]
        },
        {
          "output_type": "stream",
          "name": "stderr",
          "text": [
            "\r 68%|██████▊   | 137/200 [11:28<04:49,  4.59s/it]"
          ]
        },
        {
          "output_type": "stream",
          "name": "stdout",
          "text": [
            "Epoch: 137/200 | Train Loss: 4.052977237734012e-05 | Time: 4.46s (cuda) | LR: 9.007199254741003e-07\n"
          ]
        },
        {
          "output_type": "stream",
          "name": "stderr",
          "text": [
            "\r 69%|██████▉   | 138/200 [11:33<04:54,  4.75s/it]"
          ]
        },
        {
          "output_type": "stream",
          "name": "stdout",
          "text": [
            "Epoch: 138/200 | Train Loss: 3.9295056922128424e-05 | Time: 5.12s (cuda) | LR: 9.007199254741003e-07\n"
          ]
        },
        {
          "output_type": "stream",
          "name": "stderr",
          "text": [
            "\r 70%|██████▉   | 139/200 [11:37<04:42,  4.64s/it]"
          ]
        },
        {
          "output_type": "stream",
          "name": "stdout",
          "text": [
            "Epoch: 139/200 | Train Loss: 3.910894156433642e-05 | Time: 4.37s (cuda) | LR: 9.007199254741003e-07\n"
          ]
        },
        {
          "output_type": "stream",
          "name": "stderr",
          "text": [
            "\r 70%|███████   | 140/200 [11:43<04:47,  4.80s/it]"
          ]
        },
        {
          "output_type": "stream",
          "name": "stdout",
          "text": [
            "Epoch: 140/200 | Train Loss: 3.9011250919429585e-05 | Time: 5.17s (cuda) | LR: 9.007199254741003e-07\n"
          ]
        },
        {
          "output_type": "stream",
          "name": "stderr",
          "text": [
            "\r 70%|███████   | 141/200 [11:47<04:35,  4.68s/it]"
          ]
        },
        {
          "output_type": "stream",
          "name": "stdout",
          "text": [
            "Epoch: 141/200 | Train Loss: 3.889099752996117e-05 | Time: 4.39s (cuda) | LR: 9.007199254741003e-07\n"
          ]
        },
        {
          "output_type": "stream",
          "name": "stderr",
          "text": [
            "\r 71%|███████   | 142/200 [11:51<04:24,  4.55s/it]"
          ]
        },
        {
          "output_type": "stream",
          "name": "stdout",
          "text": [
            "Epoch: 142/200 | Train Loss: 3.869965803460218e-05 | Time: 4.27s (cuda) | LR: 9.007199254741003e-07\n"
          ]
        },
        {
          "output_type": "stream",
          "name": "stderr",
          "text": [
            "\r 72%|███████▏  | 143/200 [11:57<04:32,  4.78s/it]"
          ]
        },
        {
          "output_type": "stream",
          "name": "stdout",
          "text": [
            "Epoch: 143/200 | Train Loss: 3.851404835586436e-05 | Time: 5.31s (cuda) | LR: 9.007199254741003e-07\n"
          ]
        },
        {
          "output_type": "stream",
          "name": "stderr",
          "text": [
            "\r 72%|███████▏  | 144/200 [12:01<04:21,  4.67s/it]"
          ]
        },
        {
          "output_type": "stream",
          "name": "stdout",
          "text": [
            "Epoch: 144/200 | Train Loss: 3.827350519713946e-05 | Time: 4.4s (cuda) | LR: 9.007199254741003e-07\n"
          ]
        },
        {
          "output_type": "stream",
          "name": "stderr",
          "text": [
            "\r 72%|███████▎  | 145/200 [12:06<04:15,  4.64s/it]"
          ]
        },
        {
          "output_type": "stream",
          "name": "stdout",
          "text": [
            "Epoch: 145/200 | Train Loss: 3.806570020969957e-05 | Time: 4.59s (cuda) | LR: 9.007199254741003e-07\n"
          ]
        },
        {
          "output_type": "stream",
          "name": "stderr",
          "text": [
            "\r 73%|███████▎  | 146/200 [12:11<04:15,  4.73s/it]"
          ]
        },
        {
          "output_type": "stream",
          "name": "stdout",
          "text": [
            "Epoch: 146/200 | Train Loss: 3.785562876146287e-05 | Time: 4.91s (cuda) | LR: 9.007199254741003e-07\n"
          ]
        },
        {
          "output_type": "stream",
          "name": "stderr",
          "text": [
            "\r 74%|███████▎  | 147/200 [12:15<04:03,  4.60s/it]"
          ]
        },
        {
          "output_type": "stream",
          "name": "stdout",
          "text": [
            "Epoch: 147/200 | Train Loss: 3.761132029467262e-05 | Time: 4.31s (cuda) | LR: 9.007199254741003e-07\n"
          ]
        },
        {
          "output_type": "stream",
          "name": "stderr",
          "text": [
            "\r 74%|███████▍  | 148/200 [12:20<04:09,  4.80s/it]"
          ]
        },
        {
          "output_type": "stream",
          "name": "stdout",
          "text": [
            "Epoch: 148/200 | Train Loss: 3.74057017324958e-05 | Time: 5.25s (cuda) | LR: 9.007199254741003e-07\n"
          ]
        },
        {
          "output_type": "stream",
          "name": "stderr",
          "text": [
            "\r 74%|███████▍  | 149/200 [12:24<03:58,  4.68s/it]"
          ]
        },
        {
          "output_type": "stream",
          "name": "stdout",
          "text": [
            "Epoch: 149/200 | Train Loss: 3.718648440553807e-05 | Time: 4.41s (cuda) | LR: 9.007199254741003e-07\n"
          ]
        },
        {
          "output_type": "stream",
          "name": "stderr",
          "text": [
            "\r 75%|███████▌  | 150/200 [12:30<04:09,  4.99s/it]"
          ]
        },
        {
          "output_type": "stream",
          "name": "stdout",
          "text": [
            "Epoch: 150/200 | Train Loss: 3.695507621159777e-05 | Time: 5.68s (cuda) | LR: 9.007199254741003e-07\n"
          ]
        },
        {
          "output_type": "stream",
          "name": "stderr",
          "text": [
            "\r 76%|███████▌  | 151/200 [12:35<04:03,  4.96s/it]"
          ]
        },
        {
          "output_type": "stream",
          "name": "stdout",
          "text": [
            "Epoch: 151/200 | Train Loss: 3.6761670344276354e-05 | Time: 4.91s (cuda) | LR: 7.205759403792803e-07\n"
          ]
        },
        {
          "output_type": "stream",
          "name": "stderr",
          "text": [
            "\r 76%|███████▌  | 152/200 [12:39<03:49,  4.77s/it]"
          ]
        },
        {
          "output_type": "stream",
          "name": "stdout",
          "text": [
            "Epoch: 152/200 | Train Loss: 3.511598697514273e-05 | Time: 4.32s (cuda) | LR: 7.205759403792803e-07\n"
          ]
        },
        {
          "output_type": "stream",
          "name": "stderr",
          "text": [
            "\r 76%|███████▋  | 153/200 [12:45<03:50,  4.91s/it]"
          ]
        },
        {
          "output_type": "stream",
          "name": "stdout",
          "text": [
            "Epoch: 153/200 | Train Loss: 3.4329605114180595e-05 | Time: 5.21s (cuda) | LR: 7.205759403792803e-07\n"
          ]
        },
        {
          "output_type": "stream",
          "name": "stderr",
          "text": [
            "\r 77%|███████▋  | 154/200 [12:49<03:37,  4.72s/it]"
          ]
        },
        {
          "output_type": "stream",
          "name": "stdout",
          "text": [
            "Epoch: 154/200 | Train Loss: 3.4201326343463734e-05 | Time: 4.29s (cuda) | LR: 7.205759403792803e-07\n"
          ]
        },
        {
          "output_type": "stream",
          "name": "stderr",
          "text": [
            "\r 78%|███████▊  | 155/200 [12:53<03:27,  4.61s/it]"
          ]
        },
        {
          "output_type": "stream",
          "name": "stdout",
          "text": [
            "Epoch: 155/200 | Train Loss: 3.413623198866844e-05 | Time: 4.35s (cuda) | LR: 7.205759403792803e-07\n"
          ]
        },
        {
          "output_type": "stream",
          "name": "stderr",
          "text": [
            "\r 78%|███████▊  | 156/200 [12:59<03:33,  4.86s/it]"
          ]
        },
        {
          "output_type": "stream",
          "name": "stdout",
          "text": [
            "Epoch: 156/200 | Train Loss: 3.403854861971922e-05 | Time: 5.44s (cuda) | LR: 7.205759403792803e-07\n"
          ]
        },
        {
          "output_type": "stream",
          "name": "stderr",
          "text": [
            "\r 78%|███████▊  | 157/200 [13:03<03:24,  4.75s/it]"
          ]
        },
        {
          "output_type": "stream",
          "name": "stdout",
          "text": [
            "Epoch: 157/200 | Train Loss: 3.390134224900976e-05 | Time: 4.47s (cuda) | LR: 7.205759403792803e-07\n"
          ]
        },
        {
          "output_type": "stream",
          "name": "stderr",
          "text": [
            "\r 79%|███████▉  | 158/200 [13:08<03:24,  4.86s/it]"
          ]
        },
        {
          "output_type": "stream",
          "name": "stdout",
          "text": [
            "Epoch: 158/200 | Train Loss: 3.3750577131286263e-05 | Time: 5.14s (cuda) | LR: 7.205759403792803e-07\n"
          ]
        },
        {
          "output_type": "stream",
          "name": "stderr",
          "text": [
            "\r 80%|███████▉  | 159/200 [13:13<03:13,  4.72s/it]"
          ]
        },
        {
          "output_type": "stream",
          "name": "stdout",
          "text": [
            "Epoch: 159/200 | Train Loss: 3.35874137817882e-05 | Time: 4.4s (cuda) | LR: 7.205759403792803e-07\n"
          ]
        },
        {
          "output_type": "stream",
          "name": "stderr",
          "text": [
            "\r 80%|████████  | 160/200 [13:17<03:04,  4.61s/it]"
          ]
        },
        {
          "output_type": "stream",
          "name": "stdout",
          "text": [
            "Epoch: 160/200 | Train Loss: 3.3452022762503475e-05 | Time: 4.34s (cuda) | LR: 7.205759403792803e-07\n"
          ]
        },
        {
          "output_type": "stream",
          "name": "stderr",
          "text": [
            "\r 80%|████████  | 161/200 [13:22<03:05,  4.76s/it]"
          ]
        },
        {
          "output_type": "stream",
          "name": "stdout",
          "text": [
            "Epoch: 161/200 | Train Loss: 3.325723810121417e-05 | Time: 5.1s (cuda) | LR: 7.205759403792803e-07\n"
          ]
        },
        {
          "output_type": "stream",
          "name": "stderr",
          "text": [
            "\r 81%|████████  | 162/200 [13:27<02:57,  4.68s/it]"
          ]
        },
        {
          "output_type": "stream",
          "name": "stdout",
          "text": [
            "Epoch: 162/200 | Train Loss: 3.310304236947559e-05 | Time: 4.51s (cuda) | LR: 7.205759403792803e-07\n"
          ]
        },
        {
          "output_type": "stream",
          "name": "stderr",
          "text": [
            "\r 82%|████████▏ | 163/200 [13:31<02:52,  4.65s/it]"
          ]
        },
        {
          "output_type": "stream",
          "name": "stdout",
          "text": [
            "Epoch: 163/200 | Train Loss: 3.297144576208666e-05 | Time: 4.59s (cuda) | LR: 7.205759403792803e-07\n"
          ]
        },
        {
          "output_type": "stream",
          "name": "stderr",
          "text": [
            "\r 82%|████████▏ | 164/200 [13:36<02:50,  4.75s/it]"
          ]
        },
        {
          "output_type": "stream",
          "name": "stdout",
          "text": [
            "Epoch: 164/200 | Train Loss: 3.279358861618675e-05 | Time: 4.97s (cuda) | LR: 7.205759403792803e-07\n"
          ]
        },
        {
          "output_type": "stream",
          "name": "stderr",
          "text": [
            "\r 82%|████████▎ | 165/200 [13:41<02:42,  4.65s/it]"
          ]
        },
        {
          "output_type": "stream",
          "name": "stdout",
          "text": [
            "Epoch: 165/200 | Train Loss: 3.2648495107423514e-05 | Time: 4.4s (cuda) | LR: 7.205759403792803e-07\n"
          ]
        },
        {
          "output_type": "stream",
          "name": "stderr",
          "text": [
            "\r 83%|████████▎ | 166/200 [13:46<02:43,  4.80s/it]"
          ]
        },
        {
          "output_type": "stream",
          "name": "stdout",
          "text": [
            "Epoch: 166/200 | Train Loss: 3.248255961807445e-05 | Time: 5.16s (cuda) | LR: 5.764607523034243e-07\n"
          ]
        },
        {
          "output_type": "stream",
          "name": "stderr",
          "text": [
            "\r 84%|████████▎ | 167/200 [13:50<02:33,  4.66s/it]"
          ]
        },
        {
          "output_type": "stream",
          "name": "stdout",
          "text": [
            "Epoch: 167/200 | Train Loss: 3.124267823295668e-05 | Time: 4.34s (cuda) | LR: 5.764607523034243e-07\n"
          ]
        },
        {
          "output_type": "stream",
          "name": "stderr",
          "text": [
            "\r 84%|████████▍ | 168/200 [13:54<02:25,  4.56s/it]"
          ]
        },
        {
          "output_type": "stream",
          "name": "stdout",
          "text": [
            "Epoch: 168/200 | Train Loss: 3.075944187003188e-05 | Time: 4.3s (cuda) | LR: 5.764607523034243e-07\n"
          ]
        },
        {
          "output_type": "stream",
          "name": "stderr",
          "text": [
            "\r 84%|████████▍ | 169/200 [14:00<02:28,  4.78s/it]"
          ]
        },
        {
          "output_type": "stream",
          "name": "stdout",
          "text": [
            "Epoch: 169/200 | Train Loss: 3.0675022571813315e-05 | Time: 5.29s (cuda) | LR: 5.764607523034243e-07\n"
          ]
        },
        {
          "output_type": "stream",
          "name": "stderr",
          "text": [
            "\r 85%|████████▌ | 170/200 [14:04<02:19,  4.64s/it]"
          ]
        },
        {
          "output_type": "stream",
          "name": "stdout",
          "text": [
            "Epoch: 170/200 | Train Loss: 3.061291863559745e-05 | Time: 4.31s (cuda) | LR: 5.764607523034243e-07\n"
          ]
        },
        {
          "output_type": "stream",
          "name": "stderr",
          "text": [
            "\r 86%|████████▌ | 171/200 [14:09<02:15,  4.68s/it]"
          ]
        },
        {
          "output_type": "stream",
          "name": "stdout",
          "text": [
            "Epoch: 171/200 | Train Loss: 3.051587009395007e-05 | Time: 4.79s (cuda) | LR: 5.764607523034243e-07\n"
          ]
        },
        {
          "output_type": "stream",
          "name": "stderr",
          "text": [
            "\r 86%|████████▌ | 172/200 [14:14<02:11,  4.70s/it]"
          ]
        },
        {
          "output_type": "stream",
          "name": "stdout",
          "text": [
            "Epoch: 172/200 | Train Loss: 3.041794479941018e-05 | Time: 4.73s (cuda) | LR: 5.764607523034243e-07\n"
          ]
        },
        {
          "output_type": "stream",
          "name": "stderr",
          "text": [
            "\r 86%|████████▋ | 173/200 [14:18<02:04,  4.59s/it]"
          ]
        },
        {
          "output_type": "stream",
          "name": "stdout",
          "text": [
            "Epoch: 173/200 | Train Loss: 3.0309000067063607e-05 | Time: 4.35s (cuda) | LR: 5.764607523034243e-07\n"
          ]
        },
        {
          "output_type": "stream",
          "name": "stderr",
          "text": [
            "\r 87%|████████▋ | 174/200 [14:23<02:03,  4.75s/it]"
          ]
        },
        {
          "output_type": "stream",
          "name": "stdout",
          "text": [
            "Epoch: 174/200 | Train Loss: 3.0195224098861217e-05 | Time: 5.13s (cuda) | LR: 5.764607523034243e-07\n"
          ]
        },
        {
          "output_type": "stream",
          "name": "stderr",
          "text": [
            "\r 88%|████████▊ | 175/200 [14:28<01:56,  4.68s/it]"
          ]
        },
        {
          "output_type": "stream",
          "name": "stdout",
          "text": [
            "Epoch: 175/200 | Train Loss: 3.0088973289821297e-05 | Time: 4.49s (cuda) | LR: 5.764607523034243e-07\n"
          ]
        },
        {
          "output_type": "stream",
          "name": "stderr",
          "text": [
            "\r 88%|████████▊ | 176/200 [14:32<01:50,  4.59s/it]"
          ]
        },
        {
          "output_type": "stream",
          "name": "stdout",
          "text": [
            "Epoch: 176/200 | Train Loss: 2.9954488127259538e-05 | Time: 4.38s (cuda) | LR: 5.764607523034243e-07\n"
          ]
        },
        {
          "output_type": "stream",
          "name": "stderr",
          "text": [
            "\r 88%|████████▊ | 177/200 [14:37<01:49,  4.77s/it]"
          ]
        },
        {
          "output_type": "stream",
          "name": "stdout",
          "text": [
            "Epoch: 177/200 | Train Loss: 2.9849970815121196e-05 | Time: 5.19s (cuda) | LR: 5.764607523034243e-07\n"
          ]
        },
        {
          "output_type": "stream",
          "name": "stderr",
          "text": [
            "\r 89%|████████▉ | 178/200 [14:42<01:42,  4.65s/it]"
          ]
        },
        {
          "output_type": "stream",
          "name": "stdout",
          "text": [
            "Epoch: 178/200 | Train Loss: 2.972105357912369e-05 | Time: 4.37s (cuda) | LR: 5.764607523034243e-07\n"
          ]
        },
        {
          "output_type": "stream",
          "name": "stderr",
          "text": [
            "\r 90%|████████▉ | 179/200 [14:47<01:41,  4.81s/it]"
          ]
        },
        {
          "output_type": "stream",
          "name": "stdout",
          "text": [
            "Epoch: 179/200 | Train Loss: 2.9613549486384727e-05 | Time: 5.18s (cuda) | LR: 5.764607523034243e-07\n"
          ]
        },
        {
          "output_type": "stream",
          "name": "stderr",
          "text": [
            "\r 90%|█████████ | 180/200 [14:51<01:33,  4.66s/it]"
          ]
        },
        {
          "output_type": "stream",
          "name": "stdout",
          "text": [
            "Epoch: 180/200 | Train Loss: 2.9503087716875598e-05 | Time: 4.31s (cuda) | LR: 5.764607523034243e-07\n"
          ]
        },
        {
          "output_type": "stream",
          "name": "stderr",
          "text": [
            "\r 90%|█████████ | 181/200 [14:55<01:26,  4.55s/it]"
          ]
        },
        {
          "output_type": "stream",
          "name": "stdout",
          "text": [
            "Epoch: 181/200 | Train Loss: 2.9392818760243244e-05 | Time: 4.3s (cuda) | LR: 4.6116860184273944e-07\n"
          ]
        },
        {
          "output_type": "stream",
          "name": "stderr",
          "text": [
            "\r 91%|█████████ | 182/200 [15:01<01:26,  4.79s/it]"
          ]
        },
        {
          "output_type": "stream",
          "name": "stdout",
          "text": [
            "Epoch: 182/200 | Train Loss: 2.8421662136679515e-05 | Time: 5.33s (cuda) | LR: 4.6116860184273944e-07\n"
          ]
        },
        {
          "output_type": "stream",
          "name": "stderr",
          "text": [
            "\r 92%|█████████▏| 183/200 [15:05<01:19,  4.66s/it]"
          ]
        },
        {
          "output_type": "stream",
          "name": "stdout",
          "text": [
            "Epoch: 183/200 | Train Loss: 2.8123249649070203e-05 | Time: 4.36s (cuda) | LR: 4.6116860184273944e-07\n"
          ]
        },
        {
          "output_type": "stream",
          "name": "stderr",
          "text": [
            "\r 92%|█████████▏| 184/200 [15:09<01:13,  4.61s/it]"
          ]
        },
        {
          "output_type": "stream",
          "name": "stdout",
          "text": [
            "Epoch: 184/200 | Train Loss: 2.806653719744645e-05 | Time: 4.48s (cuda) | LR: 4.6116860184273944e-07\n"
          ]
        },
        {
          "output_type": "stream",
          "name": "stderr",
          "text": [
            "\r 92%|█████████▎| 185/200 [15:14<01:10,  4.70s/it]"
          ]
        },
        {
          "output_type": "stream",
          "name": "stdout",
          "text": [
            "Epoch: 185/200 | Train Loss: 2.8016014766762964e-05 | Time: 4.93s (cuda) | LR: 4.6116860184273944e-07\n"
          ]
        },
        {
          "output_type": "stream",
          "name": "stderr",
          "text": [
            "\r 93%|█████████▎| 186/200 [15:19<01:04,  4.58s/it]"
          ]
        },
        {
          "output_type": "stream",
          "name": "stdout",
          "text": [
            "Epoch: 186/200 | Train Loss: 2.7947433409281075e-05 | Time: 4.29s (cuda) | LR: 4.6116860184273944e-07\n"
          ]
        },
        {
          "output_type": "stream",
          "name": "stderr",
          "text": [
            "\r 94%|█████████▎| 187/200 [15:24<01:01,  4.75s/it]"
          ]
        },
        {
          "output_type": "stream",
          "name": "stdout",
          "text": [
            "Epoch: 187/200 | Train Loss: 2.7857233362738043e-05 | Time: 5.14s (cuda) | LR: 4.6116860184273944e-07\n"
          ]
        },
        {
          "output_type": "stream",
          "name": "stderr",
          "text": [
            "\r 94%|█████████▍| 188/200 [15:29<00:58,  4.86s/it]"
          ]
        },
        {
          "output_type": "stream",
          "name": "stdout",
          "text": [
            "Epoch: 188/200 | Train Loss: 2.778230918920599e-05 | Time: 5.11s (cuda) | LR: 4.6116860184273944e-07\n"
          ]
        },
        {
          "output_type": "stream",
          "name": "stderr",
          "text": [
            "\r 94%|█████████▍| 189/200 [15:33<00:51,  4.73s/it]"
          ]
        },
        {
          "output_type": "stream",
          "name": "stdout",
          "text": [
            "Epoch: 189/200 | Train Loss: 2.7683916414389387e-05 | Time: 4.42s (cuda) | LR: 4.6116860184273944e-07\n"
          ]
        },
        {
          "output_type": "stream",
          "name": "stderr",
          "text": [
            "\r 95%|█████████▌| 190/200 [15:39<00:48,  4.85s/it]"
          ]
        },
        {
          "output_type": "stream",
          "name": "stdout",
          "text": [
            "Epoch: 190/200 | Train Loss: 2.7613177735474892e-05 | Time: 5.14s (cuda) | LR: 4.6116860184273944e-07\n"
          ]
        },
        {
          "output_type": "stream",
          "name": "stderr",
          "text": [
            "\r 96%|█████████▌| 191/200 [15:43<00:42,  4.68s/it]"
          ]
        },
        {
          "output_type": "stream",
          "name": "stdout",
          "text": [
            "Epoch: 191/200 | Train Loss: 2.7523139578988776e-05 | Time: 4.28s (cuda) | LR: 4.6116860184273944e-07\n"
          ]
        },
        {
          "output_type": "stream",
          "name": "stderr",
          "text": [
            "\r 96%|█████████▌| 192/200 [15:48<00:38,  4.81s/it]"
          ]
        },
        {
          "output_type": "stream",
          "name": "stdout",
          "text": [
            "Epoch: 192/200 | Train Loss: 2.7440382837085053e-05 | Time: 5.1s (cuda) | LR: 4.6116860184273944e-07\n"
          ]
        },
        {
          "output_type": "stream",
          "name": "stderr",
          "text": [
            "\r 96%|█████████▋| 193/200 [15:52<00:32,  4.66s/it]"
          ]
        },
        {
          "output_type": "stream",
          "name": "stdout",
          "text": [
            "Epoch: 193/200 | Train Loss: 2.734319059527479e-05 | Time: 4.33s (cuda) | LR: 4.6116860184273944e-07\n"
          ]
        },
        {
          "output_type": "stream",
          "name": "stderr",
          "text": [
            "\r 97%|█████████▋| 194/200 [15:57<00:27,  4.56s/it]"
          ]
        },
        {
          "output_type": "stream",
          "name": "stdout",
          "text": [
            "Epoch: 194/200 | Train Loss: 2.7273581508779898e-05 | Time: 4.31s (cuda) | LR: 4.6116860184273944e-07\n"
          ]
        },
        {
          "output_type": "stream",
          "name": "stderr",
          "text": [
            "\r 98%|█████████▊| 195/200 [16:02<00:23,  4.77s/it]"
          ]
        },
        {
          "output_type": "stream",
          "name": "stdout",
          "text": [
            "Epoch: 195/200 | Train Loss: 2.718137693591416e-05 | Time: 5.25s (cuda) | LR: 4.6116860184273944e-07\n"
          ]
        },
        {
          "output_type": "stream",
          "name": "stderr",
          "text": [
            "\r 98%|█████████▊| 196/200 [16:06<00:18,  4.62s/it]"
          ]
        },
        {
          "output_type": "stream",
          "name": "stdout",
          "text": [
            "Epoch: 196/200 | Train Loss: 2.7093617973150685e-05 | Time: 4.27s (cuda) | LR: 3.689348814741916e-07\n"
          ]
        },
        {
          "output_type": "stream",
          "name": "stderr",
          "text": [
            "\r 98%|█████████▊| 197/200 [16:10<00:13,  4.53s/it]"
          ]
        },
        {
          "output_type": "stream",
          "name": "stdout",
          "text": [
            "Epoch: 197/200 | Train Loss: 2.6343148419982754e-05 | Time: 4.31s (cuda) | LR: 3.689348814741916e-07\n"
          ]
        },
        {
          "output_type": "stream",
          "name": "stderr",
          "text": [
            "\r 99%|█████████▉| 198/200 [16:15<00:09,  4.68s/it]"
          ]
        },
        {
          "output_type": "stream",
          "name": "stdout",
          "text": [
            "Epoch: 198/200 | Train Loss: 2.6158999389735982e-05 | Time: 5.02s (cuda) | LR: 3.689348814741916e-07\n"
          ]
        },
        {
          "output_type": "stream",
          "name": "stderr",
          "text": [
            "\r100%|█████████▉| 199/200 [16:20<00:04,  4.57s/it]"
          ]
        },
        {
          "output_type": "stream",
          "name": "stdout",
          "text": [
            "Epoch: 199/200 | Train Loss: 2.6107429221156053e-05 | Time: 4.33s (cuda) | LR: 3.689348814741916e-07\n"
          ]
        },
        {
          "output_type": "stream",
          "name": "stderr",
          "text": [
            "100%|██████████| 200/200 [16:25<00:00,  4.93s/it]"
          ]
        },
        {
          "output_type": "stream",
          "name": "stdout",
          "text": [
            "Epoch: 200/200 | Train Loss: 2.6061763492180035e-05 | Time: 5.18s (cuda) | LR: 3.689348814741916e-07\n",
            "\n",
            "Epoch with Least Loss: 200 | Loss: 2.6061763e-05 \n",
            "\n"
          ]
        },
        {
          "output_type": "stream",
          "name": "stderr",
          "text": [
            "\n"
          ]
        }
      ],
      "execution_count": 20
    },
    {
      "cell_type": "code",
      "source": [
        "# Initialize prediction lists\n",
        "prediction_list = [[] for _ in range(total_vars)]\n",
        "\n",
        "# Inference loop\n",
        "with torch.no_grad():\n",
        "    for i in range(0, torch_coords.shape[0], group_size):\n",
        "        coords = torch_coords[i:min(i + group_size, torch_coords.shape[0])].type(torch.float32).to(device)\n",
        "        vals = model(coords)\n",
        "        vals = vals.to('cpu')\n",
        "\n",
        "        for j in range(total_vars):\n",
        "            prediction_list[j].append(vals[:, j])\n",
        "\n",
        "# Extract and concatenate predictions\n",
        "extracted_list = [[] for _ in range(total_vars)]\n",
        "for i in range(len(prediction_list[0])):\n",
        "    for j in range(total_vars):\n",
        "        el = prediction_list[j][i].detach().numpy()\n",
        "        extracted_list[j].append(el)\n",
        "\n",
        "for j in range(total_vars):\n",
        "    extracted_list[j] = np.concatenate(extracted_list[j], dtype='float32')\n",
        "\n",
        "# Final prediction (normalized)\n",
        "n_predictions = np.array(extracted_list).T\n",
        "\n",
        "# Compute PSNR\n",
        "findMultiVariatePSNR(var_name, total_vars, n_val, n_predictions)\n",
        "\n",
        "# Compute RMSE\n",
        "rmse = compute_rmse(n_val, n_predictions)\n",
        "print(\"RMSE:\", rmse)"
      ],
      "metadata": {
        "colab": {
          "base_uri": "https://localhost:8080/"
        },
        "id": "8gLLH5qotRZa",
        "outputId": "cccc2104-f30c-4c03-a16a-96bb93760870"
      },
      "execution_count": 22,
      "outputs": [
        {
          "output_type": "stream",
          "name": "stdout",
          "text": [
            "GMM_Mean0  PSNR: 52.592253532612304\n",
            "GMM_Mean1  PSNR: 52.576814198944675\n",
            "GMM_Mean2  PSNR: 52.54255284779126\n",
            "GMM_Std0  PSNR: 51.898698139870774\n",
            "GMM_Std1  PSNR: 50.51671540080718\n",
            "GMM_Std2  PSNR: 51.15311397654605\n",
            "GMM_Weight0  PSNR: 53.304968306277814\n",
            "GMM_Weight1  PSNR: 53.05723433376552\n",
            "GMM_Weight2  PSNR: 53.36109591904824\n",
            "\n",
            "Average psnr :  52.333716295073756\n",
            "RMSE: 0.004891433085406865\n"
          ]
        }
      ]
    },
    {
      "cell_type": "code",
      "source": [
        "# Initialize prediction lists\n",
        "prediction_list = [[] for _ in range(total_vars)]\n",
        "\n",
        "# Inference loop\n",
        "with torch.no_grad():\n",
        "    for i in range(0, torch_coords.shape[0], group_size):\n",
        "        coords = torch_coords[i:min(i + group_size, torch_coords.shape[0])].type(torch.float32).to(device)\n",
        "        vals = model(coords)\n",
        "        vals = vals.to('cpu')\n",
        "\n",
        "        for j in range(total_vars):\n",
        "            prediction_list[j].append(vals[:, j])\n",
        "\n",
        "# Extract and concatenate predictions\n",
        "extracted_list = [[] for _ in range(total_vars)]\n",
        "for i in range(len(prediction_list[0])):\n",
        "    for j in range(total_vars):\n",
        "        el = prediction_list[j][i].detach().numpy()\n",
        "        extracted_list[j].append(el)\n",
        "\n",
        "for j in range(total_vars):\n",
        "    extracted_list[j] = np.concatenate(extracted_list[j], dtype='float32')\n",
        "\n",
        "# Final prediction (normalized)\n",
        "n_predictions = np.array(extracted_list).T\n",
        "\n",
        "# Compute PSNR\n",
        "findMultiVariatePSNR(var_name, total_vars, n_val, n_predictions)\n",
        "\n",
        "# Compute RMSE\n",
        "rmse = compute_rmse(n_val, n_predictions)\n",
        "print(\"RMSE:\", rmse)"
      ],
      "metadata": {
        "_uuid": "07a36d31-db47-4d2c-b11d-5339aa8cb204",
        "_cell_guid": "cc00efa1-e7a5-4a3a-aa44-d056d987dcb8",
        "trusted": true,
        "jupyter": {
          "outputs_hidden": false
        },
        "execution": {
          "iopub.status.busy": "2025-05-26T20:39:04.914949Z",
          "iopub.execute_input": "2025-05-26T20:39:04.915203Z",
          "iopub.status.idle": "2025-05-26T20:39:05.385328Z",
          "shell.execute_reply.started": "2025-05-26T20:39:04.915181Z",
          "shell.execute_reply": "2025-05-26T20:39:05.384428Z"
        },
        "id": "HxvFfiDywcRd",
        "outputId": "427afe73-0c7d-4dae-f107-3476474a79fa"
      },
      "outputs": [
        {
          "name": "stdout",
          "text": "GMM_Mean0  PSNR: 52.68794737380751\nGMM_Mean1  PSNR: 52.63045912726122\nGMM_Mean2  PSNR: 52.668430114274315\nGMM_Std0  PSNR: 52.376027636035396\nGMM_Std1  PSNR: 51.26992743348943\nGMM_Std2  PSNR: 51.87284498516785\nGMM_Weight0  PSNR: 53.63959011755643\nGMM_Weight1  PSNR: 53.50165143139896\nGMM_Weight2  PSNR: 53.640972809700294\n\nAverage psnr :  52.69865011429905\nRMSE: 0.004672115798452637\n",
          "output_type": "stream"
        }
      ],
      "execution_count": null
    },
    {
      "cell_type": "code",
      "source": [
        "# !rm -rf /kaggle/working/*"
      ],
      "metadata": {
        "trusted": true,
        "execution": {
          "iopub.status.busy": "2025-05-26T20:39:05.386663Z",
          "iopub.execute_input": "2025-05-26T20:39:05.386998Z",
          "iopub.status.idle": "2025-05-26T20:39:05.390530Z",
          "shell.execute_reply.started": "2025-05-26T20:39:05.386966Z",
          "shell.execute_reply": "2025-05-26T20:39:05.389710Z"
        },
        "id": "N5DE5jpGwcRd"
      },
      "outputs": [],
      "execution_count": null
    },
    {
      "cell_type": "code",
      "source": [
        "#print(os.path.getsize('/kaggle/working/models/train_3d_data_200ep_6rb_320n_512bs_5e-05lr_Truedecay_0.8dr_decayingAtInterval15.pth') / (1024 ** 2), 'MB')\n",
        "print(os.path.getsize('/content/models/train_3d_data_200ep_6rb_320n_512bs_5e-05lr_Truedecay_0.8dr_decayingAtInterval15.pth') / (1024 ** 2), 'MB')"
      ],
      "metadata": {
        "trusted": true,
        "execution": {
          "iopub.status.busy": "2025-05-26T20:42:22.099537Z",
          "iopub.execute_input": "2025-05-26T20:42:22.099844Z",
          "iopub.status.idle": "2025-05-26T20:42:22.105129Z",
          "shell.execute_reply.started": "2025-05-26T20:42:22.099821Z",
          "shell.execute_reply": "2025-05-26T20:42:22.104165Z"
        },
        "id": "nerxb4NNwcRd",
        "outputId": "ff5c5d8a-8ce8-474c-dee9-d0370e8e9246",
        "colab": {
          "base_uri": "https://localhost:8080/"
        }
      },
      "outputs": [
        {
          "output_type": "stream",
          "name": "stdout",
          "text": [
            "4.731752395629883 MB\n"
          ]
        }
      ],
      "execution_count": 23
    },
    {
      "cell_type": "code",
      "source": [
        "# # vti saving path\n",
        "vti_path = args.vti_path\n",
        "if not os.path.exists(vti_path):\n",
        "    os.makedirs(vti_path)\n",
        "# vti name\n",
        "vti_name = args.vti_name\n",
        "isMaskPresent=False\n",
        "mask_arr = []\n",
        "makeVTI(data, val, n_predictions, n_pts, total_vars, var_name, dim, isMaskPresent, mask_arr, vti_path, vti_name)"
      ],
      "metadata": {
        "_uuid": "8987b9b8-de2f-448c-995c-28bee1a033eb",
        "_cell_guid": "6f9d6b16-aa9c-4808-81e8-a4d1e00459d2",
        "trusted": true,
        "jupyter": {
          "outputs_hidden": false
        },
        "execution": {
          "iopub.status.busy": "2025-05-26T20:39:05.443004Z",
          "iopub.status.idle": "2025-05-26T20:39:05.443267Z",
          "shell.execute_reply": "2025-05-26T20:39:05.443158Z"
        },
        "id": "iT7IpVLZwcRd",
        "colab": {
          "base_uri": "https://localhost:8080/"
        },
        "outputId": "41930e28-540e-4b11-ef6a-e7f7933ff9ab"
      },
      "outputs": [
        {
          "output_type": "stream",
          "name": "stdout",
          "text": [
            "Vti File written successfully at ./data/predicted.vti\n"
          ]
        }
      ],
      "execution_count": 24
    }
  ]
}