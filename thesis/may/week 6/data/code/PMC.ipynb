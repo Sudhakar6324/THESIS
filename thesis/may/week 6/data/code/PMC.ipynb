{
  "nbformat": 4,
  "nbformat_minor": 0,
  "metadata": {
    "colab": {
      "provenance": []
    },
    "kernelspec": {
      "name": "python3",
      "display_name": "Python 3"
    },
    "language_info": {
      "name": "python"
    }
  },
  "cells": [
    {
      "cell_type": "code",
      "execution_count": 4,
      "metadata": {
        "colab": {
          "base_uri": "https://localhost:8080/"
        },
        "id": "Ksos1igbEwwP",
        "outputId": "b57962d8-b5f5-4311-f5e8-560f04ba9b7e"
      },
      "outputs": [
        {
          "output_type": "stream",
          "name": "stdout",
          "text": [
            "Requirement already satisfied: vtk in /usr/local/lib/python3.11/dist-packages (9.5.0)\n",
            "Requirement already satisfied: numpy in /usr/local/lib/python3.11/dist-packages (2.0.2)\n",
            "Requirement already satisfied: tqdm in /usr/local/lib/python3.11/dist-packages (4.67.1)\n",
            "Requirement already satisfied: matplotlib>=2.0.0 in /usr/local/lib/python3.11/dist-packages (from vtk) (3.10.0)\n",
            "Requirement already satisfied: contourpy>=1.0.1 in /usr/local/lib/python3.11/dist-packages (from matplotlib>=2.0.0->vtk) (1.3.2)\n",
            "Requirement already satisfied: cycler>=0.10 in /usr/local/lib/python3.11/dist-packages (from matplotlib>=2.0.0->vtk) (0.12.1)\n",
            "Requirement already satisfied: fonttools>=4.22.0 in /usr/local/lib/python3.11/dist-packages (from matplotlib>=2.0.0->vtk) (4.58.4)\n",
            "Requirement already satisfied: kiwisolver>=1.3.1 in /usr/local/lib/python3.11/dist-packages (from matplotlib>=2.0.0->vtk) (1.4.8)\n",
            "Requirement already satisfied: packaging>=20.0 in /usr/local/lib/python3.11/dist-packages (from matplotlib>=2.0.0->vtk) (24.2)\n",
            "Requirement already satisfied: pillow>=8 in /usr/local/lib/python3.11/dist-packages (from matplotlib>=2.0.0->vtk) (11.2.1)\n",
            "Requirement already satisfied: pyparsing>=2.3.1 in /usr/local/lib/python3.11/dist-packages (from matplotlib>=2.0.0->vtk) (3.2.3)\n",
            "Requirement already satisfied: python-dateutil>=2.7 in /usr/local/lib/python3.11/dist-packages (from matplotlib>=2.0.0->vtk) (2.9.0.post0)\n",
            "Requirement already satisfied: six>=1.5 in /usr/local/lib/python3.11/dist-packages (from python-dateutil>=2.7->matplotlib>=2.0.0->vtk) (1.17.0)\n"
          ]
        }
      ],
      "source": [
        "!pip install vtk numpy tqdm\n"
      ]
    },
    {
      "cell_type": "code",
      "source": [
        "import vtk\n",
        "import numpy as np\n",
        "\n",
        "def load_vti(filename):\n",
        "    reader = vtk.vtkXMLImageDataReader()\n",
        "    reader.SetFileName(filename)\n",
        "    reader.Update()\n",
        "\n",
        "    image_data = reader.GetOutput()\n",
        "    dims = image_data.GetDimensions()  # (nx, ny, nz)\n",
        "\n",
        "    # Extract scalar arrays\n",
        "    point_data = image_data.GetPointData()\n",
        "    mean_array = point_data.GetArray(\"Pressure_Mean\")\n",
        "    std_array = point_data.GetArray(\"Pressure_Std\")\n",
        "\n",
        "    n_points = mean_array.GetNumberOfTuples()\n",
        "    mean_np = np.array([mean_array.GetValue(i) for i in range(n_points)])\n",
        "    std_np = np.array([std_array.GetValue(i) for i in range(n_points)])\n",
        "\n",
        "    # Reshape to 3D\n",
        "    mean_3d = mean_np.reshape(dims, order=\"F\")\n",
        "    std_3d = std_np.reshape(dims, order=\"F\")\n",
        "\n",
        "    return mean_3d, std_3d, dims\n"
      ],
      "metadata": {
        "id": "Vbyu6YM3E0lw"
      },
      "execution_count": null,
      "outputs": []
    },
    {
      "cell_type": "code",
      "source": [
        "from tqdm import tqdm\n",
        "\n",
        "def estimate_crossing_prob(mu_vals, sigma_vals, isovalue, num_samples=1000):\n",
        "    samples = np.random.randn(num_samples, 8) * sigma_vals + mu_vals\n",
        "    above = np.any(samples > isovalue, axis=1)\n",
        "    below = np.any(samples < isovalue, axis=1)\n",
        "    crossing = above & below\n",
        "    return np.mean(crossing)\n",
        "\n",
        "def probabilistic_marching_cubes(mean_3d, std_3d, isovalue, num_samples=1000):\n",
        "    nx, ny, nz = mean_3d.shape\n",
        "    prob_vol = np.zeros((nx - 1, ny - 1, nz - 1))\n",
        "\n",
        "    for i in tqdm(range(nx - 1), desc=\"PMC\"):\n",
        "        for j in range(ny - 1):\n",
        "            for k in range(nz - 1):\n",
        "                corners = [(i+di, j+dj, k+dk) for di in [0, 1] for dj in [0, 1] for dk in [0, 1]]\n",
        "                mu_vals = np.array([mean_3d[x, y, z] for x, y, z in corners])\n",
        "                sigma_vals = np.array([std_3d[x, y, z] for x, y, z in corners])\n",
        "                prob = estimate_crossing_prob(mu_vals, sigma_vals, isovalue, num_samples)\n",
        "                prob_vol[i, j, k] = prob\n",
        "\n",
        "    return prob_vol\n"
      ],
      "metadata": {
        "id": "esHRhIM0E-_6"
      },
      "execution_count": null,
      "outputs": []
    },
    {
      "cell_type": "code",
      "source": [
        "def save_prob_vti(prob_vol, output_filename=\"probability.vti\"):\n",
        "    nx, ny, nz = prob_vol.shape\n",
        "    image_data = vtk.vtkImageData()\n",
        "    image_data.SetDimensions(nx, ny, nz)\n",
        "    image_data.SetSpacing(1.0, 1.0, 1.0)\n",
        "    image_data.SetOrigin(0, 0, 0)\n",
        "\n",
        "    # Convert to VTK array\n",
        "    flat = prob_vol.flatten(order=\"F\")\n",
        "    vtk_array = vtk.vtkFloatArray()\n",
        "    vtk_array.SetName(\"probability\")\n",
        "    vtk_array.SetNumberOfValues(flat.size)\n",
        "    for i, val in enumerate(flat):\n",
        "        vtk_array.SetValue(i, val)\n",
        "\n",
        "    image_data.GetPointData().AddArray(vtk_array)\n",
        "\n",
        "    writer = vtk.vtkXMLImageDataWriter()\n",
        "    writer.SetFileName(output_filename)\n",
        "    writer.SetInputData(image_data)\n",
        "    writer.Write()\n"
      ],
      "metadata": {
        "id": "0A8OZvc7FU2p"
      },
      "execution_count": null,
      "outputs": []
    },
    {
      "cell_type": "code",
      "source": [
        "mean_3d, std_3d, dims = load_vti(\"isabel_gaussian.vti\")\n",
        "isovalue = 930.0\n",
        "\n",
        "prob_vol = probabilistic_marching_cubes(mean_3d, std_3d, isovalue, num_samples=2000)\n",
        "save_prob_vti(prob_vol, \"isabel_probability.vti\")\n"
      ],
      "metadata": {
        "colab": {
          "base_uri": "https://localhost:8080/"
        },
        "id": "SI-vHKSnFYxX",
        "outputId": "14b1082e-035d-4cbd-8968-da82884d43d0"
      },
      "execution_count": null,
      "outputs": [
        {
          "output_type": "stream",
          "name": "stderr",
          "text": [
            "PMC: 100%|██████████| 249/249 [37:28<00:00,  9.03s/it]\n"
          ]
        }
      ]
    },
    {
      "cell_type": "code",
      "source": [
        "import vtk\n",
        "\n",
        "def print_vti_arrays(filename):\n",
        "    reader = vtk.vtkXMLImageDataReader()\n",
        "    reader.SetFileName(filename)\n",
        "    reader.Update()\n",
        "\n",
        "    image_data = reader.GetOutput()\n",
        "    point_data = image_data.GetPointData()\n",
        "\n",
        "    print(\"Available scalar arrays:\")\n",
        "    for i in range(point_data.GetNumberOfArrays()):\n",
        "        print(\"-\", point_data.GetArrayName(i))\n",
        "\n",
        "print_vti_arrays(\"/content/isabel_gaussian.vti\")\n"
      ],
      "metadata": {
        "colab": {
          "base_uri": "https://localhost:8080/"
        },
        "id": "LMCgdAZ6FwiW",
        "outputId": "039f7fbb-f8a1-4cce-920a-0c19bbed6749"
      },
      "execution_count": null,
      "outputs": [
        {
          "output_type": "stream",
          "name": "stdout",
          "text": [
            "Available scalar arrays:\n",
            "- Pressure_Mean\n",
            "- Pressure_Std\n"
          ]
        }
      ]
    },
    {
      "cell_type": "code",
      "source": [
        "import numpy as np\n",
        "import vtk\n",
        "from vtk.util.numpy_support import vtk_to_numpy, numpy_to_vtk\n",
        "from tqdm import tqdm\n",
        "\n",
        "# === CONFIG ===\n",
        "INPUT_VTI = \"/content/new_tear_pred_150_c.vti\"\n",
        "MEAN_NAME = \"mean\"\n",
        "VAR_NAME = \"variance\"\n",
        "ISOLEVEL =  159.9798\n",
        "N_SAMPLES = 1000\n",
        "OUTPUT_VTI = \"159_150_isourfaces_combined.vti\"\n",
        "CORRELATION = 0 # Synthetic correlation coefficient for adjacent cell vertices\n",
        "\n",
        "# === Load VTI File ===\n",
        "reader = vtk.vtkXMLImageDataReader()\n",
        "reader.SetFileName(INPUT_VTI)\n",
        "reader.Update()\n",
        "image = reader.GetOutput()\n",
        "dims = image.GetDimensions()\n",
        "\n",
        "mean_arr = vtk_to_numpy(image.GetPointData().GetArray(0))\n",
        "var_arr= vtk_to_numpy(image.GetPointData().GetArray(1))\n",
        "\n",
        "mean_3d = mean_arr.reshape(dims[::-1], order='F')\n",
        "std_3d = var_arr.reshape(dims[::-1], order='F')\n",
        "\n",
        "# === Cell Vertex Indexing ===\n",
        "def get_cell_vertices(i, j, k):\n",
        "    return [\n",
        "        (i,   j,   k),\n",
        "        (i+1, j,   k),\n",
        "        (i+1, j+1, k),\n",
        "        (i,   j+1, k),\n",
        "        (i,   j,   k+1),\n",
        "        (i+1, j,   k+1),\n",
        "        (i+1, j+1, k+1),\n",
        "        (i,   j+1, k+1),\n",
        "    ]\n",
        "\n",
        "# === Build synthetic 8x8 covariance matrix ===\n",
        "def build_covariance(sigma, rho=0.6):\n",
        "    cov = np.full((8, 8), rho)\n",
        "    np.fill_diagonal(cov, 1.0)\n",
        "    return (sigma[:, None] * sigma[None, :]) * cov\n",
        "\n",
        "# === Check if isosurface crosses the cell ===\n",
        "def is_crossing(values, isovalue):\n",
        "    return np.min(values) < isovalue and np.max(values) > isovalue\n",
        "\n",
        "# === Monte Carlo Estimation (with correlation) ===\n",
        "def sample_crossing_probability(mu, sigma, isovalue, n_samples, rho):\n",
        "    cov = build_covariance(sigma, rho)\n",
        "    try:\n",
        "        samples = np.random.multivariate_normal(mu, cov, size=n_samples)\n",
        "    except np.linalg.LinAlgError:\n",
        "        # fallback in case of numerical issues\n",
        "        samples = np.random.normal(loc=mu, scale=sigma, size=(n_samples, 8))\n",
        "    cross = np.any(samples < isovalue, axis=1) & np.any(samples > isovalue, axis=1)\n",
        "    return np.mean(cross)\n",
        "\n",
        "# === Main Computation ===\n",
        "output_shape = tuple(d - 1 for d in mean_3d.shape)\n",
        "prob_grid = np.zeros(output_shape, dtype=np.float32)\n",
        "\n",
        "total_cells = np.prod(output_shape)\n",
        "progress = tqdm(total=total_cells, desc=\"Processing Cells\")\n",
        "\n",
        "print(\"Computing probabilities with correlation...\")\n",
        "for i in range(output_shape[0]):\n",
        "    for j in range(output_shape[1]):\n",
        "        for k in range(output_shape[2]):\n",
        "            verts = get_cell_vertices(i, j, k)\n",
        "            mu = np.array([mean_3d[x, y, z] for (x, y, z) in verts], dtype=np.float64)\n",
        "            sigma = np.array([std_3d[x, y, z] for (x, y, z) in verts], dtype=np.float64)\n",
        "            prob = sample_crossing_probability(mu, sigma, ISOLEVEL, N_SAMPLES, CORRELATION)\n",
        "            prob_grid[i, j, k] = prob\n",
        "            progress.update(1)\n",
        "\n",
        "progress.close()\n",
        "\n",
        "# === Convert to VTK ImageData ===\n",
        "prob_image = vtk.vtkImageData()\n",
        "prob_image.SetDimensions(prob_grid.shape)\n",
        "prob_image.SetSpacing(image.GetSpacing())\n",
        "prob_image.SetOrigin(image.GetOrigin())\n",
        "\n",
        "flat = prob_grid.ravel(order='F')  # VTK expects Fortran order\n",
        "vtk_array = numpy_to_vtk(flat, deep=True)\n",
        "vtk_array.SetName(\"crossing_probability\")\n",
        "prob_image.GetPointData().AddArray(vtk_array)\n",
        "prob_image.GetPointData().SetActiveScalars(\"crossing_probability\")\n",
        "\n",
        "# === Write Output ===\n",
        "writer = vtk.vtkXMLImageDataWriter()\n",
        "writer.SetFileName(OUTPUT_VTI)\n",
        "writer.SetInputData(prob_image)\n",
        "writer.Write()\n",
        "\n",
        "print(f\"Saved output to {OUTPUT_VTI}\")\n"
      ],
      "metadata": {
        "id": "2xsqY5HSGcQm",
        "colab": {
          "base_uri": "https://localhost:8080/"
        },
        "outputId": "e86bfa86-3890-4a5e-f18f-cd11a479f319"
      },
      "execution_count": 5,
      "outputs": [
        {
          "output_type": "stream",
          "name": "stderr",
          "text": [
            "Processing Cells:   0%|          | 388/250047 [00:00<02:08, 1949.90it/s]"
          ]
        },
        {
          "output_type": "stream",
          "name": "stdout",
          "text": [
            "Computing probabilities with correlation...\n"
          ]
        },
        {
          "output_type": "stream",
          "name": "stderr",
          "text": [
            "Processing Cells: 100%|██████████| 250047/250047 [02:30<00:00, 1662.07it/s]"
          ]
        },
        {
          "output_type": "stream",
          "name": "stdout",
          "text": [
            "Saved output to 159_150_isourfaces_combined.vti\n"
          ]
        },
        {
          "output_type": "stream",
          "name": "stderr",
          "text": [
            "\n"
          ]
        }
      ]
    },
    {
      "cell_type": "code",
      "source": [],
      "metadata": {
        "id": "pQXkeKElEVS1"
      },
      "execution_count": null,
      "outputs": []
    }
  ]
}