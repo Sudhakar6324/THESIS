{
  "metadata": {
    "kernelspec": {
      "display_name": "Python 3",
      "name": "python3"
    },
    "language_info": {
      "name": "python",
      "version": "3.10.12",
      "mimetype": "text/x-python",
      "codemirror_mode": {
        "name": "ipython",
        "version": 3
      },
      "pygments_lexer": "ipython3",
      "nbconvert_exporter": "python",
      "file_extension": ".py"
    },
    "kaggle": {
      "accelerator": "nvidiaTeslaT4",
      "dataSources": [
        {
          "sourceId": 10578389,
          "sourceType": "datasetVersion",
          "datasetId": 6546447
        },
        {
          "sourceId": 11041818,
          "sourceType": "datasetVersion",
          "datasetId": 6878023
        },
        {
          "sourceId": 11251078,
          "sourceType": "datasetVersion",
          "datasetId": 7030699
        },
        {
          "sourceId": 11389139,
          "sourceType": "datasetVersion",
          "datasetId": 7132144
        },
        {
          "sourceId": 11421576,
          "sourceType": "datasetVersion",
          "datasetId": 7153051
        }
      ],
      "dockerImageVersionId": 30919,
      "isInternetEnabled": true,
      "language": "python",
      "sourceType": "notebook",
      "isGpuEnabled": true
    },
    "colab": {
      "provenance": [],
      "gpuType": "T4"
    },
    "accelerator": "GPU"
  },
  "nbformat_minor": 0,
  "nbformat": 4,
  "cells": [
    {
      "cell_type": "code",
      "source": [
        "!pip install vtk"
      ],
      "metadata": {
        "colab": {
          "base_uri": "https://localhost:8080/"
        },
        "id": "rv6VNZyMrHmb",
        "outputId": "a89bd9c1-d79d-4b44-dbe0-82aeb1aff9f3"
      },
      "execution_count": null,
      "outputs": [
        {
          "output_type": "stream",
          "name": "stdout",
          "text": [
            "Requirement already satisfied: vtk in /usr/local/lib/python3.11/dist-packages (9.4.2)\n",
            "Requirement already satisfied: matplotlib>=2.0.0 in /usr/local/lib/python3.11/dist-packages (from vtk) (3.10.0)\n",
            "Requirement already satisfied: contourpy>=1.0.1 in /usr/local/lib/python3.11/dist-packages (from matplotlib>=2.0.0->vtk) (1.3.2)\n",
            "Requirement already satisfied: cycler>=0.10 in /usr/local/lib/python3.11/dist-packages (from matplotlib>=2.0.0->vtk) (0.12.1)\n",
            "Requirement already satisfied: fonttools>=4.22.0 in /usr/local/lib/python3.11/dist-packages (from matplotlib>=2.0.0->vtk) (4.58.0)\n",
            "Requirement already satisfied: kiwisolver>=1.3.1 in /usr/local/lib/python3.11/dist-packages (from matplotlib>=2.0.0->vtk) (1.4.8)\n",
            "Requirement already satisfied: numpy>=1.23 in /usr/local/lib/python3.11/dist-packages (from matplotlib>=2.0.0->vtk) (2.0.2)\n",
            "Requirement already satisfied: packaging>=20.0 in /usr/local/lib/python3.11/dist-packages (from matplotlib>=2.0.0->vtk) (24.2)\n",
            "Requirement already satisfied: pillow>=8 in /usr/local/lib/python3.11/dist-packages (from matplotlib>=2.0.0->vtk) (11.2.1)\n",
            "Requirement already satisfied: pyparsing>=2.3.1 in /usr/local/lib/python3.11/dist-packages (from matplotlib>=2.0.0->vtk) (3.2.3)\n",
            "Requirement already satisfied: python-dateutil>=2.7 in /usr/local/lib/python3.11/dist-packages (from matplotlib>=2.0.0->vtk) (2.9.0.post0)\n",
            "Requirement already satisfied: six>=1.5 in /usr/local/lib/python3.11/dist-packages (from python-dateutil>=2.7->matplotlib>=2.0.0->vtk) (1.17.0)\n"
          ]
        }
      ]
    },
    {
      "cell_type": "code",
      "source": [
        "import numpy as np\n",
        "import torch\n",
        "from torch import nn, optim\n",
        "import torch.optim as optim\n",
        "import torch.nn as nn\n",
        "from torch.nn import functional as F\n",
        "from torch.utils.data import TensorDataset, DataLoader\n",
        "import seaborn as sns\n",
        "import matplotlib.pyplot as plt\n",
        "import vtk\n",
        "from vtk import *\n",
        "from vtk.util.numpy_support import vtk_to_numpy\n",
        "import random\n",
        "import os\n",
        "import sys\n",
        "import time"
      ],
      "metadata": {
        "_uuid": "d33f75d4-5445-4e48-8179-f0c5dd333f79",
        "_cell_guid": "240889c7-74eb-4fd4-a5b1-ec2aead81dac",
        "trusted": true,
        "jupyter": {
          "outputs_hidden": false
        },
        "execution": {
          "iopub.status.busy": "2025-05-26T20:25:13.755511Z",
          "iopub.execute_input": "2025-05-26T20:25:13.755738Z",
          "iopub.status.idle": "2025-05-26T20:25:19.575599Z",
          "shell.execute_reply.started": "2025-05-26T20:25:13.755716Z",
          "shell.execute_reply": "2025-05-26T20:25:19.574610Z"
        },
        "id": "Lb0sxYXUwcRY"
      },
      "outputs": [],
      "execution_count": null
    },
    {
      "cell_type": "code",
      "source": [
        "device = torch.device(\"cuda\") if torch.cuda.is_available() else torch.device(\"cpu\")\n",
        "print('Device running:', device)"
      ],
      "metadata": {
        "_uuid": "43d958cf-562d-4fb8-9670-43075fd82174",
        "_cell_guid": "bda30f3b-5c85-404f-8cdc-861e65b7ae69",
        "trusted": true,
        "jupyter": {
          "outputs_hidden": false
        },
        "execution": {
          "iopub.status.busy": "2025-05-26T20:25:19.576562Z",
          "iopub.execute_input": "2025-05-26T20:25:19.576994Z",
          "iopub.status.idle": "2025-05-26T20:25:19.654026Z",
          "shell.execute_reply.started": "2025-05-26T20:25:19.576972Z",
          "shell.execute_reply": "2025-05-26T20:25:19.653204Z"
        },
        "id": "Hp50B_2iwcRZ",
        "outputId": "f31db2db-fd01-4256-8d17-de5f1450f5b9",
        "colab": {
          "base_uri": "https://localhost:8080/"
        }
      },
      "outputs": [
        {
          "output_type": "stream",
          "name": "stdout",
          "text": [
            "Device running: cuda\n"
          ]
        }
      ],
      "execution_count": null
    },
    {
      "cell_type": "code",
      "source": [
        "class SineLayer(nn.Module):\n",
        "    def __init__(self, in_features, out_features, bias=True, is_first=False, omega_0=30):\n",
        "        super().__init__()\n",
        "        self.omega_0 = omega_0\n",
        "        self.is_first = is_first\n",
        "        # self.enable_dropout = enable_dropout\n",
        "        # self.dropout_prob = dropout_prob\n",
        "        self.in_features = in_features\n",
        "        # if enable_dropout:\n",
        "        #     if not self.is_first:\n",
        "        #         self.dropout = nn.Dropout(dropout_prob)\n",
        "        self.linear = nn.Linear(in_features, out_features, bias=bias)\n",
        "\n",
        "        self.init_weights()\n",
        "\n",
        "    def init_weights(self):\n",
        "        with torch.no_grad():\n",
        "            if self.is_first:\n",
        "                self.linear.weight.uniform_(-1 / self.in_features,\n",
        "                                             1 / self.in_features)\n",
        "            else:\n",
        "                self.linear.weight.uniform_(-np.sqrt(6 / self.in_features) / self.omega_0,\n",
        "                                             np.sqrt(6 / self.in_features) / self.omega_0)\n",
        "\n",
        "\n",
        "    def forward(self, x):\n",
        "        x = self.linear(x)\n",
        "        # if self.enable_dropout:\n",
        "        #     if not self.is_first:\n",
        "        #         x = self.dropout(x)\n",
        "        return torch.sin(self.omega_0 * x)"
      ],
      "metadata": {
        "_uuid": "c6d00f8a-3e62-40d1-81e8-b30fd44e994f",
        "_cell_guid": "47639dbe-7c29-4716-ad12-c245edbd4925",
        "trusted": true,
        "jupyter": {
          "outputs_hidden": false
        },
        "execution": {
          "iopub.status.busy": "2025-05-26T20:25:19.654942Z",
          "iopub.execute_input": "2025-05-26T20:25:19.655223Z",
          "iopub.status.idle": "2025-05-26T20:25:19.667030Z",
          "shell.execute_reply.started": "2025-05-26T20:25:19.655199Z",
          "shell.execute_reply": "2025-05-26T20:25:19.666295Z"
        },
        "id": "i9QFU8gYwcRa"
      },
      "outputs": [],
      "execution_count": null
    },
    {
      "cell_type": "code",
      "source": [
        "class ResidualSineLayer(nn.Module):\n",
        "    def __init__(self, features, bias=True, ave_first=False, ave_second=False, omega_0=30):\n",
        "        super().__init__()\n",
        "        self.omega_0 = omega_0\n",
        "        # self.enable_dropout = enable_dropout\n",
        "        # self.dropout_prob = dropout_prob\n",
        "        self.features = features\n",
        "        # if enable_dropout:\n",
        "        #     self.dropout_1 = nn.Dropout(dropout_prob)\n",
        "        self.linear_1 = nn.Linear(features, features, bias=bias)\n",
        "        self.linear_2 = nn.Linear(features, features, bias=bias)\n",
        "        self.weight_1 = .5 if ave_first else 1\n",
        "        self.weight_2 = .5 if ave_second else 1\n",
        "\n",
        "        self.init_weights()\n",
        "\n",
        "\n",
        "    def init_weights(self):\n",
        "        with torch.no_grad():\n",
        "            self.linear_1.weight.uniform_(-np.sqrt(6 / self.features) / self.omega_0,\n",
        "                                           np.sqrt(6 / self.features) / self.omega_0)\n",
        "            self.linear_2.weight.uniform_(-np.sqrt(6 / self.features) / self.omega_0,\n",
        "                                           np.sqrt(6 / self.features) / self.omega_0)\n",
        "\n",
        "    def forward(self, input):\n",
        "        linear_1 = self.linear_1(self.weight_1*input)\n",
        "        # if self.enable_dropout:\n",
        "        #     linear_1 = self.dropout_1(linear_1)\n",
        "        sine_1 = torch.sin(self.omega_0 * linear_1)\n",
        "        sine_2 = torch.sin(self.omega_0 * self.linear_2(sine_1))\n",
        "        return self.weight_2*(input+sine_2)"
      ],
      "metadata": {
        "_uuid": "286fbfd2-ba2c-4fbe-8ac6-cfebd4a21e55",
        "_cell_guid": "ef7cdfa6-ccb1-405d-a306-c83170e479b4",
        "trusted": true,
        "jupyter": {
          "outputs_hidden": false
        },
        "execution": {
          "iopub.status.busy": "2025-05-26T20:25:19.667767Z",
          "iopub.execute_input": "2025-05-26T20:25:19.668045Z",
          "iopub.status.idle": "2025-05-26T20:25:19.679335Z",
          "shell.execute_reply.started": "2025-05-26T20:25:19.668025Z",
          "shell.execute_reply": "2025-05-26T20:25:19.678679Z"
        },
        "id": "04To9WrGwcRa"
      },
      "outputs": [],
      "execution_count": null
    },
    {
      "cell_type": "code",
      "source": [
        "class MyResidualSirenNet(nn.Module):\n",
        "    def __init__(self, obj):\n",
        "        super(MyResidualSirenNet, self).__init__()\n",
        "        # self.enable_dropout = obj['enable_dropout']\n",
        "        # self.dropout_prob = obj['dropout_prob']\n",
        "        self.Omega_0=30\n",
        "        self.n_layers = obj['n_layers']\n",
        "        self.input_dim = obj['dim']\n",
        "        self.output_dim = obj['total_vars']\n",
        "        self.neurons_per_layer = obj['n_neurons']\n",
        "        self.layers = [self.input_dim]\n",
        "        for i in range(self.n_layers-1):\n",
        "            self.layers.append(self.neurons_per_layer)\n",
        "        self.layers.append(self.output_dim)\n",
        "        self.net_layers = nn.ModuleList()\n",
        "        for idx in np.arange(self.n_layers):\n",
        "            layer_in = self.layers[idx]\n",
        "            layer_out = self.layers[idx+1]\n",
        "            ## if not the final layer\n",
        "            if idx != self.n_layers-1:\n",
        "                ## if first layer\n",
        "                if idx==0:\n",
        "                    self.net_layers.append(SineLayer(layer_in,layer_out,bias=True,is_first=idx==0))\n",
        "                ## if an intermdeiate layer\n",
        "                else:\n",
        "                    self.net_layers.append(ResidualSineLayer(layer_in,bias=True,ave_first=idx>1,ave_second=idx==(self.n_layers-2)))\n",
        "            ## if final layer\n",
        "            else:\n",
        "                final_linear = nn.Linear(layer_in,layer_out)\n",
        "                ## initialize weights for the final layer\n",
        "                with torch.no_grad():\n",
        "                    final_linear.weight.uniform_(-np.sqrt(6 / (layer_in)) / self.Omega_0, np.sqrt(6 / (layer_in)) / self.Omega_0)\n",
        "                self.net_layers.append(final_linear)\n",
        "\n",
        "    def forward(self,x):\n",
        "        for net_layer in self.net_layers:\n",
        "            x = net_layer(x)\n",
        "        return x"
      ],
      "metadata": {
        "_uuid": "e1400ad9-b3ed-49fc-81e0-929816a0aaf2",
        "_cell_guid": "807361ca-2c71-4799-83d0-2da9ccf9fac0",
        "trusted": true,
        "jupyter": {
          "outputs_hidden": false
        },
        "execution": {
          "iopub.status.busy": "2025-05-26T20:25:19.680067Z",
          "iopub.execute_input": "2025-05-26T20:25:19.680289Z",
          "iopub.status.idle": "2025-05-26T20:25:19.693684Z",
          "shell.execute_reply.started": "2025-05-26T20:25:19.680270Z",
          "shell.execute_reply": "2025-05-26T20:25:19.693049Z"
        },
        "id": "w4RDAOQLwcRa"
      },
      "outputs": [],
      "execution_count": null
    },
    {
      "cell_type": "code",
      "source": [
        "def size_of_network(n_layers, n_neurons, d_in, d_out, is_residual = True):\n",
        "    # Adding input layer\n",
        "    layers = [d_in]\n",
        "    # layers = [3]\n",
        "\n",
        "    # Adding hidden layers\n",
        "    layers.extend([n_neurons]*n_layers)\n",
        "    # layers = [3, 5, 5, 5]\n",
        "\n",
        "    # Adding output layer\n",
        "    layers.append(d_out)\n",
        "    # layers = [3, 5, 5, 5, 1]\n",
        "\n",
        "    # Number of steps\n",
        "    n_layers = len(layers)-1\n",
        "    # n_layers = 5 - 1 = 4\n",
        "\n",
        "    n_params = 0\n",
        "\n",
        "    # np.arange(4) = [0, 1, 2, 3]\n",
        "    for ndx in np.arange(n_layers):\n",
        "\n",
        "        # number of neurons in below layer\n",
        "        layer_in = layers[ndx]\n",
        "\n",
        "        # number of neurons in above layer\n",
        "        layer_out = layers[ndx+1]\n",
        "\n",
        "        # max number of neurons in both the layer\n",
        "        og_layer_in = max(layer_in,layer_out)\n",
        "\n",
        "        # if lower layer is the input layer\n",
        "        # or the upper layer is the output layer\n",
        "        if ndx==0 or ndx==(n_layers-1):\n",
        "            # Adding weight corresponding to every neuron for every input neuron\n",
        "            # Adding bias for every neuron in the upper layer\n",
        "            n_params += ((layer_in+1)*layer_out)\n",
        "\n",
        "        else:\n",
        "\n",
        "            # If the layer is residual then proceed as follows as there will be more weights if residual layer is included\n",
        "            if is_residual:\n",
        "                # doubt in the following two lines\n",
        "                n_params += (layer_in*og_layer_in)+og_layer_in\n",
        "                n_params += (og_layer_in*layer_out)+layer_out\n",
        "\n",
        "            # if the layer is non residual then simply add number of weights and biases as follows\n",
        "            else:\n",
        "                n_params += ((layer_in+1)*layer_out)\n",
        "            #\n",
        "        #\n",
        "    #\n",
        "\n",
        "    return n_params"
      ],
      "metadata": {
        "_uuid": "49e23bf9-3de6-417b-8de1-53aaf02fd323",
        "_cell_guid": "7342b7cd-612f-4c56-ad94-ecd81203519a",
        "trusted": true,
        "jupyter": {
          "outputs_hidden": false
        },
        "execution": {
          "iopub.status.busy": "2025-05-26T20:25:19.695847Z",
          "iopub.execute_input": "2025-05-26T20:25:19.696059Z",
          "iopub.status.idle": "2025-05-26T20:25:19.707241Z",
          "shell.execute_reply.started": "2025-05-26T20:25:19.696041Z",
          "shell.execute_reply": "2025-05-26T20:25:19.706562Z"
        },
        "id": "HZ9pJqTBwcRa"
      },
      "outputs": [],
      "execution_count": null
    },
    {
      "cell_type": "code",
      "source": [
        "def compute_PSNR(arrgt,arr_recon):\n",
        "    diff = arrgt - arr_recon\n",
        "    sqd_max_diff = (np.max(arrgt)-np.min(arrgt))**2\n",
        "    snr = 10*np.log10(sqd_max_diff/np.mean(diff**2))\n",
        "    return snr"
      ],
      "metadata": {
        "_uuid": "4bee2b5f-d501-4d1c-b226-410b2624c2d5",
        "_cell_guid": "c8d04a55-6de3-4520-9cf7-45a568420b31",
        "trusted": true,
        "jupyter": {
          "outputs_hidden": false
        },
        "execution": {
          "iopub.status.busy": "2025-05-26T20:25:19.708470Z",
          "iopub.execute_input": "2025-05-26T20:25:19.708697Z",
          "iopub.status.idle": "2025-05-26T20:25:19.720894Z",
          "shell.execute_reply.started": "2025-05-26T20:25:19.708678Z",
          "shell.execute_reply": "2025-05-26T20:25:19.720185Z"
        },
        "id": "wiLr4DcEwcRb"
      },
      "outputs": [],
      "execution_count": null
    },
    {
      "cell_type": "code",
      "source": [
        "def srs(numOfPoints, valid_pts, percentage, isMaskPresent, mask_array):\n",
        "\n",
        "    # getting total number of sampled points\n",
        "    numberOfSampledPoints = int((valid_pts/100) * percentage)\n",
        "\n",
        "    # storing corner indices in indices variable\n",
        "    indices = set()\n",
        "\n",
        "    # As long as we don't get the required amount of sample points keep finding the random numbers\n",
        "    while(len(indices) < numberOfSampledPoints):\n",
        "        rp = random.randint(0, numOfPoints-1)\n",
        "        if isMaskPresent and mask_array[rp] == 0:\n",
        "            continue\n",
        "        indices.add(rp)\n",
        "\n",
        "    # return indices\n",
        "    return indices"
      ],
      "metadata": {
        "_uuid": "9b219fbe-1596-4e3b-a0a7-6eb88db2f52d",
        "_cell_guid": "415f4118-71de-4504-b39f-a7bd40cdcc02",
        "trusted": true,
        "jupyter": {
          "outputs_hidden": false
        },
        "execution": {
          "iopub.status.busy": "2025-05-26T20:25:19.721825Z",
          "iopub.execute_input": "2025-05-26T20:25:19.722096Z",
          "iopub.status.idle": "2025-05-26T20:25:19.732038Z",
          "shell.execute_reply.started": "2025-05-26T20:25:19.722064Z",
          "shell.execute_reply": "2025-05-26T20:25:19.731249Z"
        },
        "id": "NvTyrLl3wcRb"
      },
      "outputs": [],
      "execution_count": null
    },
    {
      "cell_type": "code",
      "source": [
        "def findMultiVariatePSNR(var_name, total_vars, actual, pred):\n",
        "    # print('Printing PSNR')\n",
        "    tot = 0\n",
        "    psnr_list = []\n",
        "    for j in range(total_vars):\n",
        "        psnr = compute_PSNR(actual[:,j], pred[:,j])\n",
        "        psnr_list.append(psnr)\n",
        "        tot += psnr\n",
        "        print(var_name[j], ' PSNR:', psnr)\n",
        "    avg_psnr = tot/total_vars\n",
        "    print('\\nAverage psnr : ', avg_psnr)\n",
        "     #this function is calculating the psnr of final epoch (or whenever it is called) of each variable and then averaging it\n",
        "     #Thus individual epochs psnr is not calculated\n",
        "\n",
        "    return psnr_list, avg_psnr"
      ],
      "metadata": {
        "_uuid": "964befc2-020d-46d4-bd1b-ef061a65b9e8",
        "_cell_guid": "c20e48d5-ebad-408b-b564-627ba81d02f9",
        "trusted": true,
        "jupyter": {
          "outputs_hidden": false
        },
        "execution": {
          "iopub.status.busy": "2025-05-26T20:25:19.732800Z",
          "iopub.execute_input": "2025-05-26T20:25:19.733052Z",
          "iopub.status.idle": "2025-05-26T20:25:19.745670Z",
          "shell.execute_reply.started": "2025-05-26T20:25:19.733032Z",
          "shell.execute_reply": "2025-05-26T20:25:19.744868Z"
        },
        "id": "hgSl1UKEwcRb"
      },
      "outputs": [],
      "execution_count": null
    },
    {
      "cell_type": "code",
      "source": [
        "def compute_rmse(actual, predicted):\n",
        "    mse = np.mean((actual - predicted) ** 2)\n",
        "    return np.sqrt(mse)\n",
        "\n",
        "def denormalizeValue(total_vars, to, ref):\n",
        "    to_arr = np.array(to)\n",
        "    for i in range(total_vars):\n",
        "        min_data = np.min(ref[:, i])\n",
        "        max_data = np.max(ref[:, i])\n",
        "        to_arr[:, i] = (((to[:, i] * 0.5) + 0.5) * (max_data - min_data)) + min_data\n",
        "    return to_arr"
      ],
      "metadata": {
        "_uuid": "2face64a-1559-415e-9527-5a581fab1db5",
        "_cell_guid": "716ccaed-b6c8-4cc4-83a6-643495093c02",
        "trusted": true,
        "jupyter": {
          "outputs_hidden": false
        },
        "execution": {
          "iopub.status.busy": "2025-05-26T20:25:19.746505Z",
          "iopub.execute_input": "2025-05-26T20:25:19.746788Z",
          "iopub.status.idle": "2025-05-26T20:25:19.755298Z",
          "shell.execute_reply.started": "2025-05-26T20:25:19.746760Z",
          "shell.execute_reply": "2025-05-26T20:25:19.754436Z"
        },
        "id": "PzHBvMp_wcRb"
      },
      "outputs": [],
      "execution_count": null
    },
    {
      "cell_type": "code",
      "source": [
        "def makeVTI(data, val, n_predictions, n_pts, total_vars, var_name, dim, isMaskPresent, mask_arr, vti_path, vti_name, normalizedVersion = False):\n",
        "    nn_predictions = denormalizeValue(total_vars, n_predictions, val) if not normalizedVersion else n_predictions\n",
        "    writer = vtkXMLImageDataWriter()\n",
        "    writer.SetFileName(vti_path + vti_name)\n",
        "    img = vtkImageData()\n",
        "    img.CopyStructure(data)\n",
        "    if not isMaskPresent:\n",
        "        for i in range(total_vars):\n",
        "            f = var_name[i]\n",
        "            temp = nn_predictions[:, i]\n",
        "            arr = vtkFloatArray()\n",
        "            for j in range(n_pts):\n",
        "                arr.InsertNextValue(temp[j])\n",
        "            arr.SetName(f)\n",
        "            img.GetPointData().AddArray(arr)\n",
        "        # print(img)\n",
        "        writer.SetInputData(img)\n",
        "        writer.Write()\n",
        "        print(f'Vti File written successfully at {vti_path}{vti_name}')\n",
        "    else:\n",
        "        for i in range(total_vars):\n",
        "            f = var_name[i]\n",
        "            temp = nn_predictions[:, i]\n",
        "            idx = 0\n",
        "            arr = vtkFloatArray()\n",
        "            for j in range(n_pts):\n",
        "                if(mask_arr[j] == 1):\n",
        "                    arr.InsertNextValue(temp[idx])\n",
        "                    idx += 1\n",
        "                else:\n",
        "                    arr.InsertNextValue(0.0)\n",
        "            arr.SetName('p_' + f)\n",
        "            data.GetPointData().AddArray(arr)\n",
        "        # print(data)\n",
        "        writer.SetInputData(data)\n",
        "        writer.Write()\n",
        "        print(f'Vti File written successfully at {vti_path}{vti_name}')"
      ],
      "metadata": {
        "_uuid": "88d4128a-9484-48bb-b8cd-21abe4801eb1",
        "_cell_guid": "4d173df2-a1ab-442d-8eeb-bd0f1e71b9ee",
        "trusted": true,
        "jupyter": {
          "outputs_hidden": false
        },
        "execution": {
          "iopub.status.busy": "2025-05-26T20:25:19.756183Z",
          "iopub.execute_input": "2025-05-26T20:25:19.756430Z",
          "iopub.status.idle": "2025-05-26T20:25:19.768524Z",
          "shell.execute_reply.started": "2025-05-26T20:25:19.756410Z",
          "shell.execute_reply": "2025-05-26T20:25:19.767693Z"
        },
        "id": "hvAcGR8JwcRb"
      },
      "outputs": [],
      "execution_count": null
    },
    {
      "cell_type": "code",
      "source": [
        "def getImageData(actual_img, val, n_pts, var_name, isMaskPresent, mask_arr):\n",
        "    img = vtkImageData()\n",
        "    img.CopyStructure(actual_img)\n",
        "    # if isMaskPresent:\n",
        "    #     img.DeepCopy(actual_img)\n",
        "    # img.SetDimensions(dim)\n",
        "    # img.SetOrigin(actual_img.GetOrigin())\n",
        "    # img.SetSpacing(actual_img.GetSpacing())\n",
        "    if not isMaskPresent:\n",
        "        f = var_name\n",
        "        data = val\n",
        "        arr = vtkFloatArray()\n",
        "        for j in range(n_pts):\n",
        "            arr.InsertNextValue(data[j])\n",
        "        arr.SetName(f)\n",
        "        img.GetPointData().SetScalars(arr)\n",
        "    else:\n",
        "        f = var_name\n",
        "        data = val\n",
        "        idx = 0\n",
        "        arr = vtkFloatArray()\n",
        "        for j in range(n_pts):\n",
        "            if(mask_arr[j] == 1):\n",
        "                arr.InsertNextValue(data[idx])\n",
        "                idx += 1\n",
        "            else:\n",
        "                arr.InsertNextValue(0.0)\n",
        "        arr.SetName(f)\n",
        "        img.GetPointData().SetScalars(arr)\n",
        "    return img"
      ],
      "metadata": {
        "_uuid": "99a2cbb5-4737-4a6d-b398-c37e117de5a7",
        "_cell_guid": "7042e60f-eafc-446d-87ab-ec4298dd9276",
        "trusted": true,
        "jupyter": {
          "outputs_hidden": false
        },
        "execution": {
          "iopub.status.busy": "2025-05-26T20:25:19.769381Z",
          "iopub.execute_input": "2025-05-26T20:25:19.769639Z",
          "iopub.status.idle": "2025-05-26T20:25:19.780625Z",
          "shell.execute_reply.started": "2025-05-26T20:25:19.769609Z",
          "shell.execute_reply": "2025-05-26T20:25:19.779903Z"
        },
        "id": "JL2vevPkwcRb"
      },
      "outputs": [],
      "execution_count": null
    },
    {
      "cell_type": "code",
      "source": [
        "from argparse import Namespace\n",
        "\n",
        "# Parameters (simulating argparse in a Jupyter Notebook)\n",
        "args = Namespace(\n",
        "    n_neurons=320,\n",
        "    n_layers=6,\n",
        "    epochs=200,  # Required argument: Set the number of epochs\n",
        "    batchsize=512,\n",
        "    lr=0.00005,\n",
        "    no_decay=False,\n",
        "    decay_rate=0.8,\n",
        "    decay_at_interval=True,\n",
        "    decay_interval=15,\n",
        "    datapath='/content/teardrop_gmm.vti',  # Required: Set the path to your data\n",
        "    outpath='./models/',\n",
        "    exp_path='../logs/',\n",
        "    modified_data_path='./data/',\n",
        "    dataset_name='3d_data',  # Required: Set the dataset name\n",
        "    vti_name='/predicted_0_1.vti',  # Required: Name of the dataset\n",
        "    vti_path='./data'\n",
        ")\n",
        "\n",
        "print(args, end='\\n\\n')\n",
        "\n",
        "# Assigning parameters to variables\n",
        "LR = args.lr\n",
        "BATCH_SIZE = args.batchsize\n",
        "decay_rate = args.decay_rate\n",
        "decay_at_equal_interval = args.decay_at_interval\n",
        "\n",
        "decay = not args.no_decay\n",
        "MAX_EPOCH = args.epochs\n",
        "\n",
        "n_neurons = args.n_neurons\n",
        "n_layers = args.n_layers + 2\n",
        "decay_interval = args.decay_interval\n",
        "outpath = args.outpath\n",
        "exp_path = args.exp_path\n",
        "datapath = args.datapath\n",
        "modified_data_path = args.modified_data_path\n",
        "dataset_name = args.dataset_name\n",
        "vti_name = args.vti_name\n",
        "vti_path = args.vti_path\n",
        "\n",
        "# Displaying the final configuration\n",
        "print(f\"Learning Rate: {LR}\")\n",
        "print(f\"Batch Size: {BATCH_SIZE}\")\n",
        "print(f\"Decay Rate: {decay_rate}\")\n",
        "print(f\"Max Epochs: {MAX_EPOCH}\")\n",
        "print(f\"Number of Neurons per Layer: {n_neurons}\")\n",
        "print(f\"Number of Layers (including input/output): {n_layers}\")\n",
        "print(f\"Data Path: {datapath}\")\n",
        "print(f\"Output Path: {outpath}\")\n",
        "print(f\"Dataset Name: {dataset_name}\")\n",
        "print(f\"Vti Name: {vti_name}\")"
      ],
      "metadata": {
        "_uuid": "07692dd4-4d61-4352-8b23-bff56509856c",
        "_cell_guid": "4204ef20-76e1-416f-b261-20a979ca06e6",
        "trusted": true,
        "jupyter": {
          "outputs_hidden": false
        },
        "execution": {
          "iopub.status.busy": "2025-05-26T20:25:19.781711Z",
          "iopub.execute_input": "2025-05-26T20:25:19.782004Z",
          "iopub.status.idle": "2025-05-26T20:25:19.797158Z",
          "shell.execute_reply.started": "2025-05-26T20:25:19.781976Z",
          "shell.execute_reply": "2025-05-26T20:25:19.796521Z"
        },
        "id": "HGQWcOhdwcRc",
        "outputId": "4b7f533a-5793-459b-f878-22a7a4825a43",
        "colab": {
          "base_uri": "https://localhost:8080/"
        }
      },
      "outputs": [
        {
          "output_type": "stream",
          "name": "stdout",
          "text": [
            "Namespace(n_neurons=320, n_layers=6, epochs=200, batchsize=512, lr=5e-05, no_decay=False, decay_rate=0.8, decay_at_interval=True, decay_interval=15, datapath='/content/teardrop_gmm.vti', outpath='./models/', exp_path='../logs/', modified_data_path='./data/', dataset_name='3d_data', vti_name='/predicted_0_1.vti', vti_path='./data')\n",
            "\n",
            "Learning Rate: 5e-05\n",
            "Batch Size: 512\n",
            "Decay Rate: 0.8\n",
            "Max Epochs: 200\n",
            "Number of Neurons per Layer: 320\n",
            "Number of Layers (including input/output): 8\n",
            "Data Path: /content/teardrop_gmm.vti\n",
            "Output Path: ./models/\n",
            "Dataset Name: 3d_data\n",
            "Vti Name: /predicted_0_1.vti\n"
          ]
        }
      ],
      "execution_count": null
    },
    {
      "cell_type": "code",
      "source": [
        "# Variable Initialization\n",
        "var_name = []\n",
        "total_vars = None  # Number of variables\n",
        "univariate = None  # True if dataset has one variable, else False\n",
        "group_size = 5000  # Group size during testing\n",
        "\n",
        "\n",
        "# Constructing the log file name\n",
        "log_file = (\n",
        "    f'train_{dataset_name}_{n_layers-2}rb_{n_neurons}n_{BATCH_SIZE}bs_'\n",
        "    f'{LR}lr_{decay}decay_{decay_rate}dr_'\n",
        "    f'{\"decayingAtInterval\" + str(decay_interval) if decay_at_equal_interval else \"decayingWhenLossIncr\"}'\n",
        ")\n",
        "\n",
        "print(log_file)"
      ],
      "metadata": {
        "_uuid": "844184e9-6479-45d0-8d31-b1d3a9a4a116",
        "_cell_guid": "cd516584-ec76-4358-888f-79e1116c82d2",
        "trusted": true,
        "jupyter": {
          "outputs_hidden": false
        },
        "execution": {
          "iopub.status.busy": "2025-05-26T20:25:19.797890Z",
          "iopub.execute_input": "2025-05-26T20:25:19.798155Z",
          "iopub.status.idle": "2025-05-26T20:25:19.810981Z",
          "shell.execute_reply.started": "2025-05-26T20:25:19.798129Z",
          "shell.execute_reply": "2025-05-26T20:25:19.810268Z"
        },
        "id": "i7uThS_rwcRc",
        "outputId": "cbb2faa9-6bd5-4a34-acf9-066b6008666d",
        "colab": {
          "base_uri": "https://localhost:8080/"
        }
      },
      "outputs": [
        {
          "output_type": "stream",
          "name": "stdout",
          "text": [
            "train_3d_data_6rb_320n_512bs_5e-05lr_Truedecay_0.8dr_decayingAtInterval15\n"
          ]
        }
      ],
      "execution_count": null
    },
    {
      "cell_type": "code",
      "source": [
        "n_pts = None  # Number of points in the dataset\n",
        "n_dim = None  # Dimensionality of the data\n",
        "dim = None  # Other dimension-specific information\n",
        "\n",
        "print(\"Decay:\", decay)\n",
        "print(f'Extracting variables from path: {datapath}', end=\"\\n\\n\")\n",
        "\n",
        "# Placeholder for data\n",
        "data_array = []\n",
        "scalar_data = None"
      ],
      "metadata": {
        "_uuid": "bc8c0631-eaaf-4af9-acb9-35bd7467277a",
        "_cell_guid": "c45f69dd-0524-4855-a64e-801e6bfb5765",
        "trusted": true,
        "jupyter": {
          "outputs_hidden": false
        },
        "execution": {
          "iopub.status.busy": "2025-05-26T20:25:19.811760Z",
          "iopub.execute_input": "2025-05-26T20:25:19.812043Z",
          "iopub.status.idle": "2025-05-26T20:25:19.825096Z",
          "shell.execute_reply.started": "2025-05-26T20:25:19.812017Z",
          "shell.execute_reply": "2025-05-26T20:25:19.824332Z"
        },
        "id": "FcDJgDH_wcRc",
        "outputId": "3524f170-f263-4e40-8fad-53f3e66687bb",
        "colab": {
          "base_uri": "https://localhost:8080/"
        }
      },
      "outputs": [
        {
          "output_type": "stream",
          "name": "stdout",
          "text": [
            "Decay: True\n",
            "Extracting variables from path: /content/teardrop_gmm.vti\n",
            "\n"
          ]
        }
      ],
      "execution_count": null
    },
    {
      "cell_type": "code",
      "source": [
        "# # Reading values from .vti files\n",
        "# reader = vtk.vtkXMLImageDataReader()\n",
        "# reader.SetFileName(datapath)\n",
        "# reader.Update()\n",
        "\n",
        "# data = reader.GetOutput()\n",
        "# scalar_data = data\n",
        "# pdata = data.GetPointData()\n",
        "# n_pts = data.GetNumberOfPoints()\n",
        "# dim = data.GetDimensions()\n",
        "# n_dim = len(dim)\n",
        "# total_arr = pdata.GetNumberOfArrays()\n",
        "\n",
        "# print(\"n_pts:\", n_pts, \"dim:\", dim, \"n_dim:\", n_dim, \"total_arr:\", total_arr)\n",
        "\n",
        "# mask_arr = []\n",
        "# valid_pts = 0\n",
        "# var_name = []\n",
        "# data_array = []\n",
        "\n",
        "# # Extracting data from the .vti file\n",
        "# for i in range(total_arr):\n",
        "#     a_name = pdata.GetArrayName(i)\n",
        "#     if a_name in ['vtkValidPointMask', 'Swirl']:\n",
        "#         continue\n",
        "\n",
        "#     cur_arr = pdata.GetArray(a_name)\n",
        "#     n_components = cur_arr.GetNumberOfComponents()\n",
        "\n",
        "#     if n_components == 1:\n",
        "#         var_name.append(a_name)\n",
        "#         data_array.append(vtk_to_numpy(cur_arr))\n",
        "#     else:\n",
        "#         component_names = [f\"{a_name}_{c}\" for c in ['x', 'y', 'z'][:n_components]]\n",
        "#         var_name.extend(component_names)\n",
        "#         for c in range(n_components):\n",
        "#             c_data = [cur_arr.GetComponent(j, c) for j in range(n_pts)]\n",
        "#             data_array.append(np.array(c_data))\n",
        "\n",
        "# valid_pts = n_pts  # Assume all points are valid for simplicity\n",
        "# total_vars = len(var_name)\n",
        "# univariate = total_vars == 1\n",
        "\n",
        "# # Prepare numpy arrays for coordinates and variable values\n",
        "# cord = np.zeros((valid_pts, n_dim))\n",
        "# val = np.zeros((valid_pts, total_vars))\n",
        "\n",
        "# # Store data in numpy arrays\n",
        "# for i in range(n_pts):\n",
        "#     pt = scalar_data.GetPoint(i)\n",
        "#     cord[i, :] = pt\n",
        "#     val[i, :] = [arr[i] for arr in data_array]\n",
        "\n",
        "# # Display final information\n",
        "# print(\"Total Variables:\", total_vars)\n",
        "# print(\"Univariate:\", univariate)\n",
        "# print(\"Coordinates Shape:\", cord.shape)\n",
        "# print(\"Values Shape:\", val.shape)\n",
        "\n",
        "# Reading values from .vti files\n",
        "reader = vtk.vtkXMLImageDataReader()\n",
        "reader.SetFileName(datapath)\n",
        "reader.Update()\n",
        "\n",
        "data = reader.GetOutput()\n",
        "scalar_data = data\n",
        "pdata = data.GetPointData()\n",
        "n_pts = data.GetNumberOfPoints()\n",
        "dim = data.GetDimensions()\n",
        "n_dim = len(dim)\n",
        "total_arr = pdata.GetNumberOfArrays()\n",
        "\n",
        "print(\"n_pts:\", n_pts, \"dim:\", dim, \"n_dim:\", n_dim, \"total_arr:\", total_arr)\n",
        "\n",
        "var_name = []\n",
        "data_array = []\n",
        "\n",
        "# Extracting data from the .vti file\n",
        "for i in range(total_arr):\n",
        "    a_name = pdata.GetArrayName(i)\n",
        "\n",
        "    cur_arr = pdata.GetArray(a_name)\n",
        "    n_components = cur_arr.GetNumberOfComponents()\n",
        "\n",
        "    if n_components == 1:\n",
        "        var_name.append(a_name)\n",
        "        data_array.append(vtk_to_numpy(cur_arr))\n",
        "    else:\n",
        "        component_names = [f\"{a_name}_{c}\" for c in ['x', 'y', 'z'][:n_components]]\n",
        "        var_name.extend(component_names)\n",
        "        for c in range(n_components):\n",
        "            c_data = [cur_arr.GetComponent(j, c) for j in range(n_pts)]\n",
        "            data_array.append(np.array(c_data))\n",
        "\n",
        "total_vars = len(var_name)\n",
        "univariate = total_vars == 1\n",
        "\n",
        "# Prepare numpy arrays for coordinates and variable values\n",
        "cord = np.zeros((n_pts, n_dim))\n",
        "val = np.zeros((n_pts, total_vars))\n",
        "\n",
        "# Store data in numpy arrays\n",
        "for i in range(n_pts):\n",
        "    pt = scalar_data.GetPoint(i)\n",
        "    cord[i, :] = pt\n",
        "    val[i, :] = [arr[i] for arr in data_array]\n",
        "\n",
        "# Display final information\n",
        "print(\"Total Variables:\", total_vars)\n",
        "print(\"Univariate:\", univariate)\n",
        "print(\"Coordinates Shape:\", cord.shape)\n",
        "print(\"Values Shape:\", val.shape)"
      ],
      "metadata": {
        "_uuid": "01428998-749b-433d-8d00-0ad9ac906055",
        "_cell_guid": "2f13ab5d-71b7-4829-8d28-4a08f4f9a1cf",
        "trusted": true,
        "jupyter": {
          "outputs_hidden": false
        },
        "execution": {
          "iopub.status.busy": "2025-05-26T20:25:19.825827Z",
          "iopub.execute_input": "2025-05-26T20:25:19.826013Z",
          "iopub.status.idle": "2025-05-26T20:25:21.280626Z",
          "shell.execute_reply.started": "2025-05-26T20:25:19.825996Z",
          "shell.execute_reply": "2025-05-26T20:25:21.279633Z"
        },
        "id": "r730pWmbwcRc",
        "outputId": "9916e722-a203-4dee-9615-8e2b57129159",
        "colab": {
          "base_uri": "https://localhost:8080/"
        }
      },
      "outputs": [
        {
          "output_type": "stream",
          "name": "stdout",
          "text": [
            "n_pts: 262144 dim: (64, 64, 64) n_dim: 3 total_arr: 9\n",
            "Total Variables: 9\n",
            "Univariate: False\n",
            "Coordinates Shape: (262144, 3)\n",
            "Values Shape: (262144, 9)\n"
          ]
        }
      ],
      "execution_count": null
    },
    {
      "cell_type": "code",
      "source": [
        "# # Ensure modified data path exists\n",
        "# if not os.path.exists(modified_data_path):\n",
        "#     os.mkdir(modified_data_path)\n",
        "\n",
        "# Save raw coordinates and values\n",
        "# np.save(f'{modified_data_path}cord.npy', cord)\n",
        "# np.save(f'{modified_data_path}val.npy', val)\n",
        "\n",
        "# # Create copies of non-normalized data\n",
        "# nn_cord = cord.copy()\n",
        "# nn_val = val.copy()\n",
        "\n",
        "# === Separate Normalization for Values ===\n",
        "# We assume the variable order is:\n",
        "#   - Means: indices 0,1,2\n",
        "#   - Std Devs: indices 3,4,5\n",
        "#   - Weights: indices 6,7,8\n",
        "\n",
        "# # We'll store normalization parameters so that we can invert normalization later.\n",
        "# norm_params = {}\n",
        "# epsilon = 1e-8  # to avoid log(0)\n",
        "\n",
        "# # Normalize Means to [-1,1] using min–max normalization\n",
        "# for i in range(3):\n",
        "#     min_val = np.min(val[:, i])\n",
        "#     max_val = np.max(val[:, i])\n",
        "#     norm_params[var_name[i]] = (min_val, max_val)\n",
        "#     val[:, i] = 2.0 * ((val[:, i] - min_val) / (max_val - min_val) - 0.5)\n",
        "\n",
        "# # Normalize Std Devs: first take log, then min–max to [-1,1]\n",
        "# for i in range(3, 6):\n",
        "#     log_vals = np.log(val[:, i] + epsilon)\n",
        "#     min_val = np.min(log_vals)\n",
        "#     max_val = np.max(log_vals)\n",
        "#     norm_params[var_name[i]] = (min_val, max_val)\n",
        "#     val[:, i] = 2.0 * ((log_vals - min_val) / (max_val - min_val) - 0.5)\n",
        "\n",
        "# # Normalize Weights: take log, then min–max to [-1,1]\n",
        "# for i in range(6, 9):\n",
        "#     log_vals = np.log(val[:, i] + epsilon)\n",
        "#     min_val = np.min(log_vals)\n",
        "#     max_val = np.max(log_vals)\n",
        "#     norm_params[var_name[i]] = (min_val, max_val)\n",
        "#     val[:, i] = 2.0 * ((log_vals - min_val) / (max_val - min_val) - 0.5)\n",
        "\n",
        "# norm_params = {}\n",
        "\n",
        "# Normalize values between -1 and 1\n",
        "for i in range(total_vars):\n",
        "    min_data = np.min(val[:, i])\n",
        "    max_data = np.max(val[:, i])\n",
        "    # norm_params[var_name[i]] = (min_data, max_data)\n",
        "    val[:, i] = 2.0 * ((val[:, i] - min_data) / (max_data - min_data) - 0.5)\n",
        "\n",
        "# Normalize Coordinates to [-1,1]\n",
        "for i in range(n_dim):\n",
        "    # Use (dim[i]-1] so that coordinates go from 0 to dim[i]-1.\n",
        "    cord[:, i] = 2.0 * (cord[:, i] / (dim[i] - 1) - 0.5)\n",
        "\n",
        "# # Normalize coordinates between 0 and 1\n",
        "# for i in range(n_dim):\n",
        "#     cord[:, i] = cord[:, i] / dim[i]\n",
        "\n",
        "\n",
        "# # Save normalized values and coordinates\n",
        "# np.save(f'{modified_data_path}n_cord.npy', cord)\n",
        "# np.save(f'{modified_data_path}n_val.npy', val)\n",
        "n_cord = cord.copy()\n",
        "n_val = val.copy()\n",
        "\n",
        "# # Reload data for verification\n",
        "# n_cord = np.load(f'{modified_data_path}n_cord.npy')\n",
        "# n_val = np.load(f'{modified_data_path}n_val.npy')\n",
        "# cord = np.load(f'{modified_data_path}cord.npy')\n",
        "# val = np.load(f'{modified_data_path}val.npy')\n",
        "\n",
        "# Convert normalized data to PyTorch tensors\n",
        "torch_coords = torch.from_numpy(n_cord)\n",
        "torch_vals = torch.from_numpy(n_val)\n",
        "\n",
        "# Display dataset details\n",
        "print('Dataset Name:', dataset_name)\n",
        "print('Total Variables:', total_vars)\n",
        "print('Variables Name:', var_name, end=\"\\n\\n\")\n",
        "print('Total Points in Data:', n_pts)\n",
        "print('Dimension of the Dataset:', dim)\n",
        "print('Number of Dimensions:', n_dim)\n",
        "print('Coordinate Tensor Shape:', torch_coords.shape)\n",
        "print('Scalar Values Tensor Shape:', torch_vals.shape)\n",
        "\n",
        "print('\\n###### Data setup is complete, now starting training ######\\n')"
      ],
      "metadata": {
        "_uuid": "521f7f9c-9a01-41f9-a149-1d15ff3fd1b8",
        "_cell_guid": "b0cbd8a2-2b80-4d5e-a135-f3c4b8b3c6c2",
        "trusted": true,
        "jupyter": {
          "outputs_hidden": false
        },
        "execution": {
          "iopub.status.busy": "2025-05-26T20:25:21.281683Z",
          "iopub.execute_input": "2025-05-26T20:25:21.282051Z",
          "iopub.status.idle": "2025-05-26T20:25:21.356747Z",
          "shell.execute_reply.started": "2025-05-26T20:25:21.282027Z",
          "shell.execute_reply": "2025-05-26T20:25:21.356094Z"
        },
        "id": "ERmcNQMZwcRc",
        "outputId": "9f751938-345a-486e-b088-709581ffce25",
        "colab": {
          "base_uri": "https://localhost:8080/"
        }
      },
      "outputs": [
        {
          "output_type": "stream",
          "name": "stdout",
          "text": [
            "Dataset Name: 3d_data\n",
            "Total Variables: 9\n",
            "Variables Name: ['GMM_Mean0', 'GMM_Mean1', 'GMM_Mean2', 'GMM_Std0', 'GMM_Std1', 'GMM_Std2', 'GMM_Weight0', 'GMM_Weight1', 'GMM_Weight2']\n",
            "\n",
            "Total Points in Data: 262144\n",
            "Dimension of the Dataset: (64, 64, 64)\n",
            "Number of Dimensions: 3\n",
            "Coordinate Tensor Shape: torch.Size([262144, 3])\n",
            "Scalar Values Tensor Shape: torch.Size([262144, 9])\n",
            "\n",
            "###### Data setup is complete, now starting training ######\n",
            "\n"
          ]
        }
      ],
      "execution_count": null
    },
    {
      "cell_type": "code",
      "source": [
        "# Prepare the DataLoader\n",
        "train_dataloader = DataLoader(\n",
        "    TensorDataset(torch_coords, torch_vals),\n",
        "    batch_size=BATCH_SIZE,\n",
        "    pin_memory=True,\n",
        "    shuffle=True,\n",
        "    num_workers=4\n",
        ")\n",
        "\n",
        "# Model configuration\n",
        "obj = {\n",
        "    'total_vars': total_vars,\n",
        "    'dim': n_dim,\n",
        "    'n_neurons': n_neurons,\n",
        "    'n_layers': n_layers\n",
        "}\n",
        "\n",
        "# Initialize the model, optimizer, and loss function\n",
        "model = MyResidualSirenNet(obj).to(device)\n",
        "print(model)\n",
        "\n",
        "optimizer = optim.Adam(model.parameters(), lr=LR, betas=(0.9, 0.999))\n",
        "print(optimizer)\n",
        "\n",
        "criterion = nn.MSELoss()\n",
        "print(criterion)\n",
        "\n",
        "# Training configuration summary\n",
        "print('\\nLearning Rate:', LR)\n",
        "print('Max Epochs:', MAX_EPOCH)\n",
        "print('Batch Size:', BATCH_SIZE)\n",
        "print('Number of Hidden Layers:', obj['n_layers'] - 2)\n",
        "print('Number of Neurons per Layer:', obj['n_neurons'])\n",
        "\n",
        "if decay:\n",
        "    print('Decay Rate:', decay_rate)\n",
        "    if decay_at_equal_interval:\n",
        "        print(f'Rate decays every {decay_interval} epochs.')\n",
        "    else:\n",
        "        print('Rate decays when the current epoch loss is greater than the previous epoch loss.')\n",
        "else:\n",
        "    print('No decay!')\n",
        "print()"
      ],
      "metadata": {
        "_uuid": "ec0c651a-5dad-486b-9fb7-1ccbaaf98cda",
        "_cell_guid": "adf3a3b0-29d8-4b33-ad38-babd78b228d1",
        "trusted": true,
        "jupyter": {
          "outputs_hidden": false
        },
        "execution": {
          "iopub.status.busy": "2025-05-26T20:25:21.357490Z",
          "iopub.execute_input": "2025-05-26T20:25:21.357712Z",
          "iopub.status.idle": "2025-05-26T20:25:23.403911Z",
          "shell.execute_reply.started": "2025-05-26T20:25:21.357694Z",
          "shell.execute_reply": "2025-05-26T20:25:23.403094Z"
        },
        "id": "bbSXLtehwcRd",
        "outputId": "aad5ad13-9f26-4eb0-e34a-3510ab3507c6",
        "colab": {
          "base_uri": "https://localhost:8080/"
        }
      },
      "outputs": [
        {
          "output_type": "stream",
          "name": "stdout",
          "text": [
            "MyResidualSirenNet(\n",
            "  (net_layers): ModuleList(\n",
            "    (0): SineLayer(\n",
            "      (linear): Linear(in_features=3, out_features=320, bias=True)\n",
            "    )\n",
            "    (1-6): 6 x ResidualSineLayer(\n",
            "      (linear_1): Linear(in_features=320, out_features=320, bias=True)\n",
            "      (linear_2): Linear(in_features=320, out_features=320, bias=True)\n",
            "    )\n",
            "    (7): Linear(in_features=320, out_features=9, bias=True)\n",
            "  )\n",
            ")\n",
            "Adam (\n",
            "Parameter Group 0\n",
            "    amsgrad: False\n",
            "    betas: (0.9, 0.999)\n",
            "    capturable: False\n",
            "    differentiable: False\n",
            "    eps: 1e-08\n",
            "    foreach: None\n",
            "    fused: None\n",
            "    lr: 5e-05\n",
            "    maximize: False\n",
            "    weight_decay: 0\n",
            ")\n",
            "MSELoss()\n",
            "\n",
            "Learning Rate: 5e-05\n",
            "Max Epochs: 200\n",
            "Batch Size: 512\n",
            "Number of Hidden Layers: 6\n",
            "Number of Neurons per Layer: 320\n",
            "Decay Rate: 0.8\n",
            "Rate decays every 15 epochs.\n",
            "\n"
          ]
        }
      ],
      "execution_count": null
    },
    {
      "cell_type": "code",
      "source": [
        "train_loss_list = []\n",
        "best_epoch = -1\n",
        "best_loss = 1e8\n",
        "from tqdm import tqdm\n",
        "\n",
        "# Ensure the output path exists\n",
        "if not os.path.exists(outpath):\n",
        "    os.makedirs(outpath)\n",
        "\n",
        "# Training loop\n",
        "for epoch in tqdm(range(MAX_EPOCH)):\n",
        "    model.train()\n",
        "    temp_loss_list = []\n",
        "    start = time.time()\n",
        "\n",
        "    # Batch-by-batch training\n",
        "    for X_train, y_train in train_dataloader:\n",
        "        X_train = X_train.type(torch.float32).to(device)\n",
        "        y_train = y_train.type(torch.float32).to(device)\n",
        "\n",
        "        if univariate:\n",
        "            y_train = y_train.squeeze()\n",
        "\n",
        "        optimizer.zero_grad()\n",
        "        predictions = model(X_train)\n",
        "        predictions = predictions.squeeze()\n",
        "        loss = criterion(predictions, y_train)\n",
        "        loss.backward()\n",
        "        optimizer.step()\n",
        "\n",
        "        # Track batch loss\n",
        "        temp_loss_list.append(loss.detach().cpu().numpy())\n",
        "\n",
        "    # Calculate epoch loss\n",
        "    epoch_loss = np.average(temp_loss_list)\n",
        "\n",
        "    # Learning rate decay\n",
        "    if decay:\n",
        "        if decay_at_equal_interval:\n",
        "            if epoch >= decay_interval and epoch % decay_interval == 0:\n",
        "                for param_group in optimizer.param_groups:\n",
        "                    param_group['lr'] *= decay_rate\n",
        "        # else:\n",
        "        #     if epoch > 0 and epoch_loss > train_loss_list[-1]:\n",
        "        #         for param_group in optimizer.param_groups:\n",
        "        #             param_group['lr'] *= decay_rate\n",
        "        if epoch > 0 and epoch_loss > train_loss_list[-1]:\n",
        "            for param_group in optimizer.param_groups:\n",
        "                param_group['lr'] *= decay_rate\n",
        "\n",
        "    # Track losses and best model\n",
        "    train_loss_list.append(epoch_loss)\n",
        "    if epoch_loss < best_loss:\n",
        "        best_loss = epoch_loss\n",
        "        best_epoch = epoch+1\n",
        "\n",
        "    end = time.time()\n",
        "    print(\n",
        "        f\"Epoch: {epoch + 1}/{MAX_EPOCH} | Train Loss: {train_loss_list[-1]} | \"\n",
        "        f\"Time: {round(end - start, 2)}s ({device}) | LR: {optimizer.param_groups[0]['lr']}\"\n",
        "    )\n",
        "\n",
        "    # Save model at intervals\n",
        "    if (epoch + 1) % 50 == 0:\n",
        "        model_name = (\n",
        "            f'train_{dataset_name}_{epoch + 1}ep_{n_layers - 2}rb_{n_neurons}n_'\n",
        "            f'{BATCH_SIZE}bs_{LR}lr_{decay}decay_{decay_rate}dr_'\n",
        "            f'{\"decayingAtInterval\" + str(decay_interval) if decay_at_equal_interval else \"decayingWhenLossIncr\"}'\n",
        "        )\n",
        "        torch.save(\n",
        "            {\"epoch\": epoch + 1, \"model_state_dict\": model.state_dict()},\n",
        "            os.path.join(outpath, f'{model_name}.pth')\n",
        "        )\n",
        "\n",
        "# Final summary\n",
        "print('\\nEpoch with Least Loss:', best_epoch, '| Loss:', best_loss, '\\n')\n",
        "\n",
        "# Save the final model\n",
        "model_name = f'siren_compressor'\n",
        "torch.save(\n",
        "    {\"epoch\": MAX_EPOCH, \"model_state_dict\": model.state_dict()},\n",
        "    os.path.join(outpath, f'{model_name}.pth')\n",
        ")"
      ],
      "metadata": {
        "_uuid": "16645d61-b423-4e5a-a7d2-5f692a4f6102",
        "_cell_guid": "1c6f398e-b851-4fad-b62e-4080114fa832",
        "trusted": true,
        "jupyter": {
          "outputs_hidden": false
        },
        "execution": {
          "iopub.status.busy": "2025-05-26T20:25:23.404654Z",
          "iopub.execute_input": "2025-05-26T20:25:23.405027Z",
          "iopub.status.idle": "2025-05-26T20:39:04.911778Z",
          "shell.execute_reply.started": "2025-05-26T20:25:23.405000Z",
          "shell.execute_reply": "2025-05-26T20:39:04.910700Z"
        },
        "id": "liD8_V3lwcRd",
        "outputId": "dd402f9e-458e-48b6-9db3-9bf03d255c56",
        "colab": {
          "base_uri": "https://localhost:8080/"
        }
      },
      "outputs": [
        {
          "output_type": "stream",
          "name": "stderr",
          "text": [
            "  0%|          | 1/200 [00:08<27:26,  8.27s/it]"
          ]
        },
        {
          "output_type": "stream",
          "name": "stdout",
          "text": [
            "Epoch: 1/200 | Train Loss: 0.009905696846544743 | Time: 8.27s (cuda) | LR: 5e-05\n"
          ]
        },
        {
          "output_type": "stream",
          "name": "stderr",
          "text": [
            "\r  1%|          | 2/200 [00:12<19:25,  5.89s/it]"
          ]
        },
        {
          "output_type": "stream",
          "name": "stdout",
          "text": [
            "Epoch: 2/200 | Train Loss: 0.003460998646914959 | Time: 4.22s (cuda) | LR: 5e-05\n"
          ]
        },
        {
          "output_type": "stream",
          "name": "stderr",
          "text": [
            "\r  2%|▏         | 3/200 [00:17<18:07,  5.52s/it]"
          ]
        },
        {
          "output_type": "stream",
          "name": "stdout",
          "text": [
            "Epoch: 3/200 | Train Loss: 0.003397891530767083 | Time: 5.09s (cuda) | LR: 5e-05\n"
          ]
        },
        {
          "output_type": "stream",
          "name": "stderr",
          "text": [
            "\r  2%|▏         | 4/200 [00:21<16:18,  4.99s/it]"
          ]
        },
        {
          "output_type": "stream",
          "name": "stdout",
          "text": [
            "Epoch: 4/200 | Train Loss: 0.003247387707233429 | Time: 4.18s (cuda) | LR: 5e-05\n"
          ]
        },
        {
          "output_type": "stream",
          "name": "stderr",
          "text": [
            "\r  2%|▎         | 5/200 [00:27<16:32,  5.09s/it]"
          ]
        },
        {
          "output_type": "stream",
          "name": "stdout",
          "text": [
            "Epoch: 5/200 | Train Loss: 0.0032658036798238754 | Time: 5.26s (cuda) | LR: 4e-05\n"
          ]
        },
        {
          "output_type": "stream",
          "name": "stderr",
          "text": [
            "\r  3%|▎         | 6/200 [00:33<18:25,  5.70s/it]"
          ]
        },
        {
          "output_type": "stream",
          "name": "stdout",
          "text": [
            "Epoch: 6/200 | Train Loss: 0.0030814437195658684 | Time: 6.87s (cuda) | LR: 4e-05\n"
          ]
        },
        {
          "output_type": "stream",
          "name": "stderr",
          "text": [
            "\r  4%|▎         | 7/200 [00:38<16:51,  5.24s/it]"
          ]
        },
        {
          "output_type": "stream",
          "name": "stdout",
          "text": [
            "Epoch: 7/200 | Train Loss: 0.0030833622440695763 | Time: 4.29s (cuda) | LR: 3.2000000000000005e-05\n"
          ]
        },
        {
          "output_type": "stream",
          "name": "stderr",
          "text": [
            "\r  4%|▍         | 8/200 [00:43<16:44,  5.23s/it]"
          ]
        },
        {
          "output_type": "stream",
          "name": "stdout",
          "text": [
            "Epoch: 8/200 | Train Loss: 0.003032566048204899 | Time: 5.22s (cuda) | LR: 3.2000000000000005e-05\n"
          ]
        },
        {
          "output_type": "stream",
          "name": "stderr",
          "text": [
            "\r  4%|▍         | 9/200 [00:47<15:39,  4.92s/it]"
          ]
        },
        {
          "output_type": "stream",
          "name": "stdout",
          "text": [
            "Epoch: 9/200 | Train Loss: 0.0030293497256934643 | Time: 4.23s (cuda) | LR: 3.2000000000000005e-05\n"
          ]
        },
        {
          "output_type": "stream",
          "name": "stderr",
          "text": [
            "\r  5%|▌         | 10/200 [00:51<15:00,  4.74s/it]"
          ]
        },
        {
          "output_type": "stream",
          "name": "stdout",
          "text": [
            "Epoch: 10/200 | Train Loss: 0.0030394326895475388 | Time: 4.33s (cuda) | LR: 2.5600000000000006e-05\n"
          ]
        },
        {
          "output_type": "stream",
          "name": "stderr",
          "text": [
            "\r  6%|▌         | 11/200 [00:56<15:12,  4.83s/it]"
          ]
        },
        {
          "output_type": "stream",
          "name": "stdout",
          "text": [
            "Epoch: 11/200 | Train Loss: 0.002928764559328556 | Time: 5.02s (cuda) | LR: 2.5600000000000006e-05\n"
          ]
        },
        {
          "output_type": "stream",
          "name": "stderr",
          "text": [
            "\r  6%|▌         | 12/200 [01:01<14:37,  4.67s/it]"
          ]
        },
        {
          "output_type": "stream",
          "name": "stdout",
          "text": [
            "Epoch: 12/200 | Train Loss: 0.00296200904995203 | Time: 4.31s (cuda) | LR: 2.0480000000000007e-05\n"
          ]
        },
        {
          "output_type": "stream",
          "name": "stderr",
          "text": [
            "\r  6%|▋         | 13/200 [01:06<14:54,  4.78s/it]"
          ]
        },
        {
          "output_type": "stream",
          "name": "stdout",
          "text": [
            "Epoch: 13/200 | Train Loss: 0.0029029599390923977 | Time: 5.05s (cuda) | LR: 2.0480000000000007e-05\n"
          ]
        },
        {
          "output_type": "stream",
          "name": "stderr",
          "text": [
            "\r  7%|▋         | 14/200 [01:10<14:21,  4.63s/it]"
          ]
        },
        {
          "output_type": "stream",
          "name": "stdout",
          "text": [
            "Epoch: 14/200 | Train Loss: 0.002924371510744095 | Time: 4.28s (cuda) | LR: 1.6384000000000008e-05\n"
          ]
        },
        {
          "output_type": "stream",
          "name": "stderr",
          "text": [
            "\r  8%|▊         | 15/200 [01:14<13:52,  4.50s/it]"
          ]
        },
        {
          "output_type": "stream",
          "name": "stdout",
          "text": [
            "Epoch: 15/200 | Train Loss: 0.00285296980291605 | Time: 4.19s (cuda) | LR: 1.6384000000000008e-05\n"
          ]
        },
        {
          "output_type": "stream",
          "name": "stderr",
          "text": [
            "\r  8%|▊         | 16/200 [01:19<14:24,  4.70s/it]"
          ]
        },
        {
          "output_type": "stream",
          "name": "stdout",
          "text": [
            "Epoch: 16/200 | Train Loss: 0.002862249966710806 | Time: 5.17s (cuda) | LR: 1.0485760000000006e-05\n"
          ]
        },
        {
          "output_type": "stream",
          "name": "stderr",
          "text": [
            "\r  8%|▊         | 17/200 [01:24<13:57,  4.58s/it]"
          ]
        },
        {
          "output_type": "stream",
          "name": "stdout",
          "text": [
            "Epoch: 17/200 | Train Loss: 0.002792153973132372 | Time: 4.29s (cuda) | LR: 1.0485760000000006e-05\n"
          ]
        },
        {
          "output_type": "stream",
          "name": "stderr",
          "text": [
            "\r  9%|▉         | 18/200 [01:28<13:35,  4.48s/it]"
          ]
        },
        {
          "output_type": "stream",
          "name": "stdout",
          "text": [
            "Epoch: 18/200 | Train Loss: 0.002786528319120407 | Time: 4.25s (cuda) | LR: 1.0485760000000006e-05\n"
          ]
        },
        {
          "output_type": "stream",
          "name": "stderr",
          "text": [
            "\r 10%|▉         | 19/200 [01:33<14:13,  4.72s/it]"
          ]
        },
        {
          "output_type": "stream",
          "name": "stdout",
          "text": [
            "Epoch: 19/200 | Train Loss: 0.0027898140251636505 | Time: 5.27s (cuda) | LR: 8.388608000000005e-06\n"
          ]
        },
        {
          "output_type": "stream",
          "name": "stderr",
          "text": [
            "\r 10%|█         | 20/200 [01:38<14:30,  4.84s/it]"
          ]
        },
        {
          "output_type": "stream",
          "name": "stdout",
          "text": [
            "Epoch: 20/200 | Train Loss: 0.002758339513093233 | Time: 5.11s (cuda) | LR: 8.388608000000005e-06\n"
          ]
        },
        {
          "output_type": "stream",
          "name": "stderr",
          "text": [
            "\r 10%|█         | 21/200 [01:45<16:01,  5.37s/it]"
          ]
        },
        {
          "output_type": "stream",
          "name": "stdout",
          "text": [
            "Epoch: 21/200 | Train Loss: 0.00277554034255445 | Time: 6.61s (cuda) | LR: 6.7108864000000044e-06\n"
          ]
        },
        {
          "output_type": "stream",
          "name": "stderr",
          "text": [
            "\r 11%|█         | 22/200 [01:49<14:53,  5.02s/it]"
          ]
        },
        {
          "output_type": "stream",
          "name": "stdout",
          "text": [
            "Epoch: 22/200 | Train Loss: 0.0027331148739904165 | Time: 4.21s (cuda) | LR: 6.7108864000000044e-06\n"
          ]
        },
        {
          "output_type": "stream",
          "name": "stderr",
          "text": [
            "\r 12%|█▏        | 23/200 [01:53<14:06,  4.78s/it]"
          ]
        },
        {
          "output_type": "stream",
          "name": "stdout",
          "text": [
            "Epoch: 23/200 | Train Loss: 0.0027432087808847427 | Time: 4.22s (cuda) | LR: 5.368709120000004e-06\n"
          ]
        },
        {
          "output_type": "stream",
          "name": "stderr",
          "text": [
            "\r 12%|█▏        | 24/200 [01:59<14:21,  4.89s/it]"
          ]
        },
        {
          "output_type": "stream",
          "name": "stdout",
          "text": [
            "Epoch: 24/200 | Train Loss: 0.002707017818465829 | Time: 5.15s (cuda) | LR: 5.368709120000004e-06\n"
          ]
        },
        {
          "output_type": "stream",
          "name": "stderr",
          "text": [
            "\r 12%|█▎        | 25/200 [02:03<13:46,  4.72s/it]"
          ]
        },
        {
          "output_type": "stream",
          "name": "stdout",
          "text": [
            "Epoch: 25/200 | Train Loss: 0.0027044368907809258 | Time: 4.32s (cuda) | LR: 5.368709120000004e-06\n"
          ]
        },
        {
          "output_type": "stream",
          "name": "stderr",
          "text": [
            "\r 13%|█▎        | 26/200 [02:08<13:50,  4.77s/it]"
          ]
        },
        {
          "output_type": "stream",
          "name": "stdout",
          "text": [
            "Epoch: 26/200 | Train Loss: 0.0027045279275625944 | Time: 4.88s (cuda) | LR: 4.294967296000004e-06\n"
          ]
        },
        {
          "output_type": "stream",
          "name": "stderr",
          "text": [
            "\r 14%|█▎        | 27/200 [02:12<13:28,  4.67s/it]"
          ]
        },
        {
          "output_type": "stream",
          "name": "stdout",
          "text": [
            "Epoch: 27/200 | Train Loss: 0.002676130970939994 | Time: 4.45s (cuda) | LR: 4.294967296000004e-06\n"
          ]
        },
        {
          "output_type": "stream",
          "name": "stderr",
          "text": [
            "\r 14%|█▍        | 28/200 [02:16<13:00,  4.54s/it]"
          ]
        },
        {
          "output_type": "stream",
          "name": "stdout",
          "text": [
            "Epoch: 28/200 | Train Loss: 0.0026710384991019964 | Time: 4.21s (cuda) | LR: 4.294967296000004e-06\n"
          ]
        },
        {
          "output_type": "stream",
          "name": "stderr",
          "text": [
            "\r 14%|█▍        | 29/200 [02:22<13:26,  4.72s/it]"
          ]
        },
        {
          "output_type": "stream",
          "name": "stdout",
          "text": [
            "Epoch: 29/200 | Train Loss: 0.0026720925234258175 | Time: 5.14s (cuda) | LR: 3.4359738368000033e-06\n"
          ]
        },
        {
          "output_type": "stream",
          "name": "stderr",
          "text": [
            "\r 15%|█▌        | 30/200 [02:26<13:00,  4.59s/it]"
          ]
        },
        {
          "output_type": "stream",
          "name": "stdout",
          "text": [
            "Epoch: 30/200 | Train Loss: 0.0026478865183889866 | Time: 4.29s (cuda) | LR: 3.4359738368000033e-06\n"
          ]
        },
        {
          "output_type": "stream",
          "name": "stderr",
          "text": [
            "\r 16%|█▌        | 31/200 [02:30<12:35,  4.47s/it]"
          ]
        },
        {
          "output_type": "stream",
          "name": "stdout",
          "text": [
            "Epoch: 31/200 | Train Loss: 0.002651880495250225 | Time: 4.2s (cuda) | LR: 2.1990232555520023e-06\n"
          ]
        },
        {
          "output_type": "stream",
          "name": "stderr",
          "text": [
            "\r 16%|█▌        | 32/200 [02:35<13:11,  4.71s/it]"
          ]
        },
        {
          "output_type": "stream",
          "name": "stdout",
          "text": [
            "Epoch: 32/200 | Train Loss: 0.0026167845353484154 | Time: 5.27s (cuda) | LR: 2.1990232555520023e-06\n"
          ]
        },
        {
          "output_type": "stream",
          "name": "stderr",
          "text": [
            "\r 16%|█▋        | 33/200 [02:40<12:42,  4.56s/it]"
          ]
        },
        {
          "output_type": "stream",
          "name": "stdout",
          "text": [
            "Epoch: 33/200 | Train Loss: 0.002609288552775979 | Time: 4.22s (cuda) | LR: 2.1990232555520023e-06\n"
          ]
        },
        {
          "output_type": "stream",
          "name": "stderr",
          "text": [
            "\r 17%|█▋        | 34/200 [02:44<12:29,  4.52s/it]"
          ]
        },
        {
          "output_type": "stream",
          "name": "stdout",
          "text": [
            "Epoch: 34/200 | Train Loss: 0.0026086107827723026 | Time: 4.4s (cuda) | LR: 2.1990232555520023e-06\n"
          ]
        },
        {
          "output_type": "stream",
          "name": "stderr",
          "text": [
            "\r 18%|█▊        | 35/200 [02:49<12:46,  4.65s/it]"
          ]
        },
        {
          "output_type": "stream",
          "name": "stdout",
          "text": [
            "Epoch: 35/200 | Train Loss: 0.0026044435799121857 | Time: 4.95s (cuda) | LR: 2.1990232555520023e-06\n"
          ]
        },
        {
          "output_type": "stream",
          "name": "stderr",
          "text": [
            "\r 18%|█▊        | 36/200 [02:53<12:20,  4.51s/it]"
          ]
        },
        {
          "output_type": "stream",
          "name": "stdout",
          "text": [
            "Epoch: 36/200 | Train Loss: 0.0026004177052527666 | Time: 4.2s (cuda) | LR: 2.1990232555520023e-06\n"
          ]
        },
        {
          "output_type": "stream",
          "name": "stderr",
          "text": [
            "\r 18%|█▊        | 37/200 [02:58<12:46,  4.70s/it]"
          ]
        },
        {
          "output_type": "stream",
          "name": "stdout",
          "text": [
            "Epoch: 37/200 | Train Loss: 0.002602654043585062 | Time: 5.14s (cuda) | LR: 1.7592186044416019e-06\n"
          ]
        },
        {
          "output_type": "stream",
          "name": "stderr",
          "text": [
            "\r 19%|█▉        | 38/200 [03:03<12:18,  4.56s/it]"
          ]
        },
        {
          "output_type": "stream",
          "name": "stdout",
          "text": [
            "Epoch: 38/200 | Train Loss: 0.002581036649644375 | Time: 4.22s (cuda) | LR: 1.7592186044416019e-06\n"
          ]
        },
        {
          "output_type": "stream",
          "name": "stderr",
          "text": [
            "\r 20%|█▉        | 39/200 [03:07<12:03,  4.49s/it]"
          ]
        },
        {
          "output_type": "stream",
          "name": "stdout",
          "text": [
            "Epoch: 39/200 | Train Loss: 0.002579832449555397 | Time: 4.33s (cuda) | LR: 1.7592186044416019e-06\n"
          ]
        },
        {
          "output_type": "stream",
          "name": "stderr",
          "text": [
            "\r 20%|██        | 40/200 [03:12<12:29,  4.68s/it]"
          ]
        },
        {
          "output_type": "stream",
          "name": "stdout",
          "text": [
            "Epoch: 40/200 | Train Loss: 0.0025736805982887745 | Time: 5.13s (cuda) | LR: 1.7592186044416019e-06\n"
          ]
        },
        {
          "output_type": "stream",
          "name": "stderr",
          "text": [
            "\r 20%|██        | 41/200 [03:16<12:03,  4.55s/it]"
          ]
        },
        {
          "output_type": "stream",
          "name": "stdout",
          "text": [
            "Epoch: 41/200 | Train Loss: 0.002570593263953924 | Time: 4.23s (cuda) | LR: 1.7592186044416019e-06\n"
          ]
        },
        {
          "output_type": "stream",
          "name": "stderr",
          "text": [
            "\r 21%|██        | 42/200 [03:20<11:45,  4.46s/it]"
          ]
        },
        {
          "output_type": "stream",
          "name": "stdout",
          "text": [
            "Epoch: 42/200 | Train Loss: 0.002566424198448658 | Time: 4.26s (cuda) | LR: 1.7592186044416019e-06\n"
          ]
        },
        {
          "output_type": "stream",
          "name": "stderr",
          "text": [
            "\r 22%|██▏       | 43/200 [03:26<12:14,  4.68s/it]"
          ]
        },
        {
          "output_type": "stream",
          "name": "stdout",
          "text": [
            "Epoch: 43/200 | Train Loss: 0.0025611838791519403 | Time: 5.19s (cuda) | LR: 1.7592186044416019e-06\n"
          ]
        },
        {
          "output_type": "stream",
          "name": "stderr",
          "text": [
            "\r 22%|██▏       | 44/200 [03:30<11:48,  4.54s/it]"
          ]
        },
        {
          "output_type": "stream",
          "name": "stdout",
          "text": [
            "Epoch: 44/200 | Train Loss: 0.002558527048677206 | Time: 4.21s (cuda) | LR: 1.7592186044416019e-06\n"
          ]
        },
        {
          "output_type": "stream",
          "name": "stderr",
          "text": [
            "\r 22%|██▎       | 45/200 [03:35<12:04,  4.68s/it]"
          ]
        },
        {
          "output_type": "stream",
          "name": "stdout",
          "text": [
            "Epoch: 45/200 | Train Loss: 0.0025557188782840967 | Time: 4.99s (cuda) | LR: 1.7592186044416019e-06\n"
          ]
        },
        {
          "output_type": "stream",
          "name": "stderr",
          "text": [
            "\r 23%|██▎       | 46/200 [03:40<11:58,  4.66s/it]"
          ]
        },
        {
          "output_type": "stream",
          "name": "stdout",
          "text": [
            "Epoch: 46/200 | Train Loss: 0.00254849623888731 | Time: 4.63s (cuda) | LR: 1.4073748835532816e-06\n"
          ]
        },
        {
          "output_type": "stream",
          "name": "stderr",
          "text": [
            "\r 24%|██▎       | 47/200 [03:44<11:47,  4.62s/it]"
          ]
        },
        {
          "output_type": "stream",
          "name": "stdout",
          "text": [
            "Epoch: 47/200 | Train Loss: 0.002537711290642619 | Time: 4.54s (cuda) | LR: 1.4073748835532816e-06\n"
          ]
        },
        {
          "output_type": "stream",
          "name": "stderr",
          "text": [
            "\r 24%|██▍       | 48/200 [03:49<12:10,  4.81s/it]"
          ]
        },
        {
          "output_type": "stream",
          "name": "stdout",
          "text": [
            "Epoch: 48/200 | Train Loss: 0.002531388308852911 | Time: 5.24s (cuda) | LR: 1.4073748835532816e-06\n"
          ]
        },
        {
          "output_type": "stream",
          "name": "stderr",
          "text": [
            "\r 24%|██▍       | 49/200 [03:54<11:49,  4.70s/it]"
          ]
        },
        {
          "output_type": "stream",
          "name": "stdout",
          "text": [
            "Epoch: 49/200 | Train Loss: 0.002528524026274681 | Time: 4.44s (cuda) | LR: 1.4073748835532816e-06\n"
          ]
        },
        {
          "output_type": "stream",
          "name": "stderr",
          "text": [
            "\r 25%|██▌       | 50/200 [03:58<11:38,  4.65s/it]"
          ]
        },
        {
          "output_type": "stream",
          "name": "stdout",
          "text": [
            "Epoch: 50/200 | Train Loss: 0.002527765929698944 | Time: 4.53s (cuda) | LR: 1.4073748835532816e-06\n"
          ]
        },
        {
          "output_type": "stream",
          "name": "stderr",
          "text": [
            "\r 26%|██▌       | 51/200 [04:04<12:06,  4.88s/it]"
          ]
        },
        {
          "output_type": "stream",
          "name": "stdout",
          "text": [
            "Epoch: 51/200 | Train Loss: 0.0025218394584953785 | Time: 5.39s (cuda) | LR: 1.4073748835532816e-06\n"
          ]
        },
        {
          "output_type": "stream",
          "name": "stderr",
          "text": [
            "\r 26%|██▌       | 52/200 [04:08<11:53,  4.82s/it]"
          ]
        },
        {
          "output_type": "stream",
          "name": "stdout",
          "text": [
            "Epoch: 52/200 | Train Loss: 0.0025174967013299465 | Time: 4.69s (cuda) | LR: 1.4073748835532816e-06\n"
          ]
        },
        {
          "output_type": "stream",
          "name": "stderr",
          "text": [
            "\r 26%|██▋       | 53/200 [04:14<12:16,  5.01s/it]"
          ]
        },
        {
          "output_type": "stream",
          "name": "stdout",
          "text": [
            "Epoch: 53/200 | Train Loss: 0.0025119883939623833 | Time: 5.45s (cuda) | LR: 1.4073748835532816e-06\n"
          ]
        },
        {
          "output_type": "stream",
          "name": "stderr",
          "text": [
            "\r 27%|██▋       | 54/200 [04:18<11:48,  4.86s/it]"
          ]
        },
        {
          "output_type": "stream",
          "name": "stdout",
          "text": [
            "Epoch: 54/200 | Train Loss: 0.002510656602680683 | Time: 4.49s (cuda) | LR: 1.4073748835532816e-06\n"
          ]
        },
        {
          "output_type": "stream",
          "name": "stderr",
          "text": [
            "\r 28%|██▊       | 55/200 [04:23<11:30,  4.76s/it]"
          ]
        },
        {
          "output_type": "stream",
          "name": "stdout",
          "text": [
            "Epoch: 55/200 | Train Loss: 0.0025049035903066397 | Time: 4.55s (cuda) | LR: 1.4073748835532816e-06\n"
          ]
        },
        {
          "output_type": "stream",
          "name": "stderr",
          "text": [
            "\r 28%|██▊       | 56/200 [04:28<12:01,  5.01s/it]"
          ]
        },
        {
          "output_type": "stream",
          "name": "stdout",
          "text": [
            "Epoch: 56/200 | Train Loss: 0.002501478185877204 | Time: 5.58s (cuda) | LR: 1.4073748835532816e-06\n"
          ]
        },
        {
          "output_type": "stream",
          "name": "stderr",
          "text": [
            "\r 28%|██▊       | 57/200 [04:33<11:35,  4.86s/it]"
          ]
        },
        {
          "output_type": "stream",
          "name": "stdout",
          "text": [
            "Epoch: 57/200 | Train Loss: 0.0024988173972815275 | Time: 4.52s (cuda) | LR: 1.4073748835532816e-06\n"
          ]
        },
        {
          "output_type": "stream",
          "name": "stderr",
          "text": [
            "\r 29%|██▉       | 58/200 [04:39<12:01,  5.08s/it]"
          ]
        },
        {
          "output_type": "stream",
          "name": "stdout",
          "text": [
            "Epoch: 58/200 | Train Loss: 0.00249536894261837 | Time: 5.6s (cuda) | LR: 1.4073748835532816e-06\n"
          ]
        },
        {
          "output_type": "stream",
          "name": "stderr",
          "text": [
            "\r 30%|██▉       | 59/200 [04:43<11:35,  4.94s/it]"
          ]
        },
        {
          "output_type": "stream",
          "name": "stdout",
          "text": [
            "Epoch: 59/200 | Train Loss: 0.002487685065716505 | Time: 4.59s (cuda) | LR: 1.4073748835532816e-06\n"
          ]
        },
        {
          "output_type": "stream",
          "name": "stderr",
          "text": [
            "\r 30%|███       | 60/200 [04:48<11:14,  4.82s/it]"
          ]
        },
        {
          "output_type": "stream",
          "name": "stdout",
          "text": [
            "Epoch: 60/200 | Train Loss: 0.0024869677145034075 | Time: 4.54s (cuda) | LR: 1.4073748835532816e-06\n"
          ]
        },
        {
          "output_type": "stream",
          "name": "stderr",
          "text": [
            "\r 30%|███       | 61/200 [04:53<11:41,  5.05s/it]"
          ]
        },
        {
          "output_type": "stream",
          "name": "stdout",
          "text": [
            "Epoch: 61/200 | Train Loss: 0.0024809043388813734 | Time: 5.59s (cuda) | LR: 1.1258999068426254e-06\n"
          ]
        },
        {
          "output_type": "stream",
          "name": "stderr",
          "text": [
            "\r 31%|███       | 62/200 [04:58<11:17,  4.91s/it]"
          ]
        },
        {
          "output_type": "stream",
          "name": "stdout",
          "text": [
            "Epoch: 62/200 | Train Loss: 0.0024704821407794952 | Time: 4.57s (cuda) | LR: 1.1258999068426254e-06\n"
          ]
        },
        {
          "output_type": "stream",
          "name": "stderr",
          "text": [
            "\r 32%|███▏      | 63/200 [05:03<11:35,  5.07s/it]"
          ]
        },
        {
          "output_type": "stream",
          "name": "stdout",
          "text": [
            "Epoch: 63/200 | Train Loss: 0.0024637356400489807 | Time: 5.47s (cuda) | LR: 1.1258999068426254e-06\n"
          ]
        },
        {
          "output_type": "stream",
          "name": "stderr",
          "text": [
            "\r 32%|███▏      | 64/200 [05:08<11:20,  5.01s/it]"
          ]
        },
        {
          "output_type": "stream",
          "name": "stdout",
          "text": [
            "Epoch: 64/200 | Train Loss: 0.0024611297994852066 | Time: 4.84s (cuda) | LR: 1.1258999068426254e-06\n"
          ]
        },
        {
          "output_type": "stream",
          "name": "stderr",
          "text": [
            "\r 32%|███▎      | 65/200 [05:13<10:57,  4.87s/it]"
          ]
        },
        {
          "output_type": "stream",
          "name": "stdout",
          "text": [
            "Epoch: 65/200 | Train Loss: 0.00245727994479239 | Time: 4.55s (cuda) | LR: 1.1258999068426254e-06\n"
          ]
        },
        {
          "output_type": "stream",
          "name": "stderr",
          "text": [
            "\r 33%|███▎      | 66/200 [05:18<11:17,  5.06s/it]"
          ]
        },
        {
          "output_type": "stream",
          "name": "stdout",
          "text": [
            "Epoch: 66/200 | Train Loss: 0.002456034068018198 | Time: 5.5s (cuda) | LR: 1.1258999068426254e-06\n"
          ]
        },
        {
          "output_type": "stream",
          "name": "stderr",
          "text": [
            "\r 34%|███▎      | 67/200 [05:23<10:50,  4.89s/it]"
          ]
        },
        {
          "output_type": "stream",
          "name": "stdout",
          "text": [
            "Epoch: 67/200 | Train Loss: 0.002451303880661726 | Time: 4.5s (cuda) | LR: 1.1258999068426254e-06\n"
          ]
        },
        {
          "output_type": "stream",
          "name": "stderr",
          "text": [
            "\r 34%|███▍      | 68/200 [05:28<10:51,  4.94s/it]"
          ]
        },
        {
          "output_type": "stream",
          "name": "stdout",
          "text": [
            "Epoch: 68/200 | Train Loss: 0.002448753686621785 | Time: 5.05s (cuda) | LR: 1.1258999068426254e-06\n"
          ]
        },
        {
          "output_type": "stream",
          "name": "stderr",
          "text": [
            "\r 34%|███▍      | 69/200 [05:33<10:49,  4.96s/it]"
          ]
        },
        {
          "output_type": "stream",
          "name": "stdout",
          "text": [
            "Epoch: 69/200 | Train Loss: 0.0024475459940731525 | Time: 4.99s (cuda) | LR: 1.1258999068426254e-06\n"
          ]
        },
        {
          "output_type": "stream",
          "name": "stderr",
          "text": [
            "\r 35%|███▌      | 70/200 [05:37<10:35,  4.89s/it]"
          ]
        },
        {
          "output_type": "stream",
          "name": "stdout",
          "text": [
            "Epoch: 70/200 | Train Loss: 0.0024389298632740974 | Time: 4.72s (cuda) | LR: 1.1258999068426254e-06\n"
          ]
        },
        {
          "output_type": "stream",
          "name": "stderr",
          "text": [
            "\r 36%|███▌      | 71/200 [05:43<10:54,  5.07s/it]"
          ]
        },
        {
          "output_type": "stream",
          "name": "stdout",
          "text": [
            "Epoch: 71/200 | Train Loss: 0.002437344752252102 | Time: 5.51s (cuda) | LR: 1.1258999068426254e-06\n"
          ]
        },
        {
          "output_type": "stream",
          "name": "stderr",
          "text": [
            "\r 36%|███▌      | 72/200 [05:48<10:32,  4.94s/it]"
          ]
        },
        {
          "output_type": "stream",
          "name": "stdout",
          "text": [
            "Epoch: 72/200 | Train Loss: 0.0024324278347194195 | Time: 4.62s (cuda) | LR: 1.1258999068426254e-06\n"
          ]
        },
        {
          "output_type": "stream",
          "name": "stderr",
          "text": [
            "\r 36%|███▋      | 73/200 [05:53<10:28,  4.95s/it]"
          ]
        },
        {
          "output_type": "stream",
          "name": "stdout",
          "text": [
            "Epoch: 73/200 | Train Loss: 0.0024294881150126457 | Time: 4.96s (cuda) | LR: 1.1258999068426254e-06\n"
          ]
        },
        {
          "output_type": "stream",
          "name": "stderr",
          "text": [
            "\r 37%|███▋      | 74/200 [05:58<10:34,  5.03s/it]"
          ]
        },
        {
          "output_type": "stream",
          "name": "stdout",
          "text": [
            "Epoch: 74/200 | Train Loss: 0.002426712540909648 | Time: 5.24s (cuda) | LR: 1.1258999068426254e-06\n"
          ]
        },
        {
          "output_type": "stream",
          "name": "stderr",
          "text": [
            "\r 38%|███▊      | 75/200 [06:02<10:14,  4.91s/it]"
          ]
        },
        {
          "output_type": "stream",
          "name": "stdout",
          "text": [
            "Epoch: 75/200 | Train Loss: 0.0024255120661109686 | Time: 4.63s (cuda) | LR: 1.1258999068426254e-06\n"
          ]
        },
        {
          "output_type": "stream",
          "name": "stderr",
          "text": [
            "\r 38%|███▊      | 76/200 [06:08<10:35,  5.12s/it]"
          ]
        },
        {
          "output_type": "stream",
          "name": "stdout",
          "text": [
            "Epoch: 76/200 | Train Loss: 0.002419342054054141 | Time: 5.61s (cuda) | LR: 9.007199254741003e-07\n"
          ]
        },
        {
          "output_type": "stream",
          "name": "stderr",
          "text": [
            "\r 38%|███▊      | 77/200 [06:13<10:04,  4.92s/it]"
          ]
        },
        {
          "output_type": "stream",
          "name": "stdout",
          "text": [
            "Epoch: 77/200 | Train Loss: 0.0024086665362119675 | Time: 4.43s (cuda) | LR: 9.007199254741003e-07\n"
          ]
        },
        {
          "output_type": "stream",
          "name": "stderr",
          "text": [
            "\r 39%|███▉      | 78/200 [06:17<09:46,  4.81s/it]"
          ]
        },
        {
          "output_type": "stream",
          "name": "stdout",
          "text": [
            "Epoch: 78/200 | Train Loss: 0.002405987586826086 | Time: 4.55s (cuda) | LR: 9.007199254741003e-07\n"
          ]
        },
        {
          "output_type": "stream",
          "name": "stderr",
          "text": [
            "\r 40%|███▉      | 79/200 [06:22<09:55,  4.92s/it]"
          ]
        },
        {
          "output_type": "stream",
          "name": "stdout",
          "text": [
            "Epoch: 79/200 | Train Loss: 0.0024028820917010307 | Time: 5.19s (cuda) | LR: 9.007199254741003e-07\n"
          ]
        },
        {
          "output_type": "stream",
          "name": "stderr",
          "text": [
            "\r 40%|████      | 80/200 [06:27<09:34,  4.78s/it]"
          ]
        },
        {
          "output_type": "stream",
          "name": "stdout",
          "text": [
            "Epoch: 80/200 | Train Loss: 0.0024010646156966686 | Time: 4.46s (cuda) | LR: 9.007199254741003e-07\n"
          ]
        },
        {
          "output_type": "stream",
          "name": "stderr",
          "text": [
            "\r 40%|████      | 81/200 [06:32<09:51,  4.97s/it]"
          ]
        },
        {
          "output_type": "stream",
          "name": "stdout",
          "text": [
            "Epoch: 81/200 | Train Loss: 0.0023979442194104195 | Time: 5.4s (cuda) | LR: 9.007199254741003e-07\n"
          ]
        },
        {
          "output_type": "stream",
          "name": "stderr",
          "text": [
            "\r 41%|████      | 82/200 [06:37<09:31,  4.84s/it]"
          ]
        },
        {
          "output_type": "stream",
          "name": "stdout",
          "text": [
            "Epoch: 82/200 | Train Loss: 0.002394304145127535 | Time: 4.54s (cuda) | LR: 9.007199254741003e-07\n"
          ]
        },
        {
          "output_type": "stream",
          "name": "stderr",
          "text": [
            "\r 42%|████▏     | 83/200 [06:41<09:15,  4.74s/it]"
          ]
        },
        {
          "output_type": "stream",
          "name": "stdout",
          "text": [
            "Epoch: 83/200 | Train Loss: 0.002393164671957493 | Time: 4.51s (cuda) | LR: 9.007199254741003e-07\n"
          ]
        },
        {
          "output_type": "stream",
          "name": "stderr",
          "text": [
            "\r 42%|████▏     | 84/200 [06:47<09:30,  4.92s/it]"
          ]
        },
        {
          "output_type": "stream",
          "name": "stdout",
          "text": [
            "Epoch: 84/200 | Train Loss: 0.0023887138813734055 | Time: 5.33s (cuda) | LR: 9.007199254741003e-07\n"
          ]
        },
        {
          "output_type": "stream",
          "name": "stderr",
          "text": [
            "\r 42%|████▎     | 85/200 [06:51<09:09,  4.78s/it]"
          ]
        },
        {
          "output_type": "stream",
          "name": "stdout",
          "text": [
            "Epoch: 85/200 | Train Loss: 0.0023850644938647747 | Time: 4.44s (cuda) | LR: 9.007199254741003e-07\n"
          ]
        },
        {
          "output_type": "stream",
          "name": "stderr",
          "text": [
            "\r 43%|████▎     | 86/200 [06:56<09:14,  4.86s/it]"
          ]
        },
        {
          "output_type": "stream",
          "name": "stdout",
          "text": [
            "Epoch: 86/200 | Train Loss: 0.002381647936999798 | Time: 5.07s (cuda) | LR: 9.007199254741003e-07\n"
          ]
        },
        {
          "output_type": "stream",
          "name": "stderr",
          "text": [
            "\r 44%|████▎     | 87/200 [07:01<09:08,  4.85s/it]"
          ]
        },
        {
          "output_type": "stream",
          "name": "stdout",
          "text": [
            "Epoch: 87/200 | Train Loss: 0.00237851869314909 | Time: 4.81s (cuda) | LR: 9.007199254741003e-07\n"
          ]
        },
        {
          "output_type": "stream",
          "name": "stderr",
          "text": [
            "\r 44%|████▍     | 88/200 [07:05<08:49,  4.72s/it]"
          ]
        },
        {
          "output_type": "stream",
          "name": "stdout",
          "text": [
            "Epoch: 88/200 | Train Loss: 0.002375173382461071 | Time: 4.42s (cuda) | LR: 9.007199254741003e-07\n"
          ]
        },
        {
          "output_type": "stream",
          "name": "stderr",
          "text": [
            "\r 44%|████▍     | 89/200 [07:11<09:12,  4.98s/it]"
          ]
        },
        {
          "output_type": "stream",
          "name": "stdout",
          "text": [
            "Epoch: 89/200 | Train Loss: 0.0023752921260893345 | Time: 5.57s (cuda) | LR: 7.205759403792803e-07\n"
          ]
        },
        {
          "output_type": "stream",
          "name": "stderr",
          "text": [
            "\r 45%|████▌     | 90/200 [07:15<08:49,  4.82s/it]"
          ]
        },
        {
          "output_type": "stream",
          "name": "stdout",
          "text": [
            "Epoch: 90/200 | Train Loss: 0.0023642713204026222 | Time: 4.44s (cuda) | LR: 7.205759403792803e-07\n"
          ]
        },
        {
          "output_type": "stream",
          "name": "stderr",
          "text": [
            "\r 46%|████▌     | 91/200 [07:20<08:31,  4.69s/it]"
          ]
        },
        {
          "output_type": "stream",
          "name": "stdout",
          "text": [
            "Epoch: 91/200 | Train Loss: 0.002362702041864395 | Time: 4.41s (cuda) | LR: 5.764607523034243e-07\n"
          ]
        },
        {
          "output_type": "stream",
          "name": "stderr",
          "text": [
            "\r 46%|████▌     | 92/200 [07:25<08:48,  4.90s/it]"
          ]
        },
        {
          "output_type": "stream",
          "name": "stdout",
          "text": [
            "Epoch: 92/200 | Train Loss: 0.0023557734675705433 | Time: 5.37s (cuda) | LR: 5.764607523034243e-07\n"
          ]
        },
        {
          "output_type": "stream",
          "name": "stderr",
          "text": [
            "\r 46%|████▋     | 93/200 [07:29<08:26,  4.74s/it]"
          ]
        },
        {
          "output_type": "stream",
          "name": "stdout",
          "text": [
            "Epoch: 93/200 | Train Loss: 0.0023537203669548035 | Time: 4.36s (cuda) | LR: 5.764607523034243e-07\n"
          ]
        },
        {
          "output_type": "stream",
          "name": "stderr",
          "text": [
            "\r 47%|████▋     | 94/200 [07:35<08:42,  4.93s/it]"
          ]
        },
        {
          "output_type": "stream",
          "name": "stdout",
          "text": [
            "Epoch: 94/200 | Train Loss: 0.0023515899665653706 | Time: 5.39s (cuda) | LR: 5.764607523034243e-07\n"
          ]
        },
        {
          "output_type": "stream",
          "name": "stderr",
          "text": [
            "\r 48%|████▊     | 95/200 [07:39<08:22,  4.79s/it]"
          ]
        },
        {
          "output_type": "stream",
          "name": "stdout",
          "text": [
            "Epoch: 95/200 | Train Loss: 0.00234975665807724 | Time: 4.45s (cuda) | LR: 5.764607523034243e-07\n"
          ]
        },
        {
          "output_type": "stream",
          "name": "stderr",
          "text": [
            "\r 48%|████▊     | 96/200 [07:44<08:11,  4.72s/it]"
          ]
        },
        {
          "output_type": "stream",
          "name": "stdout",
          "text": [
            "Epoch: 96/200 | Train Loss: 0.002348258625715971 | Time: 4.57s (cuda) | LR: 5.764607523034243e-07\n"
          ]
        },
        {
          "output_type": "stream",
          "name": "stderr",
          "text": [
            "\r 48%|████▊     | 97/200 [07:49<08:26,  4.92s/it]"
          ]
        },
        {
          "output_type": "stream",
          "name": "stdout",
          "text": [
            "Epoch: 97/200 | Train Loss: 0.0023447545245289803 | Time: 5.38s (cuda) | LR: 5.764607523034243e-07\n"
          ]
        },
        {
          "output_type": "stream",
          "name": "stderr",
          "text": [
            "\r 49%|████▉     | 98/200 [07:54<08:06,  4.77s/it]"
          ]
        },
        {
          "output_type": "stream",
          "name": "stdout",
          "text": [
            "Epoch: 98/200 | Train Loss: 0.002343314466997981 | Time: 4.43s (cuda) | LR: 5.764607523034243e-07\n"
          ]
        },
        {
          "output_type": "stream",
          "name": "stderr",
          "text": [
            "\r 50%|████▉     | 99/200 [07:58<08:03,  4.79s/it]"
          ]
        },
        {
          "output_type": "stream",
          "name": "stdout",
          "text": [
            "Epoch: 99/200 | Train Loss: 0.002341532614082098 | Time: 4.81s (cuda) | LR: 5.764607523034243e-07\n"
          ]
        },
        {
          "output_type": "stream",
          "name": "stderr",
          "text": [
            "\r 50%|█████     | 100/200 [08:03<08:01,  4.82s/it]"
          ]
        },
        {
          "output_type": "stream",
          "name": "stdout",
          "text": [
            "Epoch: 100/200 | Train Loss: 0.002339141210541129 | Time: 4.88s (cuda) | LR: 5.764607523034243e-07\n"
          ]
        },
        {
          "output_type": "stream",
          "name": "stderr",
          "text": [
            "\r 50%|█████     | 101/200 [08:08<07:45,  4.70s/it]"
          ]
        },
        {
          "output_type": "stream",
          "name": "stdout",
          "text": [
            "Epoch: 101/200 | Train Loss: 0.0023385793901979923 | Time: 4.42s (cuda) | LR: 5.764607523034243e-07\n"
          ]
        },
        {
          "output_type": "stream",
          "name": "stderr",
          "text": [
            "\r 51%|█████     | 102/200 [08:13<08:08,  4.98s/it]"
          ]
        },
        {
          "output_type": "stream",
          "name": "stdout",
          "text": [
            "Epoch: 102/200 | Train Loss: 0.0023349409457296133 | Time: 5.65s (cuda) | LR: 5.764607523034243e-07\n"
          ]
        },
        {
          "output_type": "stream",
          "name": "stderr",
          "text": [
            "\r 52%|█████▏    | 103/200 [08:18<07:49,  4.84s/it]"
          ]
        },
        {
          "output_type": "stream",
          "name": "stdout",
          "text": [
            "Epoch: 103/200 | Train Loss: 0.002334028948098421 | Time: 4.51s (cuda) | LR: 5.764607523034243e-07\n"
          ]
        },
        {
          "output_type": "stream",
          "name": "stderr",
          "text": [
            "\r 52%|█████▏    | 104/200 [08:22<07:33,  4.73s/it]"
          ]
        },
        {
          "output_type": "stream",
          "name": "stdout",
          "text": [
            "Epoch: 104/200 | Train Loss: 0.002331227995455265 | Time: 4.45s (cuda) | LR: 5.764607523034243e-07\n"
          ]
        },
        {
          "output_type": "stream",
          "name": "stderr",
          "text": [
            "\r 52%|█████▎    | 105/200 [08:28<07:48,  4.93s/it]"
          ]
        },
        {
          "output_type": "stream",
          "name": "stdout",
          "text": [
            "Epoch: 105/200 | Train Loss: 0.0023289225064218044 | Time: 5.42s (cuda) | LR: 5.764607523034243e-07\n"
          ]
        },
        {
          "output_type": "stream",
          "name": "stderr",
          "text": [
            "\r 53%|█████▎    | 106/200 [08:32<07:29,  4.78s/it]"
          ]
        },
        {
          "output_type": "stream",
          "name": "stdout",
          "text": [
            "Epoch: 106/200 | Train Loss: 0.0023277143482118845 | Time: 4.42s (cuda) | LR: 4.6116860184273944e-07\n"
          ]
        },
        {
          "output_type": "stream",
          "name": "stderr",
          "text": [
            "\r 54%|█████▎    | 107/200 [08:38<07:39,  4.94s/it]"
          ]
        },
        {
          "output_type": "stream",
          "name": "stdout",
          "text": [
            "Epoch: 107/200 | Train Loss: 0.0023218789137899876 | Time: 5.3s (cuda) | LR: 4.6116860184273944e-07\n"
          ]
        },
        {
          "output_type": "stream",
          "name": "stderr",
          "text": [
            "\r 54%|█████▍    | 108/200 [08:42<07:27,  4.86s/it]"
          ]
        },
        {
          "output_type": "stream",
          "name": "stdout",
          "text": [
            "Epoch: 108/200 | Train Loss: 0.0023199485149234533 | Time: 4.69s (cuda) | LR: 4.6116860184273944e-07\n"
          ]
        },
        {
          "output_type": "stream",
          "name": "stderr",
          "text": [
            "\r 55%|█████▍    | 109/200 [08:47<07:11,  4.74s/it]"
          ]
        },
        {
          "output_type": "stream",
          "name": "stdout",
          "text": [
            "Epoch: 109/200 | Train Loss: 0.0023189764469861984 | Time: 4.46s (cuda) | LR: 4.6116860184273944e-07\n"
          ]
        },
        {
          "output_type": "stream",
          "name": "stderr",
          "text": [
            "\r 55%|█████▌    | 110/200 [08:52<07:25,  4.95s/it]"
          ]
        },
        {
          "output_type": "stream",
          "name": "stdout",
          "text": [
            "Epoch: 110/200 | Train Loss: 0.002316893544048071 | Time: 5.44s (cuda) | LR: 4.6116860184273944e-07\n"
          ]
        },
        {
          "output_type": "stream",
          "name": "stderr",
          "text": [
            "\r 56%|█████▌    | 111/200 [08:57<07:17,  4.92s/it]"
          ]
        },
        {
          "output_type": "stream",
          "name": "stdout",
          "text": [
            "Epoch: 111/200 | Train Loss: 0.00231560948304832 | Time: 4.84s (cuda) | LR: 4.6116860184273944e-07\n"
          ]
        },
        {
          "output_type": "stream",
          "name": "stderr",
          "text": [
            "\r 56%|█████▌    | 112/200 [09:02<07:16,  4.96s/it]"
          ]
        },
        {
          "output_type": "stream",
          "name": "stdout",
          "text": [
            "Epoch: 112/200 | Train Loss: 0.0023145759478211403 | Time: 5.07s (cuda) | LR: 4.6116860184273944e-07\n"
          ]
        },
        {
          "output_type": "stream",
          "name": "stderr",
          "text": [
            "\r 56%|█████▋    | 113/200 [09:07<07:07,  4.91s/it]"
          ]
        },
        {
          "output_type": "stream",
          "name": "stdout",
          "text": [
            "Epoch: 113/200 | Train Loss: 0.002312556840479374 | Time: 4.78s (cuda) | LR: 4.6116860184273944e-07\n"
          ]
        },
        {
          "output_type": "stream",
          "name": "stderr",
          "text": [
            "\r 57%|█████▋    | 114/200 [09:11<06:49,  4.76s/it]"
          ]
        },
        {
          "output_type": "stream",
          "name": "stdout",
          "text": [
            "Epoch: 114/200 | Train Loss: 0.0023098045494407415 | Time: 4.4s (cuda) | LR: 4.6116860184273944e-07\n"
          ]
        },
        {
          "output_type": "stream",
          "name": "stderr",
          "text": [
            "\r 57%|█████▊    | 115/200 [09:17<07:03,  4.99s/it]"
          ]
        },
        {
          "output_type": "stream",
          "name": "stdout",
          "text": [
            "Epoch: 115/200 | Train Loss: 0.002309630159288645 | Time: 5.51s (cuda) | LR: 4.6116860184273944e-07\n"
          ]
        },
        {
          "output_type": "stream",
          "name": "stderr",
          "text": [
            "\r 58%|█████▊    | 116/200 [09:21<06:44,  4.81s/it]"
          ]
        },
        {
          "output_type": "stream",
          "name": "stdout",
          "text": [
            "Epoch: 116/200 | Train Loss: 0.0023072066251188517 | Time: 4.4s (cuda) | LR: 4.6116860184273944e-07\n"
          ]
        },
        {
          "output_type": "stream",
          "name": "stderr",
          "text": [
            "\r 58%|█████▊    | 117/200 [09:26<06:31,  4.72s/it]"
          ]
        },
        {
          "output_type": "stream",
          "name": "stdout",
          "text": [
            "Epoch: 117/200 | Train Loss: 0.0023053521290421486 | Time: 4.52s (cuda) | LR: 4.6116860184273944e-07\n"
          ]
        },
        {
          "output_type": "stream",
          "name": "stderr",
          "text": [
            "\r 59%|█████▉    | 118/200 [09:35<08:14,  6.04s/it]"
          ]
        },
        {
          "output_type": "stream",
          "name": "stdout",
          "text": [
            "Epoch: 118/200 | Train Loss: 0.0023035064805299044 | Time: 9.1s (cuda) | LR: 4.6116860184273944e-07\n"
          ]
        },
        {
          "output_type": "stream",
          "name": "stderr",
          "text": [
            "\r 60%|█████▉    | 119/200 [09:41<08:06,  6.01s/it]"
          ]
        },
        {
          "output_type": "stream",
          "name": "stdout",
          "text": [
            "Epoch: 119/200 | Train Loss: 0.0023025027476251125 | Time: 5.95s (cuda) | LR: 4.6116860184273944e-07\n"
          ]
        },
        {
          "output_type": "stream",
          "name": "stderr",
          "text": [
            "\r 60%|██████    | 120/200 [09:45<07:27,  5.59s/it]"
          ]
        },
        {
          "output_type": "stream",
          "name": "stdout",
          "text": [
            "Epoch: 120/200 | Train Loss: 0.002301519736647606 | Time: 4.6s (cuda) | LR: 4.6116860184273944e-07\n"
          ]
        },
        {
          "output_type": "stream",
          "name": "stderr",
          "text": [
            "\r 60%|██████    | 121/200 [09:50<06:53,  5.23s/it]"
          ]
        },
        {
          "output_type": "stream",
          "name": "stdout",
          "text": [
            "Epoch: 121/200 | Train Loss: 0.002298890147358179 | Time: 4.39s (cuda) | LR: 3.689348814741916e-07\n"
          ]
        },
        {
          "output_type": "stream",
          "name": "stderr",
          "text": [
            "\r 61%|██████    | 122/200 [09:55<06:51,  5.28s/it]"
          ]
        },
        {
          "output_type": "stream",
          "name": "stdout",
          "text": [
            "Epoch: 122/200 | Train Loss: 0.0022944919764995575 | Time: 5.39s (cuda) | LR: 3.689348814741916e-07\n"
          ]
        },
        {
          "output_type": "stream",
          "name": "stderr",
          "text": [
            "\r 62%|██████▏   | 123/200 [10:00<06:26,  5.01s/it]"
          ]
        },
        {
          "output_type": "stream",
          "name": "stdout",
          "text": [
            "Epoch: 123/200 | Train Loss: 0.0022929746191948652 | Time: 4.39s (cuda) | LR: 3.689348814741916e-07\n"
          ]
        },
        {
          "output_type": "stream",
          "name": "stderr",
          "text": [
            "\r 62%|██████▏   | 124/200 [10:04<06:15,  4.94s/it]"
          ]
        },
        {
          "output_type": "stream",
          "name": "stdout",
          "text": [
            "Epoch: 124/200 | Train Loss: 0.0022919459734112024 | Time: 4.77s (cuda) | LR: 3.689348814741916e-07\n"
          ]
        },
        {
          "output_type": "stream",
          "name": "stderr",
          "text": [
            "\r 62%|██████▎   | 125/200 [10:09<06:15,  5.00s/it]"
          ]
        },
        {
          "output_type": "stream",
          "name": "stdout",
          "text": [
            "Epoch: 125/200 | Train Loss: 0.002291228622198105 | Time: 5.14s (cuda) | LR: 3.689348814741916e-07\n"
          ]
        },
        {
          "output_type": "stream",
          "name": "stderr",
          "text": [
            "\r 63%|██████▎   | 126/200 [10:14<05:59,  4.86s/it]"
          ]
        },
        {
          "output_type": "stream",
          "name": "stdout",
          "text": [
            "Epoch: 126/200 | Train Loss: 0.0022899932228028774 | Time: 4.52s (cuda) | LR: 3.689348814741916e-07\n"
          ]
        },
        {
          "output_type": "stream",
          "name": "stderr",
          "text": [
            "\r 64%|██████▎   | 127/200 [10:19<06:04,  4.99s/it]"
          ]
        },
        {
          "output_type": "stream",
          "name": "stdout",
          "text": [
            "Epoch: 127/200 | Train Loss: 0.0022883208002895117 | Time: 5.3s (cuda) | LR: 3.689348814741916e-07\n"
          ]
        },
        {
          "output_type": "stream",
          "name": "stderr",
          "text": [
            "\r 64%|██████▍   | 128/200 [10:24<05:47,  4.82s/it]"
          ]
        },
        {
          "output_type": "stream",
          "name": "stdout",
          "text": [
            "Epoch: 128/200 | Train Loss: 0.0022868821397423744 | Time: 4.43s (cuda) | LR: 3.689348814741916e-07\n"
          ]
        },
        {
          "output_type": "stream",
          "name": "stderr",
          "text": [
            "\r 64%|██████▍   | 129/200 [10:28<05:34,  4.71s/it]"
          ]
        },
        {
          "output_type": "stream",
          "name": "stdout",
          "text": [
            "Epoch: 129/200 | Train Loss: 0.002285812981426716 | Time: 4.44s (cuda) | LR: 3.689348814741916e-07\n"
          ]
        },
        {
          "output_type": "stream",
          "name": "stderr",
          "text": [
            "\r 65%|██████▌   | 130/200 [10:33<05:43,  4.91s/it]"
          ]
        },
        {
          "output_type": "stream",
          "name": "stdout",
          "text": [
            "Epoch: 130/200 | Train Loss: 0.0022846655920147896 | Time: 5.38s (cuda) | LR: 3.689348814741916e-07\n"
          ]
        },
        {
          "output_type": "stream",
          "name": "stderr",
          "text": [
            "\r 66%|██████▌   | 131/200 [10:38<05:28,  4.76s/it]"
          ]
        },
        {
          "output_type": "stream",
          "name": "stdout",
          "text": [
            "Epoch: 131/200 | Train Loss: 0.002283369190990925 | Time: 4.4s (cuda) | LR: 3.689348814741916e-07\n"
          ]
        },
        {
          "output_type": "stream",
          "name": "stderr",
          "text": [
            "\r 66%|██████▌   | 132/200 [10:43<05:29,  4.85s/it]"
          ]
        },
        {
          "output_type": "stream",
          "name": "stdout",
          "text": [
            "Epoch: 132/200 | Train Loss: 0.0022820092272013426 | Time: 5.08s (cuda) | LR: 3.689348814741916e-07\n"
          ]
        },
        {
          "output_type": "stream",
          "name": "stderr",
          "text": [
            "\r 66%|██████▋   | 133/200 [10:48<05:23,  4.83s/it]"
          ]
        },
        {
          "output_type": "stream",
          "name": "stdout",
          "text": [
            "Epoch: 133/200 | Train Loss: 0.002280266024172306 | Time: 4.76s (cuda) | LR: 3.689348814741916e-07\n"
          ]
        },
        {
          "output_type": "stream",
          "name": "stderr",
          "text": [
            "\r 67%|██████▋   | 134/200 [10:52<05:09,  4.68s/it]"
          ]
        },
        {
          "output_type": "stream",
          "name": "stdout",
          "text": [
            "Epoch: 134/200 | Train Loss: 0.002279235515743494 | Time: 4.35s (cuda) | LR: 3.689348814741916e-07\n"
          ]
        },
        {
          "output_type": "stream",
          "name": "stderr",
          "text": [
            "\r 68%|██████▊   | 135/200 [10:58<05:18,  4.91s/it]"
          ]
        },
        {
          "output_type": "stream",
          "name": "stdout",
          "text": [
            "Epoch: 135/200 | Train Loss: 0.0022778406273573637 | Time: 5.42s (cuda) | LR: 3.689348814741916e-07\n"
          ]
        },
        {
          "output_type": "stream",
          "name": "stderr",
          "text": [
            "\r 68%|██████▊   | 136/200 [11:02<05:05,  4.78s/it]"
          ]
        },
        {
          "output_type": "stream",
          "name": "stdout",
          "text": [
            "Epoch: 136/200 | Train Loss: 0.002277000341564417 | Time: 4.47s (cuda) | LR: 2.9514790517935326e-07\n"
          ]
        },
        {
          "output_type": "stream",
          "name": "stderr",
          "text": [
            "\r 68%|██████▊   | 137/200 [11:07<04:56,  4.71s/it]"
          ]
        },
        {
          "output_type": "stream",
          "name": "stdout",
          "text": [
            "Epoch: 137/200 | Train Loss: 0.0022728689946234226 | Time: 4.56s (cuda) | LR: 2.9514790517935326e-07\n"
          ]
        },
        {
          "output_type": "stream",
          "name": "stderr",
          "text": [
            "\r 69%|██████▉   | 138/200 [11:12<05:01,  4.86s/it]"
          ]
        },
        {
          "output_type": "stream",
          "name": "stdout",
          "text": [
            "Epoch: 138/200 | Train Loss: 0.002271709032356739 | Time: 5.19s (cuda) | LR: 2.9514790517935326e-07\n"
          ]
        },
        {
          "output_type": "stream",
          "name": "stderr",
          "text": [
            "\r 70%|██████▉   | 139/200 [11:16<04:49,  4.74s/it]"
          ]
        },
        {
          "output_type": "stream",
          "name": "stdout",
          "text": [
            "Epoch: 139/200 | Train Loss: 0.0022705348674207926 | Time: 4.48s (cuda) | LR: 2.9514790517935326e-07\n"
          ]
        },
        {
          "output_type": "stream",
          "name": "stderr",
          "text": [
            "\r 70%|███████   | 140/200 [11:22<04:55,  4.92s/it]"
          ]
        },
        {
          "output_type": "stream",
          "name": "stdout",
          "text": [
            "Epoch: 140/200 | Train Loss: 0.002269190736114979 | Time: 5.32s (cuda) | LR: 2.9514790517935326e-07\n"
          ]
        },
        {
          "output_type": "stream",
          "name": "stderr",
          "text": [
            "\r 70%|███████   | 141/200 [11:26<04:40,  4.76s/it]"
          ]
        },
        {
          "output_type": "stream",
          "name": "stdout",
          "text": [
            "Epoch: 141/200 | Train Loss: 0.002268799114972353 | Time: 4.4s (cuda) | LR: 2.9514790517935326e-07\n"
          ]
        },
        {
          "output_type": "stream",
          "name": "stderr",
          "text": [
            "\r 71%|███████   | 142/200 [11:30<04:29,  4.65s/it]"
          ]
        },
        {
          "output_type": "stream",
          "name": "stdout",
          "text": [
            "Epoch: 142/200 | Train Loss: 0.0022682268172502518 | Time: 4.39s (cuda) | LR: 2.9514790517935326e-07\n"
          ]
        },
        {
          "output_type": "stream",
          "name": "stderr",
          "text": [
            "\r 72%|███████▏  | 143/200 [11:36<04:37,  4.87s/it]"
          ]
        },
        {
          "output_type": "stream",
          "name": "stdout",
          "text": [
            "Epoch: 143/200 | Train Loss: 0.002267192816361785 | Time: 5.37s (cuda) | LR: 2.9514790517935326e-07\n"
          ]
        },
        {
          "output_type": "stream",
          "name": "stderr",
          "text": [
            "\r 72%|███████▏  | 144/200 [11:40<04:23,  4.71s/it]"
          ]
        },
        {
          "output_type": "stream",
          "name": "stdout",
          "text": [
            "Epoch: 144/200 | Train Loss: 0.0022654039785265923 | Time: 4.35s (cuda) | LR: 2.9514790517935326e-07\n"
          ]
        },
        {
          "output_type": "stream",
          "name": "stderr",
          "text": [
            "\r 72%|███████▎  | 145/200 [11:45<04:23,  4.78s/it]"
          ]
        },
        {
          "output_type": "stream",
          "name": "stdout",
          "text": [
            "Epoch: 145/200 | Train Loss: 0.0022647373843938112 | Time: 4.94s (cuda) | LR: 2.9514790517935326e-07\n"
          ]
        },
        {
          "output_type": "stream",
          "name": "stderr",
          "text": [
            "\r 73%|███████▎  | 146/200 [11:50<04:21,  4.84s/it]"
          ]
        },
        {
          "output_type": "stream",
          "name": "stdout",
          "text": [
            "Epoch: 146/200 | Train Loss: 0.0022637369111180305 | Time: 4.96s (cuda) | LR: 2.9514790517935326e-07\n"
          ]
        },
        {
          "output_type": "stream",
          "name": "stderr",
          "text": [
            "\r 74%|███████▎  | 147/200 [11:54<04:09,  4.71s/it]"
          ]
        },
        {
          "output_type": "stream",
          "name": "stdout",
          "text": [
            "Epoch: 147/200 | Train Loss: 0.0022625504061579704 | Time: 4.41s (cuda) | LR: 2.9514790517935326e-07\n"
          ]
        },
        {
          "output_type": "stream",
          "name": "stderr",
          "text": [
            "\r 74%|███████▍  | 148/200 [12:00<04:14,  4.89s/it]"
          ]
        },
        {
          "output_type": "stream",
          "name": "stdout",
          "text": [
            "Epoch: 148/200 | Train Loss: 0.002261611633002758 | Time: 5.32s (cuda) | LR: 2.9514790517935326e-07\n"
          ]
        },
        {
          "output_type": "stream",
          "name": "stderr",
          "text": [
            "\r 74%|███████▍  | 149/200 [12:04<04:02,  4.75s/it]"
          ]
        },
        {
          "output_type": "stream",
          "name": "stdout",
          "text": [
            "Epoch: 149/200 | Train Loss: 0.002260334324091673 | Time: 4.41s (cuda) | LR: 2.9514790517935326e-07\n"
          ]
        },
        {
          "output_type": "stream",
          "name": "stderr",
          "text": [
            "\r 75%|███████▌  | 150/200 [12:08<03:51,  4.63s/it]"
          ]
        },
        {
          "output_type": "stream",
          "name": "stdout",
          "text": [
            "Epoch: 150/200 | Train Loss: 0.002259544562548399 | Time: 4.34s (cuda) | LR: 2.9514790517935326e-07\n"
          ]
        },
        {
          "output_type": "stream",
          "name": "stderr",
          "text": [
            "\r 76%|███████▌  | 151/200 [12:14<03:57,  4.84s/it]"
          ]
        },
        {
          "output_type": "stream",
          "name": "stdout",
          "text": [
            "Epoch: 151/200 | Train Loss: 0.002258289372548461 | Time: 5.33s (cuda) | LR: 2.3611832414348262e-07\n"
          ]
        },
        {
          "output_type": "stream",
          "name": "stderr",
          "text": [
            "\r 76%|███████▌  | 152/200 [12:18<03:47,  4.74s/it]"
          ]
        },
        {
          "output_type": "stream",
          "name": "stdout",
          "text": [
            "Epoch: 152/200 | Train Loss: 0.0022553487215191126 | Time: 4.49s (cuda) | LR: 2.3611832414348262e-07\n"
          ]
        },
        {
          "output_type": "stream",
          "name": "stderr",
          "text": [
            "\r 76%|███████▋  | 153/200 [12:24<03:49,  4.88s/it]"
          ]
        },
        {
          "output_type": "stream",
          "name": "stdout",
          "text": [
            "Epoch: 153/200 | Train Loss: 0.002254278864711523 | Time: 5.21s (cuda) | LR: 2.3611832414348262e-07\n"
          ]
        },
        {
          "output_type": "stream",
          "name": "stderr",
          "text": [
            "\r 77%|███████▋  | 154/200 [12:28<03:40,  4.79s/it]"
          ]
        },
        {
          "output_type": "stream",
          "name": "stdout",
          "text": [
            "Epoch: 154/200 | Train Loss: 0.0022534988820552826 | Time: 4.56s (cuda) | LR: 2.3611832414348262e-07\n"
          ]
        },
        {
          "output_type": "stream",
          "name": "stderr",
          "text": [
            "\r 78%|███████▊  | 155/200 [12:32<03:29,  4.66s/it]"
          ]
        },
        {
          "output_type": "stream",
          "name": "stdout",
          "text": [
            "Epoch: 155/200 | Train Loss: 0.0022525901440531015 | Time: 4.36s (cuda) | LR: 2.3611832414348262e-07\n"
          ]
        },
        {
          "output_type": "stream",
          "name": "stderr",
          "text": [
            "\r 78%|███████▊  | 156/200 [12:38<03:34,  4.87s/it]"
          ]
        },
        {
          "output_type": "stream",
          "name": "stdout",
          "text": [
            "Epoch: 156/200 | Train Loss: 0.0022519503254443407 | Time: 5.37s (cuda) | LR: 2.3611832414348262e-07\n"
          ]
        },
        {
          "output_type": "stream",
          "name": "stderr",
          "text": [
            "\r 78%|███████▊  | 157/200 [12:42<03:23,  4.73s/it]"
          ]
        },
        {
          "output_type": "stream",
          "name": "stdout",
          "text": [
            "Epoch: 157/200 | Train Loss: 0.002250983379781246 | Time: 4.39s (cuda) | LR: 2.3611832414348262e-07\n"
          ]
        },
        {
          "output_type": "stream",
          "name": "stderr",
          "text": [
            "\r 79%|███████▉  | 158/200 [12:47<03:16,  4.69s/it]"
          ]
        },
        {
          "output_type": "stream",
          "name": "stdout",
          "text": [
            "Epoch: 158/200 | Train Loss: 0.0022504297085106373 | Time: 4.6s (cuda) | LR: 2.3611832414348262e-07\n"
          ]
        },
        {
          "output_type": "stream",
          "name": "stderr",
          "text": [
            "\r 80%|███████▉  | 159/200 [12:52<03:18,  4.85s/it]"
          ]
        },
        {
          "output_type": "stream",
          "name": "stdout",
          "text": [
            "Epoch: 159/200 | Train Loss: 0.002249861601740122 | Time: 5.21s (cuda) | LR: 2.3611832414348262e-07\n"
          ]
        },
        {
          "output_type": "stream",
          "name": "stderr",
          "text": [
            "\r 80%|████████  | 160/200 [12:56<03:08,  4.71s/it]"
          ]
        },
        {
          "output_type": "stream",
          "name": "stdout",
          "text": [
            "Epoch: 160/200 | Train Loss: 0.0022483868524432182 | Time: 4.39s (cuda) | LR: 2.3611832414348262e-07\n"
          ]
        },
        {
          "output_type": "stream",
          "name": "stderr",
          "text": [
            "\r 80%|████████  | 161/200 [13:02<03:11,  4.90s/it]"
          ]
        },
        {
          "output_type": "stream",
          "name": "stdout",
          "text": [
            "Epoch: 161/200 | Train Loss: 0.0022478760220110416 | Time: 5.34s (cuda) | LR: 2.3611832414348262e-07\n"
          ]
        },
        {
          "output_type": "stream",
          "name": "stderr",
          "text": [
            "\r 81%|████████  | 162/200 [13:06<03:00,  4.75s/it]"
          ]
        },
        {
          "output_type": "stream",
          "name": "stdout",
          "text": [
            "Epoch: 162/200 | Train Loss: 0.002246713498607278 | Time: 4.4s (cuda) | LR: 2.3611832414348262e-07\n"
          ]
        },
        {
          "output_type": "stream",
          "name": "stderr",
          "text": [
            "\r 82%|████████▏ | 163/200 [13:11<02:52,  4.65s/it]"
          ]
        },
        {
          "output_type": "stream",
          "name": "stdout",
          "text": [
            "Epoch: 163/200 | Train Loss: 0.002246609888970852 | Time: 4.42s (cuda) | LR: 2.3611832414348262e-07\n"
          ]
        },
        {
          "output_type": "stream",
          "name": "stderr",
          "text": [
            "\r 82%|████████▏ | 164/200 [13:16<02:54,  4.85s/it]"
          ]
        },
        {
          "output_type": "stream",
          "name": "stdout",
          "text": [
            "Epoch: 164/200 | Train Loss: 0.00224488228559494 | Time: 5.3s (cuda) | LR: 2.3611832414348262e-07\n"
          ]
        },
        {
          "output_type": "stream",
          "name": "stderr",
          "text": [
            "\r 82%|████████▎ | 165/200 [13:20<02:45,  4.73s/it]"
          ]
        },
        {
          "output_type": "stream",
          "name": "stdout",
          "text": [
            "Epoch: 165/200 | Train Loss: 0.0022446741349995136 | Time: 4.47s (cuda) | LR: 2.3611832414348262e-07\n"
          ]
        },
        {
          "output_type": "stream",
          "name": "stderr",
          "text": [
            "\r 83%|████████▎ | 166/200 [13:25<02:42,  4.77s/it]"
          ]
        },
        {
          "output_type": "stream",
          "name": "stdout",
          "text": [
            "Epoch: 166/200 | Train Loss: 0.0022438503801822662 | Time: 4.85s (cuda) | LR: 1.8889465931478612e-07\n"
          ]
        },
        {
          "output_type": "stream",
          "name": "stderr",
          "text": [
            "\r 84%|████████▎ | 167/200 [13:30<02:37,  4.77s/it]"
          ]
        },
        {
          "output_type": "stream",
          "name": "stdout",
          "text": [
            "Epoch: 167/200 | Train Loss: 0.002241135574877262 | Time: 4.75s (cuda) | LR: 1.8889465931478612e-07\n"
          ]
        },
        {
          "output_type": "stream",
          "name": "stderr",
          "text": [
            "\r 84%|████████▍ | 168/200 [13:34<02:28,  4.65s/it]"
          ]
        },
        {
          "output_type": "stream",
          "name": "stdout",
          "text": [
            "Epoch: 168/200 | Train Loss: 0.002240363974124193 | Time: 4.39s (cuda) | LR: 1.8889465931478612e-07\n"
          ]
        },
        {
          "output_type": "stream",
          "name": "stderr",
          "text": [
            "\r 84%|████████▍ | 169/200 [13:40<02:30,  4.86s/it]"
          ]
        },
        {
          "output_type": "stream",
          "name": "stdout",
          "text": [
            "Epoch: 169/200 | Train Loss: 0.002239468041807413 | Time: 5.34s (cuda) | LR: 1.8889465931478612e-07\n"
          ]
        },
        {
          "output_type": "stream",
          "name": "stderr",
          "text": [
            "\r 85%|████████▌ | 170/200 [13:45<02:25,  4.85s/it]"
          ]
        },
        {
          "output_type": "stream",
          "name": "stdout",
          "text": [
            "Epoch: 170/200 | Train Loss: 0.0022391178645193577 | Time: 4.83s (cuda) | LR: 1.8889465931478612e-07\n"
          ]
        },
        {
          "output_type": "stream",
          "name": "stderr",
          "text": [
            "\r 86%|████████▌ | 171/200 [13:49<02:19,  4.82s/it]"
          ]
        },
        {
          "output_type": "stream",
          "name": "stdout",
          "text": [
            "Epoch: 171/200 | Train Loss: 0.0022379306610673666 | Time: 4.75s (cuda) | LR: 1.8889465931478612e-07\n"
          ]
        },
        {
          "output_type": "stream",
          "name": "stderr",
          "text": [
            "\r 86%|████████▌ | 172/200 [13:54<02:17,  4.92s/it]"
          ]
        },
        {
          "output_type": "stream",
          "name": "stdout",
          "text": [
            "Epoch: 172/200 | Train Loss: 0.0022375858388841152 | Time: 5.16s (cuda) | LR: 1.8889465931478612e-07\n"
          ]
        },
        {
          "output_type": "stream",
          "name": "stderr",
          "text": [
            "\r 86%|████████▋ | 173/200 [13:59<02:08,  4.77s/it]"
          ]
        },
        {
          "output_type": "stream",
          "name": "stdout",
          "text": [
            "Epoch: 173/200 | Train Loss: 0.0022368934005498886 | Time: 4.43s (cuda) | LR: 1.8889465931478612e-07\n"
          ]
        },
        {
          "output_type": "stream",
          "name": "stderr",
          "text": [
            "\r 87%|████████▋ | 174/200 [14:04<02:08,  4.95s/it]"
          ]
        },
        {
          "output_type": "stream",
          "name": "stdout",
          "text": [
            "Epoch: 174/200 | Train Loss: 0.0022363916505128145 | Time: 5.35s (cuda) | LR: 1.8889465931478612e-07\n"
          ]
        },
        {
          "output_type": "stream",
          "name": "stderr",
          "text": [
            "\r 88%|████████▊ | 175/200 [14:09<01:59,  4.78s/it]"
          ]
        },
        {
          "output_type": "stream",
          "name": "stdout",
          "text": [
            "Epoch: 175/200 | Train Loss: 0.0022355339024215937 | Time: 4.38s (cuda) | LR: 1.8889465931478612e-07\n"
          ]
        },
        {
          "output_type": "stream",
          "name": "stderr",
          "text": [
            "\r 88%|████████▊ | 176/200 [14:13<01:51,  4.66s/it]"
          ]
        },
        {
          "output_type": "stream",
          "name": "stdout",
          "text": [
            "Epoch: 176/200 | Train Loss: 0.0022347173653542995 | Time: 4.39s (cuda) | LR: 1.8889465931478612e-07\n"
          ]
        },
        {
          "output_type": "stream",
          "name": "stderr",
          "text": [
            "\r 88%|████████▊ | 177/200 [14:18<01:53,  4.91s/it]"
          ]
        },
        {
          "output_type": "stream",
          "name": "stdout",
          "text": [
            "Epoch: 177/200 | Train Loss: 0.002234451472759247 | Time: 5.5s (cuda) | LR: 1.8889465931478612e-07\n"
          ]
        },
        {
          "output_type": "stream",
          "name": "stderr",
          "text": [
            "\r 89%|████████▉ | 178/200 [14:23<01:44,  4.75s/it]"
          ]
        },
        {
          "output_type": "stream",
          "name": "stdout",
          "text": [
            "Epoch: 178/200 | Train Loss: 0.002233747858554125 | Time: 4.35s (cuda) | LR: 1.8889465931478612e-07\n"
          ]
        },
        {
          "output_type": "stream",
          "name": "stderr",
          "text": [
            "\r 90%|████████▉ | 179/200 [14:28<01:41,  4.82s/it]"
          ]
        },
        {
          "output_type": "stream",
          "name": "stdout",
          "text": [
            "Epoch: 179/200 | Train Loss: 0.002232726663351059 | Time: 4.98s (cuda) | LR: 1.8889465931478612e-07\n"
          ]
        },
        {
          "output_type": "stream",
          "name": "stderr",
          "text": [
            "\r 90%|█████████ | 180/200 [14:33<01:36,  4.80s/it]"
          ]
        },
        {
          "output_type": "stream",
          "name": "stdout",
          "text": [
            "Epoch: 180/200 | Train Loss: 0.0022322307340800762 | Time: 4.77s (cuda) | LR: 1.8889465931478612e-07\n"
          ]
        },
        {
          "output_type": "stream",
          "name": "stderr",
          "text": [
            "\r 90%|█████████ | 181/200 [14:37<01:29,  4.69s/it]"
          ]
        },
        {
          "output_type": "stream",
          "name": "stdout",
          "text": [
            "Epoch: 181/200 | Train Loss: 0.0022323844023048878 | Time: 4.44s (cuda) | LR: 1.208925819614631e-07\n"
          ]
        },
        {
          "output_type": "stream",
          "name": "stderr",
          "text": [
            "\r 91%|█████████ | 182/200 [14:42<01:28,  4.89s/it]"
          ]
        },
        {
          "output_type": "stream",
          "name": "stdout",
          "text": [
            "Epoch: 182/200 | Train Loss: 0.0022281783167272806 | Time: 5.35s (cuda) | LR: 1.208925819614631e-07\n"
          ]
        },
        {
          "output_type": "stream",
          "name": "stderr",
          "text": [
            "\r 92%|█████████▏| 183/200 [14:47<01:20,  4.76s/it]"
          ]
        },
        {
          "output_type": "stream",
          "name": "stdout",
          "text": [
            "Epoch: 183/200 | Train Loss: 0.0022275361698120832 | Time: 4.46s (cuda) | LR: 1.208925819614631e-07\n"
          ]
        },
        {
          "output_type": "stream",
          "name": "stderr",
          "text": [
            "\r 92%|█████████▏| 184/200 [14:51<01:15,  4.69s/it]"
          ]
        },
        {
          "output_type": "stream",
          "name": "stdout",
          "text": [
            "Epoch: 184/200 | Train Loss: 0.0022272136993706226 | Time: 4.52s (cuda) | LR: 1.208925819614631e-07\n"
          ]
        },
        {
          "output_type": "stream",
          "name": "stderr",
          "text": [
            "\r 92%|█████████▎| 185/200 [14:57<01:13,  4.90s/it]"
          ]
        },
        {
          "output_type": "stream",
          "name": "stdout",
          "text": [
            "Epoch: 185/200 | Train Loss: 0.002226782962679863 | Time: 5.38s (cuda) | LR: 1.208925819614631e-07\n"
          ]
        },
        {
          "output_type": "stream",
          "name": "stderr",
          "text": [
            "\r 93%|█████████▎| 186/200 [15:01<01:06,  4.74s/it]"
          ]
        },
        {
          "output_type": "stream",
          "name": "stdout",
          "text": [
            "Epoch: 186/200 | Train Loss: 0.002226522658020258 | Time: 4.36s (cuda) | LR: 1.208925819614631e-07\n"
          ]
        },
        {
          "output_type": "stream",
          "name": "stderr",
          "text": [
            "\r 94%|█████████▎| 187/200 [15:06<01:03,  4.90s/it]"
          ]
        },
        {
          "output_type": "stream",
          "name": "stdout",
          "text": [
            "Epoch: 187/200 | Train Loss: 0.002225951524451375 | Time: 5.27s (cuda) | LR: 1.208925819614631e-07\n"
          ]
        },
        {
          "output_type": "stream",
          "name": "stderr",
          "text": [
            "\r 94%|█████████▍| 188/200 [15:11<00:57,  4.77s/it]"
          ]
        },
        {
          "output_type": "stream",
          "name": "stdout",
          "text": [
            "Epoch: 188/200 | Train Loss: 0.0022256099618971348 | Time: 4.47s (cuda) | LR: 1.208925819614631e-07\n"
          ]
        },
        {
          "output_type": "stream",
          "name": "stderr",
          "text": [
            "\r 94%|█████████▍| 189/200 [15:15<00:51,  4.64s/it]"
          ]
        },
        {
          "output_type": "stream",
          "name": "stdout",
          "text": [
            "Epoch: 189/200 | Train Loss: 0.0022252588532865047 | Time: 4.34s (cuda) | LR: 1.208925819614631e-07\n"
          ]
        },
        {
          "output_type": "stream",
          "name": "stderr",
          "text": [
            "\r 95%|█████████▌| 190/200 [15:21<00:49,  4.91s/it]"
          ]
        },
        {
          "output_type": "stream",
          "name": "stdout",
          "text": [
            "Epoch: 190/200 | Train Loss: 0.0022248071618378162 | Time: 5.53s (cuda) | LR: 1.208925819614631e-07\n"
          ]
        },
        {
          "output_type": "stream",
          "name": "stderr",
          "text": [
            "\r 96%|█████████▌| 191/200 [15:25<00:42,  4.76s/it]"
          ]
        },
        {
          "output_type": "stream",
          "name": "stdout",
          "text": [
            "Epoch: 191/200 | Train Loss: 0.002224248368293047 | Time: 4.41s (cuda) | LR: 1.208925819614631e-07\n"
          ]
        },
        {
          "output_type": "stream",
          "name": "stderr",
          "text": [
            "\r 96%|█████████▌| 192/200 [15:30<00:37,  4.66s/it]"
          ]
        },
        {
          "output_type": "stream",
          "name": "stdout",
          "text": [
            "Epoch: 192/200 | Train Loss: 0.0022237086668610573 | Time: 4.44s (cuda) | LR: 1.208925819614631e-07\n"
          ]
        },
        {
          "output_type": "stream",
          "name": "stderr",
          "text": [
            "\r 96%|█████████▋| 193/200 [15:35<00:33,  4.85s/it]"
          ]
        },
        {
          "output_type": "stream",
          "name": "stdout",
          "text": [
            "Epoch: 193/200 | Train Loss: 0.002223329385742545 | Time: 5.27s (cuda) | LR: 1.208925819614631e-07\n"
          ]
        },
        {
          "output_type": "stream",
          "name": "stderr",
          "text": [
            "\r 97%|█████████▋| 194/200 [15:39<00:28,  4.72s/it]"
          ]
        },
        {
          "output_type": "stream",
          "name": "stdout",
          "text": [
            "Epoch: 194/200 | Train Loss: 0.0022231857292354107 | Time: 4.42s (cuda) | LR: 1.208925819614631e-07\n"
          ]
        },
        {
          "output_type": "stream",
          "name": "stderr",
          "text": [
            "\r 98%|█████████▊| 195/200 [15:45<00:24,  4.92s/it]"
          ]
        },
        {
          "output_type": "stream",
          "name": "stdout",
          "text": [
            "Epoch: 195/200 | Train Loss: 0.002222752198576927 | Time: 5.4s (cuda) | LR: 1.208925819614631e-07\n"
          ]
        },
        {
          "output_type": "stream",
          "name": "stderr",
          "text": [
            "\r 98%|█████████▊| 196/200 [15:49<00:19,  4.77s/it]"
          ]
        },
        {
          "output_type": "stream",
          "name": "stdout",
          "text": [
            "Epoch: 196/200 | Train Loss: 0.0022222138941287994 | Time: 4.41s (cuda) | LR: 9.67140655691705e-08\n"
          ]
        },
        {
          "output_type": "stream",
          "name": "stderr",
          "text": [
            "\r 98%|█████████▊| 197/200 [15:54<00:14,  4.70s/it]"
          ]
        },
        {
          "output_type": "stream",
          "name": "stdout",
          "text": [
            "Epoch: 197/200 | Train Loss: 0.0022206557914614677 | Time: 4.52s (cuda) | LR: 9.67140655691705e-08\n"
          ]
        },
        {
          "output_type": "stream",
          "name": "stderr",
          "text": [
            "\r 99%|█████████▉| 198/200 [15:59<00:09,  4.91s/it]"
          ]
        },
        {
          "output_type": "stream",
          "name": "stdout",
          "text": [
            "Epoch: 198/200 | Train Loss: 0.0022203633561730385 | Time: 5.41s (cuda) | LR: 9.67140655691705e-08\n"
          ]
        },
        {
          "output_type": "stream",
          "name": "stderr",
          "text": [
            "\r100%|█████████▉| 199/200 [16:03<00:04,  4.76s/it]"
          ]
        },
        {
          "output_type": "stream",
          "name": "stdout",
          "text": [
            "Epoch: 199/200 | Train Loss: 0.002220120746642351 | Time: 4.4s (cuda) | LR: 9.67140655691705e-08\n"
          ]
        },
        {
          "output_type": "stream",
          "name": "stderr",
          "text": [
            "100%|██████████| 200/200 [16:08<00:00,  4.84s/it]"
          ]
        },
        {
          "output_type": "stream",
          "name": "stdout",
          "text": [
            "Epoch: 200/200 | Train Loss: 0.0022196939680725336 | Time: 4.79s (cuda) | LR: 9.67140655691705e-08\n",
            "\n",
            "Epoch with Least Loss: 200 | Loss: 0.002219694 \n",
            "\n"
          ]
        },
        {
          "output_type": "stream",
          "name": "stderr",
          "text": [
            "\n"
          ]
        }
      ],
      "execution_count": null
    },
    {
      "cell_type": "code",
      "source": [
        "# Initialize prediction lists\n",
        "prediction_list = [[] for _ in range(total_vars)]\n",
        "\n",
        "# Inference loop\n",
        "with torch.no_grad():\n",
        "    for i in range(0, torch_coords.shape[0], group_size):\n",
        "        coords = torch_coords[i:min(i + group_size, torch_coords.shape[0])].type(torch.float32).to(device)\n",
        "        vals = model(coords)\n",
        "        vals = vals.to('cpu')\n",
        "\n",
        "        for j in range(total_vars):\n",
        "            prediction_list[j].append(vals[:, j])\n",
        "\n",
        "# Extract and concatenate predictions\n",
        "extracted_list = [[] for _ in range(total_vars)]\n",
        "for i in range(len(prediction_list[0])):\n",
        "    for j in range(total_vars):\n",
        "        el = prediction_list[j][i].detach().numpy()\n",
        "        extracted_list[j].append(el)\n",
        "\n",
        "for j in range(total_vars):\n",
        "    extracted_list[j] = np.concatenate(extracted_list[j], dtype='float32')\n",
        "\n",
        "# Final prediction (normalized)\n",
        "n_predictions = np.array(extracted_list).T\n",
        "\n",
        "# Compute PSNR\n",
        "findMultiVariatePSNR(var_name, total_vars, n_val, n_predictions)\n",
        "\n",
        "# Compute RMSE\n",
        "rmse = compute_rmse(n_val, n_predictions)\n",
        "print(\"RMSE:\", rmse)"
      ],
      "metadata": {
        "colab": {
          "base_uri": "https://localhost:8080/"
        },
        "id": "8gLLH5qotRZa",
        "outputId": "fb6eda01-c39c-4828-b2f3-06a5b494e3bd"
      },
      "execution_count": null,
      "outputs": [
        {
          "output_type": "stream",
          "name": "stdout",
          "text": [
            "GMM_Mean0  PSNR: 54.244700793728754\n",
            "GMM_Mean1  PSNR: 54.321416597771886\n",
            "GMM_Mean2  PSNR: 54.50211139490918\n",
            "GMM_Std0  PSNR: 31.336444202440056\n",
            "GMM_Std1  PSNR: 31.90950037154892\n",
            "GMM_Std2  PSNR: 32.22639084555235\n",
            "GMM_Weight0  PSNR: 29.90919155967585\n",
            "GMM_Weight1  PSNR: 30.190718127127596\n",
            "GMM_Weight2  PSNR: 29.92458807922435\n",
            "\n",
            "Average psnr :  38.729451330219874\n",
            "RMSE: 0.04706947894351566\n"
          ]
        }
      ]
    },
    {
      "cell_type": "code",
      "source": [
        "# Initialize prediction lists\n",
        "prediction_list = [[] for _ in range(total_vars)]\n",
        "\n",
        "# Inference loop\n",
        "with torch.no_grad():\n",
        "    for i in range(0, torch_coords.shape[0], group_size):\n",
        "        coords = torch_coords[i:min(i + group_size, torch_coords.shape[0])].type(torch.float32).to(device)\n",
        "        vals = model(coords)\n",
        "        vals = vals.to('cpu')\n",
        "\n",
        "        for j in range(total_vars):\n",
        "            prediction_list[j].append(vals[:, j])\n",
        "\n",
        "# Extract and concatenate predictions\n",
        "extracted_list = [[] for _ in range(total_vars)]\n",
        "for i in range(len(prediction_list[0])):\n",
        "    for j in range(total_vars):\n",
        "        el = prediction_list[j][i].detach().numpy()\n",
        "        extracted_list[j].append(el)\n",
        "\n",
        "for j in range(total_vars):\n",
        "    extracted_list[j] = np.concatenate(extracted_list[j], dtype='float32')\n",
        "\n",
        "# Final prediction (normalized)\n",
        "n_predictions = np.array(extracted_list).T\n",
        "\n",
        "# Compute PSNR\n",
        "findMultiVariatePSNR(var_name, total_vars, n_val, n_predictions)\n",
        "\n",
        "# Compute RMSE\n",
        "rmse = compute_rmse(n_val, n_predictions)\n",
        "print(\"RMSE:\", rmse)"
      ],
      "metadata": {
        "_uuid": "07a36d31-db47-4d2c-b11d-5339aa8cb204",
        "_cell_guid": "cc00efa1-e7a5-4a3a-aa44-d056d987dcb8",
        "trusted": true,
        "jupyter": {
          "outputs_hidden": false
        },
        "execution": {
          "iopub.status.busy": "2025-05-26T20:39:04.914949Z",
          "iopub.execute_input": "2025-05-26T20:39:04.915203Z",
          "iopub.status.idle": "2025-05-26T20:39:05.385328Z",
          "shell.execute_reply.started": "2025-05-26T20:39:04.915181Z",
          "shell.execute_reply": "2025-05-26T20:39:05.384428Z"
        },
        "id": "HxvFfiDywcRd",
        "outputId": "f6590451-9565-4643-bc39-4f21c4b85e96",
        "colab": {
          "base_uri": "https://localhost:8080/"
        }
      },
      "outputs": [
        {
          "output_type": "stream",
          "name": "stdout",
          "text": [
            "GMM_Mean0  PSNR: 52.43812901534396\n",
            "GMM_Mean1  PSNR: 52.42791767257699\n",
            "GMM_Mean2  PSNR: 52.39735184639478\n",
            "GMM_Std0  PSNR: 51.72923906144155\n",
            "GMM_Std1  PSNR: 51.09322577450772\n",
            "GMM_Std2  PSNR: 51.24974053934734\n",
            "GMM_Weight0  PSNR: 53.285116643615694\n",
            "GMM_Weight1  PSNR: 53.023687101785825\n",
            "GMM_Weight2  PSNR: 53.25804571910424\n",
            "\n",
            "Average psnr :  52.32249481934645\n",
            "RMSE: 0.004879424120351842\n"
          ]
        }
      ],
      "execution_count": null
    },
    {
      "cell_type": "code",
      "source": [
        "# !rm -rf /kaggle/working/*"
      ],
      "metadata": {
        "trusted": true,
        "execution": {
          "iopub.status.busy": "2025-05-26T20:39:05.386663Z",
          "iopub.execute_input": "2025-05-26T20:39:05.386998Z",
          "iopub.status.idle": "2025-05-26T20:39:05.390530Z",
          "shell.execute_reply.started": "2025-05-26T20:39:05.386966Z",
          "shell.execute_reply": "2025-05-26T20:39:05.389710Z"
        },
        "id": "N5DE5jpGwcRd"
      },
      "outputs": [],
      "execution_count": null
    },
    {
      "cell_type": "code",
      "source": [
        "#print(os.path.getsize('/kaggle/working/models/train_3d_data_200ep_6rb_320n_512bs_5e-05lr_Truedecay_0.8dr_decayingAtInterval15.pth') / (1024 ** 2), 'MB')\n",
        "print(os.path.getsize('/content/models/train_3d_data_200ep_6rb_320n_512bs_5e-05lr_Truedecay_0.8dr_decayingAtInterval15.pth') / (1024 ** 2), 'MB')"
      ],
      "metadata": {
        "trusted": true,
        "execution": {
          "iopub.status.busy": "2025-05-26T20:42:22.099537Z",
          "iopub.execute_input": "2025-05-26T20:42:22.099844Z",
          "iopub.status.idle": "2025-05-26T20:42:22.105129Z",
          "shell.execute_reply.started": "2025-05-26T20:42:22.099821Z",
          "shell.execute_reply": "2025-05-26T20:42:22.104165Z"
        },
        "id": "nerxb4NNwcRd",
        "outputId": "43ae1274-1339-44f4-84a4-cac3259ebfb9",
        "colab": {
          "base_uri": "https://localhost:8080/"
        }
      },
      "outputs": [
        {
          "output_type": "stream",
          "name": "stdout",
          "text": [
            "4.731752395629883 MB\n"
          ]
        }
      ],
      "execution_count": null
    },
    {
      "cell_type": "code",
      "source": [
        "# # vti saving path\n",
        "vti_path = args.vti_path\n",
        "if not os.path.exists(vti_path):\n",
        "    os.makedirs(vti_path)\n",
        "# vti name\n",
        "vti_name = args.vti_name\n",
        "isMaskPresent=False\n",
        "mask_arr = []\n",
        "makeVTI(data, n_val, n_predictions, n_pts, total_vars, var_name, dim, isMaskPresent, mask_arr, vti_path, vti_name)"
      ],
      "metadata": {
        "_uuid": "8987b9b8-de2f-448c-995c-28bee1a033eb",
        "_cell_guid": "6f9d6b16-aa9c-4808-81e8-a4d1e00459d2",
        "trusted": true,
        "jupyter": {
          "outputs_hidden": false
        },
        "execution": {
          "iopub.status.busy": "2025-05-26T20:39:05.443004Z",
          "iopub.status.idle": "2025-05-26T20:39:05.443267Z",
          "shell.execute_reply": "2025-05-26T20:39:05.443158Z"
        },
        "id": "iT7IpVLZwcRd",
        "colab": {
          "base_uri": "https://localhost:8080/"
        },
        "outputId": "2fc28bc8-3216-4217-94fd-f0761b3e0fac"
      },
      "outputs": [
        {
          "output_type": "stream",
          "name": "stdout",
          "text": [
            "Vti File written successfully at ./data/predicted_0_1.vti\n"
          ]
        }
      ],
      "execution_count": null
    }
  ]
}