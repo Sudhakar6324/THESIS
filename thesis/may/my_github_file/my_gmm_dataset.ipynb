{
  "metadata": {
    "kernelspec": {
      "display_name": "Python 3",
      "name": "python3"
    },
    "language_info": {
      "name": "python",
      "version": "3.10.12",
      "mimetype": "text/x-python",
      "codemirror_mode": {
        "name": "ipython",
        "version": 3
      },
      "pygments_lexer": "ipython3",
      "nbconvert_exporter": "python",
      "file_extension": ".py"
    },
    "kaggle": {
      "accelerator": "none",
      "dataSources": [
        {
          "sourceId": 10592043,
          "sourceType": "datasetVersion",
          "datasetId": 6555598
        },
        {
          "sourceId": 11141112,
          "sourceType": "datasetVersion",
          "datasetId": 6949669
        },
        {
          "sourceId": 11251078,
          "sourceType": "datasetVersion",
          "datasetId": 7030699
        },
        {
          "sourceId": 11389139,
          "sourceType": "datasetVersion",
          "datasetId": 7132144
        }
      ],
      "dockerImageVersionId": 30919,
      "isInternetEnabled": true,
      "language": "python",
      "sourceType": "notebook",
      "isGpuEnabled": false
    },
    "colab": {
      "provenance": [],
      "gpuType": "T4"
    },
    "accelerator": "GPU"
  },
  "nbformat_minor": 0,
  "nbformat": 4,
  "cells": [
    {
      "cell_type": "code",
      "source": [
        "!pip install vtk"
      ],
      "metadata": {
        "colab": {
          "base_uri": "https://localhost:8080/"
        },
        "id": "E3-wjBlQUEkP",
        "outputId": "8ef5a8a0-9b5e-4931-dc49-307166b0451e"
      },
      "execution_count": null,
      "outputs": [
        {
          "output_type": "stream",
          "name": "stdout",
          "text": [
            "Collecting vtk\n",
            "  Downloading vtk-9.4.2-cp311-cp311-manylinux_2_17_x86_64.manylinux2014_x86_64.whl.metadata (5.5 kB)\n",
            "Requirement already satisfied: matplotlib>=2.0.0 in /usr/local/lib/python3.11/dist-packages (from vtk) (3.10.0)\n",
            "Requirement already satisfied: contourpy>=1.0.1 in /usr/local/lib/python3.11/dist-packages (from matplotlib>=2.0.0->vtk) (1.3.2)\n",
            "Requirement already satisfied: cycler>=0.10 in /usr/local/lib/python3.11/dist-packages (from matplotlib>=2.0.0->vtk) (0.12.1)\n",
            "Requirement already satisfied: fonttools>=4.22.0 in /usr/local/lib/python3.11/dist-packages (from matplotlib>=2.0.0->vtk) (4.58.0)\n",
            "Requirement already satisfied: kiwisolver>=1.3.1 in /usr/local/lib/python3.11/dist-packages (from matplotlib>=2.0.0->vtk) (1.4.8)\n",
            "Requirement already satisfied: numpy>=1.23 in /usr/local/lib/python3.11/dist-packages (from matplotlib>=2.0.0->vtk) (2.0.2)\n",
            "Requirement already satisfied: packaging>=20.0 in /usr/local/lib/python3.11/dist-packages (from matplotlib>=2.0.0->vtk) (24.2)\n",
            "Requirement already satisfied: pillow>=8 in /usr/local/lib/python3.11/dist-packages (from matplotlib>=2.0.0->vtk) (11.2.1)\n",
            "Requirement already satisfied: pyparsing>=2.3.1 in /usr/local/lib/python3.11/dist-packages (from matplotlib>=2.0.0->vtk) (3.2.3)\n",
            "Requirement already satisfied: python-dateutil>=2.7 in /usr/local/lib/python3.11/dist-packages (from matplotlib>=2.0.0->vtk) (2.9.0.post0)\n",
            "Requirement already satisfied: six>=1.5 in /usr/local/lib/python3.11/dist-packages (from python-dateutil>=2.7->matplotlib>=2.0.0->vtk) (1.17.0)\n",
            "Downloading vtk-9.4.2-cp311-cp311-manylinux_2_17_x86_64.manylinux2014_x86_64.whl (105.0 MB)\n",
            "\u001b[2K   \u001b[90m━━━━━━━━━━━━━━━━━━━━━━━━━━━━━━━━━━━━━━━━\u001b[0m \u001b[32m105.0/105.0 MB\u001b[0m \u001b[31m8.4 MB/s\u001b[0m eta \u001b[36m0:00:00\u001b[0m\n",
            "\u001b[?25hInstalling collected packages: vtk\n",
            "Successfully installed vtk-9.4.2\n"
          ]
        }
      ]
    },
    {
      "cell_type": "code",
      "source": [
        "import numpy as np\n",
        "import torch\n",
        "import torch.nn.functional as F\n",
        "import matplotlib.pyplot as plt\n",
        "import vtk\n",
        "from tqdm import tqdm\n",
        "\n",
        "def fit_1d_gmm_pytorch(\n",
        "    data,\n",
        "    n_components=3,\n",
        "    max_iter=50,\n",
        "    tol=1e-6,\n",
        "    device=\"cuda\"\n",
        "):\n",
        "    \"\"\"\n",
        "    Fit a 1D GMM with `n_components` on `data` (a 1D numpy array) using EM.\n",
        "    Returns (weights, means, stds), each of size n_components.\n",
        "    \"\"\"\n",
        "    data = torch.tensor(data, dtype=torch.float32, device=device)\n",
        "    N = data.shape[0]\n",
        "\n",
        "    # Initialization: uniform weights, random means near data mean, and stds based on data std.\n",
        "    torch.manual_seed(123)\n",
        "    weights = (torch.ones(n_components, device=device) / n_components)\n",
        "    means = torch.randn(n_components, device=device) * data.std() + data.mean()\n",
        "    stds = (torch.ones(n_components, device=device) * data.std())\n",
        "\n",
        "    prev_log_likelihood = -np.inf\n",
        "\n",
        "    for iteration in range(max_iter):\n",
        "        # E-step: Compute responsibilities for each component\n",
        "        data_expanded = data.unsqueeze(1)  # shape (N,1)\n",
        "        log_probs = -0.5 * np.log(2.0 * np.pi) - torch.log(stds) - 0.5 * ((data_expanded - means)**2 / (stds**2)) #shape(N,3)\n",
        "        log_probs += torch.log(weights)#(N,3)\n",
        "\n",
        "        # Normalize using log-sum-exp trick for numerical stability\n",
        "        max_log = torch.max(log_probs, dim=1, keepdim=True)[0] #(N,1)\n",
        "        log_probs_normalized = log_probs - max_log#(N,3)\n",
        "        resp_unnormalized = torch.exp(log_probs_normalized)#(N,3)\n",
        "        resp_denom = torch.sum(resp_unnormalized, dim=1, keepdim=True)#(N,1)\n",
        "        responsibilities = resp_unnormalized / resp_denom#(N,3)\n",
        "\n",
        "        # M-step: Update parameters based on responsibilities\n",
        "        Nk = torch.sum(responsibilities, dim=0)#(1,3)\n",
        "        weights = Nk / N#(1,3)\n",
        "        means = torch.sum(responsibilities * data_expanded, dim=0) / Nk #(1,3)\n",
        "        var = torch.sum(responsibilities * (data_expanded - means)**2, dim=0) / Nk #(1,3)\n",
        "        stds = torch.sqrt(var) #(1,3)\n",
        "        stds = torch.clamp(stds, min=1e-8) #(!,3)\n",
        "\n",
        "        # Convergence check using log-likelihood\n",
        "        log_likelihood = torch.sum(torch.log(torch.sum(torch.exp(log_probs_normalized), dim=1)) + max_log.squeeze())\n",
        "        if torch.abs(log_likelihood - prev_log_likelihood) < tol:\n",
        "            break\n",
        "        prev_log_likelihood = log_likelihood\n",
        "\n",
        "    # Return parameters as numpy arrays\n",
        "    return weights.detach().cpu().numpy(), means.detach().cpu().numpy(), stds.detach().cpu().numpy()\n"
      ],
      "metadata": {
        "_uuid": "8f2839f25d086af736a60e9eeb907d3b93b6e0e5",
        "_cell_guid": "b1076dfc-b9ad-4769-8c92-a6c4dae69d19",
        "trusted": true,
        "execution": {
          "iopub.status.busy": "2025-04-14T18:38:30.292972Z",
          "iopub.execute_input": "2025-04-14T18:38:30.293684Z",
          "iopub.status.idle": "2025-04-14T18:38:36.712030Z",
          "shell.execute_reply.started": "2025-04-14T18:38:30.293625Z",
          "shell.execute_reply": "2025-04-14T18:38:36.710931Z"
        },
        "id": "Uv_lle7tNetM"
      },
      "outputs": [],
      "execution_count": null
    },
    {
      "cell_type": "code",
      "source": [
        "# Specify your input and output file names\n",
        "input_filename = \"/content/Teardrop_Gaussian.vti\"\n",
        "output_filename = \"my_gmm.vti\"\n",
        "\n",
        "# Read the input .vti file using VTK\n",
        "reader = vtk.vtkXMLImageDataReader()\n",
        "reader.SetFileName(input_filename)\n",
        "reader.Update()\n",
        "image_data = reader.GetOutput()  # vtkImageData\n",
        "\n",
        "dims = image_data.GetDimensions()  # e.g., (64, 64, 64)\n",
        "num_points = dims[0] * dims[1] * dims[2]\n",
        "\n",
        "# Retrieve the \"Average\" and \"StandardDeviation\" arrays from PointData\n",
        "pd = image_data.GetPointData()\n",
        "mean_array_vtk = pd.GetArray(\"Average\")\n",
        "std_array_vtk = pd.GetArray(\"Standard_Deviation\")\n",
        "\n",
        "if mean_array_vtk is None or std_array_vtk is None:\n",
        "    raise ValueError(\"Could not find 'Average' or 'Standard_Deviation' in input .vti\")\n",
        "\n",
        "# Prepare output arrays for the 9 GMM parameters: 3 means, 3 std devs, 3 mixing coefficients.\n",
        "def create_vtk_array(name):\n",
        "    arr = vtk.vtkFloatArray()\n",
        "    arr.SetName(name)\n",
        "    arr.SetNumberOfComponents(1)\n",
        "    arr.SetNumberOfTuples(num_points)\n",
        "    return arr\n",
        "\n",
        "gmm_mean0_vtk = create_vtk_array(\"GMM_Mean0\")\n",
        "gmm_mean1_vtk = create_vtk_array(\"GMM_Mean1\")\n",
        "gmm_mean2_vtk = create_vtk_array(\"GMM_Mean2\")\n",
        "gmm_std0_vtk  = create_vtk_array(\"GMM_Std0\")\n",
        "gmm_std1_vtk  = create_vtk_array(\"GMM_Std1\")\n",
        "gmm_std2_vtk  = create_vtk_array(\"GMM_Std2\")\n",
        "gmm_w0_vtk    = create_vtk_array(\"GMM_Weight0\")\n",
        "gmm_w1_vtk    = create_vtk_array(\"GMM_Weight1\")\n",
        "gmm_w2_vtk    = create_vtk_array(\"GMM_Weight2\")\n"
      ],
      "metadata": {
        "trusted": true,
        "execution": {
          "iopub.status.busy": "2025-04-14T18:38:36.713229Z",
          "iopub.execute_input": "2025-04-14T18:38:36.713662Z",
          "iopub.status.idle": "2025-04-14T18:38:37.111541Z",
          "shell.execute_reply.started": "2025-04-14T18:38:36.713632Z",
          "shell.execute_reply": "2025-04-14T18:38:37.110089Z"
        },
        "id": "oIvv2ZTPNetN"
      },
      "outputs": [],
      "execution_count": null
    },
    {
      "cell_type": "code",
      "source": [
        "# Set parameters for sample generation and scaling\n",
        "scale_factor = 2.0      # Multiply the standard deviation by this factor.\n",
        "n_samples_per_point = 500\n",
        "\n",
        "# Loop over each grid point in the volume.\n",
        "for pt_id in tqdm(range(num_points)):\n",
        "    mu = mean_array_vtk.GetValue(pt_id)\n",
        "    stdv = std_array_vtk.GetValue(pt_id)\n",
        "\n",
        "    # Scale up the standard deviation\n",
        "    scaled_std = scale_factor * stdv\n",
        "\n",
        "    # Generate 500 samples from N(mu, (scaled_std)^2)\n",
        "    samples = np.random.normal(loc=mu, scale=scaled_std, size=n_samples_per_point)\n",
        "\n",
        "    # Fit a 3-component 1D GMM using the EM algorithm (implemented with PyTorch)\n",
        "    weights, means, stds = fit_1d_gmm_pytorch(samples, n_components=3, max_iter=50)\n",
        "\n",
        "    # Optional: Sort components by mean to get consistent ordering\n",
        "    order = np.argsort(means)\n",
        "    weights = weights[order]\n",
        "    means = means[order]\n",
        "    stds = stds[order]\n",
        "\n",
        "    # Store the fitted parameters in the respective VTK arrays\n",
        "    gmm_mean0_vtk.SetValue(pt_id, means[0])\n",
        "    gmm_mean1_vtk.SetValue(pt_id, means[1])\n",
        "    gmm_mean2_vtk.SetValue(pt_id, means[2])\n",
        "\n",
        "    gmm_std0_vtk.SetValue(pt_id, stds[0])\n",
        "    gmm_std1_vtk.SetValue(pt_id, stds[1])\n",
        "    gmm_std2_vtk.SetValue(pt_id, stds[2])\n",
        "\n",
        "    gmm_w0_vtk.SetValue(pt_id, weights[0])\n",
        "    gmm_w1_vtk.SetValue(pt_id, weights[1])\n",
        "    gmm_w2_vtk.SetValue(pt_id, weights[2])\n"
      ],
      "metadata": {
        "trusted": true,
        "execution": {
          "iopub.status.busy": "2025-04-14T18:38:37.113126Z",
          "iopub.execute_input": "2025-04-14T18:38:37.113524Z",
          "iopub.status.idle": "2025-04-14T23:46:36.525854Z",
          "shell.execute_reply.started": "2025-04-14T18:38:37.113475Z",
          "shell.execute_reply": "2025-04-14T23:46:36.524671Z"
        },
        "colab": {
          "base_uri": "https://localhost:8080/"
        },
        "id": "p7G_0CjnNetO",
        "outputId": "f3614979-c8f2-42b6-a498-fbb168071efc"
      },
      "outputs": [
        {
          "output_type": "stream",
          "name": "stderr",
          "text": [
            "100%|██████████| 262144/262144 [1:56:34<00:00, 37.48it/s]\n"
          ]
        }
      ],
      "execution_count": null
    },
    {
      "cell_type": "code",
      "source": [
        "# Add the 9 new arrays to the PointData of the image\n",
        "pd.AddArray(gmm_mean0_vtk)\n",
        "pd.AddArray(gmm_mean1_vtk)\n",
        "pd.AddArray(gmm_mean2_vtk)\n",
        "pd.AddArray(gmm_std0_vtk)\n",
        "pd.AddArray(gmm_std1_vtk)\n",
        "pd.AddArray(gmm_std2_vtk)\n",
        "pd.AddArray(gmm_w0_vtk)\n",
        "pd.AddArray(gmm_w1_vtk)\n",
        "pd.AddArray(gmm_w2_vtk)\n",
        "\n",
        "pd.RemoveArray(\"Average\")\n",
        "pd.RemoveArray(\"Standard_Deviation\")\n",
        "\n",
        "\n",
        "# Write the updated vtkImageData to a new .vti file\n",
        "writer = vtk.vtkXMLImageDataWriter()\n",
        "writer.SetFileName(output_filename)\n",
        "writer.SetInputData(image_data)\n",
        "writer.Write()\n",
        "\n",
        "print(f\"Done. Output written to: {output_filename}\")\n"
      ],
      "metadata": {
        "trusted": true,
        "execution": {
          "iopub.status.busy": "2025-04-14T23:46:36.529050Z",
          "iopub.execute_input": "2025-04-14T23:46:36.529492Z",
          "iopub.status.idle": "2025-04-14T23:46:38.786661Z",
          "shell.execute_reply.started": "2025-04-14T23:46:36.529449Z",
          "shell.execute_reply": "2025-04-14T23:46:38.785481Z"
        },
        "colab": {
          "base_uri": "https://localhost:8080/"
        },
        "id": "k0tlTee8NetO",
        "outputId": "be189171-70d9-42b3-9ad3-eface2e54d5b"
      },
      "outputs": [
        {
          "output_type": "stream",
          "name": "stdout",
          "text": [
            "Done. Output written to: my_gmm.vti\n"
          ]
        }
      ],
      "execution_count": null
    },
    {
      "cell_type": "code",
      "source": [
        "# Choose a grid point to visualize (e.g., the center of the volume)\n",
        "center_i = (dims[0] + 4) // 2\n",
        "center_j = dims[1] // 2\n",
        "center_k = dims[2] // 2\n",
        "center_pt_id = (center_k * dims[1] + center_j) * dims[0] + center_i\n",
        "\n",
        "# Retrieve original parameters at the selected grid point\n",
        "orig_mu = mean_array_vtk.GetValue(center_pt_id)\n",
        "orig_std = std_array_vtk.GetValue(center_pt_id)\n",
        "scaled_std = scale_factor * orig_std\n",
        "\n",
        "# Generate samples for visualization\n",
        "samples_center = np.random.normal(loc=orig_mu, scale=scaled_std, size=n_samples_per_point)\n",
        "\n",
        "# Retrieve the fitted GMM parameters from the VTK arrays\n",
        "mix = [\n",
        "    gmm_w0_vtk.GetValue(center_pt_id),\n",
        "    gmm_w1_vtk.GetValue(center_pt_id),\n",
        "    gmm_w2_vtk.GetValue(center_pt_id)\n",
        "]\n",
        "comps_mean = [\n",
        "    gmm_mean0_vtk.GetValue(center_pt_id),\n",
        "    gmm_mean1_vtk.GetValue(center_pt_id),\n",
        "    gmm_mean2_vtk.GetValue(center_pt_id)\n",
        "]\n",
        "comps_std = [\n",
        "    gmm_std0_vtk.GetValue(center_pt_id),\n",
        "    gmm_std1_vtk.GetValue(center_pt_id),\n",
        "    gmm_std2_vtk.GetValue(center_pt_id)\n",
        "]\n",
        "\n",
        "# ----- Visualization 1: Single Scaled Gaussian -----\n",
        "plt.figure()\n",
        "plt.hist(samples_center, bins=30, density=True, alpha=0.5)\n",
        "\n",
        "x_values = np.linspace(samples_center.min()-1, samples_center.max()+1, 200)\n",
        "single_gaussian_pdf = (\n",
        "    1.0 / (np.sqrt(2.0 * np.pi) * scaled_std) *\n",
        "    np.exp(-(x_values - orig_mu)**2 / (2.0 * scaled_std**2))\n",
        ")\n",
        "plt.plot(x_values, single_gaussian_pdf)\n",
        "plt.title(\"Histogram + Single Scaled Gaussian (Grid Point)\")\n",
        "plt.xlabel(\"x\")\n",
        "plt.ylabel(\"Density\")\n",
        "plt.show()\n",
        "\n",
        "# ----- Visualization 2: Fitted 3-Component GMM -----\n",
        "plt.figure()\n",
        "plt.hist(samples_center, bins=30, density=True, alpha=0.5)\n",
        "\n",
        "# Compute and plot the mixture PDF from the fitted GMM components\n",
        "gmm_pdf = np.zeros_like(x_values)\n",
        "for w, m, s in zip(mix, comps_mean, comps_std):\n",
        "    component_pdf = (\n",
        "        1.0 / (np.sqrt(2.0 * np.pi) * s) *\n",
        "        np.exp(-(x_values - m)**2 / (2.0 * s**2))\n",
        "    )\n",
        "    gmm_pdf += w * component_pdf\n",
        "\n",
        "plt.plot(x_values, gmm_pdf)\n",
        "plt.title(\"Histogram + Fitted 3-Component GMM (Grid Point)\")\n",
        "plt.xlabel(\"x\")\n",
        "plt.ylabel(\"Density\")\n",
        "plt.show()\n"
      ],
      "metadata": {
        "trusted": true,
        "execution": {
          "iopub.status.busy": "2025-04-15T03:25:29.558163Z",
          "iopub.execute_input": "2025-04-15T03:25:29.558736Z",
          "iopub.status.idle": "2025-04-15T03:25:29.650064Z",
          "shell.execute_reply.started": "2025-04-15T03:25:29.558685Z",
          "shell.execute_reply": "2025-04-15T03:25:29.648434Z"
        },
        "colab": {
          "base_uri": "https://localhost:8080/",
          "height": 927
        },
        "id": "UXjtKZVWNetO",
        "outputId": "bdae6c73-3a33-42e7-d939-b82617bbdb41"
      },
      "outputs": [
        {
          "output_type": "display_data",
          "data": {
            "text/plain": [
              "<Figure size 640x480 with 1 Axes>"
            ],
            "image/png": "[encoded data removed]"
          },
          "metadata": {}
        },
        {
          "output_type": "display_data",
          "data": {
            "text/plain": [
              "<Figure size 640x480 with 1 Axes>"
            ],
            "image/png": "[encoded data removed]"
          },
          "metadata": {}
        }
      ],
      "execution_count": null
    },
    {
      "cell_type": "code",
      "source": [
        "# Visualization: Plot each individual GMM component with different colors.\n",
        "plt.figure()\n",
        "\n",
        "# Plot histogram of the samples (density normalized)\n",
        "plt.hist(samples_center, bins=30, density=True, alpha=0.5, label=\"Samples Histogram\")\n",
        "\n",
        "# Generate x values for plotting the PDFs\n",
        "x_values = np.linspace(samples_center.min()-1, samples_center.max()+1, 200)\n",
        "\n",
        "# Plot each Gaussian component separately\n",
        "for i, (w, m, s) in enumerate(zip(mix, comps_mean, comps_std)):\n",
        "    component_pdf = w * (1.0 / (np.sqrt(2.0 * np.pi) * s)) * np.exp(-((x_values - m)**2) / (2.0 * s**2))\n",
        "    plt.plot(x_values, component_pdf, label=f\"Component {i}\")\n",
        "\n",
        "plt.title(\"Histogram + Individual GMM Components\")\n",
        "plt.xlabel(\"x\")\n",
        "plt.ylabel(\"Density\")\n",
        "plt.legend()\n",
        "plt.show()\n"
      ],
      "metadata": {
        "trusted": true,
        "execution": {
          "iopub.status.busy": "2025-04-14T23:46:39.569874Z",
          "iopub.execute_input": "2025-04-14T23:46:39.570227Z",
          "iopub.status.idle": "2025-04-14T23:46:39.880225Z",
          "shell.execute_reply.started": "2025-04-14T23:46:39.570190Z",
          "shell.execute_reply": "2025-04-14T23:46:39.879022Z"
        },
        "colab": {
          "base_uri": "https://localhost:8080/",
          "height": 472
        },
        "id": "0Xrku8n-NetO",
        "outputId": "6c955f55-6389-4da0-c9d5-830236713e19"
      },
      "outputs": [
        {
          "output_type": "display_data",
          "data": {
            "text/plain": [
              "<Figure size 640x480 with 1 Axes>"
            ],
            "image/png": "[encoded data removed]"
          },
          "metadata": {}
        }
      ],
      "execution_count": null
    },
    {
      "cell_type": "code",
      "source": [
        "# import vtk\n",
        "# import numpy as np\n",
        "# import matplotlib.pyplot as plt\n",
        "\n",
        "# # Read the output VTI file (which contains only the GMM parameters)\n",
        "# input_filename = \"/kaggle/input/vortex-gassian/vortex_uncert.vti\"\n",
        "# reader = vtk.vtkXMLImageDataReader()\n",
        "# reader.SetFileName(input_filename)\n",
        "# reader.Update()\n",
        "# image_data = reader.GetOutput()\n",
        "\n",
        "# dims = image_data.GetDimensions()  # (64, 64, 64)\n",
        "# num_points = dims[0] * dims[1] * dims[2]\n",
        "\n",
        "# # Get the GMM parameter arrays from the PointData\n",
        "# pd = image_data.GetPointData()\n",
        "# gmm_mean0_vtk = pd.GetArray(\"GMM_Mean0\")\n",
        "# gmm_mean1_vtk = pd.GetArray(\"GMM_Mean1\")\n",
        "# gmm_mean2_vtk = pd.GetArray(\"GMM_Mean2\")\n",
        "# gmm_std0_vtk  = pd.GetArray(\"GMM_Std0\")\n",
        "# gmm_std1_vtk  = pd.GetArray(\"GMM_Std1\")\n",
        "# gmm_std2_vtk  = pd.GetArray(\"GMM_Std2\")\n",
        "# gmm_w0_vtk    = pd.GetArray(\"GMM_Weight0\")\n",
        "# gmm_w1_vtk    = pd.GetArray(\"GMM_Weight1\")\n",
        "# gmm_w2_vtk    = pd.GetArray(\"GMM_Weight2\")\n",
        "\n",
        "# # Specify the grid point indices\n",
        "# assigned_i = 40\n",
        "# assigned_j = 32\n",
        "# assigned_k = 32\n",
        "\n",
        "# # Compute the flat point index from the 3D indices\n",
        "# point_id = (assigned_k * dims[1] + assigned_j) * dims[0] + assigned_i\n",
        "\n",
        "# # Retrieve the fitted GMM parameters for that grid point\n",
        "# mix = [\n",
        "#     gmm_w0_vtk.GetValue(point_id),\n",
        "#     gmm_w1_vtk.GetValue(point_id),\n",
        "#     gmm_w2_vtk.GetValue(point_id)\n",
        "# ]\n",
        "# comps_mean = [\n",
        "#     gmm_mean0_vtk.GetValue(point_id),\n",
        "#     gmm_mean1_vtk.GetValue(point_id),\n",
        "#     gmm_mean2_vtk.GetValue(point_id)\n",
        "# ]\n",
        "# comps_std = [\n",
        "#     gmm_std0_vtk.GetValue(point_id),\n",
        "#     gmm_std1_vtk.GetValue(point_id),\n",
        "#     gmm_std2_vtk.GetValue(point_id)\n",
        "# ]\n",
        "\n",
        "# print(\"GMM Parameters at grid point (i, j, k) = ({}, {}, {}):\".format(assigned_i, assigned_j, assigned_k))\n",
        "# print(\"Mixing coefficients:\", mix)\n",
        "# print(\"Component means:\", comps_mean)\n",
        "# print(\"Component std deviations:\", comps_std)\n",
        "\n",
        "# # Generate synthetic samples from the fitted GMM for visualization\n",
        "# n_samples = 500\n",
        "# samples = []\n",
        "# cum_weights = np.cumsum(mix)\n",
        "# for _ in range(n_samples):\n",
        "#     r = np.random.rand()\n",
        "#     if r < cum_weights[0]:\n",
        "#         comp = 0\n",
        "#     elif r < cum_weights[1]:\n",
        "#         comp = 1\n",
        "#     else:\n",
        "#         comp = 2\n",
        "#     sample = np.random.normal(loc=comps_mean[comp], scale=comps_std[comp])\n",
        "#     samples.append(sample)\n",
        "# samples = np.array(samples)\n",
        "\n",
        "# # Create x-values for plotting the PDFs\n",
        "# x_values = np.linspace(samples.min()-1, samples.max()+1, 200)\n",
        "\n",
        "# # ----- Visualization 1: Overall GMM PDF -----\n",
        "# plt.figure()\n",
        "# plt.hist(samples, bins=30, density=True, alpha=0.5, label=\"GMM Samples\")\n",
        "# gmm_pdf = np.zeros_like(x_values)\n",
        "# for w, m, s in zip(mix, comps_mean, comps_std):\n",
        "#     component_pdf = w * (1.0 / (np.sqrt(2.0 * np.pi) * s)) * np.exp(-((x_values - m)**2) / (2.0 * s**2))\n",
        "#     gmm_pdf += component_pdf\n",
        "# plt.plot(x_values, gmm_pdf, label=\"Overall GMM PDF\", linewidth=2)\n",
        "# plt.title(\"Histogram + Overall GMM PDF (Grid Point)\")\n",
        "# plt.xlabel(\"x\")\n",
        "# plt.ylabel(\"Density\")\n",
        "# plt.legend()\n",
        "# plt.show()\n",
        "\n",
        "# # ----- Visualization 2: Individual GMM Components -----\n",
        "# plt.figure()\n",
        "# plt.hist(samples, bins=30, density=True, alpha=0.5, label=\"GMM Samples\")\n",
        "# colors = ['r', 'g', 'b']\n",
        "# for i, (w, m, s, color) in enumerate(zip(mix, comps_mean, comps_std, colors)):\n",
        "#     component_pdf = w * (1.0 / (np.sqrt(2.0 * np.pi) * s)) * np.exp(-((x_values - m)**2) / (2.0 * s**2))\n",
        "#     plt.plot(x_values, component_pdf, color=color, label=f\"Component {i}\")\n",
        "# plt.title(\"Histogram + Individual GMM Components (Grid Point)\")\n",
        "# plt.xlabel(\"x\")\n",
        "# plt.ylabel(\"Density\")\n",
        "# plt.legend()\n",
        "# plt.show()\n"
      ],
      "metadata": {
        "trusted": true,
        "execution": {
          "iopub.status.busy": "2025-04-14T23:46:39.881509Z",
          "iopub.execute_input": "2025-04-14T23:46:39.881867Z",
          "iopub.status.idle": "2025-04-14T23:46:39.887109Z",
          "shell.execute_reply.started": "2025-04-14T23:46:39.881840Z",
          "shell.execute_reply": "2025-04-14T23:46:39.885956Z"
        },
        "id": "mW_9CKReNetP"
      },
      "outputs": [],
      "execution_count": null
    },
    {
      "cell_type": "code",
      "source": [
        "# import vtk\n",
        "\n",
        "# # Specify the input and output file names\n",
        "# input_filename = \"/kaggle/input/fit-gmm3/gmm3.vti\"\n",
        "# output_filename = \"gmm3.vti\"\n",
        "\n",
        "# # Read the input .vti file using vtkXMLImageDataReader\n",
        "# reader = vtk.vtkXMLImageDataReader()\n",
        "# reader.SetFileName(input_filename)\n",
        "# reader.Update()\n",
        "# image_data = reader.GetOutput()\n",
        "\n",
        "# # Get the PointData from the vtkImageData\n",
        "# pd = image_data.GetPointData()\n",
        "\n",
        "# # Remove unwanted arrays from the PointData\n",
        "# pd.RemoveArray(\"Average\")\n",
        "# pd.RemoveArray(\"Standard_Deviation\")\n",
        "\n",
        "# # Write the updated vtkImageData to a new .vti file with only the desired arrays\n",
        "# writer = vtk.vtkXMLImageDataWriter()\n",
        "# writer.SetFileName(output_filename)\n",
        "# writer.SetInputData(image_data)\n",
        "# writer.Write()\n",
        "\n",
        "# print(f\"Output written to: {output_filename} with only the 9 GMM arrays.\")\n"
      ],
      "metadata": {
        "trusted": true,
        "execution": {
          "iopub.status.busy": "2025-04-14T23:46:39.888022Z",
          "iopub.execute_input": "2025-04-14T23:46:39.888363Z",
          "iopub.status.idle": "2025-04-14T23:46:39.915843Z",
          "shell.execute_reply.started": "2025-04-14T23:46:39.888336Z",
          "shell.execute_reply": "2025-04-14T23:46:39.914545Z"
        },
        "id": "tUHR09TbNetP"
      },
      "outputs": [],
      "execution_count": null
    }
  ]
}